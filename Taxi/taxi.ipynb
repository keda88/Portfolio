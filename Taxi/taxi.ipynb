{
 "cells": [
  {
   "cell_type": "markdown",
   "metadata": {
    "toc": true
   },
   "source": [
    "<h1>Содержание<span class=\"tocSkip\"></span></h1>\n",
    "<div class=\"toc\"><ul class=\"toc-item\"><li><span><a href=\"#Подготовка\" data-toc-modified-id=\"Подготовка-1\"><span class=\"toc-item-num\">1&nbsp;&nbsp;</span>Подготовка</a></span></li><li><span><a href=\"#Анализ\" data-toc-modified-id=\"Анализ-2\"><span class=\"toc-item-num\">2&nbsp;&nbsp;</span>Анализ</a></span></li><li><span><a href=\"#Обучение-моделей\" data-toc-modified-id=\"Обучение-моделей-3\"><span class=\"toc-item-num\">3&nbsp;&nbsp;</span>Обучение моделей</a></span></li><li><span><a href=\"#Тестирование\" data-toc-modified-id=\"Тестирование-4\"><span class=\"toc-item-num\">4&nbsp;&nbsp;</span>Тестирование</a></span></li><li><span><a href=\"#Вывод:\" data-toc-modified-id=\"Вывод:-5\"><span class=\"toc-item-num\">5&nbsp;&nbsp;</span>Вывод:</a></span></li></ul></div>"
   ]
  },
  {
   "cell_type": "markdown",
   "metadata": {},
   "source": [
    "#  Прогнозирование заказов такси"
   ]
  },
  {
   "cell_type": "markdown",
   "metadata": {},
   "source": [
    "Компания «такси» собрала исторические данные о заказах такси в аэропортах. Для привлечения оптимального количества водителей в период пиковой нагрузки, нужно спрогнозировать количество заказов такси на следующий час.\n",
    "Задача построить модель для такого предсказания.\n",
    "\n",
    "Значение метрики *RMSE* на тестовой выборке должно быть не больше 48.\n",
    "\n",
    "\n"
   ]
  },
  {
   "cell_type": "markdown",
   "metadata": {},
   "source": [
    "## Подготовка"
   ]
  },
  {
   "cell_type": "code",
   "execution_count": 1,
   "metadata": {
    "ExecuteTime": {
     "end_time": "2023-12-12T08:43:35.019561Z",
     "start_time": "2023-12-12T08:43:35.016718Z"
    }
   },
   "outputs": [],
   "source": [
    "import warnings\n",
    "warnings.filterwarnings('ignore')"
   ]
  },
  {
   "cell_type": "code",
   "execution_count": 2,
   "metadata": {
    "ExecuteTime": {
     "end_time": "2023-12-12T08:43:35.024434Z",
     "start_time": "2023-12-12T08:43:35.021889Z"
    }
   },
   "outputs": [],
   "source": [
    "import warnings\n",
    "warnings.simplefilter(action='ignore', category=FutureWarning)"
   ]
  },
  {
   "cell_type": "code",
   "execution_count": 3,
   "metadata": {
    "ExecuteTime": {
     "end_time": "2023-12-12T08:43:40.085289Z",
     "start_time": "2023-12-12T08:43:35.025998Z"
    }
   },
   "outputs": [
    {
     "name": "stdout",
     "output_type": "stream",
     "text": [
      "Requirement already satisfied: catboost in /Users/tatianabeliaeva/opt/anaconda3/lib/python3.9/site-packages (0.26.1)\n",
      "Requirement already satisfied: pandas>=0.24.0 in /Users/tatianabeliaeva/opt/anaconda3/lib/python3.9/site-packages (from catboost) (1.5.3)\n",
      "Requirement already satisfied: graphviz in /Users/tatianabeliaeva/opt/anaconda3/lib/python3.9/site-packages (from catboost) (0.20.1)\n",
      "Requirement already satisfied: plotly in /Users/tatianabeliaeva/opt/anaconda3/lib/python3.9/site-packages (from catboost) (5.6.0)\n",
      "Requirement already satisfied: matplotlib in /Users/tatianabeliaeva/.local/lib/python3.9/site-packages (from catboost) (3.7.1)\n",
      "Requirement already satisfied: numpy>=1.16.0 in /Users/tatianabeliaeva/opt/anaconda3/lib/python3.9/site-packages (from catboost) (1.22.4)\n",
      "Requirement already satisfied: six in /Users/tatianabeliaeva/opt/anaconda3/lib/python3.9/site-packages (from catboost) (1.16.0)\n",
      "Requirement already satisfied: scipy in /Users/tatianabeliaeva/opt/anaconda3/lib/python3.9/site-packages (from catboost) (1.7.3)\n",
      "Requirement already satisfied: pytz>=2020.1 in /Users/tatianabeliaeva/opt/anaconda3/lib/python3.9/site-packages (from pandas>=0.24.0->catboost) (2021.3)\n",
      "Requirement already satisfied: python-dateutil>=2.8.1 in /Users/tatianabeliaeva/opt/anaconda3/lib/python3.9/site-packages (from pandas>=0.24.0->catboost) (2.8.2)\n",
      "Requirement already satisfied: fonttools>=4.22.0 in /Users/tatianabeliaeva/opt/anaconda3/lib/python3.9/site-packages (from matplotlib->catboost) (4.25.0)\n",
      "Requirement already satisfied: pyparsing>=2.3.1 in /Users/tatianabeliaeva/opt/anaconda3/lib/python3.9/site-packages (from matplotlib->catboost) (3.0.4)\n",
      "Requirement already satisfied: importlib-resources>=3.2.0 in /Users/tatianabeliaeva/.local/lib/python3.9/site-packages (from matplotlib->catboost) (5.12.0)\n",
      "Requirement already satisfied: pillow>=6.2.0 in /Users/tatianabeliaeva/opt/anaconda3/lib/python3.9/site-packages (from matplotlib->catboost) (9.0.1)\n",
      "Requirement already satisfied: kiwisolver>=1.0.1 in /Users/tatianabeliaeva/opt/anaconda3/lib/python3.9/site-packages (from matplotlib->catboost) (1.3.2)\n",
      "Requirement already satisfied: contourpy>=1.0.1 in /Users/tatianabeliaeva/.local/lib/python3.9/site-packages (from matplotlib->catboost) (1.0.7)\n",
      "Requirement already satisfied: cycler>=0.10 in /Users/tatianabeliaeva/opt/anaconda3/lib/python3.9/site-packages (from matplotlib->catboost) (0.11.0)\n",
      "Requirement already satisfied: packaging>=20.0 in /Users/tatianabeliaeva/opt/anaconda3/lib/python3.9/site-packages (from matplotlib->catboost) (21.3)\n",
      "Requirement already satisfied: zipp>=3.1.0 in /Users/tatianabeliaeva/opt/anaconda3/lib/python3.9/site-packages (from importlib-resources>=3.2.0->matplotlib->catboost) (3.7.0)\n",
      "Requirement already satisfied: tenacity>=6.2.0 in /Users/tatianabeliaeva/opt/anaconda3/lib/python3.9/site-packages (from plotly->catboost) (8.0.1)\n"
     ]
    }
   ],
   "source": [
    "import pandas as pd\n",
    "import numpy as np\n",
    "import matplotlib.pyplot as plt\n",
    "from statsmodels.tsa.seasonal import seasonal_decompose\n",
    "from sklearn.model_selection import train_test_split\n",
    "from sklearn.linear_model import LinearRegression\n",
    "from sklearn.metrics import  make_scorer, mean_squared_error\n",
    "\n",
    "from sklearn.tree import DecisionTreeRegressor\n",
    "from sklearn.model_selection import TimeSeriesSplit, GridSearchCV\n",
    "from sklearn.ensemble import RandomForestRegressor\n",
    "from sklearn.dummy import DummyRegressor\n",
    "from sklearn.model_selection import RandomizedSearchCV, cross_val_score\n",
    "\n",
    "!pip install catboost\n",
    "from catboost import CatBoostRegressor\n"
   ]
  },
  {
   "cell_type": "markdown",
   "metadata": {},
   "source": [
    "Загрузим данные и выполним их ресемплирование по одному часу."
   ]
  },
  {
   "cell_type": "code",
   "execution_count": 4,
   "metadata": {
    "ExecuteTime": {
     "end_time": "2023-12-12T08:43:40.138598Z",
     "start_time": "2023-12-12T08:43:40.088622Z"
    }
   },
   "outputs": [
    {
     "data": {
      "text/html": [
       "<div>\n",
       "<style scoped>\n",
       "    .dataframe tbody tr th:only-of-type {\n",
       "        vertical-align: middle;\n",
       "    }\n",
       "\n",
       "    .dataframe tbody tr th {\n",
       "        vertical-align: top;\n",
       "    }\n",
       "\n",
       "    .dataframe thead th {\n",
       "        text-align: right;\n",
       "    }\n",
       "</style>\n",
       "<table border=\"1\" class=\"dataframe\">\n",
       "  <thead>\n",
       "    <tr style=\"text-align: right;\">\n",
       "      <th></th>\n",
       "      <th>num_orders</th>\n",
       "    </tr>\n",
       "    <tr>\n",
       "      <th>datetime</th>\n",
       "      <th></th>\n",
       "    </tr>\n",
       "  </thead>\n",
       "  <tbody>\n",
       "    <tr>\n",
       "      <th>2018-03-01 00:00:00</th>\n",
       "      <td>124</td>\n",
       "    </tr>\n",
       "    <tr>\n",
       "      <th>2018-03-01 01:00:00</th>\n",
       "      <td>85</td>\n",
       "    </tr>\n",
       "    <tr>\n",
       "      <th>2018-03-01 02:00:00</th>\n",
       "      <td>71</td>\n",
       "    </tr>\n",
       "    <tr>\n",
       "      <th>2018-03-01 03:00:00</th>\n",
       "      <td>66</td>\n",
       "    </tr>\n",
       "    <tr>\n",
       "      <th>2018-03-01 04:00:00</th>\n",
       "      <td>43</td>\n",
       "    </tr>\n",
       "    <tr>\n",
       "      <th>...</th>\n",
       "      <td>...</td>\n",
       "    </tr>\n",
       "    <tr>\n",
       "      <th>2018-08-31 19:00:00</th>\n",
       "      <td>136</td>\n",
       "    </tr>\n",
       "    <tr>\n",
       "      <th>2018-08-31 20:00:00</th>\n",
       "      <td>154</td>\n",
       "    </tr>\n",
       "    <tr>\n",
       "      <th>2018-08-31 21:00:00</th>\n",
       "      <td>159</td>\n",
       "    </tr>\n",
       "    <tr>\n",
       "      <th>2018-08-31 22:00:00</th>\n",
       "      <td>223</td>\n",
       "    </tr>\n",
       "    <tr>\n",
       "      <th>2018-08-31 23:00:00</th>\n",
       "      <td>205</td>\n",
       "    </tr>\n",
       "  </tbody>\n",
       "</table>\n",
       "<p>4416 rows × 1 columns</p>\n",
       "</div>"
      ],
      "text/plain": [
       "                     num_orders\n",
       "datetime                       \n",
       "2018-03-01 00:00:00         124\n",
       "2018-03-01 01:00:00          85\n",
       "2018-03-01 02:00:00          71\n",
       "2018-03-01 03:00:00          66\n",
       "2018-03-01 04:00:00          43\n",
       "...                         ...\n",
       "2018-08-31 19:00:00         136\n",
       "2018-08-31 20:00:00         154\n",
       "2018-08-31 21:00:00         159\n",
       "2018-08-31 22:00:00         223\n",
       "2018-08-31 23:00:00         205\n",
       "\n",
       "[4416 rows x 1 columns]"
      ]
     },
     "metadata": {},
     "output_type": "display_data"
    }
   ],
   "source": [
    "# загрузим данные\n",
    "data = pd.read_csv('/datasets/taxi.csv', index_col=[0], parse_dates=[0])\n",
    "\n",
    "data.sort_index(inplace=True)\n",
    "\n",
    "# объединим данные в пределах одних суток и посчитаем сумму потребления электроэнергии за сутки\n",
    "data = data.resample('1H').sum()\n",
    "display(data)"
   ]
  },
  {
   "cell_type": "markdown",
   "metadata": {},
   "source": [
    "## Анализ"
   ]
  },
  {
   "cell_type": "code",
   "execution_count": 5,
   "metadata": {
    "ExecuteTime": {
     "end_time": "2023-12-12T08:43:40.144075Z",
     "start_time": "2023-12-12T08:43:40.140625Z"
    },
    "scrolled": true
   },
   "outputs": [
    {
     "name": "stdout",
     "output_type": "stream",
     "text": [
      "Начало периода: 2018-03-01 00:00:00\n",
      "Конец периода: 2018-08-31 23:00:00\n"
     ]
    }
   ],
   "source": [
    "print('Начало периода:', data.index.min())\n",
    "print('Конец периода:', data.index.max())"
   ]
  },
  {
   "cell_type": "code",
   "execution_count": 6,
   "metadata": {
    "ExecuteTime": {
     "end_time": "2023-12-12T08:43:40.154948Z",
     "start_time": "2023-12-12T08:43:40.146295Z"
    }
   },
   "outputs": [
    {
     "name": "stdout",
     "output_type": "stream",
     "text": [
      "<class 'pandas.core.frame.DataFrame'>\n",
      "DatetimeIndex: 4416 entries, 2018-03-01 00:00:00 to 2018-08-31 23:00:00\n",
      "Freq: H\n",
      "Data columns (total 1 columns):\n",
      " #   Column      Non-Null Count  Dtype\n",
      "---  ------      --------------  -----\n",
      " 0   num_orders  4416 non-null   int64\n",
      "dtypes: int64(1)\n",
      "memory usage: 69.0 KB\n"
     ]
    }
   ],
   "source": [
    "data.info()"
   ]
  },
  {
   "cell_type": "markdown",
   "metadata": {},
   "source": [
    "В данных представлено количество заказов такси с 1 марта 2018 года по 31 августа 2018 года - 6 месяцев."
   ]
  },
  {
   "cell_type": "markdown",
   "metadata": {},
   "source": [
    "Изучим тренды и сезонность"
   ]
  },
  {
   "cell_type": "code",
   "execution_count": 7,
   "metadata": {
    "ExecuteTime": {
     "end_time": "2023-12-12T08:43:41.352710Z",
     "start_time": "2023-12-12T08:43:40.156723Z"
    }
   },
   "outputs": [
    {
     "data": {
      "image/png": "[encoded data removed]",
      "text/plain": [
       "<Figure size 864x1152 with 3 Axes>"
      ]
     },
     "metadata": {
      "needs_background": "light"
     },
     "output_type": "display_data"
    }
   ],
   "source": [
    "decomposed = seasonal_decompose(data)\n",
    "\n",
    "plt.figure(figsize=(12, 16))\n",
    "plt.subplot(311)\n",
    "decomposed.trend.plot(ax=plt.gca())\n",
    "plt.title('Trend')\n",
    "plt.subplot(312)\n",
    "decomposed.seasonal.plot(ax=plt.gca())\n",
    "plt.subplot(312)\n",
    "decomposed.seasonal.plot(ax=plt.gca())\n",
    "plt.title('Seasonality')\n",
    "plt.subplot(313)\n",
    "decomposed.resid.plot(ax=plt.gca())\n",
    "plt.title('Residuals')\n",
    "plt.tight_layout()\n",
    "\n"
   ]
  },
  {
   "cell_type": "markdown",
   "metadata": {},
   "source": [
    "По графикам мы видем определённый тренд и присутствие сезонности в наших данных.\n",
    "Наш временной ряд не явлется стационарным, потому что у него меняется среднее значение."
   ]
  },
  {
   "cell_type": "markdown",
   "metadata": {},
   "source": [
    "Построим график временного ряда."
   ]
  },
  {
   "cell_type": "code",
   "execution_count": 8,
   "metadata": {
    "ExecuteTime": {
     "end_time": "2023-12-12T08:43:41.731862Z",
     "start_time": "2023-12-12T08:43:41.357702Z"
    }
   },
   "outputs": [
    {
     "data": {
      "image/png": "[encoded data removed]",
      "text/plain": [
       "<Figure size 864x576 with 1 Axes>"
      ]
     },
     "metadata": {
      "needs_background": "light"
     },
     "output_type": "display_data"
    }
   ],
   "source": [
    "data_research = data.copy()\n",
    "data_research['mean'] = data_research['num_orders'].rolling(15).mean()\n",
    "data_research['std'] = data_research['num_orders'].rolling(15).std()\n",
    "\n",
    "plt.figure(figsize=(12, 8))\n",
    "data_research.plot(ax=plt.gca())\n",
    "\n",
    "None"
   ]
  },
  {
   "cell_type": "markdown",
   "metadata": {},
   "source": [
    "На графике видно, что количество заказов увеличивается."
   ]
  },
  {
   "cell_type": "markdown",
   "metadata": {},
   "source": [
    "Рассмотрим разности временного ряда: приведём данные к более стационарному виду, что бы их можно было прогнозировать."
   ]
  },
  {
   "cell_type": "code",
   "execution_count": 9,
   "metadata": {
    "ExecuteTime": {
     "end_time": "2023-12-12T08:43:42.122292Z",
     "start_time": "2023-12-12T08:43:41.734063Z"
    }
   },
   "outputs": [
    {
     "data": {
      "image/png": "[encoded data removed]",
      "text/plain": [
       "<Figure size 864x576 with 1 Axes>"
      ]
     },
     "metadata": {
      "needs_background": "light"
     },
     "output_type": "display_data"
    }
   ],
   "source": [
    "data_research =  data_research - data_research.shift()\n",
    "plt.figure(figsize=(12, 8))\n",
    "data_research.plot(ax=plt.gca())\n",
    "None"
   ]
  },
  {
   "cell_type": "markdown",
   "metadata": {},
   "source": [
    "Создадим признаки: календарные признаки (год, месяц, день, день недели), отстающие значения, скользящее среднее - этот признак задаёт общий тренд временного ряда. \n",
    "Календарные признаки по месяцам мы создавать не будем так как в данных мы имеем только пол года, соответственно тренды по месяцам учесть мы не можем. Календарный признак год - так же нам не понадобится, так как все данные за один и тот же год."
   ]
  },
  {
   "cell_type": "code",
   "execution_count": 10,
   "metadata": {
    "ExecuteTime": {
     "end_time": "2023-12-12T08:43:42.128717Z",
     "start_time": "2023-12-12T08:43:42.124799Z"
    }
   },
   "outputs": [],
   "source": [
    "# функция для создания признаков\n",
    "def make_features(data, max_lag, rolling_mean_size):\n",
    "    data['day'] = data.index.day\n",
    "    data['dayofweek'] = data.index.dayofweek\n",
    "    \n",
    "    for lag in range(1, max_lag + 1):\n",
    "        data['lag_{}'.format(lag)] = data['num_orders'].shift(lag)\n",
    "\n",
    "    data['rolling_mean'] = data['num_orders'].shift().rolling(rolling_mean_size).mean()\n"
   ]
  },
  {
   "cell_type": "code",
   "execution_count": 11,
   "metadata": {
    "ExecuteTime": {
     "end_time": "2023-12-12T08:43:42.154801Z",
     "start_time": "2023-12-12T08:43:42.131076Z"
    }
   },
   "outputs": [],
   "source": [
    "make_features(data, 30, 3)"
   ]
  },
  {
   "cell_type": "code",
   "execution_count": 12,
   "metadata": {
    "ExecuteTime": {
     "end_time": "2023-12-12T08:43:42.195241Z",
     "start_time": "2023-12-12T08:43:42.156882Z"
    }
   },
   "outputs": [
    {
     "data": {
      "text/html": [
       "<div>\n",
       "<style scoped>\n",
       "    .dataframe tbody tr th:only-of-type {\n",
       "        vertical-align: middle;\n",
       "    }\n",
       "\n",
       "    .dataframe tbody tr th {\n",
       "        vertical-align: top;\n",
       "    }\n",
       "\n",
       "    .dataframe thead th {\n",
       "        text-align: right;\n",
       "    }\n",
       "</style>\n",
       "<table border=\"1\" class=\"dataframe\">\n",
       "  <thead>\n",
       "    <tr style=\"text-align: right;\">\n",
       "      <th></th>\n",
       "      <th>num_orders</th>\n",
       "      <th>day</th>\n",
       "      <th>dayofweek</th>\n",
       "      <th>lag_1</th>\n",
       "      <th>lag_2</th>\n",
       "      <th>lag_3</th>\n",
       "      <th>lag_4</th>\n",
       "      <th>lag_5</th>\n",
       "      <th>lag_6</th>\n",
       "      <th>lag_7</th>\n",
       "      <th>...</th>\n",
       "      <th>lag_22</th>\n",
       "      <th>lag_23</th>\n",
       "      <th>lag_24</th>\n",
       "      <th>lag_25</th>\n",
       "      <th>lag_26</th>\n",
       "      <th>lag_27</th>\n",
       "      <th>lag_28</th>\n",
       "      <th>lag_29</th>\n",
       "      <th>lag_30</th>\n",
       "      <th>rolling_mean</th>\n",
       "    </tr>\n",
       "    <tr>\n",
       "      <th>datetime</th>\n",
       "      <th></th>\n",
       "      <th></th>\n",
       "      <th></th>\n",
       "      <th></th>\n",
       "      <th></th>\n",
       "      <th></th>\n",
       "      <th></th>\n",
       "      <th></th>\n",
       "      <th></th>\n",
       "      <th></th>\n",
       "      <th></th>\n",
       "      <th></th>\n",
       "      <th></th>\n",
       "      <th></th>\n",
       "      <th></th>\n",
       "      <th></th>\n",
       "      <th></th>\n",
       "      <th></th>\n",
       "      <th></th>\n",
       "      <th></th>\n",
       "      <th></th>\n",
       "    </tr>\n",
       "  </thead>\n",
       "  <tbody>\n",
       "    <tr>\n",
       "      <th>2018-03-01 00:00:00</th>\n",
       "      <td>124</td>\n",
       "      <td>1</td>\n",
       "      <td>3</td>\n",
       "      <td>NaN</td>\n",
       "      <td>NaN</td>\n",
       "      <td>NaN</td>\n",
       "      <td>NaN</td>\n",
       "      <td>NaN</td>\n",
       "      <td>NaN</td>\n",
       "      <td>NaN</td>\n",
       "      <td>...</td>\n",
       "      <td>NaN</td>\n",
       "      <td>NaN</td>\n",
       "      <td>NaN</td>\n",
       "      <td>NaN</td>\n",
       "      <td>NaN</td>\n",
       "      <td>NaN</td>\n",
       "      <td>NaN</td>\n",
       "      <td>NaN</td>\n",
       "      <td>NaN</td>\n",
       "      <td>NaN</td>\n",
       "    </tr>\n",
       "    <tr>\n",
       "      <th>2018-03-01 01:00:00</th>\n",
       "      <td>85</td>\n",
       "      <td>1</td>\n",
       "      <td>3</td>\n",
       "      <td>124.0</td>\n",
       "      <td>NaN</td>\n",
       "      <td>NaN</td>\n",
       "      <td>NaN</td>\n",
       "      <td>NaN</td>\n",
       "      <td>NaN</td>\n",
       "      <td>NaN</td>\n",
       "      <td>...</td>\n",
       "      <td>NaN</td>\n",
       "      <td>NaN</td>\n",
       "      <td>NaN</td>\n",
       "      <td>NaN</td>\n",
       "      <td>NaN</td>\n",
       "      <td>NaN</td>\n",
       "      <td>NaN</td>\n",
       "      <td>NaN</td>\n",
       "      <td>NaN</td>\n",
       "      <td>NaN</td>\n",
       "    </tr>\n",
       "    <tr>\n",
       "      <th>2018-03-01 02:00:00</th>\n",
       "      <td>71</td>\n",
       "      <td>1</td>\n",
       "      <td>3</td>\n",
       "      <td>85.0</td>\n",
       "      <td>124.0</td>\n",
       "      <td>NaN</td>\n",
       "      <td>NaN</td>\n",
       "      <td>NaN</td>\n",
       "      <td>NaN</td>\n",
       "      <td>NaN</td>\n",
       "      <td>...</td>\n",
       "      <td>NaN</td>\n",
       "      <td>NaN</td>\n",
       "      <td>NaN</td>\n",
       "      <td>NaN</td>\n",
       "      <td>NaN</td>\n",
       "      <td>NaN</td>\n",
       "      <td>NaN</td>\n",
       "      <td>NaN</td>\n",
       "      <td>NaN</td>\n",
       "      <td>NaN</td>\n",
       "    </tr>\n",
       "    <tr>\n",
       "      <th>2018-03-01 03:00:00</th>\n",
       "      <td>66</td>\n",
       "      <td>1</td>\n",
       "      <td>3</td>\n",
       "      <td>71.0</td>\n",
       "      <td>85.0</td>\n",
       "      <td>124.0</td>\n",
       "      <td>NaN</td>\n",
       "      <td>NaN</td>\n",
       "      <td>NaN</td>\n",
       "      <td>NaN</td>\n",
       "      <td>...</td>\n",
       "      <td>NaN</td>\n",
       "      <td>NaN</td>\n",
       "      <td>NaN</td>\n",
       "      <td>NaN</td>\n",
       "      <td>NaN</td>\n",
       "      <td>NaN</td>\n",
       "      <td>NaN</td>\n",
       "      <td>NaN</td>\n",
       "      <td>NaN</td>\n",
       "      <td>93.333333</td>\n",
       "    </tr>\n",
       "    <tr>\n",
       "      <th>2018-03-01 04:00:00</th>\n",
       "      <td>43</td>\n",
       "      <td>1</td>\n",
       "      <td>3</td>\n",
       "      <td>66.0</td>\n",
       "      <td>71.0</td>\n",
       "      <td>85.0</td>\n",
       "      <td>124.0</td>\n",
       "      <td>NaN</td>\n",
       "      <td>NaN</td>\n",
       "      <td>NaN</td>\n",
       "      <td>...</td>\n",
       "      <td>NaN</td>\n",
       "      <td>NaN</td>\n",
       "      <td>NaN</td>\n",
       "      <td>NaN</td>\n",
       "      <td>NaN</td>\n",
       "      <td>NaN</td>\n",
       "      <td>NaN</td>\n",
       "      <td>NaN</td>\n",
       "      <td>NaN</td>\n",
       "      <td>74.000000</td>\n",
       "    </tr>\n",
       "    <tr>\n",
       "      <th>...</th>\n",
       "      <td>...</td>\n",
       "      <td>...</td>\n",
       "      <td>...</td>\n",
       "      <td>...</td>\n",
       "      <td>...</td>\n",
       "      <td>...</td>\n",
       "      <td>...</td>\n",
       "      <td>...</td>\n",
       "      <td>...</td>\n",
       "      <td>...</td>\n",
       "      <td>...</td>\n",
       "      <td>...</td>\n",
       "      <td>...</td>\n",
       "      <td>...</td>\n",
       "      <td>...</td>\n",
       "      <td>...</td>\n",
       "      <td>...</td>\n",
       "      <td>...</td>\n",
       "      <td>...</td>\n",
       "      <td>...</td>\n",
       "      <td>...</td>\n",
       "    </tr>\n",
       "    <tr>\n",
       "      <th>2018-08-31 19:00:00</th>\n",
       "      <td>136</td>\n",
       "      <td>31</td>\n",
       "      <td>4</td>\n",
       "      <td>207.0</td>\n",
       "      <td>217.0</td>\n",
       "      <td>197.0</td>\n",
       "      <td>116.0</td>\n",
       "      <td>133.0</td>\n",
       "      <td>166.0</td>\n",
       "      <td>136.0</td>\n",
       "      <td>...</td>\n",
       "      <td>198.0</td>\n",
       "      <td>142.0</td>\n",
       "      <td>72.0</td>\n",
       "      <td>177.0</td>\n",
       "      <td>342.0</td>\n",
       "      <td>254.0</td>\n",
       "      <td>156.0</td>\n",
       "      <td>91.0</td>\n",
       "      <td>154.0</td>\n",
       "      <td>207.000000</td>\n",
       "    </tr>\n",
       "    <tr>\n",
       "      <th>2018-08-31 20:00:00</th>\n",
       "      <td>154</td>\n",
       "      <td>31</td>\n",
       "      <td>4</td>\n",
       "      <td>136.0</td>\n",
       "      <td>207.0</td>\n",
       "      <td>217.0</td>\n",
       "      <td>197.0</td>\n",
       "      <td>116.0</td>\n",
       "      <td>133.0</td>\n",
       "      <td>166.0</td>\n",
       "      <td>...</td>\n",
       "      <td>158.0</td>\n",
       "      <td>198.0</td>\n",
       "      <td>142.0</td>\n",
       "      <td>72.0</td>\n",
       "      <td>177.0</td>\n",
       "      <td>342.0</td>\n",
       "      <td>254.0</td>\n",
       "      <td>156.0</td>\n",
       "      <td>91.0</td>\n",
       "      <td>186.666667</td>\n",
       "    </tr>\n",
       "    <tr>\n",
       "      <th>2018-08-31 21:00:00</th>\n",
       "      <td>159</td>\n",
       "      <td>31</td>\n",
       "      <td>4</td>\n",
       "      <td>154.0</td>\n",
       "      <td>136.0</td>\n",
       "      <td>207.0</td>\n",
       "      <td>217.0</td>\n",
       "      <td>197.0</td>\n",
       "      <td>116.0</td>\n",
       "      <td>133.0</td>\n",
       "      <td>...</td>\n",
       "      <td>246.0</td>\n",
       "      <td>158.0</td>\n",
       "      <td>198.0</td>\n",
       "      <td>142.0</td>\n",
       "      <td>72.0</td>\n",
       "      <td>177.0</td>\n",
       "      <td>342.0</td>\n",
       "      <td>254.0</td>\n",
       "      <td>156.0</td>\n",
       "      <td>165.666667</td>\n",
       "    </tr>\n",
       "    <tr>\n",
       "      <th>2018-08-31 22:00:00</th>\n",
       "      <td>223</td>\n",
       "      <td>31</td>\n",
       "      <td>4</td>\n",
       "      <td>159.0</td>\n",
       "      <td>154.0</td>\n",
       "      <td>136.0</td>\n",
       "      <td>207.0</td>\n",
       "      <td>217.0</td>\n",
       "      <td>197.0</td>\n",
       "      <td>116.0</td>\n",
       "      <td>...</td>\n",
       "      <td>276.0</td>\n",
       "      <td>246.0</td>\n",
       "      <td>158.0</td>\n",
       "      <td>198.0</td>\n",
       "      <td>142.0</td>\n",
       "      <td>72.0</td>\n",
       "      <td>177.0</td>\n",
       "      <td>342.0</td>\n",
       "      <td>254.0</td>\n",
       "      <td>149.666667</td>\n",
       "    </tr>\n",
       "    <tr>\n",
       "      <th>2018-08-31 23:00:00</th>\n",
       "      <td>205</td>\n",
       "      <td>31</td>\n",
       "      <td>4</td>\n",
       "      <td>223.0</td>\n",
       "      <td>159.0</td>\n",
       "      <td>154.0</td>\n",
       "      <td>136.0</td>\n",
       "      <td>207.0</td>\n",
       "      <td>217.0</td>\n",
       "      <td>197.0</td>\n",
       "      <td>...</td>\n",
       "      <td>194.0</td>\n",
       "      <td>276.0</td>\n",
       "      <td>246.0</td>\n",
       "      <td>158.0</td>\n",
       "      <td>198.0</td>\n",
       "      <td>142.0</td>\n",
       "      <td>72.0</td>\n",
       "      <td>177.0</td>\n",
       "      <td>342.0</td>\n",
       "      <td>178.666667</td>\n",
       "    </tr>\n",
       "  </tbody>\n",
       "</table>\n",
       "<p>4416 rows × 34 columns</p>\n",
       "</div>"
      ],
      "text/plain": [
       "                     num_orders  day  dayofweek  lag_1  lag_2  lag_3  lag_4  \\\n",
       "datetime                                                                      \n",
       "2018-03-01 00:00:00         124    1          3    NaN    NaN    NaN    NaN   \n",
       "2018-03-01 01:00:00          85    1          3  124.0    NaN    NaN    NaN   \n",
       "2018-03-01 02:00:00          71    1          3   85.0  124.0    NaN    NaN   \n",
       "2018-03-01 03:00:00          66    1          3   71.0   85.0  124.0    NaN   \n",
       "2018-03-01 04:00:00          43    1          3   66.0   71.0   85.0  124.0   \n",
       "...                         ...  ...        ...    ...    ...    ...    ...   \n",
       "2018-08-31 19:00:00         136   31          4  207.0  217.0  197.0  116.0   \n",
       "2018-08-31 20:00:00         154   31          4  136.0  207.0  217.0  197.0   \n",
       "2018-08-31 21:00:00         159   31          4  154.0  136.0  207.0  217.0   \n",
       "2018-08-31 22:00:00         223   31          4  159.0  154.0  136.0  207.0   \n",
       "2018-08-31 23:00:00         205   31          4  223.0  159.0  154.0  136.0   \n",
       "\n",
       "                     lag_5  lag_6  lag_7  ...  lag_22  lag_23  lag_24  lag_25  \\\n",
       "datetime                                  ...                                   \n",
       "2018-03-01 00:00:00    NaN    NaN    NaN  ...     NaN     NaN     NaN     NaN   \n",
       "2018-03-01 01:00:00    NaN    NaN    NaN  ...     NaN     NaN     NaN     NaN   \n",
       "2018-03-01 02:00:00    NaN    NaN    NaN  ...     NaN     NaN     NaN     NaN   \n",
       "2018-03-01 03:00:00    NaN    NaN    NaN  ...     NaN     NaN     NaN     NaN   \n",
       "2018-03-01 04:00:00    NaN    NaN    NaN  ...     NaN     NaN     NaN     NaN   \n",
       "...                    ...    ...    ...  ...     ...     ...     ...     ...   \n",
       "2018-08-31 19:00:00  133.0  166.0  136.0  ...   198.0   142.0    72.0   177.0   \n",
       "2018-08-31 20:00:00  116.0  133.0  166.0  ...   158.0   198.0   142.0    72.0   \n",
       "2018-08-31 21:00:00  197.0  116.0  133.0  ...   246.0   158.0   198.0   142.0   \n",
       "2018-08-31 22:00:00  217.0  197.0  116.0  ...   276.0   246.0   158.0   198.0   \n",
       "2018-08-31 23:00:00  207.0  217.0  197.0  ...   194.0   276.0   246.0   158.0   \n",
       "\n",
       "                     lag_26  lag_27  lag_28  lag_29  lag_30  rolling_mean  \n",
       "datetime                                                                   \n",
       "2018-03-01 00:00:00     NaN     NaN     NaN     NaN     NaN           NaN  \n",
       "2018-03-01 01:00:00     NaN     NaN     NaN     NaN     NaN           NaN  \n",
       "2018-03-01 02:00:00     NaN     NaN     NaN     NaN     NaN           NaN  \n",
       "2018-03-01 03:00:00     NaN     NaN     NaN     NaN     NaN     93.333333  \n",
       "2018-03-01 04:00:00     NaN     NaN     NaN     NaN     NaN     74.000000  \n",
       "...                     ...     ...     ...     ...     ...           ...  \n",
       "2018-08-31 19:00:00   342.0   254.0   156.0    91.0   154.0    207.000000  \n",
       "2018-08-31 20:00:00   177.0   342.0   254.0   156.0    91.0    186.666667  \n",
       "2018-08-31 21:00:00    72.0   177.0   342.0   254.0   156.0    165.666667  \n",
       "2018-08-31 22:00:00   142.0    72.0   177.0   342.0   254.0    149.666667  \n",
       "2018-08-31 23:00:00   198.0   142.0    72.0   177.0   342.0    178.666667  \n",
       "\n",
       "[4416 rows x 34 columns]"
      ]
     },
     "execution_count": 12,
     "metadata": {},
     "output_type": "execute_result"
    }
   ],
   "source": [
    "data"
   ]
  },
  {
   "cell_type": "markdown",
   "metadata": {},
   "source": [
    "Разделем данные на тренировочную и тестовую выборки"
   ]
  },
  {
   "cell_type": "code",
   "execution_count": 13,
   "metadata": {
    "ExecuteTime": {
     "end_time": "2023-12-12T08:43:42.208190Z",
     "start_time": "2023-12-12T08:43:42.197655Z"
    }
   },
   "outputs": [],
   "source": [
    "train, test = train_test_split(data, shuffle=False, test_size=0.1)\n",
    "train = train.dropna()\n",
    "\n",
    "features_train = train.drop(['num_orders'], axis=1)\n",
    "target_train = train['num_orders']\n",
    "\n",
    "features_test = test.drop(['num_orders'], axis=1)\n",
    "target_test = test['num_orders']"
   ]
  },
  {
   "cell_type": "markdown",
   "metadata": {},
   "source": [
    "## Обучение моделей"
   ]
  },
  {
   "cell_type": "markdown",
   "metadata": {},
   "source": [
    "Обучим модели: LinearRegression, DecisionTreeRegressor, RandomForestRegressor, CatBoostRegressor. Рассчитаем метрику RMSE и выберем лучшую модель."
   ]
  },
  {
   "cell_type": "code",
   "execution_count": 14,
   "metadata": {
    "ExecuteTime": {
     "end_time": "2023-12-12T08:43:42.212813Z",
     "start_time": "2023-12-12T08:43:42.210206Z"
    }
   },
   "outputs": [],
   "source": [
    "# Функция для рассчёта RMSE\n",
    "def rmse_count(target, predict):\n",
    "    return mean_squared_error(target, predict, squared=False)"
   ]
  },
  {
   "cell_type": "code",
   "execution_count": 15,
   "metadata": {
    "ExecuteTime": {
     "end_time": "2023-12-12T08:43:42.217622Z",
     "start_time": "2023-12-12T08:43:42.214788Z"
    }
   },
   "outputs": [],
   "source": [
    "# rmse для обучающей выборки\n",
    "rmse_train = []\n",
    "\n",
    "# параметры модели\n",
    "model_params = []\n"
   ]
  },
  {
   "cell_type": "code",
   "execution_count": 16,
   "metadata": {
    "ExecuteTime": {
     "end_time": "2023-12-12T08:43:44.196222Z",
     "start_time": "2023-12-12T08:43:42.219232Z"
    }
   },
   "outputs": [
    {
     "name": "stdout",
     "output_type": "stream",
     "text": [
      "Метрика RMSE для обучающей выборки 25.578033488102715\n"
     ]
    }
   ],
   "source": [
    "# LinearRegression\n",
    "model = LinearRegression()\n",
    "model.fit(features_train, target_train)\n",
    "predict_train = model.predict(features_train)\n",
    "predict_test = model.predict(features_test)\n",
    "rmse_LR_train = rmse_count(target_train, predict_train)\n",
    "rmse_train.append(rmse_LR_train)\n",
    "print ('Метрика RMSE для обучающей выборки', rmse_LR_train)\n",
    "model_params.append(' ')\n"
   ]
  },
  {
   "cell_type": "markdown",
   "metadata": {},
   "source": [
    "Мы будем использовать  TimeSeriesSplit, чтобы предотвратить утечку данных"
   ]
  },
  {
   "cell_type": "code",
   "execution_count": 17,
   "metadata": {
    "ExecuteTime": {
     "end_time": "2023-12-12T08:43:44.201663Z",
     "start_time": "2023-12-12T08:43:44.198683Z"
    }
   },
   "outputs": [],
   "source": [
    "time_split = TimeSeriesSplit(n_splits=10)"
   ]
  },
  {
   "cell_type": "code",
   "execution_count": 18,
   "metadata": {
    "ExecuteTime": {
     "end_time": "2023-12-12T08:43:53.538654Z",
     "start_time": "2023-12-12T08:43:44.204497Z"
    }
   },
   "outputs": [
    {
     "name": "stdout",
     "output_type": "stream",
     "text": [
      "RMSE для лучшей модели DecisionTreeRegressor 28.75,\n",
      "Параметры лучшей модели {'max_depth': 4, 'min_samples_leaf': 7}\n"
     ]
    }
   ],
   "source": [
    "# DecisionTreeRegressor\n",
    "\n",
    "model_DT =  DecisionTreeRegressor(random_state=12345)\n",
    "parametrs = {'max_depth': range(1,9,1), 'min_samples_leaf':range(1,8)}\n",
    "model_Grid = GridSearchCV(model_DT, parametrs, cv=time_split, scoring = make_scorer(rmse_count, greater_is_better=False),\n",
    "                          error_score = 'raise')\n",
    "\n",
    "model_Grid.fit(features_train, target_train)\n",
    "\n",
    "print(f'RMSE для лучшей модели DecisionTreeRegressor {-model_Grid.best_score_:.2f},\\n\\\n",
    "Параметры лучшей модели {model_Grid.best_params_}')\n",
    "\n",
    "rmse_DT = model_Grid.best_score_\n",
    "\n",
    "rmse_train.append(abs(rmse_DT))\n",
    "model_params.append(model_Grid.best_params_)"
   ]
  },
  {
   "cell_type": "code",
   "execution_count": 19,
   "metadata": {
    "ExecuteTime": {
     "end_time": "2023-12-12T08:48:19.635439Z",
     "start_time": "2023-12-12T08:43:53.540735Z"
    }
   },
   "outputs": [
    {
     "name": "stdout",
     "output_type": "stream",
     "text": [
      "RMSE для лучшей модели RandomTreeRegressor 25.68,\n",
      "Лучшая модель RandomTreeRegressor с параметрами: {'max_depth': 8, 'min_samples_leaf': 6, 'n_estimators': 9}\n"
     ]
    }
   ],
   "source": [
    "# RandomForestRegressor\n",
    "\n",
    "model_RF =  RandomForestRegressor(random_state=12345)\n",
    "parametrs = {'n_estimators': range(1,10,1),\n",
    "             'max_depth': range(1,9,1),\n",
    "             'min_samples_leaf': range(1,8)\n",
    "            }\n",
    "model_Grid = GridSearchCV(model_RF, parametrs, cv=time_split, scoring = make_scorer(rmse_count, greater_is_better=False),\n",
    "                          error_score = 'raise')\n",
    "\n",
    "model_Grid.fit(features_train, target_train)\n",
    "print(f'RMSE для лучшей модели RandomTreeRegressor {-model_Grid.best_score_:.2f},\\n\\\n",
    "Лучшая модель RandomTreeRegressor с параметрами: {model_Grid.best_params_}')\n",
    "\n",
    "rmse_RF = model_Grid.best_score_\n",
    "\n",
    "rmse_train.append(abs(rmse_RF))\n",
    "model_params.append(model_Grid.best_params_)"
   ]
  },
  {
   "cell_type": "code",
   "execution_count": 20,
   "metadata": {
    "ExecuteTime": {
     "end_time": "2023-12-12T08:56:09.617635Z",
     "start_time": "2023-12-12T08:48:19.640729Z"
    }
   },
   "outputs": [
    {
     "name": "stderr",
     "output_type": "stream",
     "text": [
      "/Users/tatianabeliaeva/opt/anaconda3/lib/python3.9/site-packages/catboost/core.py:1135: FutureWarning: iteritems is deprecated and will be removed in a future version. Use .items instead.\n",
      "  self._init_pool(data, label, cat_features, text_features, embedding_features, pairs, weight, group_id, group_weight, subgroup_id, pairs_weight, baseline, feature_names, thread_count)\n",
      "/Users/tatianabeliaeva/opt/anaconda3/lib/python3.9/site-packages/catboost/core.py:1135: FutureWarning: iteritems is deprecated and will be removed in a future version. Use .items instead.\n",
      "  self._init_pool(data, label, cat_features, text_features, embedding_features, pairs, weight, group_id, group_weight, subgroup_id, pairs_weight, baseline, feature_names, thread_count)\n",
      "/Users/tatianabeliaeva/opt/anaconda3/lib/python3.9/site-packages/catboost/core.py:1135: FutureWarning: iteritems is deprecated and will be removed in a future version. Use .items instead.\n",
      "  self._init_pool(data, label, cat_features, text_features, embedding_features, pairs, weight, group_id, group_weight, subgroup_id, pairs_weight, baseline, feature_names, thread_count)\n",
      "/Users/tatianabeliaeva/opt/anaconda3/lib/python3.9/site-packages/catboost/core.py:1135: FutureWarning: iteritems is deprecated and will be removed in a future version. Use .items instead.\n",
      "  self._init_pool(data, label, cat_features, text_features, embedding_features, pairs, weight, group_id, group_weight, subgroup_id, pairs_weight, baseline, feature_names, thread_count)\n",
      "/Users/tatianabeliaeva/opt/anaconda3/lib/python3.9/site-packages/catboost/core.py:1135: FutureWarning: iteritems is deprecated and will be removed in a future version. Use .items instead.\n",
      "  self._init_pool(data, label, cat_features, text_features, embedding_features, pairs, weight, group_id, group_weight, subgroup_id, pairs_weight, baseline, feature_names, thread_count)\n",
      "/Users/tatianabeliaeva/opt/anaconda3/lib/python3.9/site-packages/catboost/core.py:1135: FutureWarning: iteritems is deprecated and will be removed in a future version. Use .items instead.\n",
      "  self._init_pool(data, label, cat_features, text_features, embedding_features, pairs, weight, group_id, group_weight, subgroup_id, pairs_weight, baseline, feature_names, thread_count)\n",
      "/Users/tatianabeliaeva/opt/anaconda3/lib/python3.9/site-packages/catboost/core.py:1135: FutureWarning: iteritems is deprecated and will be removed in a future version. Use .items instead.\n",
      "  self._init_pool(data, label, cat_features, text_features, embedding_features, pairs, weight, group_id, group_weight, subgroup_id, pairs_weight, baseline, feature_names, thread_count)\n",
      "/Users/tatianabeliaeva/opt/anaconda3/lib/python3.9/site-packages/catboost/core.py:1135: FutureWarning: iteritems is deprecated and will be removed in a future version. Use .items instead.\n",
      "  self._init_pool(data, label, cat_features, text_features, embedding_features, pairs, weight, group_id, group_weight, subgroup_id, pairs_weight, baseline, feature_names, thread_count)\n",
      "/Users/tatianabeliaeva/opt/anaconda3/lib/python3.9/site-packages/catboost/core.py:1135: FutureWarning: iteritems is deprecated and will be removed in a future version. Use .items instead.\n",
      "  self._init_pool(data, label, cat_features, text_features, embedding_features, pairs, weight, group_id, group_weight, subgroup_id, pairs_weight, baseline, feature_names, thread_count)\n",
      "/Users/tatianabeliaeva/opt/anaconda3/lib/python3.9/site-packages/catboost/core.py:1135: FutureWarning: iteritems is deprecated and will be removed in a future version. Use .items instead.\n",
      "  self._init_pool(data, label, cat_features, text_features, embedding_features, pairs, weight, group_id, group_weight, subgroup_id, pairs_weight, baseline, feature_names, thread_count)\n",
      "/Users/tatianabeliaeva/opt/anaconda3/lib/python3.9/site-packages/catboost/core.py:1135: FutureWarning: iteritems is deprecated and will be removed in a future version. Use .items instead.\n",
      "  self._init_pool(data, label, cat_features, text_features, embedding_features, pairs, weight, group_id, group_weight, subgroup_id, pairs_weight, baseline, feature_names, thread_count)\n",
      "/Users/tatianabeliaeva/opt/anaconda3/lib/python3.9/site-packages/catboost/core.py:1135: FutureWarning: iteritems is deprecated and will be removed in a future version. Use .items instead.\n",
      "  self._init_pool(data, label, cat_features, text_features, embedding_features, pairs, weight, group_id, group_weight, subgroup_id, pairs_weight, baseline, feature_names, thread_count)\n",
      "/Users/tatianabeliaeva/opt/anaconda3/lib/python3.9/site-packages/catboost/core.py:1135: FutureWarning: iteritems is deprecated and will be removed in a future version. Use .items instead.\n",
      "  self._init_pool(data, label, cat_features, text_features, embedding_features, pairs, weight, group_id, group_weight, subgroup_id, pairs_weight, baseline, feature_names, thread_count)\n",
      "/Users/tatianabeliaeva/opt/anaconda3/lib/python3.9/site-packages/catboost/core.py:1135: FutureWarning: iteritems is deprecated and will be removed in a future version. Use .items instead.\n",
      "  self._init_pool(data, label, cat_features, text_features, embedding_features, pairs, weight, group_id, group_weight, subgroup_id, pairs_weight, baseline, feature_names, thread_count)\n",
      "/Users/tatianabeliaeva/opt/anaconda3/lib/python3.9/site-packages/catboost/core.py:1135: FutureWarning: iteritems is deprecated and will be removed in a future version. Use .items instead.\n",
      "  self._init_pool(data, label, cat_features, text_features, embedding_features, pairs, weight, group_id, group_weight, subgroup_id, pairs_weight, baseline, feature_names, thread_count)\n",
      "/Users/tatianabeliaeva/opt/anaconda3/lib/python3.9/site-packages/catboost/core.py:1135: FutureWarning: iteritems is deprecated and will be removed in a future version. Use .items instead.\n",
      "  self._init_pool(data, label, cat_features, text_features, embedding_features, pairs, weight, group_id, group_weight, subgroup_id, pairs_weight, baseline, feature_names, thread_count)\n",
      "/Users/tatianabeliaeva/opt/anaconda3/lib/python3.9/site-packages/catboost/core.py:1135: FutureWarning: iteritems is deprecated and will be removed in a future version. Use .items instead.\n",
      "  self._init_pool(data, label, cat_features, text_features, embedding_features, pairs, weight, group_id, group_weight, subgroup_id, pairs_weight, baseline, feature_names, thread_count)\n",
      "/Users/tatianabeliaeva/opt/anaconda3/lib/python3.9/site-packages/catboost/core.py:1135: FutureWarning: iteritems is deprecated and will be removed in a future version. Use .items instead.\n",
      "  self._init_pool(data, label, cat_features, text_features, embedding_features, pairs, weight, group_id, group_weight, subgroup_id, pairs_weight, baseline, feature_names, thread_count)\n",
      "/Users/tatianabeliaeva/opt/anaconda3/lib/python3.9/site-packages/catboost/core.py:1135: FutureWarning: iteritems is deprecated and will be removed in a future version. Use .items instead.\n",
      "  self._init_pool(data, label, cat_features, text_features, embedding_features, pairs, weight, group_id, group_weight, subgroup_id, pairs_weight, baseline, feature_names, thread_count)\n",
      "/Users/tatianabeliaeva/opt/anaconda3/lib/python3.9/site-packages/catboost/core.py:1135: FutureWarning: iteritems is deprecated and will be removed in a future version. Use .items instead.\n",
      "  self._init_pool(data, label, cat_features, text_features, embedding_features, pairs, weight, group_id, group_weight, subgroup_id, pairs_weight, baseline, feature_names, thread_count)\n",
      "/Users/tatianabeliaeva/opt/anaconda3/lib/python3.9/site-packages/catboost/core.py:1135: FutureWarning: iteritems is deprecated and will be removed in a future version. Use .items instead.\n",
      "  self._init_pool(data, label, cat_features, text_features, embedding_features, pairs, weight, group_id, group_weight, subgroup_id, pairs_weight, baseline, feature_names, thread_count)\n",
      "/Users/tatianabeliaeva/opt/anaconda3/lib/python3.9/site-packages/catboost/core.py:1135: FutureWarning: iteritems is deprecated and will be removed in a future version. Use .items instead.\n",
      "  self._init_pool(data, label, cat_features, text_features, embedding_features, pairs, weight, group_id, group_weight, subgroup_id, pairs_weight, baseline, feature_names, thread_count)\n",
      "/Users/tatianabeliaeva/opt/anaconda3/lib/python3.9/site-packages/catboost/core.py:1135: FutureWarning: iteritems is deprecated and will be removed in a future version. Use .items instead.\n",
      "  self._init_pool(data, label, cat_features, text_features, embedding_features, pairs, weight, group_id, group_weight, subgroup_id, pairs_weight, baseline, feature_names, thread_count)\n"
     ]
    },
    {
     "name": "stderr",
     "output_type": "stream",
     "text": [
      "/Users/tatianabeliaeva/opt/anaconda3/lib/python3.9/site-packages/catboost/core.py:1135: FutureWarning: iteritems is deprecated and will be removed in a future version. Use .items instead.\n",
      "  self._init_pool(data, label, cat_features, text_features, embedding_features, pairs, weight, group_id, group_weight, subgroup_id, pairs_weight, baseline, feature_names, thread_count)\n",
      "/Users/tatianabeliaeva/opt/anaconda3/lib/python3.9/site-packages/catboost/core.py:1135: FutureWarning: iteritems is deprecated and will be removed in a future version. Use .items instead.\n",
      "  self._init_pool(data, label, cat_features, text_features, embedding_features, pairs, weight, group_id, group_weight, subgroup_id, pairs_weight, baseline, feature_names, thread_count)\n",
      "/Users/tatianabeliaeva/opt/anaconda3/lib/python3.9/site-packages/catboost/core.py:1135: FutureWarning: iteritems is deprecated and will be removed in a future version. Use .items instead.\n",
      "  self._init_pool(data, label, cat_features, text_features, embedding_features, pairs, weight, group_id, group_weight, subgroup_id, pairs_weight, baseline, feature_names, thread_count)\n",
      "/Users/tatianabeliaeva/opt/anaconda3/lib/python3.9/site-packages/catboost/core.py:1135: FutureWarning: iteritems is deprecated and will be removed in a future version. Use .items instead.\n",
      "  self._init_pool(data, label, cat_features, text_features, embedding_features, pairs, weight, group_id, group_weight, subgroup_id, pairs_weight, baseline, feature_names, thread_count)\n",
      "/Users/tatianabeliaeva/opt/anaconda3/lib/python3.9/site-packages/catboost/core.py:1135: FutureWarning: iteritems is deprecated and will be removed in a future version. Use .items instead.\n",
      "  self._init_pool(data, label, cat_features, text_features, embedding_features, pairs, weight, group_id, group_weight, subgroup_id, pairs_weight, baseline, feature_names, thread_count)\n",
      "/Users/tatianabeliaeva/opt/anaconda3/lib/python3.9/site-packages/catboost/core.py:1135: FutureWarning: iteritems is deprecated and will be removed in a future version. Use .items instead.\n",
      "  self._init_pool(data, label, cat_features, text_features, embedding_features, pairs, weight, group_id, group_weight, subgroup_id, pairs_weight, baseline, feature_names, thread_count)\n",
      "/Users/tatianabeliaeva/opt/anaconda3/lib/python3.9/site-packages/catboost/core.py:1135: FutureWarning: iteritems is deprecated and will be removed in a future version. Use .items instead.\n",
      "  self._init_pool(data, label, cat_features, text_features, embedding_features, pairs, weight, group_id, group_weight, subgroup_id, pairs_weight, baseline, feature_names, thread_count)\n",
      "/Users/tatianabeliaeva/opt/anaconda3/lib/python3.9/site-packages/catboost/core.py:1135: FutureWarning: iteritems is deprecated and will be removed in a future version. Use .items instead.\n",
      "  self._init_pool(data, label, cat_features, text_features, embedding_features, pairs, weight, group_id, group_weight, subgroup_id, pairs_weight, baseline, feature_names, thread_count)\n",
      "/Users/tatianabeliaeva/opt/anaconda3/lib/python3.9/site-packages/catboost/core.py:1135: FutureWarning: iteritems is deprecated and will be removed in a future version. Use .items instead.\n",
      "  self._init_pool(data, label, cat_features, text_features, embedding_features, pairs, weight, group_id, group_weight, subgroup_id, pairs_weight, baseline, feature_names, thread_count)\n",
      "/Users/tatianabeliaeva/opt/anaconda3/lib/python3.9/site-packages/catboost/core.py:1135: FutureWarning: iteritems is deprecated and will be removed in a future version. Use .items instead.\n",
      "  self._init_pool(data, label, cat_features, text_features, embedding_features, pairs, weight, group_id, group_weight, subgroup_id, pairs_weight, baseline, feature_names, thread_count)\n",
      "/Users/tatianabeliaeva/opt/anaconda3/lib/python3.9/site-packages/catboost/core.py:1135: FutureWarning: iteritems is deprecated and will be removed in a future version. Use .items instead.\n",
      "  self._init_pool(data, label, cat_features, text_features, embedding_features, pairs, weight, group_id, group_weight, subgroup_id, pairs_weight, baseline, feature_names, thread_count)\n",
      "/Users/tatianabeliaeva/opt/anaconda3/lib/python3.9/site-packages/catboost/core.py:1135: FutureWarning: iteritems is deprecated and will be removed in a future version. Use .items instead.\n",
      "  self._init_pool(data, label, cat_features, text_features, embedding_features, pairs, weight, group_id, group_weight, subgroup_id, pairs_weight, baseline, feature_names, thread_count)\n",
      "/Users/tatianabeliaeva/opt/anaconda3/lib/python3.9/site-packages/catboost/core.py:1135: FutureWarning: iteritems is deprecated and will be removed in a future version. Use .items instead.\n",
      "  self._init_pool(data, label, cat_features, text_features, embedding_features, pairs, weight, group_id, group_weight, subgroup_id, pairs_weight, baseline, feature_names, thread_count)\n",
      "/Users/tatianabeliaeva/opt/anaconda3/lib/python3.9/site-packages/catboost/core.py:1135: FutureWarning: iteritems is deprecated and will be removed in a future version. Use .items instead.\n",
      "  self._init_pool(data, label, cat_features, text_features, embedding_features, pairs, weight, group_id, group_weight, subgroup_id, pairs_weight, baseline, feature_names, thread_count)\n",
      "/Users/tatianabeliaeva/opt/anaconda3/lib/python3.9/site-packages/catboost/core.py:1135: FutureWarning: iteritems is deprecated and will be removed in a future version. Use .items instead.\n",
      "  self._init_pool(data, label, cat_features, text_features, embedding_features, pairs, weight, group_id, group_weight, subgroup_id, pairs_weight, baseline, feature_names, thread_count)\n",
      "/Users/tatianabeliaeva/opt/anaconda3/lib/python3.9/site-packages/catboost/core.py:1135: FutureWarning: iteritems is deprecated and will be removed in a future version. Use .items instead.\n",
      "  self._init_pool(data, label, cat_features, text_features, embedding_features, pairs, weight, group_id, group_weight, subgroup_id, pairs_weight, baseline, feature_names, thread_count)\n",
      "/Users/tatianabeliaeva/opt/anaconda3/lib/python3.9/site-packages/catboost/core.py:1135: FutureWarning: iteritems is deprecated and will be removed in a future version. Use .items instead.\n",
      "  self._init_pool(data, label, cat_features, text_features, embedding_features, pairs, weight, group_id, group_weight, subgroup_id, pairs_weight, baseline, feature_names, thread_count)\n",
      "/Users/tatianabeliaeva/opt/anaconda3/lib/python3.9/site-packages/catboost/core.py:1135: FutureWarning: iteritems is deprecated and will be removed in a future version. Use .items instead.\n",
      "  self._init_pool(data, label, cat_features, text_features, embedding_features, pairs, weight, group_id, group_weight, subgroup_id, pairs_weight, baseline, feature_names, thread_count)\n",
      "/Users/tatianabeliaeva/opt/anaconda3/lib/python3.9/site-packages/catboost/core.py:1135: FutureWarning: iteritems is deprecated and will be removed in a future version. Use .items instead.\n",
      "  self._init_pool(data, label, cat_features, text_features, embedding_features, pairs, weight, group_id, group_weight, subgroup_id, pairs_weight, baseline, feature_names, thread_count)\n",
      "/Users/tatianabeliaeva/opt/anaconda3/lib/python3.9/site-packages/catboost/core.py:1135: FutureWarning: iteritems is deprecated and will be removed in a future version. Use .items instead.\n",
      "  self._init_pool(data, label, cat_features, text_features, embedding_features, pairs, weight, group_id, group_weight, subgroup_id, pairs_weight, baseline, feature_names, thread_count)\n",
      "/Users/tatianabeliaeva/opt/anaconda3/lib/python3.9/site-packages/catboost/core.py:1135: FutureWarning: iteritems is deprecated and will be removed in a future version. Use .items instead.\n",
      "  self._init_pool(data, label, cat_features, text_features, embedding_features, pairs, weight, group_id, group_weight, subgroup_id, pairs_weight, baseline, feature_names, thread_count)\n",
      "/Users/tatianabeliaeva/opt/anaconda3/lib/python3.9/site-packages/catboost/core.py:1135: FutureWarning: iteritems is deprecated and will be removed in a future version. Use .items instead.\n",
      "  self._init_pool(data, label, cat_features, text_features, embedding_features, pairs, weight, group_id, group_weight, subgroup_id, pairs_weight, baseline, feature_names, thread_count)\n"
     ]
    },
    {
     "name": "stderr",
     "output_type": "stream",
     "text": [
      "/Users/tatianabeliaeva/opt/anaconda3/lib/python3.9/site-packages/catboost/core.py:1135: FutureWarning: iteritems is deprecated and will be removed in a future version. Use .items instead.\n",
      "  self._init_pool(data, label, cat_features, text_features, embedding_features, pairs, weight, group_id, group_weight, subgroup_id, pairs_weight, baseline, feature_names, thread_count)\n",
      "/Users/tatianabeliaeva/opt/anaconda3/lib/python3.9/site-packages/catboost/core.py:1135: FutureWarning: iteritems is deprecated and will be removed in a future version. Use .items instead.\n",
      "  self._init_pool(data, label, cat_features, text_features, embedding_features, pairs, weight, group_id, group_weight, subgroup_id, pairs_weight, baseline, feature_names, thread_count)\n",
      "/Users/tatianabeliaeva/opt/anaconda3/lib/python3.9/site-packages/catboost/core.py:1135: FutureWarning: iteritems is deprecated and will be removed in a future version. Use .items instead.\n",
      "  self._init_pool(data, label, cat_features, text_features, embedding_features, pairs, weight, group_id, group_weight, subgroup_id, pairs_weight, baseline, feature_names, thread_count)\n",
      "/Users/tatianabeliaeva/opt/anaconda3/lib/python3.9/site-packages/catboost/core.py:1135: FutureWarning: iteritems is deprecated and will be removed in a future version. Use .items instead.\n",
      "  self._init_pool(data, label, cat_features, text_features, embedding_features, pairs, weight, group_id, group_weight, subgroup_id, pairs_weight, baseline, feature_names, thread_count)\n",
      "/Users/tatianabeliaeva/opt/anaconda3/lib/python3.9/site-packages/catboost/core.py:1135: FutureWarning: iteritems is deprecated and will be removed in a future version. Use .items instead.\n",
      "  self._init_pool(data, label, cat_features, text_features, embedding_features, pairs, weight, group_id, group_weight, subgroup_id, pairs_weight, baseline, feature_names, thread_count)\n",
      "/Users/tatianabeliaeva/opt/anaconda3/lib/python3.9/site-packages/catboost/core.py:1135: FutureWarning: iteritems is deprecated and will be removed in a future version. Use .items instead.\n",
      "  self._init_pool(data, label, cat_features, text_features, embedding_features, pairs, weight, group_id, group_weight, subgroup_id, pairs_weight, baseline, feature_names, thread_count)\n",
      "/Users/tatianabeliaeva/opt/anaconda3/lib/python3.9/site-packages/catboost/core.py:1135: FutureWarning: iteritems is deprecated and will be removed in a future version. Use .items instead.\n",
      "  self._init_pool(data, label, cat_features, text_features, embedding_features, pairs, weight, group_id, group_weight, subgroup_id, pairs_weight, baseline, feature_names, thread_count)\n",
      "/Users/tatianabeliaeva/opt/anaconda3/lib/python3.9/site-packages/catboost/core.py:1135: FutureWarning: iteritems is deprecated and will be removed in a future version. Use .items instead.\n",
      "  self._init_pool(data, label, cat_features, text_features, embedding_features, pairs, weight, group_id, group_weight, subgroup_id, pairs_weight, baseline, feature_names, thread_count)\n",
      "/Users/tatianabeliaeva/opt/anaconda3/lib/python3.9/site-packages/catboost/core.py:1135: FutureWarning: iteritems is deprecated and will be removed in a future version. Use .items instead.\n",
      "  self._init_pool(data, label, cat_features, text_features, embedding_features, pairs, weight, group_id, group_weight, subgroup_id, pairs_weight, baseline, feature_names, thread_count)\n",
      "/Users/tatianabeliaeva/opt/anaconda3/lib/python3.9/site-packages/catboost/core.py:1135: FutureWarning: iteritems is deprecated and will be removed in a future version. Use .items instead.\n",
      "  self._init_pool(data, label, cat_features, text_features, embedding_features, pairs, weight, group_id, group_weight, subgroup_id, pairs_weight, baseline, feature_names, thread_count)\n",
      "/Users/tatianabeliaeva/opt/anaconda3/lib/python3.9/site-packages/catboost/core.py:1135: FutureWarning: iteritems is deprecated and will be removed in a future version. Use .items instead.\n",
      "  self._init_pool(data, label, cat_features, text_features, embedding_features, pairs, weight, group_id, group_weight, subgroup_id, pairs_weight, baseline, feature_names, thread_count)\n",
      "/Users/tatianabeliaeva/opt/anaconda3/lib/python3.9/site-packages/catboost/core.py:1135: FutureWarning: iteritems is deprecated and will be removed in a future version. Use .items instead.\n",
      "  self._init_pool(data, label, cat_features, text_features, embedding_features, pairs, weight, group_id, group_weight, subgroup_id, pairs_weight, baseline, feature_names, thread_count)\n",
      "/Users/tatianabeliaeva/opt/anaconda3/lib/python3.9/site-packages/catboost/core.py:1135: FutureWarning: iteritems is deprecated and will be removed in a future version. Use .items instead.\n",
      "  self._init_pool(data, label, cat_features, text_features, embedding_features, pairs, weight, group_id, group_weight, subgroup_id, pairs_weight, baseline, feature_names, thread_count)\n",
      "/Users/tatianabeliaeva/opt/anaconda3/lib/python3.9/site-packages/catboost/core.py:1135: FutureWarning: iteritems is deprecated and will be removed in a future version. Use .items instead.\n",
      "  self._init_pool(data, label, cat_features, text_features, embedding_features, pairs, weight, group_id, group_weight, subgroup_id, pairs_weight, baseline, feature_names, thread_count)\n",
      "/Users/tatianabeliaeva/opt/anaconda3/lib/python3.9/site-packages/catboost/core.py:1135: FutureWarning: iteritems is deprecated and will be removed in a future version. Use .items instead.\n",
      "  self._init_pool(data, label, cat_features, text_features, embedding_features, pairs, weight, group_id, group_weight, subgroup_id, pairs_weight, baseline, feature_names, thread_count)\n",
      "/Users/tatianabeliaeva/opt/anaconda3/lib/python3.9/site-packages/catboost/core.py:1135: FutureWarning: iteritems is deprecated and will be removed in a future version. Use .items instead.\n",
      "  self._init_pool(data, label, cat_features, text_features, embedding_features, pairs, weight, group_id, group_weight, subgroup_id, pairs_weight, baseline, feature_names, thread_count)\n",
      "/Users/tatianabeliaeva/opt/anaconda3/lib/python3.9/site-packages/catboost/core.py:1135: FutureWarning: iteritems is deprecated and will be removed in a future version. Use .items instead.\n",
      "  self._init_pool(data, label, cat_features, text_features, embedding_features, pairs, weight, group_id, group_weight, subgroup_id, pairs_weight, baseline, feature_names, thread_count)\n",
      "/Users/tatianabeliaeva/opt/anaconda3/lib/python3.9/site-packages/catboost/core.py:1135: FutureWarning: iteritems is deprecated and will be removed in a future version. Use .items instead.\n",
      "  self._init_pool(data, label, cat_features, text_features, embedding_features, pairs, weight, group_id, group_weight, subgroup_id, pairs_weight, baseline, feature_names, thread_count)\n",
      "/Users/tatianabeliaeva/opt/anaconda3/lib/python3.9/site-packages/catboost/core.py:1135: FutureWarning: iteritems is deprecated and will be removed in a future version. Use .items instead.\n",
      "  self._init_pool(data, label, cat_features, text_features, embedding_features, pairs, weight, group_id, group_weight, subgroup_id, pairs_weight, baseline, feature_names, thread_count)\n",
      "/Users/tatianabeliaeva/opt/anaconda3/lib/python3.9/site-packages/catboost/core.py:1135: FutureWarning: iteritems is deprecated and will be removed in a future version. Use .items instead.\n",
      "  self._init_pool(data, label, cat_features, text_features, embedding_features, pairs, weight, group_id, group_weight, subgroup_id, pairs_weight, baseline, feature_names, thread_count)\n",
      "/Users/tatianabeliaeva/opt/anaconda3/lib/python3.9/site-packages/catboost/core.py:1135: FutureWarning: iteritems is deprecated and will be removed in a future version. Use .items instead.\n",
      "  self._init_pool(data, label, cat_features, text_features, embedding_features, pairs, weight, group_id, group_weight, subgroup_id, pairs_weight, baseline, feature_names, thread_count)\n",
      "/Users/tatianabeliaeva/opt/anaconda3/lib/python3.9/site-packages/catboost/core.py:1135: FutureWarning: iteritems is deprecated and will be removed in a future version. Use .items instead.\n",
      "  self._init_pool(data, label, cat_features, text_features, embedding_features, pairs, weight, group_id, group_weight, subgroup_id, pairs_weight, baseline, feature_names, thread_count)\n"
     ]
    },
    {
     "name": "stderr",
     "output_type": "stream",
     "text": [
      "/Users/tatianabeliaeva/opt/anaconda3/lib/python3.9/site-packages/catboost/core.py:1135: FutureWarning: iteritems is deprecated and will be removed in a future version. Use .items instead.\n",
      "  self._init_pool(data, label, cat_features, text_features, embedding_features, pairs, weight, group_id, group_weight, subgroup_id, pairs_weight, baseline, feature_names, thread_count)\n",
      "/Users/tatianabeliaeva/opt/anaconda3/lib/python3.9/site-packages/catboost/core.py:1135: FutureWarning: iteritems is deprecated and will be removed in a future version. Use .items instead.\n",
      "  self._init_pool(data, label, cat_features, text_features, embedding_features, pairs, weight, group_id, group_weight, subgroup_id, pairs_weight, baseline, feature_names, thread_count)\n",
      "/Users/tatianabeliaeva/opt/anaconda3/lib/python3.9/site-packages/catboost/core.py:1135: FutureWarning: iteritems is deprecated and will be removed in a future version. Use .items instead.\n",
      "  self._init_pool(data, label, cat_features, text_features, embedding_features, pairs, weight, group_id, group_weight, subgroup_id, pairs_weight, baseline, feature_names, thread_count)\n",
      "/Users/tatianabeliaeva/opt/anaconda3/lib/python3.9/site-packages/catboost/core.py:1135: FutureWarning: iteritems is deprecated and will be removed in a future version. Use .items instead.\n",
      "  self._init_pool(data, label, cat_features, text_features, embedding_features, pairs, weight, group_id, group_weight, subgroup_id, pairs_weight, baseline, feature_names, thread_count)\n",
      "/Users/tatianabeliaeva/opt/anaconda3/lib/python3.9/site-packages/catboost/core.py:1135: FutureWarning: iteritems is deprecated and will be removed in a future version. Use .items instead.\n",
      "  self._init_pool(data, label, cat_features, text_features, embedding_features, pairs, weight, group_id, group_weight, subgroup_id, pairs_weight, baseline, feature_names, thread_count)\n",
      "/Users/tatianabeliaeva/opt/anaconda3/lib/python3.9/site-packages/catboost/core.py:1135: FutureWarning: iteritems is deprecated and will be removed in a future version. Use .items instead.\n",
      "  self._init_pool(data, label, cat_features, text_features, embedding_features, pairs, weight, group_id, group_weight, subgroup_id, pairs_weight, baseline, feature_names, thread_count)\n",
      "/Users/tatianabeliaeva/opt/anaconda3/lib/python3.9/site-packages/catboost/core.py:1135: FutureWarning: iteritems is deprecated and will be removed in a future version. Use .items instead.\n",
      "  self._init_pool(data, label, cat_features, text_features, embedding_features, pairs, weight, group_id, group_weight, subgroup_id, pairs_weight, baseline, feature_names, thread_count)\n",
      "/Users/tatianabeliaeva/opt/anaconda3/lib/python3.9/site-packages/catboost/core.py:1135: FutureWarning: iteritems is deprecated and will be removed in a future version. Use .items instead.\n",
      "  self._init_pool(data, label, cat_features, text_features, embedding_features, pairs, weight, group_id, group_weight, subgroup_id, pairs_weight, baseline, feature_names, thread_count)\n",
      "/Users/tatianabeliaeva/opt/anaconda3/lib/python3.9/site-packages/catboost/core.py:1135: FutureWarning: iteritems is deprecated and will be removed in a future version. Use .items instead.\n",
      "  self._init_pool(data, label, cat_features, text_features, embedding_features, pairs, weight, group_id, group_weight, subgroup_id, pairs_weight, baseline, feature_names, thread_count)\n",
      "/Users/tatianabeliaeva/opt/anaconda3/lib/python3.9/site-packages/catboost/core.py:1135: FutureWarning: iteritems is deprecated and will be removed in a future version. Use .items instead.\n",
      "  self._init_pool(data, label, cat_features, text_features, embedding_features, pairs, weight, group_id, group_weight, subgroup_id, pairs_weight, baseline, feature_names, thread_count)\n",
      "/Users/tatianabeliaeva/opt/anaconda3/lib/python3.9/site-packages/catboost/core.py:1135: FutureWarning: iteritems is deprecated and will be removed in a future version. Use .items instead.\n",
      "  self._init_pool(data, label, cat_features, text_features, embedding_features, pairs, weight, group_id, group_weight, subgroup_id, pairs_weight, baseline, feature_names, thread_count)\n",
      "/Users/tatianabeliaeva/opt/anaconda3/lib/python3.9/site-packages/catboost/core.py:1135: FutureWarning: iteritems is deprecated and will be removed in a future version. Use .items instead.\n",
      "  self._init_pool(data, label, cat_features, text_features, embedding_features, pairs, weight, group_id, group_weight, subgroup_id, pairs_weight, baseline, feature_names, thread_count)\n",
      "/Users/tatianabeliaeva/opt/anaconda3/lib/python3.9/site-packages/catboost/core.py:1135: FutureWarning: iteritems is deprecated and will be removed in a future version. Use .items instead.\n",
      "  self._init_pool(data, label, cat_features, text_features, embedding_features, pairs, weight, group_id, group_weight, subgroup_id, pairs_weight, baseline, feature_names, thread_count)\n",
      "/Users/tatianabeliaeva/opt/anaconda3/lib/python3.9/site-packages/catboost/core.py:1135: FutureWarning: iteritems is deprecated and will be removed in a future version. Use .items instead.\n",
      "  self._init_pool(data, label, cat_features, text_features, embedding_features, pairs, weight, group_id, group_weight, subgroup_id, pairs_weight, baseline, feature_names, thread_count)\n",
      "/Users/tatianabeliaeva/opt/anaconda3/lib/python3.9/site-packages/catboost/core.py:1135: FutureWarning: iteritems is deprecated and will be removed in a future version. Use .items instead.\n",
      "  self._init_pool(data, label, cat_features, text_features, embedding_features, pairs, weight, group_id, group_weight, subgroup_id, pairs_weight, baseline, feature_names, thread_count)\n",
      "/Users/tatianabeliaeva/opt/anaconda3/lib/python3.9/site-packages/catboost/core.py:1135: FutureWarning: iteritems is deprecated and will be removed in a future version. Use .items instead.\n",
      "  self._init_pool(data, label, cat_features, text_features, embedding_features, pairs, weight, group_id, group_weight, subgroup_id, pairs_weight, baseline, feature_names, thread_count)\n",
      "/Users/tatianabeliaeva/opt/anaconda3/lib/python3.9/site-packages/catboost/core.py:1135: FutureWarning: iteritems is deprecated and will be removed in a future version. Use .items instead.\n",
      "  self._init_pool(data, label, cat_features, text_features, embedding_features, pairs, weight, group_id, group_weight, subgroup_id, pairs_weight, baseline, feature_names, thread_count)\n",
      "/Users/tatianabeliaeva/opt/anaconda3/lib/python3.9/site-packages/catboost/core.py:1135: FutureWarning: iteritems is deprecated and will be removed in a future version. Use .items instead.\n",
      "  self._init_pool(data, label, cat_features, text_features, embedding_features, pairs, weight, group_id, group_weight, subgroup_id, pairs_weight, baseline, feature_names, thread_count)\n",
      "/Users/tatianabeliaeva/opt/anaconda3/lib/python3.9/site-packages/catboost/core.py:1135: FutureWarning: iteritems is deprecated and will be removed in a future version. Use .items instead.\n",
      "  self._init_pool(data, label, cat_features, text_features, embedding_features, pairs, weight, group_id, group_weight, subgroup_id, pairs_weight, baseline, feature_names, thread_count)\n",
      "/Users/tatianabeliaeva/opt/anaconda3/lib/python3.9/site-packages/catboost/core.py:1135: FutureWarning: iteritems is deprecated and will be removed in a future version. Use .items instead.\n",
      "  self._init_pool(data, label, cat_features, text_features, embedding_features, pairs, weight, group_id, group_weight, subgroup_id, pairs_weight, baseline, feature_names, thread_count)\n",
      "/Users/tatianabeliaeva/opt/anaconda3/lib/python3.9/site-packages/catboost/core.py:1135: FutureWarning: iteritems is deprecated and will be removed in a future version. Use .items instead.\n",
      "  self._init_pool(data, label, cat_features, text_features, embedding_features, pairs, weight, group_id, group_weight, subgroup_id, pairs_weight, baseline, feature_names, thread_count)\n",
      "/Users/tatianabeliaeva/opt/anaconda3/lib/python3.9/site-packages/catboost/core.py:1135: FutureWarning: iteritems is deprecated and will be removed in a future version. Use .items instead.\n",
      "  self._init_pool(data, label, cat_features, text_features, embedding_features, pairs, weight, group_id, group_weight, subgroup_id, pairs_weight, baseline, feature_names, thread_count)\n"
     ]
    },
    {
     "name": "stderr",
     "output_type": "stream",
     "text": [
      "/Users/tatianabeliaeva/opt/anaconda3/lib/python3.9/site-packages/catboost/core.py:1135: FutureWarning: iteritems is deprecated and will be removed in a future version. Use .items instead.\n",
      "  self._init_pool(data, label, cat_features, text_features, embedding_features, pairs, weight, group_id, group_weight, subgroup_id, pairs_weight, baseline, feature_names, thread_count)\n",
      "/Users/tatianabeliaeva/opt/anaconda3/lib/python3.9/site-packages/catboost/core.py:1135: FutureWarning: iteritems is deprecated and will be removed in a future version. Use .items instead.\n",
      "  self._init_pool(data, label, cat_features, text_features, embedding_features, pairs, weight, group_id, group_weight, subgroup_id, pairs_weight, baseline, feature_names, thread_count)\n",
      "/Users/tatianabeliaeva/opt/anaconda3/lib/python3.9/site-packages/catboost/core.py:1135: FutureWarning: iteritems is deprecated and will be removed in a future version. Use .items instead.\n",
      "  self._init_pool(data, label, cat_features, text_features, embedding_features, pairs, weight, group_id, group_weight, subgroup_id, pairs_weight, baseline, feature_names, thread_count)\n",
      "/Users/tatianabeliaeva/opt/anaconda3/lib/python3.9/site-packages/catboost/core.py:1135: FutureWarning: iteritems is deprecated and will be removed in a future version. Use .items instead.\n",
      "  self._init_pool(data, label, cat_features, text_features, embedding_features, pairs, weight, group_id, group_weight, subgroup_id, pairs_weight, baseline, feature_names, thread_count)\n",
      "/Users/tatianabeliaeva/opt/anaconda3/lib/python3.9/site-packages/catboost/core.py:1135: FutureWarning: iteritems is deprecated and will be removed in a future version. Use .items instead.\n",
      "  self._init_pool(data, label, cat_features, text_features, embedding_features, pairs, weight, group_id, group_weight, subgroup_id, pairs_weight, baseline, feature_names, thread_count)\n",
      "/Users/tatianabeliaeva/opt/anaconda3/lib/python3.9/site-packages/catboost/core.py:1135: FutureWarning: iteritems is deprecated and will be removed in a future version. Use .items instead.\n",
      "  self._init_pool(data, label, cat_features, text_features, embedding_features, pairs, weight, group_id, group_weight, subgroup_id, pairs_weight, baseline, feature_names, thread_count)\n",
      "/Users/tatianabeliaeva/opt/anaconda3/lib/python3.9/site-packages/catboost/core.py:1135: FutureWarning: iteritems is deprecated and will be removed in a future version. Use .items instead.\n",
      "  self._init_pool(data, label, cat_features, text_features, embedding_features, pairs, weight, group_id, group_weight, subgroup_id, pairs_weight, baseline, feature_names, thread_count)\n",
      "/Users/tatianabeliaeva/opt/anaconda3/lib/python3.9/site-packages/catboost/core.py:1135: FutureWarning: iteritems is deprecated and will be removed in a future version. Use .items instead.\n",
      "  self._init_pool(data, label, cat_features, text_features, embedding_features, pairs, weight, group_id, group_weight, subgroup_id, pairs_weight, baseline, feature_names, thread_count)\n",
      "/Users/tatianabeliaeva/opt/anaconda3/lib/python3.9/site-packages/catboost/core.py:1135: FutureWarning: iteritems is deprecated and will be removed in a future version. Use .items instead.\n",
      "  self._init_pool(data, label, cat_features, text_features, embedding_features, pairs, weight, group_id, group_weight, subgroup_id, pairs_weight, baseline, feature_names, thread_count)\n",
      "/Users/tatianabeliaeva/opt/anaconda3/lib/python3.9/site-packages/catboost/core.py:1135: FutureWarning: iteritems is deprecated and will be removed in a future version. Use .items instead.\n",
      "  self._init_pool(data, label, cat_features, text_features, embedding_features, pairs, weight, group_id, group_weight, subgroup_id, pairs_weight, baseline, feature_names, thread_count)\n",
      "/Users/tatianabeliaeva/opt/anaconda3/lib/python3.9/site-packages/catboost/core.py:1135: FutureWarning: iteritems is deprecated and will be removed in a future version. Use .items instead.\n",
      "  self._init_pool(data, label, cat_features, text_features, embedding_features, pairs, weight, group_id, group_weight, subgroup_id, pairs_weight, baseline, feature_names, thread_count)\n"
     ]
    },
    {
     "name": "stdout",
     "output_type": "stream",
     "text": [
      "0:\tlearn: 24.7853023\ttotal: 52.9ms\tremaining: 5.24s\n",
      "10:\tlearn: 19.0299806\ttotal: 64.4ms\tremaining: 521ms\n",
      "20:\tlearn: 17.5579005\ttotal: 78.5ms\tremaining: 295ms\n",
      "30:\tlearn: 16.5477489\ttotal: 93.3ms\tremaining: 208ms\n",
      "40:\tlearn: 15.8543702\ttotal: 108ms\tremaining: 155ms\n",
      "50:\tlearn: 15.2483285\ttotal: 121ms\tremaining: 117ms\n",
      "60:\tlearn: 14.7087016\ttotal: 136ms\tremaining: 87.2ms\n",
      "70:\tlearn: 14.1422752\ttotal: 151ms\tremaining: 61.7ms\n",
      "80:\tlearn: 13.7604762\ttotal: 167ms\tremaining: 39.1ms\n",
      "90:\tlearn: 13.4763818\ttotal: 183ms\tremaining: 18.1ms\n",
      "99:\tlearn: 13.1242647\ttotal: 197ms\tremaining: 0us\n",
      "0:\tlearn: 25.9591105\ttotal: 1.18ms\tremaining: 587ms\n",
      "10:\tlearn: 17.6971912\ttotal: 13.6ms\tremaining: 603ms\n",
      "20:\tlearn: 15.5125448\ttotal: 26.9ms\tremaining: 614ms\n",
      "30:\tlearn: 13.4858537\ttotal: 38.8ms\tremaining: 586ms\n",
      "40:\tlearn: 12.0860466\ttotal: 49.7ms\tremaining: 556ms\n",
      "50:\tlearn: 10.9354433\ttotal: 61.7ms\tremaining: 543ms\n",
      "60:\tlearn: 9.9169794\ttotal: 75ms\tremaining: 540ms\n",
      "70:\tlearn: 9.3890382\ttotal: 86.9ms\tremaining: 525ms\n",
      "80:\tlearn: 8.7458192\ttotal: 100ms\tremaining: 519ms\n",
      "90:\tlearn: 8.0921140\ttotal: 113ms\tremaining: 507ms\n",
      "100:\tlearn: 7.5510903\ttotal: 126ms\tremaining: 496ms\n",
      "110:\tlearn: 7.2152377\ttotal: 138ms\tremaining: 484ms\n",
      "120:\tlearn: 6.8653180\ttotal: 149ms\tremaining: 468ms\n",
      "130:\tlearn: 6.2251803\ttotal: 163ms\tremaining: 458ms\n",
      "140:\tlearn: 5.6964767\ttotal: 174ms\tremaining: 444ms\n",
      "150:\tlearn: 5.4128618\ttotal: 189ms\tremaining: 438ms\n",
      "160:\tlearn: 5.0661794\ttotal: 202ms\tremaining: 424ms\n",
      "170:\tlearn: 4.7289216\ttotal: 213ms\tremaining: 411ms\n",
      "180:\tlearn: 4.3884668\ttotal: 226ms\tremaining: 398ms\n",
      "190:\tlearn: 4.0663960\ttotal: 236ms\tremaining: 382ms\n",
      "200:\tlearn: 3.7634462\ttotal: 251ms\tremaining: 373ms\n",
      "210:\tlearn: 3.5296684\ttotal: 262ms\tremaining: 359ms\n",
      "220:\tlearn: 3.3784696\ttotal: 273ms\tremaining: 345ms\n",
      "230:\tlearn: 3.2063838\ttotal: 284ms\tremaining: 331ms\n",
      "240:\tlearn: 3.0193125\ttotal: 295ms\tremaining: 317ms\n",
      "250:\tlearn: 2.8974568\ttotal: 307ms\tremaining: 305ms\n",
      "260:\tlearn: 2.7364541\ttotal: 318ms\tremaining: 292ms\n",
      "270:\tlearn: 2.5376498\ttotal: 331ms\tremaining: 279ms\n",
      "280:\tlearn: 2.4091573\ttotal: 342ms\tremaining: 267ms\n",
      "290:\tlearn: 2.3316219\ttotal: 354ms\tremaining: 254ms\n",
      "300:\tlearn: 2.2077872\ttotal: 364ms\tremaining: 241ms\n",
      "310:\tlearn: 2.0572830\ttotal: 378ms\tremaining: 229ms\n",
      "320:\tlearn: 1.9398552\ttotal: 388ms\tremaining: 216ms\n",
      "330:\tlearn: 1.8109606\ttotal: 400ms\tremaining: 204ms\n",
      "340:\tlearn: 1.7186645\ttotal: 413ms\tremaining: 193ms\n",
      "350:\tlearn: 1.6321278\ttotal: 425ms\tremaining: 180ms\n",
      "360:\tlearn: 1.5481585\ttotal: 436ms\tremaining: 168ms\n",
      "370:\tlearn: 1.4565234\ttotal: 447ms\tremaining: 156ms\n",
      "380:\tlearn: 1.3693886\ttotal: 458ms\tremaining: 143ms\n",
      "390:\tlearn: 1.2911426\ttotal: 471ms\tremaining: 131ms\n",
      "400:\tlearn: 1.2161875\ttotal: 483ms\tremaining: 119ms\n",
      "410:\tlearn: 1.1508828\ttotal: 494ms\tremaining: 107ms\n",
      "420:\tlearn: 1.0709650\ttotal: 506ms\tremaining: 95ms\n",
      "430:\tlearn: 1.0212768\ttotal: 518ms\tremaining: 83ms\n",
      "440:\tlearn: 0.9686412\ttotal: 531ms\tremaining: 71.1ms\n",
      "450:\tlearn: 0.9186429\ttotal: 543ms\tremaining: 58.9ms\n",
      "460:\tlearn: 0.8822235\ttotal: 553ms\tremaining: 46.8ms\n",
      "470:\tlearn: 0.8336767\ttotal: 565ms\tremaining: 34.8ms\n",
      "480:\tlearn: 0.8026711\ttotal: 576ms\tremaining: 22.7ms\n",
      "490:\tlearn: 0.7559461\ttotal: 587ms\tremaining: 10.8ms\n",
      "499:\tlearn: 0.7248895\ttotal: 597ms\tremaining: 0us\n",
      "0:\tlearn: 29.6137383\ttotal: 3ms\tremaining: 1.5s\n",
      "10:\tlearn: 23.1982582\ttotal: 23.5ms\tremaining: 1.04s\n",
      "20:\tlearn: 22.1804063\ttotal: 42.5ms\tremaining: 969ms\n",
      "30:\tlearn: 21.3993704\ttotal: 63.4ms\tremaining: 960ms\n",
      "40:\tlearn: 20.7539797\ttotal: 85ms\tremaining: 951ms\n",
      "50:\tlearn: 20.2211556\ttotal: 110ms\tremaining: 968ms\n",
      "60:\tlearn: 19.7952491\ttotal: 132ms\tremaining: 946ms\n",
      "70:\tlearn: 19.4996864\ttotal: 154ms\tremaining: 930ms\n",
      "80:\tlearn: 19.1805034\ttotal: 175ms\tremaining: 905ms\n",
      "90:\tlearn: 18.9443407\ttotal: 198ms\tremaining: 889ms\n",
      "100:\tlearn: 18.5847701\ttotal: 231ms\tremaining: 911ms\n",
      "110:\tlearn: 18.3324749\ttotal: 255ms\tremaining: 892ms\n",
      "120:\tlearn: 18.0876217\ttotal: 277ms\tremaining: 867ms\n",
      "130:\tlearn: 17.7644601\ttotal: 303ms\tremaining: 853ms\n",
      "140:\tlearn: 17.5195136\ttotal: 327ms\tremaining: 832ms\n",
      "150:\tlearn: 17.2930989\ttotal: 351ms\tremaining: 812ms\n",
      "160:\tlearn: 17.0890296\ttotal: 386ms\tremaining: 812ms\n",
      "170:\tlearn: 16.8752404\ttotal: 414ms\tremaining: 796ms\n",
      "180:\tlearn: 16.6862973\ttotal: 463ms\tremaining: 816ms\n",
      "190:\tlearn: 16.5361992\ttotal: 489ms\tremaining: 792ms\n",
      "200:\tlearn: 16.3586538\ttotal: 534ms\tremaining: 795ms\n",
      "210:\tlearn: 16.1787795\ttotal: 580ms\tremaining: 794ms\n",
      "220:\tlearn: 16.0106936\ttotal: 604ms\tremaining: 762ms\n",
      "230:\tlearn: 15.8255574\ttotal: 663ms\tremaining: 772ms\n",
      "240:\tlearn: 15.6305656\ttotal: 688ms\tremaining: 739ms\n",
      "250:\tlearn: 15.4783393\ttotal: 732ms\tremaining: 726ms\n",
      "260:\tlearn: 15.3802662\ttotal: 779ms\tremaining: 713ms\n",
      "270:\tlearn: 15.2365429\ttotal: 820ms\tremaining: 693ms\n",
      "280:\tlearn: 15.0884465\ttotal: 867ms\tremaining: 675ms\n",
      "290:\tlearn: 14.9533198\ttotal: 927ms\tremaining: 666ms\n",
      "300:\tlearn: 14.8069553\ttotal: 975ms\tremaining: 644ms\n",
      "310:\tlearn: 14.6836272\ttotal: 1.03s\tremaining: 625ms\n",
      "320:\tlearn: 14.5643956\ttotal: 1.07s\tremaining: 596ms\n",
      "330:\tlearn: 14.4794909\ttotal: 1.14s\tremaining: 580ms\n",
      "340:\tlearn: 14.3423106\ttotal: 1.17s\tremaining: 547ms\n",
      "350:\tlearn: 14.2456849\ttotal: 1.21s\tremaining: 514ms\n",
      "360:\tlearn: 14.1406387\ttotal: 1.25s\tremaining: 481ms\n",
      "370:\tlearn: 14.0027285\ttotal: 1.31s\tremaining: 458ms\n",
      "380:\tlearn: 13.8936941\ttotal: 1.34s\tremaining: 419ms\n",
      "390:\tlearn: 13.7609816\ttotal: 1.38s\tremaining: 385ms\n",
      "400:\tlearn: 13.6039096\ttotal: 1.44s\tremaining: 355ms\n",
      "410:\tlearn: 13.4885427\ttotal: 1.47s\tremaining: 319ms\n",
      "420:\tlearn: 13.3946727\ttotal: 1.53s\tremaining: 288ms\n",
      "430:\tlearn: 13.2853388\ttotal: 1.57s\tremaining: 252ms\n",
      "440:\tlearn: 13.1869497\ttotal: 1.62s\tremaining: 217ms\n",
      "450:\tlearn: 13.0899986\ttotal: 1.7s\tremaining: 184ms\n",
      "460:\tlearn: 13.0002971\ttotal: 1.74s\tremaining: 147ms\n",
      "470:\tlearn: 12.9025124\ttotal: 1.8s\tremaining: 111ms\n",
      "480:\tlearn: 12.8209457\ttotal: 1.84s\tremaining: 72.7ms\n",
      "490:\tlearn: 12.7273148\ttotal: 1.9s\tremaining: 34.8ms\n",
      "499:\tlearn: 12.6317624\ttotal: 1.95s\tremaining: 0us\n",
      "0:\tlearn: 27.2720141\ttotal: 145ms\tremaining: 50.5s\n",
      "10:\tlearn: 14.5157267\ttotal: 1.53s\tremaining: 47.3s\n",
      "20:\tlearn: 11.4939900\ttotal: 2.96s\tremaining: 46.4s\n",
      "30:\tlearn: 8.6524769\ttotal: 4.25s\tremaining: 43.7s\n",
      "40:\tlearn: 6.6666777\ttotal: 5.57s\tremaining: 42s\n",
      "50:\tlearn: 4.9288595\ttotal: 7.08s\tremaining: 41.5s\n",
      "60:\tlearn: 3.7245255\ttotal: 8.56s\tremaining: 40.5s\n",
      "70:\tlearn: 2.8640479\ttotal: 10s\tremaining: 39.4s\n",
      "80:\tlearn: 2.2293464\ttotal: 11.4s\tremaining: 37.8s\n",
      "90:\tlearn: 1.7334500\ttotal: 12.8s\tremaining: 36.3s\n",
      "100:\tlearn: 1.3125961\ttotal: 14.2s\tremaining: 34.9s\n",
      "110:\tlearn: 0.9419974\ttotal: 15.7s\tremaining: 33.7s\n",
      "120:\tlearn: 0.7400770\ttotal: 17.2s\tremaining: 32.6s\n",
      "130:\tlearn: 0.6078441\ttotal: 18.7s\tremaining: 31.3s\n",
      "140:\tlearn: 0.4575440\ttotal: 20.2s\tremaining: 29.9s\n",
      "150:\tlearn: 0.3500255\ttotal: 21.7s\tremaining: 28.6s\n",
      "160:\tlearn: 0.2848396\ttotal: 23.2s\tremaining: 27.2s\n",
      "170:\tlearn: 0.2111535\ttotal: 24.8s\tremaining: 25.9s\n",
      "180:\tlearn: 0.1668930\ttotal: 26.3s\tremaining: 24.6s\n",
      "190:\tlearn: 0.1344523\ttotal: 27.8s\tremaining: 23.2s\n",
      "200:\tlearn: 0.1014946\ttotal: 29.3s\tremaining: 21.7s\n",
      "210:\tlearn: 0.0817024\ttotal: 30.8s\tremaining: 20.3s\n",
      "220:\tlearn: 0.0656977\ttotal: 32.2s\tremaining: 18.8s\n",
      "230:\tlearn: 0.0481201\ttotal: 33.8s\tremaining: 17.4s\n",
      "240:\tlearn: 0.0378627\ttotal: 35.3s\tremaining: 16s\n",
      "250:\tlearn: 0.0290897\ttotal: 36.9s\tremaining: 14.6s\n",
      "260:\tlearn: 0.0232024\ttotal: 38.5s\tremaining: 13.1s\n",
      "270:\tlearn: 0.0177996\ttotal: 40.1s\tremaining: 11.7s\n",
      "280:\tlearn: 0.0135590\ttotal: 41.8s\tremaining: 10.3s\n",
      "290:\tlearn: 0.0105989\ttotal: 43.4s\tremaining: 8.8s\n",
      "300:\tlearn: 0.0080122\ttotal: 45.1s\tremaining: 7.34s\n",
      "310:\tlearn: 0.0066570\ttotal: 46.7s\tremaining: 5.86s\n",
      "320:\tlearn: 0.0053791\ttotal: 48.4s\tremaining: 4.38s\n",
      "330:\tlearn: 0.0042235\ttotal: 50.2s\tremaining: 2.88s\n",
      "340:\tlearn: 0.0033566\ttotal: 52s\tremaining: 1.37s\n",
      "349:\tlearn: 0.0026183\ttotal: 53.7s\tremaining: 0us\n",
      "0:\tlearn: 25.0824714\ttotal: 124ms\tremaining: 1m 1s\n",
      "10:\tlearn: 13.2389847\ttotal: 1.58s\tremaining: 1m 10s\n",
      "20:\tlearn: 9.6431432\ttotal: 2.99s\tremaining: 1m 8s\n",
      "30:\tlearn: 6.3295095\ttotal: 4.45s\tremaining: 1m 7s\n",
      "40:\tlearn: 4.4113955\ttotal: 5.89s\tremaining: 1m 5s\n",
      "50:\tlearn: 3.1749184\ttotal: 7.22s\tremaining: 1m 3s\n",
      "60:\tlearn: 2.2482007\ttotal: 8.55s\tremaining: 1m 1s\n",
      "70:\tlearn: 1.6021969\ttotal: 9.76s\tremaining: 59s\n",
      "80:\tlearn: 1.1434990\ttotal: 11.1s\tremaining: 57.4s\n",
      "90:\tlearn: 0.8887507\ttotal: 12.8s\tremaining: 57.5s\n",
      "100:\tlearn: 0.6273130\ttotal: 14.4s\tremaining: 57s\n",
      "110:\tlearn: 0.4527931\ttotal: 16s\tremaining: 56.1s\n",
      "120:\tlearn: 0.3163862\ttotal: 17.8s\tremaining: 55.7s\n",
      "130:\tlearn: 0.2178838\ttotal: 19.4s\tremaining: 54.8s\n",
      "140:\tlearn: 0.1752344\ttotal: 21s\tremaining: 53.5s\n",
      "150:\tlearn: 0.1285723\ttotal: 22.6s\tremaining: 52.2s\n",
      "160:\tlearn: 0.0962507\ttotal: 24.1s\tremaining: 50.8s\n",
      "170:\tlearn: 0.0755662\ttotal: 25.7s\tremaining: 49.4s\n",
      "180:\tlearn: 0.0576697\ttotal: 27.3s\tremaining: 48.1s\n",
      "190:\tlearn: 0.0369629\ttotal: 28.9s\tremaining: 46.8s\n",
      "200:\tlearn: 0.0286720\ttotal: 30.7s\tremaining: 45.7s\n",
      "210:\tlearn: 0.0211890\ttotal: 32.4s\tremaining: 44.4s\n",
      "220:\tlearn: 0.0151307\ttotal: 34s\tremaining: 43s\n",
      "230:\tlearn: 0.0112537\ttotal: 35.8s\tremaining: 41.7s\n",
      "240:\tlearn: 0.0084365\ttotal: 38s\tremaining: 40.8s\n",
      "250:\tlearn: 0.0062897\ttotal: 39.8s\tremaining: 39.5s\n",
      "260:\tlearn: 0.0048644\ttotal: 41.4s\tremaining: 37.9s\n",
      "270:\tlearn: 0.0034480\ttotal: 42.8s\tremaining: 36.2s\n",
      "280:\tlearn: 0.0027122\ttotal: 44.2s\tremaining: 34.5s\n",
      "290:\tlearn: 0.0020162\ttotal: 45.8s\tremaining: 32.9s\n",
      "300:\tlearn: 0.0015744\ttotal: 47s\tremaining: 31.1s\n",
      "310:\tlearn: 0.0012500\ttotal: 48.6s\tremaining: 29.6s\n",
      "320:\tlearn: 0.0009001\ttotal: 50s\tremaining: 27.9s\n",
      "330:\tlearn: 0.0006840\ttotal: 51.5s\tremaining: 26.3s\n",
      "340:\tlearn: 0.0004963\ttotal: 52.9s\tremaining: 24.6s\n",
      "350:\tlearn: 0.0003769\ttotal: 54.2s\tremaining: 23s\n",
      "360:\tlearn: 0.0002817\ttotal: 55.6s\tremaining: 21.4s\n",
      "370:\tlearn: 0.0002072\ttotal: 57s\tremaining: 19.8s\n",
      "380:\tlearn: 0.0001432\ttotal: 58.4s\tremaining: 18.2s\n",
      "390:\tlearn: 0.0001095\ttotal: 59.9s\tremaining: 16.7s\n",
      "400:\tlearn: 0.0000822\ttotal: 1m 1s\tremaining: 15.2s\n",
      "410:\tlearn: 0.0000623\ttotal: 1m 3s\tremaining: 13.7s\n",
      "420:\tlearn: 0.0000446\ttotal: 1m 5s\tremaining: 12.2s\n",
      "430:\tlearn: 0.0000337\ttotal: 1m 6s\tremaining: 10.7s\n",
      "440:\tlearn: 0.0000251\ttotal: 1m 8s\tremaining: 9.12s\n",
      "450:\tlearn: 0.0000185\ttotal: 1m 9s\tremaining: 7.58s\n",
      "460:\tlearn: 0.0000142\ttotal: 1m 11s\tremaining: 6.03s\n",
      "470:\tlearn: 0.0000107\ttotal: 1m 12s\tremaining: 4.48s\n",
      "480:\tlearn: 0.0000082\ttotal: 1m 14s\tremaining: 2.93s\n",
      "490:\tlearn: 0.0000058\ttotal: 1m 15s\tremaining: 1.39s\n",
      "499:\tlearn: 0.0000044\ttotal: 1m 17s\tremaining: 0us\n",
      "0:\tlearn: 29.0233367\ttotal: 132ms\tremaining: 13.1s\n",
      "10:\tlearn: 23.9716320\ttotal: 1.54s\tremaining: 12.5s\n",
      "20:\tlearn: 20.4799055\ttotal: 2.92s\tremaining: 11s\n",
      "30:\tlearn: 18.0798480\ttotal: 4.32s\tremaining: 9.61s\n",
      "40:\tlearn: 16.3586800\ttotal: 5.78s\tremaining: 8.31s\n",
      "50:\tlearn: 14.8809800\ttotal: 7.25s\tremaining: 6.96s\n",
      "60:\tlearn: 13.6564655\ttotal: 8.98s\tremaining: 5.74s\n",
      "70:\tlearn: 12.7185238\ttotal: 10.7s\tremaining: 4.35s\n",
      "80:\tlearn: 11.8497511\ttotal: 12.4s\tremaining: 2.9s\n",
      "90:\tlearn: 11.1397057\ttotal: 14.1s\tremaining: 1.4s\n",
      "99:\tlearn: 10.6038588\ttotal: 15.8s\tremaining: 0us\n",
      "0:\tlearn: 32.6149128\ttotal: 196ms\tremaining: 19.4s\n",
      "10:\tlearn: 26.8080110\ttotal: 2.13s\tremaining: 17.2s\n",
      "20:\tlearn: 23.2137616\ttotal: 4.31s\tremaining: 16.2s\n",
      "30:\tlearn: 20.8131138\ttotal: 6.4s\tremaining: 14.3s\n",
      "40:\tlearn: 19.1193086\ttotal: 8.11s\tremaining: 11.7s\n",
      "50:\tlearn: 17.8928975\ttotal: 10s\tremaining: 9.61s\n",
      "60:\tlearn: 16.9140135\ttotal: 11.9s\tremaining: 7.63s\n",
      "70:\tlearn: 16.1295692\ttotal: 13.8s\tremaining: 5.64s\n",
      "80:\tlearn: 15.4550766\ttotal: 15.6s\tremaining: 3.66s\n",
      "90:\tlearn: 14.8306950\ttotal: 17.8s\tremaining: 1.76s\n",
      "99:\tlearn: 14.3909652\ttotal: 19.4s\tremaining: 0us\n",
      "0:\tlearn: 29.1417655\ttotal: 1.32ms\tremaining: 263ms\n",
      "10:\tlearn: 25.3103879\ttotal: 26.4ms\tremaining: 453ms\n",
      "20:\tlearn: 23.0459641\ttotal: 74.3ms\tremaining: 633ms\n",
      "30:\tlearn: 21.3372689\ttotal: 165ms\tremaining: 899ms\n",
      "40:\tlearn: 20.5146790\ttotal: 199ms\tremaining: 772ms\n",
      "50:\tlearn: 19.6307978\ttotal: 227ms\tremaining: 663ms\n",
      "60:\tlearn: 18.9698812\ttotal: 315ms\tremaining: 717ms\n",
      "70:\tlearn: 18.4740974\ttotal: 344ms\tremaining: 625ms\n",
      "80:\tlearn: 18.0826884\ttotal: 499ms\tremaining: 733ms\n",
      "90:\tlearn: 17.7249728\ttotal: 573ms\tremaining: 686ms\n",
      "100:\tlearn: 17.4034448\ttotal: 596ms\tremaining: 584ms\n",
      "110:\tlearn: 17.1001275\ttotal: 647ms\tremaining: 519ms\n",
      "120:\tlearn: 16.8065756\ttotal: 777ms\tremaining: 507ms\n",
      "130:\tlearn: 16.5875864\ttotal: 867ms\tremaining: 457ms\n",
      "140:\tlearn: 16.3738338\ttotal: 943ms\tremaining: 394ms\n",
      "150:\tlearn: 16.1596928\ttotal: 1.03s\tremaining: 333ms\n",
      "160:\tlearn: 15.9348602\ttotal: 1.04s\tremaining: 253ms\n",
      "170:\tlearn: 15.7640903\ttotal: 1.07s\tremaining: 181ms\n",
      "180:\tlearn: 15.5852743\ttotal: 1.11s\tremaining: 117ms\n",
      "190:\tlearn: 15.3694349\ttotal: 1.17s\tremaining: 55.2ms\n",
      "199:\tlearn: 15.2254944\ttotal: 1.22s\tremaining: 0us\n",
      "0:\tlearn: 29.0793849\ttotal: 1.61ms\tremaining: 321ms\n",
      "10:\tlearn: 24.9151459\ttotal: 52.6ms\tremaining: 904ms\n",
      "20:\tlearn: 22.7947578\ttotal: 73.8ms\tremaining: 629ms\n",
      "30:\tlearn: 21.3812860\ttotal: 123ms\tremaining: 671ms\n",
      "40:\tlearn: 20.5070947\ttotal: 186ms\tremaining: 720ms\n",
      "50:\tlearn: 19.9162843\ttotal: 232ms\tremaining: 679ms\n",
      "60:\tlearn: 19.5089562\ttotal: 261ms\tremaining: 595ms\n",
      "70:\tlearn: 19.1576349\ttotal: 310ms\tremaining: 563ms\n",
      "80:\tlearn: 18.8439026\ttotal: 373ms\tremaining: 548ms\n",
      "90:\tlearn: 18.6070553\ttotal: 426ms\tremaining: 510ms\n",
      "100:\tlearn: 18.3848293\ttotal: 451ms\tremaining: 443ms\n",
      "110:\tlearn: 18.1949879\ttotal: 506ms\tremaining: 406ms\n",
      "120:\tlearn: 17.9806934\ttotal: 565ms\tremaining: 369ms\n",
      "130:\tlearn: 17.7976698\ttotal: 582ms\tremaining: 306ms\n",
      "140:\tlearn: 17.6376197\ttotal: 633ms\tremaining: 265ms\n",
      "150:\tlearn: 17.4542143\ttotal: 703ms\tremaining: 228ms\n",
      "160:\tlearn: 17.2926022\ttotal: 740ms\tremaining: 179ms\n",
      "170:\tlearn: 17.0868400\ttotal: 780ms\tremaining: 132ms\n",
      "180:\tlearn: 16.9253540\ttotal: 848ms\tremaining: 89ms\n",
      "190:\tlearn: 16.7925615\ttotal: 861ms\tremaining: 40.6ms\n",
      "199:\tlearn: 16.6475762\ttotal: 878ms\tremaining: 0us\n",
      "0:\tlearn: 30.3326795\ttotal: 1.89ms\tremaining: 377ms\n",
      "10:\tlearn: 26.4648361\ttotal: 30.4ms\tremaining: 523ms\n",
      "20:\tlearn: 24.3238955\ttotal: 108ms\tremaining: 924ms\n",
      "30:\tlearn: 22.8954155\ttotal: 142ms\tremaining: 776ms\n",
      "40:\tlearn: 22.0012620\ttotal: 222ms\tremaining: 862ms\n",
      "50:\tlearn: 21.3362936\ttotal: 285ms\tremaining: 834ms\n",
      "60:\tlearn: 20.8935663\ttotal: 344ms\tremaining: 784ms\n",
      "70:\tlearn: 20.5449786\ttotal: 391ms\tremaining: 710ms\n",
      "80:\tlearn: 20.2446992\ttotal: 439ms\tremaining: 646ms\n",
      "90:\tlearn: 20.0484346\ttotal: 517ms\tremaining: 619ms\n",
      "100:\tlearn: 19.8576920\ttotal: 573ms\tremaining: 561ms\n",
      "110:\tlearn: 19.6820659\ttotal: 661ms\tremaining: 530ms\n",
      "120:\tlearn: 19.4900448\ttotal: 718ms\tremaining: 468ms\n",
      "130:\tlearn: 19.3523077\ttotal: 777ms\tremaining: 409ms\n",
      "140:\tlearn: 19.2205274\ttotal: 877ms\tremaining: 367ms\n",
      "150:\tlearn: 19.0832108\ttotal: 960ms\tremaining: 312ms\n",
      "160:\tlearn: 18.9595386\ttotal: 990ms\tremaining: 240ms\n",
      "170:\tlearn: 18.8466671\ttotal: 1.02s\tremaining: 173ms\n",
      "180:\tlearn: 18.7209485\ttotal: 1.07s\tremaining: 112ms\n",
      "190:\tlearn: 18.6211259\ttotal: 1.16s\tremaining: 54.8ms\n",
      "199:\tlearn: 18.5239908\ttotal: 1.21s\tremaining: 0us\n",
      "0:\tlearn: 32.2733396\ttotal: 2.18ms\tremaining: 433ms\n",
      "10:\tlearn: 28.1802237\ttotal: 95.4ms\tremaining: 1.64s\n",
      "20:\tlearn: 25.8381030\ttotal: 148ms\tremaining: 1.26s\n",
      "30:\tlearn: 24.1990771\ttotal: 214ms\tremaining: 1.17s\n",
      "40:\tlearn: 23.2531965\ttotal: 320ms\tremaining: 1.24s\n",
      "50:\tlearn: 22.5900163\ttotal: 423ms\tremaining: 1.24s\n",
      "60:\tlearn: 22.1541983\ttotal: 461ms\tremaining: 1.05s\n",
      "70:\tlearn: 21.8746464\ttotal: 494ms\tremaining: 897ms\n",
      "80:\tlearn: 21.6186263\ttotal: 606ms\tremaining: 891ms\n",
      "90:\tlearn: 21.4076170\ttotal: 723ms\tremaining: 866ms\n",
      "100:\tlearn: 21.2275297\ttotal: 806ms\tremaining: 790ms\n",
      "110:\tlearn: 21.0589161\ttotal: 855ms\tremaining: 686ms\n",
      "120:\tlearn: 20.8904614\ttotal: 922ms\tremaining: 602ms\n",
      "130:\tlearn: 20.7425361\ttotal: 1.01s\tremaining: 533ms\n",
      "140:\tlearn: 20.6009574\ttotal: 1.1s\tremaining: 460ms\n",
      "150:\tlearn: 20.4782003\ttotal: 1.19s\tremaining: 387ms\n",
      "160:\tlearn: 20.3587110\ttotal: 1.25s\tremaining: 303ms\n",
      "170:\tlearn: 20.2282382\ttotal: 1.35s\tremaining: 228ms\n",
      "180:\tlearn: 20.0967788\ttotal: 1.4s\tremaining: 147ms\n",
      "190:\tlearn: 19.9972655\ttotal: 1.46s\tremaining: 68.8ms\n",
      "199:\tlearn: 19.9008952\ttotal: 1.58s\tremaining: 0us\n",
      "0:\tlearn: 33.0695166\ttotal: 2.78ms\tremaining: 554ms\n",
      "10:\tlearn: 28.7949926\ttotal: 38.1ms\tremaining: 655ms\n",
      "20:\tlearn: 26.4460963\ttotal: 86.1ms\tremaining: 734ms\n",
      "30:\tlearn: 25.0060871\ttotal: 178ms\tremaining: 970ms\n",
      "40:\tlearn: 24.1280778\ttotal: 237ms\tremaining: 919ms\n",
      "50:\tlearn: 23.5443845\ttotal: 407ms\tremaining: 1.19s\n",
      "60:\tlearn: 23.1113849\ttotal: 505ms\tremaining: 1.15s\n",
      "70:\tlearn: 22.8042029\ttotal: 582ms\tremaining: 1.06s\n"
     ]
    },
    {
     "name": "stdout",
     "output_type": "stream",
     "text": [
      "0:\tlearn: 37.7947805\ttotal: 88.4ms\tremaining: 44.1s\n",
      "10:\tlearn: 31.1517165\ttotal: 460ms\tremaining: 20.4s\n",
      "20:\tlearn: 27.0739623\ttotal: 821ms\tremaining: 18.7s\n",
      "30:\tlearn: 24.5351288\ttotal: 1.2s\tremaining: 18.2s\n",
      "40:\tlearn: 22.8779028\ttotal: 1.58s\tremaining: 17.8s\n",
      "50:\tlearn: 21.6297792\ttotal: 2.02s\tremaining: 17.8s\n",
      "60:\tlearn: 20.7845376\ttotal: 2.49s\tremaining: 17.9s\n",
      "70:\tlearn: 20.1164198\ttotal: 2.98s\tremaining: 18s\n",
      "80:\tlearn: 19.5124627\ttotal: 3.4s\tremaining: 17.6s\n",
      "90:\tlearn: 18.9594670\ttotal: 3.99s\tremaining: 18s\n",
      "100:\tlearn: 18.5124476\ttotal: 4.5s\tremaining: 17.8s\n",
      "110:\tlearn: 18.0222205\ttotal: 5.18s\tremaining: 18.2s\n",
      "120:\tlearn: 17.6684218\ttotal: 5.79s\tremaining: 18.1s\n",
      "130:\tlearn: 17.2444832\ttotal: 6.21s\tremaining: 17.5s\n",
      "140:\tlearn: 16.8390605\ttotal: 6.59s\tremaining: 16.8s\n",
      "150:\tlearn: 16.5971874\ttotal: 7.02s\tremaining: 16.2s\n",
      "160:\tlearn: 16.2607926\ttotal: 7.4s\tremaining: 15.6s\n",
      "170:\tlearn: 15.9142561\ttotal: 7.78s\tremaining: 15s\n",
      "180:\tlearn: 15.4915930\ttotal: 8.17s\tremaining: 14.4s\n",
      "190:\tlearn: 15.1834212\ttotal: 8.56s\tremaining: 13.8s\n",
      "200:\tlearn: 14.8258900\ttotal: 9.17s\tremaining: 13.6s\n",
      "210:\tlearn: 14.5468265\ttotal: 9.76s\tremaining: 13.4s\n",
      "220:\tlearn: 14.2251552\ttotal: 10.4s\tremaining: 13.1s\n",
      "230:\tlearn: 13.7818719\ttotal: 11s\tremaining: 12.9s\n",
      "240:\tlearn: 13.3816040\ttotal: 11.5s\tremaining: 12.4s\n",
      "250:\tlearn: 13.0597078\ttotal: 12s\tremaining: 11.9s\n",
      "260:\tlearn: 12.7355132\ttotal: 12.4s\tremaining: 11.3s\n",
      "270:\tlearn: 12.3747840\ttotal: 12.8s\tremaining: 10.9s\n",
      "280:\tlearn: 12.0505297\ttotal: 13.3s\tremaining: 10.4s\n",
      "290:\tlearn: 11.7406545\ttotal: 13.7s\tremaining: 9.85s\n",
      "300:\tlearn: 11.4236855\ttotal: 14.1s\tremaining: 9.32s\n",
      "310:\tlearn: 11.1235241\ttotal: 14.5s\tremaining: 8.84s\n",
      "320:\tlearn: 10.8428700\ttotal: 15s\tremaining: 8.34s\n",
      "330:\tlearn: 10.5594402\ttotal: 15.3s\tremaining: 7.83s\n",
      "340:\tlearn: 10.3018654\ttotal: 15.7s\tremaining: 7.34s\n",
      "350:\tlearn: 10.1053128\ttotal: 16.1s\tremaining: 6.84s\n",
      "360:\tlearn: 9.8633280\ttotal: 16.5s\tremaining: 6.35s\n",
      "370:\tlearn: 9.6194849\ttotal: 16.8s\tremaining: 5.86s\n",
      "380:\tlearn: 9.4011489\ttotal: 17.2s\tremaining: 5.38s\n",
      "390:\tlearn: 9.1733953\ttotal: 17.6s\tremaining: 4.9s\n",
      "400:\tlearn: 8.9530756\ttotal: 17.9s\tremaining: 4.42s\n",
      "410:\tlearn: 8.7186474\ttotal: 18.3s\tremaining: 3.96s\n",
      "420:\tlearn: 8.5216751\ttotal: 18.6s\tremaining: 3.49s\n",
      "430:\tlearn: 8.2967003\ttotal: 19s\tremaining: 3.04s\n",
      "440:\tlearn: 8.1202677\ttotal: 19.3s\tremaining: 2.58s\n",
      "450:\tlearn: 7.9213758\ttotal: 19.7s\tremaining: 2.13s\n",
      "460:\tlearn: 7.7727203\ttotal: 20s\tremaining: 1.69s\n",
      "470:\tlearn: 7.6164300\ttotal: 20.4s\tremaining: 1.26s\n",
      "480:\tlearn: 7.4277825\ttotal: 20.8s\tremaining: 821ms\n",
      "490:\tlearn: 7.2930887\ttotal: 21.1s\tremaining: 387ms\n",
      "499:\tlearn: 7.1096764\ttotal: 21.5s\tremaining: 0us\n",
      "RMSE для лучшей модели CatBoostRegressor: 24.32,\n",
      "Лучшая модель CatBoostRegressor с параметрами: {'learning_rate': 0.05, 'iterations': 500, 'depth': 10}\n"
     ]
    }
   ],
   "source": [
    "#CatBoostRegressor\n",
    "model_CBR = CatBoostRegressor(random_state=12345)\n",
    "\n",
    "parameters = {'depth'         : [1,10,2],\n",
    "              'learning_rate' : [0.05, 0.1, 0.5],\n",
    "              'iterations'    : [100, 200, 350, 500]\n",
    "                 }\n",
    "model_Grid = RandomizedSearchCV(\n",
    "    model_CBR,\n",
    "    parameters,\n",
    "    scoring = make_scorer(rmse_count, greater_is_better=False),\n",
    "    cv=time_split,\n",
    "    n_jobs=-1)\n",
    "model_Grid.fit(features_train, target_train, verbose=10)\n",
    "print(f'RMSE для лучшей модели CatBoostRegressor: {-model_Grid.best_score_:.2f},\\n\\\n",
    "Лучшая модель CatBoostRegressor с параметрами: {model_Grid.best_params_}')\n",
    "rmse_CBR = model_Grid.best_score_\n",
    "\n",
    "rmse_train.append(abs(rmse_CBR))\n",
    "model_params.append(model_Grid.best_params_)"
   ]
  },
  {
   "cell_type": "markdown",
   "metadata": {},
   "source": [
    "Сравним получившиеся результаты"
   ]
  },
  {
   "cell_type": "code",
   "execution_count": 21,
   "metadata": {
    "ExecuteTime": {
     "end_time": "2023-12-12T08:56:09.629087Z",
     "start_time": "2023-12-12T08:56:09.620002Z"
    }
   },
   "outputs": [],
   "source": [
    "list_of_models = ['LinearRegression', 'DecisionTreeRegressor', 'RandomForestRegressor','CatBoostRegressor']\n",
    "result = pd.DataFrame({'Модель': list_of_models, 'параметры модели': model_params,\n",
    "                       'rmse для тренировочной выборки': rmse_train})"
   ]
  },
  {
   "cell_type": "code",
   "execution_count": 22,
   "metadata": {
    "ExecuteTime": {
     "end_time": "2023-12-12T08:56:09.644951Z",
     "start_time": "2023-12-12T08:56:09.631771Z"
    }
   },
   "outputs": [
    {
     "data": {
      "text/html": [
       "<div>\n",
       "<style scoped>\n",
       "    .dataframe tbody tr th:only-of-type {\n",
       "        vertical-align: middle;\n",
       "    }\n",
       "\n",
       "    .dataframe tbody tr th {\n",
       "        vertical-align: top;\n",
       "    }\n",
       "\n",
       "    .dataframe thead th {\n",
       "        text-align: right;\n",
       "    }\n",
       "</style>\n",
       "<table border=\"1\" class=\"dataframe\">\n",
       "  <thead>\n",
       "    <tr style=\"text-align: right;\">\n",
       "      <th></th>\n",
       "      <th>Модель</th>\n",
       "      <th>параметры модели</th>\n",
       "      <th>rmse для тренировочной выборки</th>\n",
       "    </tr>\n",
       "  </thead>\n",
       "  <tbody>\n",
       "    <tr>\n",
       "      <th>0</th>\n",
       "      <td>LinearRegression</td>\n",
       "      <td></td>\n",
       "      <td>25.578033</td>\n",
       "    </tr>\n",
       "    <tr>\n",
       "      <th>1</th>\n",
       "      <td>DecisionTreeRegressor</td>\n",
       "      <td>{'max_depth': 4, 'min_samples_leaf': 7}</td>\n",
       "      <td>28.747518</td>\n",
       "    </tr>\n",
       "    <tr>\n",
       "      <th>2</th>\n",
       "      <td>RandomForestRegressor</td>\n",
       "      <td>{'max_depth': 8, 'min_samples_leaf': 6, 'n_est...</td>\n",
       "      <td>25.680692</td>\n",
       "    </tr>\n",
       "    <tr>\n",
       "      <th>3</th>\n",
       "      <td>CatBoostRegressor</td>\n",
       "      <td>{'learning_rate': 0.05, 'iterations': 500, 'de...</td>\n",
       "      <td>24.316867</td>\n",
       "    </tr>\n",
       "  </tbody>\n",
       "</table>\n",
       "</div>"
      ],
      "text/plain": [
       "                  Модель                                   параметры модели  \\\n",
       "0       LinearRegression                                                      \n",
       "1  DecisionTreeRegressor            {'max_depth': 4, 'min_samples_leaf': 7}   \n",
       "2  RandomForestRegressor  {'max_depth': 8, 'min_samples_leaf': 6, 'n_est...   \n",
       "3      CatBoostRegressor  {'learning_rate': 0.05, 'iterations': 500, 'de...   \n",
       "\n",
       "   rmse для тренировочной выборки  \n",
       "0                       25.578033  \n",
       "1                       28.747518  \n",
       "2                       25.680692  \n",
       "3                       24.316867  "
      ]
     },
     "execution_count": 22,
     "metadata": {},
     "output_type": "execute_result"
    },
    {
     "name": "stdout",
     "output_type": "stream",
     "text": [
      "0:\tlearn: 27.8576338\ttotal: 55ms\tremaining: 5.44s\n",
      "10:\tlearn: 21.4113389\ttotal: 72.5ms\tremaining: 587ms\n",
      "20:\tlearn: 20.1869154\ttotal: 89.2ms\tremaining: 336ms\n",
      "30:\tlearn: 19.3930359\ttotal: 106ms\tremaining: 237ms\n",
      "40:\tlearn: 18.8038213\ttotal: 126ms\tremaining: 181ms\n",
      "50:\tlearn: 18.3361718\ttotal: 150ms\tremaining: 144ms\n",
      "60:\tlearn: 17.8276881\ttotal: 169ms\tremaining: 108ms\n",
      "70:\tlearn: 17.2932554\ttotal: 188ms\tremaining: 76.8ms\n",
      "80:\tlearn: 17.0230208\ttotal: 208ms\tremaining: 48.8ms\n",
      "90:\tlearn: 16.6092662\ttotal: 233ms\tremaining: 23.1ms\n",
      "99:\tlearn: 16.3664747\ttotal: 249ms\tremaining: 0us\n",
      "0:\tlearn: 26.6277495\ttotal: 1.64ms\tremaining: 820ms\n",
      "10:\tlearn: 20.4942845\ttotal: 19.9ms\tremaining: 884ms\n",
      "20:\tlearn: 19.3746965\ttotal: 38.1ms\tremaining: 868ms\n",
      "30:\tlearn: 18.6411943\ttotal: 53.3ms\tremaining: 807ms\n",
      "40:\tlearn: 17.9963640\ttotal: 71.5ms\tremaining: 800ms\n",
      "50:\tlearn: 17.6247811\ttotal: 93.4ms\tremaining: 823ms\n",
      "60:\tlearn: 17.0649765\ttotal: 111ms\tremaining: 802ms\n",
      "70:\tlearn: 16.6169071\ttotal: 130ms\tremaining: 787ms\n",
      "80:\tlearn: 16.1596704\ttotal: 149ms\tremaining: 768ms\n",
      "90:\tlearn: 15.8600849\ttotal: 166ms\tremaining: 744ms\n",
      "100:\tlearn: 15.5970199\ttotal: 183ms\tremaining: 722ms\n",
      "110:\tlearn: 15.2124156\ttotal: 203ms\tremaining: 710ms\n",
      "120:\tlearn: 14.8260250\ttotal: 220ms\tremaining: 688ms\n",
      "130:\tlearn: 14.5695854\ttotal: 236ms\tremaining: 664ms\n",
      "140:\tlearn: 14.3229577\ttotal: 253ms\tremaining: 643ms\n",
      "150:\tlearn: 14.0789344\ttotal: 270ms\tremaining: 624ms\n",
      "160:\tlearn: 13.7986994\ttotal: 290ms\tremaining: 611ms\n",
      "170:\tlearn: 13.5690191\ttotal: 307ms\tremaining: 591ms\n",
      "180:\tlearn: 13.3191629\ttotal: 324ms\tremaining: 570ms\n",
      "190:\tlearn: 13.1029600\ttotal: 341ms\tremaining: 552ms\n",
      "200:\tlearn: 12.9241078\ttotal: 360ms\tremaining: 535ms\n",
      "210:\tlearn: 12.7689840\ttotal: 376ms\tremaining: 515ms\n",
      "220:\tlearn: 12.5300224\ttotal: 393ms\tremaining: 496ms\n",
      "230:\tlearn: 12.3177632\ttotal: 409ms\tremaining: 477ms\n",
      "240:\tlearn: 12.1438793\ttotal: 425ms\tremaining: 457ms\n",
      "250:\tlearn: 11.9050063\ttotal: 448ms\tremaining: 444ms\n",
      "260:\tlearn: 11.6897865\ttotal: 466ms\tremaining: 426ms\n",
      "270:\tlearn: 11.5196695\ttotal: 483ms\tremaining: 409ms\n",
      "280:\tlearn: 11.3929550\ttotal: 500ms\tremaining: 389ms\n",
      "290:\tlearn: 11.2121493\ttotal: 517ms\tremaining: 371ms\n",
      "300:\tlearn: 11.0773641\ttotal: 533ms\tremaining: 353ms\n",
      "310:\tlearn: 10.9293649\ttotal: 554ms\tremaining: 336ms\n",
      "320:\tlearn: 10.7241848\ttotal: 569ms\tremaining: 317ms\n",
      "330:\tlearn: 10.6337350\ttotal: 590ms\tremaining: 301ms\n",
      "340:\tlearn: 10.4503128\ttotal: 610ms\tremaining: 284ms\n",
      "350:\tlearn: 10.3300335\ttotal: 630ms\tremaining: 268ms\n",
      "360:\tlearn: 10.2350498\ttotal: 646ms\tremaining: 249ms\n",
      "370:\tlearn: 10.1296665\ttotal: 665ms\tremaining: 231ms\n",
      "380:\tlearn: 9.9476800\ttotal: 683ms\tremaining: 213ms\n",
      "390:\tlearn: 9.8204419\ttotal: 703ms\tremaining: 196ms\n",
      "400:\tlearn: 9.7036043\ttotal: 722ms\tremaining: 178ms\n",
      "410:\tlearn: 9.5855507\ttotal: 740ms\tremaining: 160ms\n",
      "420:\tlearn: 9.4355004\ttotal: 757ms\tremaining: 142ms\n",
      "430:\tlearn: 9.3276866\ttotal: 774ms\tremaining: 124ms\n",
      "440:\tlearn: 9.2165908\ttotal: 792ms\tremaining: 106ms\n",
      "450:\tlearn: 9.0887916\ttotal: 826ms\tremaining: 89.7ms\n",
      "460:\tlearn: 9.0050879\ttotal: 850ms\tremaining: 71.9ms\n",
      "470:\tlearn: 8.9283242\ttotal: 871ms\tremaining: 53.7ms\n",
      "480:\tlearn: 8.8493999\ttotal: 888ms\tremaining: 35.1ms\n",
      "490:\tlearn: 8.7708433\ttotal: 907ms\tremaining: 16.6ms\n",
      "499:\tlearn: 8.6682189\ttotal: 925ms\tremaining: 0us\n",
      "0:\tlearn: 24.4706245\ttotal: 61.6ms\tremaining: 21.5s\n",
      "10:\tlearn: 10.1667011\ttotal: 890ms\tremaining: 27.4s\n",
      "20:\tlearn: 6.9573240\ttotal: 1.94s\tremaining: 30.3s\n",
      "30:\tlearn: 4.7815392\ttotal: 3.11s\tremaining: 32s\n",
      "40:\tlearn: 3.1929913\ttotal: 4.36s\tremaining: 32.8s\n",
      "50:\tlearn: 1.9272584\ttotal: 5.61s\tremaining: 32.9s\n",
      "60:\tlearn: 1.3023035\ttotal: 6.79s\tremaining: 32.2s\n",
      "70:\tlearn: 0.7810823\ttotal: 8s\tremaining: 31.4s\n",
      "80:\tlearn: 0.4963940\ttotal: 9.32s\tremaining: 31s\n",
      "90:\tlearn: 0.3242025\ttotal: 10.7s\tremaining: 30.6s\n",
      "100:\tlearn: 0.1950349\ttotal: 12s\tremaining: 29.5s\n",
      "110:\tlearn: 0.1335761\ttotal: 13.2s\tremaining: 28.4s\n",
      "120:\tlearn: 0.0904216\ttotal: 14.4s\tremaining: 27.2s\n",
      "130:\tlearn: 0.0633019\ttotal: 15.5s\tremaining: 25.9s\n",
      "140:\tlearn: 0.0382865\ttotal: 16.7s\tremaining: 24.8s\n",
      "150:\tlearn: 0.0250216\ttotal: 18s\tremaining: 23.8s\n",
      "160:\tlearn: 0.0173935\ttotal: 19.3s\tremaining: 22.6s\n",
      "170:\tlearn: 0.0104347\ttotal: 20.5s\tremaining: 21.5s\n",
      "180:\tlearn: 0.0072723\ttotal: 21.8s\tremaining: 20.4s\n",
      "190:\tlearn: 0.0048676\ttotal: 23.2s\tremaining: 19.3s\n",
      "200:\tlearn: 0.0032524\ttotal: 24.4s\tremaining: 18.1s\n",
      "210:\tlearn: 0.0020804\ttotal: 25.6s\tremaining: 16.9s\n",
      "220:\tlearn: 0.0014707\ttotal: 26.9s\tremaining: 15.7s\n",
      "230:\tlearn: 0.0009610\ttotal: 28.1s\tremaining: 14.5s\n",
      "240:\tlearn: 0.0006191\ttotal: 29.3s\tremaining: 13.2s\n",
      "250:\tlearn: 0.0003899\ttotal: 30.6s\tremaining: 12.1s\n",
      "260:\tlearn: 0.0002732\ttotal: 31.9s\tremaining: 10.9s\n",
      "270:\tlearn: 0.0002080\ttotal: 33s\tremaining: 9.63s\n",
      "280:\tlearn: 0.0001371\ttotal: 34.3s\tremaining: 8.41s\n",
      "290:\tlearn: 0.0000954\ttotal: 35.7s\tremaining: 7.23s\n",
      "300:\tlearn: 0.0000648\ttotal: 36.9s\tremaining: 6.01s\n",
      "310:\tlearn: 0.0000438\ttotal: 38.4s\tremaining: 4.81s\n",
      "320:\tlearn: 0.0000316\ttotal: 39.8s\tremaining: 3.59s\n",
      "330:\tlearn: 0.0000195\ttotal: 41.1s\tremaining: 2.36s\n",
      "340:\tlearn: 0.0000130\ttotal: 42.5s\tremaining: 1.12s\n",
      "349:\tlearn: 0.0000094\ttotal: 43.8s\tremaining: 0us\n",
      "0:\tlearn: 28.7718329\ttotal: 885us\tremaining: 176ms\n",
      "10:\tlearn: 24.2626708\ttotal: 8.24ms\tremaining: 142ms\n",
      "20:\tlearn: 21.8896855\ttotal: 18.4ms\tremaining: 157ms\n",
      "30:\tlearn: 20.6471227\ttotal: 39.4ms\tremaining: 215ms\n",
      "40:\tlearn: 19.8466722\ttotal: 65.1ms\tremaining: 252ms\n",
      "50:\tlearn: 19.2140806\ttotal: 96ms\tremaining: 281ms\n",
      "60:\tlearn: 18.7654698\ttotal: 113ms\tremaining: 258ms\n",
      "70:\tlearn: 18.4005759\ttotal: 120ms\tremaining: 218ms\n",
      "80:\tlearn: 18.0809043\ttotal: 150ms\tremaining: 221ms\n",
      "90:\tlearn: 17.8435206\ttotal: 165ms\tremaining: 198ms\n",
      "100:\tlearn: 17.6109924\ttotal: 176ms\tremaining: 173ms\n",
      "110:\tlearn: 17.3662845\ttotal: 183ms\tremaining: 147ms\n",
      "120:\tlearn: 17.1726728\ttotal: 196ms\tremaining: 128ms\n",
      "130:\tlearn: 16.9787423\ttotal: 214ms\tremaining: 113ms\n",
      "140:\tlearn: 16.8007284\ttotal: 221ms\tremaining: 92.3ms\n",
      "150:\tlearn: 16.6542531\ttotal: 258ms\tremaining: 83.6ms\n",
      "160:\tlearn: 16.5302309\ttotal: 292ms\tremaining: 70.7ms\n",
      "170:\tlearn: 16.4168521\ttotal: 313ms\tremaining: 53.1ms\n",
      "180:\tlearn: 16.3016353\ttotal: 329ms\tremaining: 34.5ms\n",
      "190:\tlearn: 16.1635811\ttotal: 346ms\tremaining: 16.3ms\n",
      "199:\tlearn: 16.0636814\ttotal: 351ms\tremaining: 0us\n",
      "0:\tlearn: 28.6985139\ttotal: 1.1ms\tremaining: 219ms\n",
      "10:\tlearn: 24.1683801\ttotal: 15.4ms\tremaining: 265ms\n",
      "20:\tlearn: 21.9286423\ttotal: 23.7ms\tremaining: 202ms\n",
      "30:\tlearn: 20.7810637\ttotal: 39.5ms\tremaining: 215ms\n",
      "40:\tlearn: 20.1411923\ttotal: 48.2ms\tremaining: 187ms\n",
      "50:\tlearn: 19.7145217\ttotal: 97.4ms\tremaining: 285ms\n",
      "60:\tlearn: 19.4017100\ttotal: 139ms\tremaining: 317ms\n",
      "70:\tlearn: 19.1303523\ttotal: 146ms\tremaining: 266ms\n",
      "80:\tlearn: 18.8900888\ttotal: 165ms\tremaining: 242ms\n",
      "90:\tlearn: 18.6727537\ttotal: 180ms\tremaining: 215ms\n",
      "100:\tlearn: 18.4973012\ttotal: 201ms\tremaining: 197ms\n",
      "110:\tlearn: 18.3476345\ttotal: 218ms\tremaining: 175ms\n",
      "120:\tlearn: 18.1844892\ttotal: 261ms\tremaining: 171ms\n",
      "130:\tlearn: 18.0449548\ttotal: 330ms\tremaining: 174ms\n",
      "140:\tlearn: 17.9111560\ttotal: 353ms\tremaining: 148ms\n",
      "150:\tlearn: 17.7854011\ttotal: 373ms\tremaining: 121ms\n",
      "160:\tlearn: 17.6811333\ttotal: 451ms\tremaining: 109ms\n",
      "170:\tlearn: 17.5962892\ttotal: 478ms\tremaining: 81.1ms\n",
      "180:\tlearn: 17.4935148\ttotal: 503ms\tremaining: 52.8ms\n",
      "190:\tlearn: 17.4105924\ttotal: 525ms\tremaining: 24.7ms\n",
      "199:\tlearn: 17.3177516\ttotal: 532ms\tremaining: 0us\n",
      "0:\tlearn: 28.7769957\ttotal: 1.01ms\tremaining: 201ms\n",
      "10:\tlearn: 24.5399130\ttotal: 45.7ms\tremaining: 785ms\n",
      "20:\tlearn: 22.4881851\ttotal: 86.3ms\tremaining: 736ms\n",
      "30:\tlearn: 21.2538943\ttotal: 103ms\tremaining: 559ms\n",
      "40:\tlearn: 20.5688269\ttotal: 113ms\tremaining: 436ms\n",
      "50:\tlearn: 20.1716641\ttotal: 164ms\tremaining: 479ms\n",
      "60:\tlearn: 19.8821606\ttotal: 177ms\tremaining: 404ms\n",
      "70:\tlearn: 19.6571050\ttotal: 194ms\tremaining: 353ms\n",
      "80:\tlearn: 19.4279542\ttotal: 240ms\tremaining: 353ms\n",
      "90:\tlearn: 19.2863085\ttotal: 279ms\tremaining: 334ms\n",
      "100:\tlearn: 19.1100300\ttotal: 308ms\tremaining: 302ms\n",
      "110:\tlearn: 18.9442425\ttotal: 342ms\tremaining: 274ms\n",
      "120:\tlearn: 18.7989274\ttotal: 367ms\tremaining: 239ms\n",
      "130:\tlearn: 18.6730425\ttotal: 385ms\tremaining: 203ms\n",
      "140:\tlearn: 18.5429259\ttotal: 469ms\tremaining: 196ms\n",
      "150:\tlearn: 18.4365100\ttotal: 478ms\tremaining: 155ms\n",
      "160:\tlearn: 18.3321064\ttotal: 491ms\tremaining: 119ms\n",
      "170:\tlearn: 18.2312419\ttotal: 547ms\tremaining: 92.8ms\n",
      "180:\tlearn: 18.1257432\ttotal: 560ms\tremaining: 58.8ms\n",
      "190:\tlearn: 18.0385756\ttotal: 655ms\tremaining: 30.8ms\n",
      "199:\tlearn: 17.9617384\ttotal: 667ms\tremaining: 0us\n",
      "0:\tlearn: 30.1030595\ttotal: 1.11ms\tremaining: 222ms\n",
      "10:\tlearn: 25.5754079\ttotal: 37.3ms\tremaining: 640ms\n",
      "20:\tlearn: 23.4051598\ttotal: 128ms\tremaining: 1.09s\n",
      "30:\tlearn: 22.1872775\ttotal: 147ms\tremaining: 803ms\n",
      "40:\tlearn: 21.5200368\ttotal: 167ms\tremaining: 648ms\n",
      "50:\tlearn: 21.0738515\ttotal: 213ms\tremaining: 623ms\n",
      "60:\tlearn: 20.8364111\ttotal: 232ms\tremaining: 530ms\n",
      "70:\tlearn: 20.6341793\ttotal: 250ms\tremaining: 455ms\n",
      "80:\tlearn: 20.4356350\ttotal: 278ms\tremaining: 408ms\n",
      "90:\tlearn: 20.2764026\ttotal: 305ms\tremaining: 365ms\n",
      "100:\tlearn: 20.1265803\ttotal: 319ms\tremaining: 313ms\n",
      "110:\tlearn: 19.9870697\ttotal: 352ms\tremaining: 282ms\n",
      "120:\tlearn: 19.8756617\ttotal: 388ms\tremaining: 253ms\n",
      "130:\tlearn: 19.7601425\ttotal: 403ms\tremaining: 212ms\n",
      "140:\tlearn: 19.6639973\ttotal: 432ms\tremaining: 181ms\n",
      "150:\tlearn: 19.5652774\ttotal: 452ms\tremaining: 147ms\n",
      "160:\tlearn: 19.4698384\ttotal: 467ms\tremaining: 113ms\n",
      "170:\tlearn: 19.3834400\ttotal: 479ms\tremaining: 81.2ms\n",
      "180:\tlearn: 19.3018043\ttotal: 496ms\tremaining: 52.1ms\n",
      "190:\tlearn: 19.2181093\ttotal: 525ms\tremaining: 24.7ms\n",
      "199:\tlearn: 19.1598256\ttotal: 548ms\tremaining: 0us\n",
      "0:\tlearn: 32.0873427\ttotal: 1.28ms\tremaining: 254ms\n",
      "10:\tlearn: 27.1412697\ttotal: 82.6ms\tremaining: 1.42s\n",
      "20:\tlearn: 24.9181428\ttotal: 110ms\tremaining: 940ms\n",
      "30:\tlearn: 23.6009327\ttotal: 128ms\tremaining: 700ms\n",
      "40:\tlearn: 22.8779580\ttotal: 186ms\tremaining: 722ms\n",
      "50:\tlearn: 22.4546234\ttotal: 211ms\tremaining: 616ms\n",
      "60:\tlearn: 22.2079403\ttotal: 286ms\tremaining: 653ms\n",
      "70:\tlearn: 21.9830775\ttotal: 374ms\tremaining: 680ms\n",
      "80:\tlearn: 21.7873666\ttotal: 421ms\tremaining: 618ms\n",
      "90:\tlearn: 21.6194717\ttotal: 451ms\tremaining: 540ms\n",
      "100:\tlearn: 21.4644879\ttotal: 488ms\tremaining: 478ms\n",
      "110:\tlearn: 21.3265604\ttotal: 523ms\tremaining: 420ms\n",
      "120:\tlearn: 21.2029283\ttotal: 593ms\tremaining: 387ms\n",
      "130:\tlearn: 21.0872973\ttotal: 616ms\tremaining: 325ms\n",
      "140:\tlearn: 20.9862938\ttotal: 633ms\tremaining: 265ms\n",
      "150:\tlearn: 20.8899946\ttotal: 719ms\tremaining: 233ms\n",
      "160:\tlearn: 20.8100145\ttotal: 747ms\tremaining: 181ms\n",
      "170:\tlearn: 20.7360976\ttotal: 757ms\tremaining: 128ms\n",
      "180:\tlearn: 20.6730692\ttotal: 806ms\tremaining: 84.6ms\n",
      "190:\tlearn: 20.6124714\ttotal: 861ms\tremaining: 40.6ms\n",
      "199:\tlearn: 20.5502543\ttotal: 900ms\tremaining: 0us\n",
      "0:\tlearn: 32.7858696\ttotal: 1.43ms\tremaining: 285ms\n",
      "10:\tlearn: 27.8159210\ttotal: 45.8ms\tremaining: 786ms\n",
      "20:\tlearn: 25.6234529\ttotal: 74.6ms\tremaining: 636ms\n",
      "30:\tlearn: 24.4563918\ttotal: 127ms\tremaining: 694ms\n",
      "40:\tlearn: 23.7720616\ttotal: 161ms\tremaining: 625ms\n",
      "50:\tlearn: 23.3848786\ttotal: 204ms\tremaining: 595ms\n",
      "60:\tlearn: 23.1326409\ttotal: 283ms\tremaining: 644ms\n",
      "70:\tlearn: 22.9234646\ttotal: 335ms\tremaining: 609ms\n",
      "80:\tlearn: 22.7376378\ttotal: 356ms\tremaining: 523ms\n",
      "90:\tlearn: 22.5669630\ttotal: 414ms\tremaining: 495ms\n",
      "100:\tlearn: 22.4275883\ttotal: 504ms\tremaining: 494ms\n",
      "110:\tlearn: 22.2975614\ttotal: 529ms\tremaining: 424ms\n",
      "120:\tlearn: 22.1862965\ttotal: 601ms\tremaining: 392ms\n",
      "130:\tlearn: 22.0855614\ttotal: 619ms\tremaining: 326ms\n",
      "140:\tlearn: 21.9926234\ttotal: 639ms\tremaining: 267ms\n",
      "150:\tlearn: 21.9137020\ttotal: 677ms\tremaining: 220ms\n",
      "160:\tlearn: 21.8379961\ttotal: 698ms\tremaining: 169ms\n",
      "170:\tlearn: 21.7701650\ttotal: 754ms\tremaining: 128ms\n",
      "180:\tlearn: 21.7050027\ttotal: 787ms\tremaining: 82.7ms\n",
      "190:\tlearn: 21.6470417\ttotal: 840ms\tremaining: 39.6ms\n",
      "199:\tlearn: 21.6035877\ttotal: 916ms\tremaining: 0us\n",
      "0:\tlearn: 24.9271803\ttotal: 98.1ms\tremaining: 48.9s\n",
      "10:\tlearn: 8.7535720\ttotal: 1.45s\tremaining: 1m 4s\n",
      "20:\tlearn: 4.4844854\ttotal: 2.77s\tremaining: 1m 3s\n",
      "30:\tlearn: 1.7604277\ttotal: 4.25s\tremaining: 1m 4s\n",
      "40:\tlearn: 0.7004962\ttotal: 5.61s\tremaining: 1m 2s\n",
      "50:\tlearn: 0.3568627\ttotal: 6.82s\tremaining: 1m\n",
      "60:\tlearn: 0.1601106\ttotal: 8s\tremaining: 57.6s\n",
      "70:\tlearn: 0.0805686\ttotal: 9.04s\tremaining: 54.6s\n",
      "80:\tlearn: 0.0361283\ttotal: 10.1s\tremaining: 52.4s\n",
      "90:\tlearn: 0.0168540\ttotal: 11.3s\tremaining: 50.6s\n",
      "100:\tlearn: 0.0078719\ttotal: 12.4s\tremaining: 48.9s\n",
      "110:\tlearn: 0.0038387\ttotal: 13.4s\tremaining: 47.1s\n",
      "120:\tlearn: 0.0018919\ttotal: 14.5s\tremaining: 45.4s\n",
      "130:\tlearn: 0.0008770\ttotal: 15.6s\tremaining: 43.9s\n",
      "140:\tlearn: 0.0004302\ttotal: 16.7s\tremaining: 42.6s\n",
      "150:\tlearn: 0.0002633\ttotal: 17.8s\tremaining: 41.1s\n",
      "160:\tlearn: 0.0001286\ttotal: 19.3s\tremaining: 40.6s\n",
      "170:\tlearn: 0.0000678\ttotal: 20.6s\tremaining: 39.6s\n",
      "180:\tlearn: 0.0000347\ttotal: 21.7s\tremaining: 38.3s\n",
      "190:\tlearn: 0.0000145\ttotal: 23s\tremaining: 37.1s\n",
      "200:\tlearn: 0.0000079\ttotal: 24.1s\tremaining: 35.8s\n",
      "210:\tlearn: 0.0000032\ttotal: 25.4s\tremaining: 34.7s\n",
      "220:\tlearn: 0.0000016\ttotal: 26.6s\tremaining: 33.6s\n",
      "230:\tlearn: 0.0000008\ttotal: 27.8s\tremaining: 32.3s\n",
      "240:\tlearn: 0.0000004\ttotal: 28.9s\tremaining: 31.1s\n",
      "250:\tlearn: 0.0000002\ttotal: 30.1s\tremaining: 29.9s\n",
      "260:\tlearn: 0.0000001\ttotal: 31.4s\tremaining: 28.7s\n",
      "270:\tlearn: 0.0000000\ttotal: 32.5s\tremaining: 27.5s\n",
      "280:\tlearn: 0.0000000\ttotal: 34.1s\tremaining: 26.6s\n",
      "290:\tlearn: 0.0000000\ttotal: 35.5s\tremaining: 25.5s\n",
      "300:\tlearn: 0.0000000\ttotal: 36.8s\tremaining: 24.3s\n",
      "310:\tlearn: 0.0000000\ttotal: 38.2s\tremaining: 23.2s\n",
      "320:\tlearn: 0.0000000\ttotal: 39.7s\tremaining: 22.1s\n",
      "330:\tlearn: 0.0000000\ttotal: 41.1s\tremaining: 21s\n",
      "340:\tlearn: 0.0000000\ttotal: 42.3s\tremaining: 19.7s\n",
      "350:\tlearn: 0.0000000\ttotal: 43.7s\tremaining: 18.6s\n",
      "360:\tlearn: 0.0000000\ttotal: 45.2s\tremaining: 17.4s\n",
      "370:\tlearn: 0.0000000\ttotal: 46.7s\tremaining: 16.2s\n",
      "380:\tlearn: 0.0000000\ttotal: 47.9s\tremaining: 15s\n",
      "390:\tlearn: 0.0000000\ttotal: 48.9s\tremaining: 13.6s\n",
      "400:\tlearn: 0.0000000\ttotal: 50s\tremaining: 12.3s\n",
      "410:\tlearn: 0.0000000\ttotal: 51s\tremaining: 11s\n",
      "420:\tlearn: 0.0000000\ttotal: 52.1s\tremaining: 9.78s\n",
      "430:\tlearn: 0.0000000\ttotal: 53.3s\tremaining: 8.53s\n",
      "440:\tlearn: 0.0000000\ttotal: 54.4s\tremaining: 7.28s\n",
      "450:\tlearn: 0.0000000\ttotal: 55.4s\tremaining: 6.02s\n",
      "460:\tlearn: 0.0000000\ttotal: 56.6s\tremaining: 4.79s\n",
      "470:\tlearn: 0.0000000\ttotal: 57.8s\tremaining: 3.56s\n",
      "480:\tlearn: 0.0000000\ttotal: 58.8s\tremaining: 2.32s\n",
      "490:\tlearn: 0.0000000\ttotal: 59.9s\tremaining: 1.1s\n",
      "499:\tlearn: 0.0000000\ttotal: 1m\tremaining: 0us\n",
      "0:\tlearn: 28.1269790\ttotal: 127ms\tremaining: 1m 3s\n",
      "10:\tlearn: 16.3405895\ttotal: 1.78s\tremaining: 1m 19s\n",
      "20:\tlearn: 12.5900754\ttotal: 3.45s\tremaining: 1m 18s\n",
      "30:\tlearn: 10.2303202\ttotal: 5.24s\tremaining: 1m 19s\n",
      "40:\tlearn: 7.5710004\ttotal: 7.11s\tremaining: 1m 19s\n",
      "50:\tlearn: 6.0288224\ttotal: 8.99s\tremaining: 1m 19s\n",
      "60:\tlearn: 4.7322228\ttotal: 10.8s\tremaining: 1m 18s\n",
      "70:\tlearn: 3.9066289\ttotal: 12.7s\tremaining: 1m 16s\n",
      "80:\tlearn: 3.0988580\ttotal: 14.5s\tremaining: 1m 15s\n",
      "90:\tlearn: 2.5171467\ttotal: 16.2s\tremaining: 1m 12s\n",
      "100:\tlearn: 2.1176871\ttotal: 17.9s\tremaining: 1m 10s\n",
      "110:\tlearn: 1.7012044\ttotal: 19.6s\tremaining: 1m 8s\n",
      "120:\tlearn: 1.3725878\ttotal: 21.5s\tremaining: 1m 7s\n",
      "130:\tlearn: 1.1089704\ttotal: 23.2s\tremaining: 1m 5s\n",
      "140:\tlearn: 0.9039802\ttotal: 25s\tremaining: 1m 3s\n",
      "150:\tlearn: 0.7272095\ttotal: 26.8s\tremaining: 1m 1s\n",
      "160:\tlearn: 0.5661200\ttotal: 28.7s\tremaining: 1m\n",
      "170:\tlearn: 0.4545866\ttotal: 30.6s\tremaining: 58.9s\n",
      "180:\tlearn: 0.3748172\ttotal: 32.7s\tremaining: 57.7s\n",
      "190:\tlearn: 0.3105498\ttotal: 35s\tremaining: 56.6s\n",
      "200:\tlearn: 0.2509401\ttotal: 36.9s\tremaining: 54.9s\n",
      "210:\tlearn: 0.2007547\ttotal: 39.2s\tremaining: 53.6s\n",
      "220:\tlearn: 0.1564553\ttotal: 41.3s\tremaining: 52.1s\n",
      "230:\tlearn: 0.1264539\ttotal: 43.4s\tremaining: 50.5s\n",
      "240:\tlearn: 0.1019362\ttotal: 45.3s\tremaining: 48.7s\n",
      "250:\tlearn: 0.0863618\ttotal: 47.1s\tremaining: 46.8s\n",
      "260:\tlearn: 0.0703717\ttotal: 49.2s\tremaining: 45.1s\n",
      "270:\tlearn: 0.0562435\ttotal: 51.1s\tremaining: 43.2s\n",
      "280:\tlearn: 0.0465779\ttotal: 53.2s\tremaining: 41.4s\n",
      "290:\tlearn: 0.0376247\ttotal: 55.2s\tremaining: 39.7s\n",
      "300:\tlearn: 0.0312295\ttotal: 57.2s\tremaining: 37.8s\n",
      "310:\tlearn: 0.0249179\ttotal: 59.2s\tremaining: 36s\n",
      "320:\tlearn: 0.0211441\ttotal: 1m\tremaining: 34s\n",
      "330:\tlearn: 0.0179724\ttotal: 1m 2s\tremaining: 32s\n",
      "340:\tlearn: 0.0146105\ttotal: 1m 4s\tremaining: 30.1s\n",
      "350:\tlearn: 0.0115900\ttotal: 1m 6s\tremaining: 28.2s\n",
      "360:\tlearn: 0.0091974\ttotal: 1m 8s\tremaining: 26.2s\n",
      "370:\tlearn: 0.0072850\ttotal: 1m 10s\tremaining: 24.4s\n",
      "380:\tlearn: 0.0061189\ttotal: 1m 11s\tremaining: 22.4s\n",
      "390:\tlearn: 0.0052910\ttotal: 1m 13s\tremaining: 20.5s\n",
      "400:\tlearn: 0.0044907\ttotal: 1m 15s\tremaining: 18.6s\n",
      "410:\tlearn: 0.0035594\ttotal: 1m 16s\tremaining: 16.7s\n",
      "420:\tlearn: 0.0029293\ttotal: 1m 19s\tremaining: 14.8s\n",
      "430:\tlearn: 0.0023459\ttotal: 1m 20s\tremaining: 12.9s\n",
      "440:\tlearn: 0.0019831\ttotal: 1m 22s\tremaining: 11s\n",
      "450:\tlearn: 0.0016356\ttotal: 1m 24s\tremaining: 9.19s\n",
      "460:\tlearn: 0.0013162\ttotal: 1m 26s\tremaining: 7.33s\n",
      "470:\tlearn: 0.0010990\ttotal: 1m 28s\tremaining: 5.46s\n",
      "480:\tlearn: 0.0009129\ttotal: 1m 30s\tremaining: 3.57s\n",
      "490:\tlearn: 0.0007536\ttotal: 1m 32s\tremaining: 1.7s\n",
      "499:\tlearn: 0.0006306\ttotal: 1m 34s\tremaining: 0us\n",
      "0:\tlearn: 31.9581496\ttotal: 166ms\tremaining: 1m 22s\n",
      "10:\tlearn: 22.9900225\ttotal: 1.77s\tremaining: 1m 18s\n",
      "20:\tlearn: 19.1904772\ttotal: 3.69s\tremaining: 1m 24s\n",
      "30:\tlearn: 17.0135714\ttotal: 5.63s\tremaining: 1m 25s\n",
      "40:\tlearn: 15.5822690\ttotal: 7.33s\tremaining: 1m 22s\n",
      "50:\tlearn: 14.4036270\ttotal: 9.16s\tremaining: 1m 20s\n",
      "60:\tlearn: 13.3911820\ttotal: 11.1s\tremaining: 1m 19s\n",
      "70:\tlearn: 12.5335307\ttotal: 12.8s\tremaining: 1m 17s\n",
      "80:\tlearn: 11.8174106\ttotal: 14.6s\tremaining: 1m 15s\n",
      "90:\tlearn: 11.1340859\ttotal: 16.2s\tremaining: 1m 13s\n",
      "100:\tlearn: 10.5832858\ttotal: 17.7s\tremaining: 1m 9s\n",
      "110:\tlearn: 10.0075135\ttotal: 19.2s\tremaining: 1m 7s\n",
      "120:\tlearn: 9.3718536\ttotal: 20.8s\tremaining: 1m 5s\n",
      "130:\tlearn: 8.8749064\ttotal: 22.5s\tremaining: 1m 3s\n",
      "140:\tlearn: 8.3787696\ttotal: 24.3s\tremaining: 1m 1s\n",
      "150:\tlearn: 7.8782238\ttotal: 26.2s\tremaining: 1m\n",
      "160:\tlearn: 7.4239116\ttotal: 27.9s\tremaining: 58.7s\n",
      "170:\tlearn: 7.0088930\ttotal: 29.5s\tremaining: 56.7s\n",
      "180:\tlearn: 6.5878898\ttotal: 31.2s\tremaining: 54.9s\n",
      "190:\tlearn: 6.2375598\ttotal: 32.9s\tremaining: 53.3s\n",
      "200:\tlearn: 5.9117457\ttotal: 34.7s\tremaining: 51.6s\n",
      "210:\tlearn: 5.4863933\ttotal: 36.3s\tremaining: 49.8s\n",
      "220:\tlearn: 5.1365034\ttotal: 38s\tremaining: 48s\n",
      "230:\tlearn: 4.8998357\ttotal: 39.9s\tremaining: 46.5s\n",
      "240:\tlearn: 4.6962439\ttotal: 41.6s\tremaining: 44.7s\n",
      "250:\tlearn: 4.4491850\ttotal: 43.7s\tremaining: 43.3s\n",
      "260:\tlearn: 4.2468033\ttotal: 45.5s\tremaining: 41.7s\n",
      "270:\tlearn: 4.0351309\ttotal: 47.4s\tremaining: 40.1s\n",
      "280:\tlearn: 3.8535421\ttotal: 49.6s\tremaining: 38.6s\n",
      "290:\tlearn: 3.6448758\ttotal: 51.6s\tremaining: 37.1s\n",
      "300:\tlearn: 3.4422285\ttotal: 53.5s\tremaining: 35.4s\n",
      "310:\tlearn: 3.2720933\ttotal: 55.6s\tremaining: 33.8s\n",
      "320:\tlearn: 3.0913794\ttotal: 57.5s\tremaining: 32.1s\n",
      "330:\tlearn: 2.8975128\ttotal: 59.2s\tremaining: 30.2s\n",
      "340:\tlearn: 2.7459938\ttotal: 1m\tremaining: 28.3s\n",
      "350:\tlearn: 2.6228768\ttotal: 1m 2s\tremaining: 26.5s\n",
      "360:\tlearn: 2.4815652\ttotal: 1m 4s\tremaining: 24.8s\n",
      "370:\tlearn: 2.3481940\ttotal: 1m 5s\tremaining: 22.9s\n",
      "380:\tlearn: 2.2472225\ttotal: 1m 7s\tremaining: 21.1s\n",
      "390:\tlearn: 2.1441334\ttotal: 1m 9s\tremaining: 19.3s\n",
      "400:\tlearn: 2.0437314\ttotal: 1m 11s\tremaining: 17.6s\n",
      "410:\tlearn: 1.9328158\ttotal: 1m 13s\tremaining: 15.8s\n",
      "420:\tlearn: 1.8422407\ttotal: 1m 14s\tremaining: 14s\n",
      "430:\tlearn: 1.7626923\ttotal: 1m 16s\tremaining: 12.2s\n",
      "440:\tlearn: 1.6727162\ttotal: 1m 17s\tremaining: 10.4s\n",
      "450:\tlearn: 1.6018676\ttotal: 1m 19s\tremaining: 8.63s\n",
      "460:\tlearn: 1.5164300\ttotal: 1m 21s\tremaining: 6.88s\n",
      "470:\tlearn: 1.4146498\ttotal: 1m 23s\tremaining: 5.11s\n",
      "480:\tlearn: 1.3490756\ttotal: 1m 24s\tremaining: 3.34s\n",
      "490:\tlearn: 1.2734031\ttotal: 1m 26s\tremaining: 1.58s\n",
      "499:\tlearn: 1.2211826\ttotal: 1m 27s\tremaining: 0us\n",
      "0:\tlearn: 31.9581496\ttotal: 127ms\tremaining: 25.2s\n",
      "10:\tlearn: 22.9900225\ttotal: 1.65s\tremaining: 28.3s\n",
      "20:\tlearn: 19.1904772\ttotal: 3.32s\tremaining: 28.3s\n",
      "30:\tlearn: 17.0135714\ttotal: 4.97s\tremaining: 27.1s\n",
      "40:\tlearn: 15.5822690\ttotal: 6.61s\tremaining: 25.6s\n",
      "50:\tlearn: 14.4036270\ttotal: 8.49s\tremaining: 24.8s\n",
      "60:\tlearn: 13.3911820\ttotal: 10.4s\tremaining: 23.8s\n",
      "70:\tlearn: 12.5335307\ttotal: 12.4s\tremaining: 22.5s\n",
      "80:\tlearn: 11.8174106\ttotal: 14.2s\tremaining: 20.8s\n",
      "90:\tlearn: 11.1340859\ttotal: 16s\tremaining: 19.2s\n",
      "100:\tlearn: 10.5832858\ttotal: 17.9s\tremaining: 17.6s\n",
      "110:\tlearn: 10.0075135\ttotal: 20s\tremaining: 16s\n",
      "120:\tlearn: 9.3718536\ttotal: 22s\tremaining: 14.4s\n",
      "130:\tlearn: 8.8749064\ttotal: 23.5s\tremaining: 12.4s\n",
      "140:\tlearn: 8.3787696\ttotal: 25.2s\tremaining: 10.5s\n",
      "150:\tlearn: 7.8782238\ttotal: 26.9s\tremaining: 8.72s\n",
      "160:\tlearn: 7.4239116\ttotal: 28.5s\tremaining: 6.89s\n",
      "170:\tlearn: 7.0088930\ttotal: 30s\tremaining: 5.09s\n",
      "180:\tlearn: 6.5878898\ttotal: 31.6s\tremaining: 3.32s\n",
      "190:\tlearn: 6.2375598\ttotal: 33.3s\tremaining: 1.57s\n",
      "199:\tlearn: 5.9435796\ttotal: 34.7s\tremaining: 0us\n",
      "0:\tlearn: 29.0233367\ttotal: 170ms\tremaining: 1m 24s\n",
      "10:\tlearn: 23.9716320\ttotal: 1.73s\tremaining: 1m 16s\n",
      "20:\tlearn: 20.4799055\ttotal: 3.22s\tremaining: 1m 13s\n",
      "30:\tlearn: 18.0798480\ttotal: 4.74s\tremaining: 1m 11s\n",
      "40:\tlearn: 16.3586800\ttotal: 6.18s\tremaining: 1m 9s\n",
      "50:\tlearn: 14.8809800\ttotal: 7.94s\tremaining: 1m 9s\n",
      "60:\tlearn: 13.6564655\ttotal: 9.62s\tremaining: 1m 9s\n",
      "70:\tlearn: 12.7185238\ttotal: 11.3s\tremaining: 1m 8s\n",
      "80:\tlearn: 11.8497511\ttotal: 13s\tremaining: 1m 7s\n",
      "90:\tlearn: 11.1397057\ttotal: 14.9s\tremaining: 1m 7s\n",
      "100:\tlearn: 10.5270543\ttotal: 16.6s\tremaining: 1m 5s\n",
      "110:\tlearn: 9.8709235\ttotal: 18.2s\tremaining: 1m 3s\n",
      "120:\tlearn: 9.2826019\ttotal: 19.8s\tremaining: 1m 1s\n",
      "130:\tlearn: 8.7614669\ttotal: 21.2s\tremaining: 59.8s\n",
      "140:\tlearn: 8.2884720\ttotal: 22.7s\tremaining: 57.8s\n",
      "150:\tlearn: 7.8716294\ttotal: 24s\tremaining: 55.5s\n",
      "160:\tlearn: 7.4724612\ttotal: 25.4s\tremaining: 53.4s\n",
      "170:\tlearn: 7.1601239\ttotal: 26.7s\tremaining: 51.4s\n",
      "180:\tlearn: 6.7910274\ttotal: 28.3s\tremaining: 49.9s\n",
      "190:\tlearn: 6.4396770\ttotal: 29.9s\tremaining: 48.4s\n",
      "200:\tlearn: 6.1338162\ttotal: 31.4s\tremaining: 46.7s\n",
      "210:\tlearn: 5.8608067\ttotal: 32.9s\tremaining: 45.1s\n",
      "220:\tlearn: 5.6186504\ttotal: 34.2s\tremaining: 43.2s\n",
      "230:\tlearn: 5.3770978\ttotal: 35.6s\tremaining: 41.5s\n",
      "240:\tlearn: 5.1303444\ttotal: 36.9s\tremaining: 39.7s\n",
      "250:\tlearn: 4.8830240\ttotal: 38.3s\tremaining: 38s\n",
      "260:\tlearn: 4.6879107\ttotal: 39.8s\tremaining: 36.5s\n",
      "270:\tlearn: 4.4560114\ttotal: 41.3s\tremaining: 34.9s\n",
      "280:\tlearn: 4.2264398\ttotal: 42.6s\tremaining: 33.2s\n",
      "290:\tlearn: 3.9966886\ttotal: 44s\tremaining: 31.6s\n",
      "300:\tlearn: 3.8087098\ttotal: 45.5s\tremaining: 30.1s\n",
      "310:\tlearn: 3.6420053\ttotal: 47s\tremaining: 28.6s\n",
      "320:\tlearn: 3.4495407\ttotal: 48.5s\tremaining: 27.1s\n",
      "330:\tlearn: 3.3138050\ttotal: 50s\tremaining: 25.5s\n",
      "340:\tlearn: 3.1737852\ttotal: 51.5s\tremaining: 24s\n",
      "350:\tlearn: 3.0731535\ttotal: 52.9s\tremaining: 22.5s\n",
      "360:\tlearn: 2.9452393\ttotal: 54.6s\tremaining: 21s\n",
      "370:\tlearn: 2.7942506\ttotal: 56s\tremaining: 19.5s\n",
      "380:\tlearn: 2.6986772\ttotal: 57.5s\tremaining: 17.9s\n",
      "390:\tlearn: 2.5886979\ttotal: 58.9s\tremaining: 16.4s\n",
      "400:\tlearn: 2.4945555\ttotal: 1m\tremaining: 14.9s\n",
      "410:\tlearn: 2.4276099\ttotal: 1m 1s\tremaining: 13.4s\n",
      "420:\tlearn: 2.3385113\ttotal: 1m 3s\tremaining: 11.8s\n",
      "430:\tlearn: 2.2176319\ttotal: 1m 4s\tremaining: 10.3s\n",
      "440:\tlearn: 2.1236049\ttotal: 1m 5s\tremaining: 8.78s\n",
      "450:\tlearn: 2.0123752\ttotal: 1m 7s\tremaining: 7.29s\n",
      "460:\tlearn: 1.8972607\ttotal: 1m 8s\tremaining: 5.79s\n",
      "470:\tlearn: 1.8011661\ttotal: 1m 9s\tremaining: 4.29s\n",
      "480:\tlearn: 1.7222436\ttotal: 1m 10s\tremaining: 2.8s\n",
      "490:\tlearn: 1.6372672\ttotal: 1m 12s\tremaining: 1.33s\n",
      "499:\tlearn: 1.5817117\ttotal: 1m 13s\tremaining: 0us\n"
     ]
    },
    {
     "name": "stdout",
     "output_type": "stream",
     "text": [
      "0:\tlearn: 26.6277495\ttotal: 54.3ms\tremaining: 5.38s\n",
      "10:\tlearn: 20.4942845\ttotal: 70.2ms\tremaining: 568ms\n",
      "20:\tlearn: 19.3746965\ttotal: 88.1ms\tremaining: 331ms\n",
      "30:\tlearn: 18.6411943\ttotal: 104ms\tremaining: 231ms\n",
      "40:\tlearn: 17.9963640\ttotal: 121ms\tremaining: 174ms\n",
      "50:\tlearn: 17.6247811\ttotal: 138ms\tremaining: 133ms\n",
      "60:\tlearn: 17.0649765\ttotal: 155ms\tremaining: 99.4ms\n",
      "70:\tlearn: 16.6169071\ttotal: 172ms\tremaining: 70.1ms\n",
      "80:\tlearn: 16.1596704\ttotal: 190ms\tremaining: 44.6ms\n",
      "90:\tlearn: 15.8600849\ttotal: 210ms\tremaining: 20.7ms\n",
      "99:\tlearn: 15.6189007\ttotal: 225ms\tremaining: 0us\n",
      "0:\tlearn: 24.7853023\ttotal: 2.74ms\tremaining: 1.37s\n",
      "10:\tlearn: 19.0299806\ttotal: 19.3ms\tremaining: 856ms\n",
      "20:\tlearn: 17.5579005\ttotal: 35.9ms\tremaining: 819ms\n",
      "30:\tlearn: 16.5477489\ttotal: 51.8ms\tremaining: 784ms\n",
      "40:\tlearn: 15.8543702\ttotal: 67.9ms\tremaining: 761ms\n",
      "50:\tlearn: 15.2483285\ttotal: 83.5ms\tremaining: 735ms\n",
      "60:\tlearn: 14.7087016\ttotal: 103ms\tremaining: 739ms\n",
      "70:\tlearn: 14.1422752\ttotal: 119ms\tremaining: 720ms\n",
      "80:\tlearn: 13.7604762\ttotal: 135ms\tremaining: 699ms\n",
      "90:\tlearn: 13.4763818\ttotal: 150ms\tremaining: 675ms\n",
      "100:\tlearn: 13.0738771\ttotal: 166ms\tremaining: 655ms\n",
      "110:\tlearn: 12.7073647\ttotal: 179ms\tremaining: 627ms\n",
      "120:\tlearn: 12.3335402\ttotal: 194ms\tremaining: 606ms\n",
      "130:\tlearn: 11.9234628\ttotal: 207ms\tremaining: 584ms\n",
      "140:\tlearn: 11.6554219\ttotal: 221ms\tremaining: 563ms\n",
      "150:\tlearn: 11.3563622\ttotal: 238ms\tremaining: 550ms\n",
      "160:\tlearn: 11.0439303\ttotal: 252ms\tremaining: 530ms\n",
      "170:\tlearn: 10.8013116\ttotal: 265ms\tremaining: 511ms\n",
      "180:\tlearn: 10.5316513\ttotal: 281ms\tremaining: 495ms\n",
      "190:\tlearn: 10.2798204\ttotal: 294ms\tremaining: 476ms\n",
      "200:\tlearn: 9.8368597\ttotal: 309ms\tremaining: 459ms\n",
      "210:\tlearn: 9.5837553\ttotal: 324ms\tremaining: 444ms\n",
      "220:\tlearn: 9.3288760\ttotal: 338ms\tremaining: 427ms\n",
      "230:\tlearn: 9.0632791\ttotal: 353ms\tremaining: 411ms\n",
      "240:\tlearn: 8.8365676\ttotal: 371ms\tremaining: 398ms\n",
      "250:\tlearn: 8.6204806\ttotal: 387ms\tremaining: 383ms\n",
      "260:\tlearn: 8.5158900\ttotal: 401ms\tremaining: 367ms\n",
      "270:\tlearn: 8.3536233\ttotal: 416ms\tremaining: 352ms\n",
      "280:\tlearn: 8.1229421\ttotal: 431ms\tremaining: 336ms\n",
      "290:\tlearn: 7.9294521\ttotal: 448ms\tremaining: 322ms\n",
      "300:\tlearn: 7.7729836\ttotal: 464ms\tremaining: 307ms\n",
      "310:\tlearn: 7.5933502\ttotal: 481ms\tremaining: 292ms\n",
      "320:\tlearn: 7.4275529\ttotal: 497ms\tremaining: 277ms\n",
      "330:\tlearn: 7.2619022\ttotal: 512ms\tremaining: 262ms\n",
      "340:\tlearn: 7.0845882\ttotal: 530ms\tremaining: 247ms\n",
      "350:\tlearn: 6.9527303\ttotal: 544ms\tremaining: 231ms\n",
      "360:\tlearn: 6.8013412\ttotal: 558ms\tremaining: 215ms\n",
      "370:\tlearn: 6.6681358\ttotal: 572ms\tremaining: 199ms\n",
      "380:\tlearn: 6.4992308\ttotal: 588ms\tremaining: 184ms\n",
      "390:\tlearn: 6.3730298\ttotal: 602ms\tremaining: 168ms\n",
      "400:\tlearn: 6.2492700\ttotal: 617ms\tremaining: 152ms\n",
      "410:\tlearn: 6.1273389\ttotal: 631ms\tremaining: 137ms\n",
      "420:\tlearn: 5.9872941\ttotal: 647ms\tremaining: 121ms\n",
      "430:\tlearn: 5.8723980\ttotal: 662ms\tremaining: 106ms\n",
      "440:\tlearn: 5.7479865\ttotal: 676ms\tremaining: 90.4ms\n",
      "450:\tlearn: 5.6513569\ttotal: 691ms\tremaining: 75ms\n",
      "460:\tlearn: 5.5344910\ttotal: 706ms\tremaining: 59.7ms\n",
      "470:\tlearn: 5.4585632\ttotal: 721ms\tremaining: 44.4ms\n",
      "480:\tlearn: 5.3614622\ttotal: 736ms\tremaining: 29.1ms\n",
      "490:\tlearn: 5.2566853\ttotal: 753ms\tremaining: 13.8ms\n",
      "499:\tlearn: 5.1448236\ttotal: 766ms\tremaining: 0us\n",
      "0:\tlearn: 24.9271803\ttotal: 41.9ms\tremaining: 14.6s\n",
      "10:\tlearn: 8.7535720\ttotal: 624ms\tremaining: 19.2s\n",
      "20:\tlearn: 4.4844854\ttotal: 1.41s\tremaining: 22.1s\n",
      "30:\tlearn: 1.7604277\ttotal: 2.35s\tremaining: 24.2s\n",
      "40:\tlearn: 0.7004962\ttotal: 3.39s\tremaining: 25.6s\n",
      "50:\tlearn: 0.3568627\ttotal: 4.35s\tremaining: 25.5s\n",
      "60:\tlearn: 0.1601106\ttotal: 5.38s\tremaining: 25.5s\n",
      "70:\tlearn: 0.0805686\ttotal: 6.34s\tremaining: 24.9s\n",
      "80:\tlearn: 0.0361283\ttotal: 7.37s\tremaining: 24.5s\n",
      "90:\tlearn: 0.0168540\ttotal: 8.44s\tremaining: 24s\n",
      "100:\tlearn: 0.0078719\ttotal: 9.53s\tremaining: 23.5s\n",
      "110:\tlearn: 0.0038387\ttotal: 10.7s\tremaining: 23.1s\n",
      "120:\tlearn: 0.0018919\ttotal: 11.9s\tremaining: 22.5s\n",
      "130:\tlearn: 0.0008770\ttotal: 13s\tremaining: 21.7s\n",
      "140:\tlearn: 0.0004302\ttotal: 14s\tremaining: 20.8s\n",
      "150:\tlearn: 0.0002633\ttotal: 15.1s\tremaining: 19.9s\n",
      "160:\tlearn: 0.0001286\ttotal: 16s\tremaining: 18.8s\n",
      "170:\tlearn: 0.0000678\ttotal: 17s\tremaining: 17.8s\n",
      "180:\tlearn: 0.0000347\ttotal: 18.2s\tremaining: 17s\n",
      "190:\tlearn: 0.0000145\ttotal: 19.3s\tremaining: 16s\n",
      "200:\tlearn: 0.0000079\ttotal: 20.5s\tremaining: 15.2s\n",
      "210:\tlearn: 0.0000032\ttotal: 21.7s\tremaining: 14.3s\n",
      "220:\tlearn: 0.0000016\ttotal: 22.7s\tremaining: 13.3s\n",
      "230:\tlearn: 0.0000008\ttotal: 23.8s\tremaining: 12.3s\n",
      "240:\tlearn: 0.0000004\ttotal: 25s\tremaining: 11.3s\n",
      "250:\tlearn: 0.0000002\ttotal: 26.1s\tremaining: 10.3s\n",
      "260:\tlearn: 0.0000001\ttotal: 27.3s\tremaining: 9.3s\n",
      "270:\tlearn: 0.0000000\ttotal: 28.3s\tremaining: 8.25s\n",
      "280:\tlearn: 0.0000000\ttotal: 29.4s\tremaining: 7.22s\n",
      "290:\tlearn: 0.0000000\ttotal: 30.5s\tremaining: 6.18s\n",
      "300:\tlearn: 0.0000000\ttotal: 31.6s\tremaining: 5.14s\n",
      "310:\tlearn: 0.0000000\ttotal: 32.7s\tremaining: 4.09s\n",
      "320:\tlearn: 0.0000000\ttotal: 33.8s\tremaining: 3.05s\n",
      "330:\tlearn: 0.0000000\ttotal: 34.9s\tremaining: 2s\n",
      "340:\tlearn: 0.0000000\ttotal: 35.9s\tremaining: 948ms\n",
      "349:\tlearn: 0.0000000\ttotal: 36.9s\tremaining: 0us\n",
      "0:\tlearn: 28.1269790\ttotal: 151ms\tremaining: 52.7s\n",
      "10:\tlearn: 16.3405895\ttotal: 1.76s\tremaining: 54.2s\n",
      "20:\tlearn: 12.5900754\ttotal: 3.37s\tremaining: 52.8s\n",
      "30:\tlearn: 10.2303202\ttotal: 4.93s\tremaining: 50.8s\n",
      "40:\tlearn: 7.5710004\ttotal: 6.52s\tremaining: 49.2s\n",
      "50:\tlearn: 6.0288224\ttotal: 8.34s\tremaining: 48.9s\n",
      "60:\tlearn: 4.7322228\ttotal: 10.1s\tremaining: 47.9s\n",
      "70:\tlearn: 3.9066289\ttotal: 11.8s\tremaining: 46.4s\n",
      "80:\tlearn: 3.0988580\ttotal: 13.7s\tremaining: 45.4s\n",
      "90:\tlearn: 2.5171467\ttotal: 15.3s\tremaining: 43.5s\n",
      "100:\tlearn: 2.1176871\ttotal: 17.4s\tremaining: 43s\n",
      "110:\tlearn: 1.7012044\ttotal: 19s\tremaining: 41s\n",
      "120:\tlearn: 1.3725878\ttotal: 20.7s\tremaining: 39.1s\n",
      "130:\tlearn: 1.1089704\ttotal: 22.3s\tremaining: 37.3s\n",
      "140:\tlearn: 0.9039802\ttotal: 23.9s\tremaining: 35.4s\n",
      "150:\tlearn: 0.7272095\ttotal: 25.5s\tremaining: 33.6s\n",
      "160:\tlearn: 0.5661200\ttotal: 27s\tremaining: 31.7s\n",
      "170:\tlearn: 0.4545866\ttotal: 28.5s\tremaining: 29.9s\n",
      "180:\tlearn: 0.3748172\ttotal: 30.1s\tremaining: 28.1s\n",
      "190:\tlearn: 0.3105498\ttotal: 32.1s\tremaining: 26.7s\n",
      "200:\tlearn: 0.2509401\ttotal: 33.8s\tremaining: 25.1s\n",
      "210:\tlearn: 0.2007547\ttotal: 35.8s\tremaining: 23.6s\n",
      "220:\tlearn: 0.1564553\ttotal: 37.6s\tremaining: 22s\n",
      "230:\tlearn: 0.1264539\ttotal: 39.5s\tremaining: 20.3s\n",
      "240:\tlearn: 0.1019362\ttotal: 41.1s\tremaining: 18.6s\n",
      "250:\tlearn: 0.0863618\ttotal: 42.9s\tremaining: 16.9s\n",
      "260:\tlearn: 0.0703717\ttotal: 44.5s\tremaining: 15.2s\n",
      "270:\tlearn: 0.0562435\ttotal: 46.8s\tremaining: 13.6s\n",
      "280:\tlearn: 0.0465779\ttotal: 48.6s\tremaining: 11.9s\n",
      "290:\tlearn: 0.0376247\ttotal: 50.8s\tremaining: 10.3s\n",
      "300:\tlearn: 0.0312295\ttotal: 52.8s\tremaining: 8.59s\n",
      "310:\tlearn: 0.0249179\ttotal: 54.7s\tremaining: 6.86s\n",
      "320:\tlearn: 0.0211441\ttotal: 57.1s\tremaining: 5.15s\n",
      "330:\tlearn: 0.0179724\ttotal: 59.1s\tremaining: 3.39s\n",
      "340:\tlearn: 0.0146105\ttotal: 1m\tremaining: 1.6s\n",
      "349:\tlearn: 0.0118147\ttotal: 1m 2s\tremaining: 0us\n",
      "0:\tlearn: 27.2720141\ttotal: 118ms\tremaining: 58.9s\n",
      "10:\tlearn: 14.5157267\ttotal: 1.67s\tremaining: 1m 14s\n",
      "20:\tlearn: 11.4939900\ttotal: 3.16s\tremaining: 1m 12s\n",
      "30:\tlearn: 8.6524769\ttotal: 4.71s\tremaining: 1m 11s\n",
      "40:\tlearn: 6.6666777\ttotal: 6.14s\tremaining: 1m 8s\n",
      "50:\tlearn: 4.9288595\ttotal: 7.72s\tremaining: 1m 8s\n",
      "60:\tlearn: 3.7245255\ttotal: 9.16s\tremaining: 1m 5s\n",
      "70:\tlearn: 2.8640479\ttotal: 10.7s\tremaining: 1m 4s\n",
      "80:\tlearn: 2.2293464\ttotal: 12.2s\tremaining: 1m 2s\n",
      "90:\tlearn: 1.7334500\ttotal: 13.6s\tremaining: 1m 1s\n",
      "100:\tlearn: 1.3125961\ttotal: 15.1s\tremaining: 59.8s\n",
      "110:\tlearn: 0.9419974\ttotal: 16.8s\tremaining: 58.8s\n",
      "120:\tlearn: 0.7400770\ttotal: 18.5s\tremaining: 57.9s\n",
      "130:\tlearn: 0.6078441\ttotal: 20.4s\tremaining: 57.4s\n",
      "140:\tlearn: 0.4575440\ttotal: 22.1s\tremaining: 56.4s\n",
      "150:\tlearn: 0.3500255\ttotal: 23.9s\tremaining: 55.2s\n",
      "160:\tlearn: 0.2848396\ttotal: 25.6s\tremaining: 53.8s\n",
      "170:\tlearn: 0.2111535\ttotal: 27.2s\tremaining: 52.4s\n",
      "180:\tlearn: 0.1668930\ttotal: 28.8s\tremaining: 50.7s\n",
      "190:\tlearn: 0.1344523\ttotal: 30.3s\tremaining: 49.1s\n",
      "200:\tlearn: 0.1014946\ttotal: 31.9s\tremaining: 47.4s\n",
      "210:\tlearn: 0.0817024\ttotal: 33.6s\tremaining: 46.1s\n",
      "220:\tlearn: 0.0656977\ttotal: 35.4s\tremaining: 44.7s\n",
      "230:\tlearn: 0.0481201\ttotal: 37.1s\tremaining: 43.2s\n",
      "240:\tlearn: 0.0378627\ttotal: 39s\tremaining: 41.9s\n",
      "250:\tlearn: 0.0290897\ttotal: 40.8s\tremaining: 40.5s\n",
      "260:\tlearn: 0.0232024\ttotal: 42.7s\tremaining: 39.1s\n",
      "270:\tlearn: 0.0177996\ttotal: 44.6s\tremaining: 37.7s\n",
      "280:\tlearn: 0.0135590\ttotal: 46.7s\tremaining: 36.4s\n",
      "290:\tlearn: 0.0105989\ttotal: 48.7s\tremaining: 35s\n",
      "300:\tlearn: 0.0080122\ttotal: 50.5s\tremaining: 33.4s\n",
      "310:\tlearn: 0.0066570\ttotal: 52.6s\tremaining: 31.9s\n",
      "320:\tlearn: 0.0053791\ttotal: 54.7s\tremaining: 30.5s\n",
      "330:\tlearn: 0.0042235\ttotal: 56.5s\tremaining: 28.9s\n",
      "340:\tlearn: 0.0033566\ttotal: 58.2s\tremaining: 27.1s\n",
      "350:\tlearn: 0.0025109\ttotal: 1m\tremaining: 25.5s\n",
      "360:\tlearn: 0.0019783\ttotal: 1m 1s\tremaining: 23.9s\n",
      "370:\tlearn: 0.0015163\ttotal: 1m 3s\tremaining: 22.2s\n",
      "380:\tlearn: 0.0012260\ttotal: 1m 5s\tremaining: 20.5s\n",
      "390:\tlearn: 0.0009301\ttotal: 1m 7s\tremaining: 18.9s\n",
      "400:\tlearn: 0.0007164\ttotal: 1m 9s\tremaining: 17.2s\n",
      "410:\tlearn: 0.0005835\ttotal: 1m 11s\tremaining: 15.5s\n",
      "420:\tlearn: 0.0004521\ttotal: 1m 13s\tremaining: 13.7s\n",
      "430:\tlearn: 0.0003492\ttotal: 1m 14s\tremaining: 12s\n",
      "440:\tlearn: 0.0002913\ttotal: 1m 16s\tremaining: 10.2s\n",
      "450:\tlearn: 0.0002294\ttotal: 1m 18s\tremaining: 8.52s\n",
      "460:\tlearn: 0.0001779\ttotal: 1m 20s\tremaining: 6.79s\n",
      "470:\tlearn: 0.0001421\ttotal: 1m 21s\tremaining: 5.04s\n",
      "480:\tlearn: 0.0001155\ttotal: 1m 23s\tremaining: 3.3s\n",
      "490:\tlearn: 0.0000883\ttotal: 1m 25s\tremaining: 1.56s\n",
      "499:\tlearn: 0.0000727\ttotal: 1m 26s\tremaining: 0us\n",
      "0:\tlearn: 29.9226108\ttotal: 106ms\tremaining: 52.7s\n",
      "10:\tlearn: 21.6652592\ttotal: 1.78s\tremaining: 1m 18s\n",
      "20:\tlearn: 17.7591010\ttotal: 3.6s\tremaining: 1m 22s\n",
      "30:\tlearn: 15.4689195\ttotal: 5.3s\tremaining: 1m 20s\n",
      "40:\tlearn: 13.8338085\ttotal: 6.86s\tremaining: 1m 16s\n",
      "50:\tlearn: 12.6001032\ttotal: 8.67s\tremaining: 1m 16s\n",
      "60:\tlearn: 11.5051985\ttotal: 10.5s\tremaining: 1m 15s\n",
      "70:\tlearn: 10.6532429\ttotal: 12.2s\tremaining: 1m 13s\n",
      "80:\tlearn: 9.9004192\ttotal: 13.8s\tremaining: 1m 11s\n",
      "90:\tlearn: 9.3310189\ttotal: 15.5s\tremaining: 1m 9s\n",
      "100:\tlearn: 8.7445547\ttotal: 17.3s\tremaining: 1m 8s\n",
      "110:\tlearn: 8.3503277\ttotal: 18.8s\tremaining: 1m 6s\n",
      "120:\tlearn: 7.9625870\ttotal: 20.4s\tremaining: 1m 3s\n",
      "130:\tlearn: 7.5038790\ttotal: 22.1s\tremaining: 1m 2s\n",
      "140:\tlearn: 7.0384026\ttotal: 23.9s\tremaining: 1m\n",
      "150:\tlearn: 6.5702065\ttotal: 25.5s\tremaining: 59s\n",
      "160:\tlearn: 6.2081871\ttotal: 27.4s\tremaining: 57.7s\n",
      "170:\tlearn: 5.6822617\ttotal: 29.1s\tremaining: 56.1s\n",
      "180:\tlearn: 5.3538686\ttotal: 30.8s\tremaining: 54.3s\n",
      "190:\tlearn: 4.9902474\ttotal: 32.6s\tremaining: 52.7s\n",
      "200:\tlearn: 4.7018983\ttotal: 34.1s\tremaining: 50.7s\n",
      "210:\tlearn: 4.3253397\ttotal: 35.5s\tremaining: 48.7s\n",
      "220:\tlearn: 4.1843163\ttotal: 36.9s\tremaining: 46.5s\n",
      "230:\tlearn: 3.9318777\ttotal: 38.3s\tremaining: 44.6s\n",
      "240:\tlearn: 3.6430472\ttotal: 39.8s\tremaining: 42.8s\n",
      "250:\tlearn: 3.3801295\ttotal: 41.4s\tremaining: 41.1s\n",
      "260:\tlearn: 3.1427391\ttotal: 43.1s\tremaining: 39.5s\n",
      "270:\tlearn: 2.9394767\ttotal: 44.9s\tremaining: 37.9s\n",
      "280:\tlearn: 2.7721826\ttotal: 46.3s\tremaining: 36.1s\n",
      "290:\tlearn: 2.6269864\ttotal: 48s\tremaining: 34.5s\n",
      "300:\tlearn: 2.4874418\ttotal: 49.5s\tremaining: 32.8s\n",
      "310:\tlearn: 2.3677457\ttotal: 51.2s\tremaining: 31.1s\n",
      "320:\tlearn: 2.2231829\ttotal: 52.9s\tremaining: 29.5s\n",
      "330:\tlearn: 2.1018623\ttotal: 54.5s\tremaining: 27.8s\n",
      "340:\tlearn: 1.9838202\ttotal: 55.9s\tremaining: 26.1s\n",
      "350:\tlearn: 1.8653953\ttotal: 57.8s\tremaining: 24.5s\n",
      "360:\tlearn: 1.7281073\ttotal: 59.4s\tremaining: 22.9s\n",
      "370:\tlearn: 1.6438005\ttotal: 1m 1s\tremaining: 21.3s\n",
      "380:\tlearn: 1.5757141\ttotal: 1m 3s\tremaining: 19.7s\n",
      "390:\tlearn: 1.4936697\ttotal: 1m 4s\tremaining: 18.1s\n",
      "400:\tlearn: 1.4001354\ttotal: 1m 6s\tremaining: 16.5s\n",
      "410:\tlearn: 1.3205417\ttotal: 1m 8s\tremaining: 14.9s\n",
      "420:\tlearn: 1.2408719\ttotal: 1m 10s\tremaining: 13.3s\n",
      "430:\tlearn: 1.1646092\ttotal: 1m 12s\tremaining: 11.6s\n",
      "440:\tlearn: 1.0869785\ttotal: 1m 14s\tremaining: 9.96s\n",
      "450:\tlearn: 1.0000862\ttotal: 1m 16s\tremaining: 8.29s\n",
      "460:\tlearn: 0.9225788\ttotal: 1m 17s\tremaining: 6.58s\n",
      "470:\tlearn: 0.8714113\ttotal: 1m 19s\tremaining: 4.88s\n",
      "480:\tlearn: 0.8068428\ttotal: 1m 20s\tremaining: 3.2s\n",
      "490:\tlearn: 0.7605095\ttotal: 1m 22s\tremaining: 1.51s\n",
      "499:\tlearn: 0.7161242\ttotal: 1m 24s\tremaining: 0us\n",
      "0:\tlearn: 28.4728009\ttotal: 131ms\tremaining: 26.1s\n",
      "10:\tlearn: 20.1293500\ttotal: 1.43s\tremaining: 24.6s\n",
      "20:\tlearn: 15.8488118\ttotal: 2.83s\tremaining: 24.1s\n",
      "30:\tlearn: 13.2952815\ttotal: 4.39s\tremaining: 23.9s\n",
      "40:\tlearn: 11.6219495\ttotal: 6.03s\tremaining: 23.4s\n",
      "50:\tlearn: 10.3266245\ttotal: 7.42s\tremaining: 21.7s\n",
      "60:\tlearn: 9.2046085\ttotal: 8.73s\tremaining: 19.9s\n",
      "70:\tlearn: 8.3861053\ttotal: 10.1s\tremaining: 18.3s\n",
      "80:\tlearn: 7.6205778\ttotal: 11.4s\tremaining: 16.7s\n",
      "90:\tlearn: 6.8937266\ttotal: 12.8s\tremaining: 15.3s\n",
      "100:\tlearn: 6.3508575\ttotal: 14.3s\tremaining: 14s\n",
      "110:\tlearn: 5.6536439\ttotal: 15.8s\tremaining: 12.7s\n",
      "120:\tlearn: 5.1673595\ttotal: 17.3s\tremaining: 11.3s\n",
      "130:\tlearn: 4.6550330\ttotal: 18.8s\tremaining: 9.88s\n",
      "140:\tlearn: 4.1514181\ttotal: 20.4s\tremaining: 8.54s\n",
      "150:\tlearn: 3.7561727\ttotal: 21.8s\tremaining: 7.08s\n",
      "160:\tlearn: 3.4243239\ttotal: 23.2s\tremaining: 5.63s\n",
      "170:\tlearn: 3.1126125\ttotal: 24.6s\tremaining: 4.18s\n",
      "180:\tlearn: 2.8843753\ttotal: 25.9s\tremaining: 2.72s\n",
      "190:\tlearn: 2.5884468\ttotal: 27.5s\tremaining: 1.29s\n",
      "199:\tlearn: 2.3529528\ttotal: 28.8s\tremaining: 0us\n",
      "0:\tlearn: 32.2738687\ttotal: 223ms\tremaining: 44.3s\n",
      "10:\tlearn: 23.4547004\ttotal: 2.08s\tremaining: 35.7s\n",
      "20:\tlearn: 19.6676902\ttotal: 3.97s\tremaining: 33.9s\n",
      "30:\tlearn: 17.4939833\ttotal: 5.8s\tremaining: 31.6s\n",
      "40:\tlearn: 16.3241141\ttotal: 7.39s\tremaining: 28.7s\n",
      "50:\tlearn: 15.3316691\ttotal: 9.4s\tremaining: 27.5s\n",
      "60:\tlearn: 14.3531633\ttotal: 11.3s\tremaining: 25.8s\n",
      "70:\tlearn: 13.4771351\ttotal: 13.4s\tremaining: 24.3s\n",
      "80:\tlearn: 12.8180162\ttotal: 15.5s\tremaining: 22.7s\n",
      "90:\tlearn: 12.1251001\ttotal: 17.2s\tremaining: 20.6s\n",
      "100:\tlearn: 11.6203458\ttotal: 19s\tremaining: 18.7s\n",
      "110:\tlearn: 11.1273310\ttotal: 20.9s\tremaining: 16.7s\n",
      "120:\tlearn: 10.5835365\ttotal: 22.5s\tremaining: 14.7s\n",
      "130:\tlearn: 10.1918128\ttotal: 24.1s\tremaining: 12.7s\n",
      "140:\tlearn: 9.6330165\ttotal: 26s\tremaining: 10.9s\n",
      "150:\tlearn: 9.1999243\ttotal: 27.6s\tremaining: 8.94s\n",
      "160:\tlearn: 8.6934195\ttotal: 29.3s\tremaining: 7.09s\n",
      "170:\tlearn: 8.2037149\ttotal: 31.1s\tremaining: 5.28s\n",
      "180:\tlearn: 7.8234232\ttotal: 32.8s\tremaining: 3.45s\n",
      "190:\tlearn: 7.3503227\ttotal: 34.6s\tremaining: 1.63s\n",
      "199:\tlearn: 6.9754079\ttotal: 36.5s\tremaining: 0us\n",
      "0:\tlearn: 30.2911236\ttotal: 138ms\tremaining: 1m 8s\n",
      "10:\tlearn: 24.9818501\ttotal: 1.67s\tremaining: 1m 14s\n",
      "20:\tlearn: 21.5884646\ttotal: 3.46s\tremaining: 1m 19s\n",
      "30:\tlearn: 19.2109658\ttotal: 5.43s\tremaining: 1m 22s\n",
      "40:\tlearn: 17.5166737\ttotal: 7.14s\tremaining: 1m 19s\n",
      "50:\tlearn: 16.2252738\ttotal: 8.81s\tremaining: 1m 17s\n",
      "60:\tlearn: 15.0516459\ttotal: 10.5s\tremaining: 1m 15s\n",
      "70:\tlearn: 14.1184659\ttotal: 12s\tremaining: 1m 12s\n",
      "80:\tlearn: 13.3926112\ttotal: 13.5s\tremaining: 1m 9s\n",
      "90:\tlearn: 12.7316418\ttotal: 14.8s\tremaining: 1m 6s\n",
      "100:\tlearn: 12.0509345\ttotal: 16.2s\tremaining: 1m 4s\n",
      "110:\tlearn: 11.4935628\ttotal: 17.6s\tremaining: 1m 1s\n",
      "120:\tlearn: 10.9543151\ttotal: 19.4s\tremaining: 1m\n",
      "130:\tlearn: 10.4886830\ttotal: 21s\tremaining: 59.3s\n",
      "140:\tlearn: 9.9884904\ttotal: 22.7s\tremaining: 57.7s\n",
      "150:\tlearn: 9.5137181\ttotal: 24.1s\tremaining: 55.7s\n",
      "160:\tlearn: 9.1680375\ttotal: 25.4s\tremaining: 53.5s\n",
      "170:\tlearn: 8.8863743\ttotal: 26.9s\tremaining: 51.7s\n",
      "180:\tlearn: 8.6307230\ttotal: 28.2s\tremaining: 49.7s\n",
      "190:\tlearn: 8.3293113\ttotal: 29.7s\tremaining: 48s\n",
      "200:\tlearn: 8.0672186\ttotal: 31.2s\tremaining: 46.4s\n",
      "210:\tlearn: 7.8124709\ttotal: 32.7s\tremaining: 44.8s\n",
      "220:\tlearn: 7.5640630\ttotal: 34.1s\tremaining: 43.1s\n",
      "230:\tlearn: 7.2768609\ttotal: 35.6s\tremaining: 41.5s\n",
      "240:\tlearn: 7.0787721\ttotal: 37.2s\tremaining: 40s\n",
      "250:\tlearn: 6.8895856\ttotal: 38.9s\tremaining: 38.6s\n",
      "260:\tlearn: 6.6476437\ttotal: 40.4s\tremaining: 37s\n",
      "270:\tlearn: 6.3396977\ttotal: 41.9s\tremaining: 35.4s\n",
      "280:\tlearn: 6.1085224\ttotal: 43.5s\tremaining: 33.9s\n",
      "290:\tlearn: 5.8631009\ttotal: 45.1s\tremaining: 32.4s\n",
      "300:\tlearn: 5.6981787\ttotal: 46.6s\tremaining: 30.8s\n",
      "310:\tlearn: 5.5709331\ttotal: 48.1s\tremaining: 29.2s\n",
      "320:\tlearn: 5.3958816\ttotal: 49.6s\tremaining: 27.6s\n",
      "330:\tlearn: 5.1630798\ttotal: 51.2s\tremaining: 26.2s\n",
      "340:\tlearn: 4.9828385\ttotal: 52.7s\tremaining: 24.6s\n",
      "350:\tlearn: 4.8277481\ttotal: 54.1s\tremaining: 23s\n",
      "360:\tlearn: 4.6315999\ttotal: 55.5s\tremaining: 21.4s\n",
      "370:\tlearn: 4.4621066\ttotal: 56.9s\tremaining: 19.8s\n",
      "380:\tlearn: 4.3494302\ttotal: 58.4s\tremaining: 18.2s\n",
      "390:\tlearn: 4.1305972\ttotal: 59.8s\tremaining: 16.7s\n",
      "400:\tlearn: 3.9669425\ttotal: 1m 1s\tremaining: 15.1s\n",
      "410:\tlearn: 3.8328512\ttotal: 1m 2s\tremaining: 13.6s\n",
      "420:\tlearn: 3.6869479\ttotal: 1m 4s\tremaining: 12.1s\n",
      "430:\tlearn: 3.5543608\ttotal: 1m 6s\tremaining: 10.6s\n",
      "440:\tlearn: 3.4575979\ttotal: 1m 7s\tremaining: 9.04s\n",
      "450:\tlearn: 3.3389994\ttotal: 1m 9s\tremaining: 7.51s\n",
      "460:\tlearn: 3.2000726\ttotal: 1m 10s\tremaining: 5.96s\n",
      "470:\tlearn: 3.1081637\ttotal: 1m 11s\tremaining: 4.42s\n",
      "480:\tlearn: 3.0139634\ttotal: 1m 13s\tremaining: 2.89s\n",
      "490:\tlearn: 2.8831498\ttotal: 1m 14s\tremaining: 1.36s\n",
      "499:\tlearn: 2.7751302\ttotal: 1m 15s\tremaining: 0us\n"
     ]
    },
    {
     "name": "stdout",
     "output_type": "stream",
     "text": [
      "80:\tlearn: 22.5508713\ttotal: 649ms\tremaining: 953ms\n",
      "90:\tlearn: 22.3619088\ttotal: 778ms\tremaining: 932ms\n",
      "100:\tlearn: 22.1781125\ttotal: 923ms\tremaining: 905ms\n",
      "110:\tlearn: 22.0229215\ttotal: 949ms\tremaining: 761ms\n",
      "120:\tlearn: 21.8844033\ttotal: 1.13s\tremaining: 737ms\n",
      "130:\tlearn: 21.7661771\ttotal: 1.21s\tremaining: 638ms\n",
      "140:\tlearn: 21.6471082\ttotal: 1.29s\tremaining: 540ms\n",
      "150:\tlearn: 21.5205573\ttotal: 1.38s\tremaining: 446ms\n",
      "160:\tlearn: 21.4149528\ttotal: 1.44s\tremaining: 350ms\n",
      "170:\tlearn: 21.3167975\ttotal: 1.51s\tremaining: 256ms\n",
      "180:\tlearn: 21.1970114\ttotal: 1.55s\tremaining: 163ms\n",
      "190:\tlearn: 21.0765177\ttotal: 1.64s\tremaining: 77.1ms\n",
      "199:\tlearn: 20.9871167\ttotal: 1.69s\tremaining: 0us\n",
      "0:\tlearn: 28.6022172\ttotal: 125ms\tremaining: 1m 2s\n",
      "10:\tlearn: 20.2670600\ttotal: 1.35s\tremaining: 1m\n",
      "20:\tlearn: 15.2943796\ttotal: 2.71s\tremaining: 1m 1s\n",
      "30:\tlearn: 12.0406921\ttotal: 4.02s\tremaining: 1m\n",
      "40:\tlearn: 9.9288191\ttotal: 5.22s\tremaining: 58.4s\n",
      "50:\tlearn: 8.1707630\ttotal: 6.41s\tremaining: 56.4s\n",
      "60:\tlearn: 6.8239968\ttotal: 7.87s\tremaining: 56.6s\n",
      "70:\tlearn: 5.8757574\ttotal: 9.17s\tremaining: 55.4s\n",
      "80:\tlearn: 4.9125668\ttotal: 10.3s\tremaining: 53.5s\n",
      "90:\tlearn: 4.2568406\ttotal: 11.7s\tremaining: 52.7s\n",
      "100:\tlearn: 3.7414352\ttotal: 13.1s\tremaining: 51.6s\n",
      "110:\tlearn: 3.1955278\ttotal: 14.4s\tremaining: 50.3s\n",
      "120:\tlearn: 2.7008902\ttotal: 15.6s\tremaining: 48.7s\n",
      "130:\tlearn: 2.2913890\ttotal: 16.9s\tremaining: 47.5s\n",
      "140:\tlearn: 1.8799768\ttotal: 18.4s\tremaining: 47s\n",
      "150:\tlearn: 1.6267622\ttotal: 19.9s\tremaining: 46.1s\n",
      "160:\tlearn: 1.4135153\ttotal: 21.4s\tremaining: 45s\n",
      "170:\tlearn: 1.2395211\ttotal: 22.7s\tremaining: 43.7s\n",
      "180:\tlearn: 1.0778923\ttotal: 23.9s\tremaining: 42.1s\n",
      "190:\tlearn: 0.9304241\ttotal: 25.3s\tremaining: 41s\n",
      "200:\tlearn: 0.8027623\ttotal: 26.8s\tremaining: 39.9s\n",
      "210:\tlearn: 0.6908362\ttotal: 28.2s\tremaining: 38.6s\n",
      "220:\tlearn: 0.5997862\ttotal: 29.4s\tremaining: 37.1s\n",
      "230:\tlearn: 0.5256366\ttotal: 30.8s\tremaining: 35.8s\n",
      "240:\tlearn: 0.4639116\ttotal: 32.3s\tremaining: 34.7s\n",
      "250:\tlearn: 0.3931762\ttotal: 33.7s\tremaining: 33.4s\n",
      "260:\tlearn: 0.3378420\ttotal: 35.1s\tremaining: 32.1s\n",
      "270:\tlearn: 0.2884567\ttotal: 36.5s\tremaining: 30.9s\n",
      "280:\tlearn: 0.2454953\ttotal: 37.9s\tremaining: 29.5s\n",
      "290:\tlearn: 0.2095150\ttotal: 39.3s\tremaining: 28.3s\n",
      "300:\tlearn: 0.1831751\ttotal: 40.5s\tremaining: 26.8s\n",
      "310:\tlearn: 0.1582068\ttotal: 41.9s\tremaining: 25.5s\n",
      "320:\tlearn: 0.1400118\ttotal: 43.2s\tremaining: 24.1s\n",
      "330:\tlearn: 0.1178964\ttotal: 44.3s\tremaining: 22.6s\n",
      "340:\tlearn: 0.1033180\ttotal: 45.5s\tremaining: 21.2s\n",
      "350:\tlearn: 0.0869363\ttotal: 46.5s\tremaining: 19.7s\n",
      "360:\tlearn: 0.0767268\ttotal: 47.6s\tremaining: 18.3s\n",
      "370:\tlearn: 0.0671008\ttotal: 48.8s\tremaining: 17s\n",
      "380:\tlearn: 0.0574454\ttotal: 50.1s\tremaining: 15.6s\n",
      "390:\tlearn: 0.0507150\ttotal: 51.5s\tremaining: 14.3s\n",
      "400:\tlearn: 0.0441509\ttotal: 52.7s\tremaining: 13s\n",
      "410:\tlearn: 0.0375182\ttotal: 54.1s\tremaining: 11.7s\n",
      "420:\tlearn: 0.0320459\ttotal: 55.5s\tremaining: 10.4s\n",
      "430:\tlearn: 0.0270622\ttotal: 56.6s\tremaining: 9.06s\n",
      "440:\tlearn: 0.0239625\ttotal: 57.9s\tremaining: 7.74s\n",
      "450:\tlearn: 0.0204388\ttotal: 59s\tremaining: 6.41s\n",
      "460:\tlearn: 0.0175682\ttotal: 1m\tremaining: 5.09s\n",
      "470:\tlearn: 0.0148347\ttotal: 1m 1s\tremaining: 3.79s\n",
      "480:\tlearn: 0.0130620\ttotal: 1m 2s\tremaining: 2.48s\n",
      "490:\tlearn: 0.0114120\ttotal: 1m 4s\tremaining: 1.18s\n",
      "499:\tlearn: 0.0098863\ttotal: 1m 5s\tremaining: 0us\n",
      "0:\tlearn: 33.1694571\ttotal: 176ms\tremaining: 1m 27s\n",
      "10:\tlearn: 24.0148233\ttotal: 2.13s\tremaining: 1m 34s\n",
      "20:\tlearn: 20.3767317\ttotal: 3.97s\tremaining: 1m 30s\n",
      "30:\tlearn: 18.4032456\ttotal: 6.14s\tremaining: 1m 32s\n",
      "40:\tlearn: 16.9752039\ttotal: 8.27s\tremaining: 1m 32s\n",
      "50:\tlearn: 15.8954931\ttotal: 10.5s\tremaining: 1m 32s\n",
      "60:\tlearn: 14.9253749\ttotal: 12.6s\tremaining: 1m 30s\n",
      "70:\tlearn: 14.1538453\ttotal: 14.9s\tremaining: 1m 29s\n",
      "80:\tlearn: 13.3373927\ttotal: 17.1s\tremaining: 1m 28s\n",
      "90:\tlearn: 12.6458512\ttotal: 19s\tremaining: 1m 25s\n",
      "100:\tlearn: 12.0038455\ttotal: 20.8s\tremaining: 1m 22s\n",
      "110:\tlearn: 11.3549838\ttotal: 22.5s\tremaining: 1m 18s\n",
      "120:\tlearn: 10.7517890\ttotal: 24.4s\tremaining: 1m 16s\n",
      "130:\tlearn: 10.2302275\ttotal: 26.4s\tremaining: 1m 14s\n",
      "140:\tlearn: 9.7525878\ttotal: 28.3s\tremaining: 1m 12s\n",
      "150:\tlearn: 9.1807641\ttotal: 30.1s\tremaining: 1m 9s\n",
      "160:\tlearn: 8.6864732\ttotal: 32.1s\tremaining: 1m 7s\n",
      "170:\tlearn: 8.2748209\ttotal: 34.1s\tremaining: 1m 5s\n",
      "180:\tlearn: 7.9856570\ttotal: 35.9s\tremaining: 1m 3s\n",
      "190:\tlearn: 7.5838821\ttotal: 37.6s\tremaining: 1m\n",
      "200:\tlearn: 7.2497962\ttotal: 39.3s\tremaining: 58.4s\n",
      "210:\tlearn: 6.8455410\ttotal: 41s\tremaining: 56.1s\n",
      "220:\tlearn: 6.4097372\ttotal: 42.9s\tremaining: 54.1s\n",
      "230:\tlearn: 6.0139547\ttotal: 44.7s\tremaining: 52s\n",
      "240:\tlearn: 5.7797574\ttotal: 46.3s\tremaining: 49.8s\n",
      "250:\tlearn: 5.4681085\ttotal: 48.2s\tremaining: 47.8s\n",
      "260:\tlearn: 5.2423099\ttotal: 50s\tremaining: 45.8s\n",
      "270:\tlearn: 4.9979268\ttotal: 51.7s\tremaining: 43.7s\n",
      "280:\tlearn: 4.7035516\ttotal: 53.4s\tremaining: 41.6s\n",
      "290:\tlearn: 4.4944872\ttotal: 55.1s\tremaining: 39.6s\n",
      "300:\tlearn: 4.2849497\ttotal: 56.9s\tremaining: 37.6s\n",
      "310:\tlearn: 4.0937904\ttotal: 58.9s\tremaining: 35.8s\n",
      "320:\tlearn: 3.8832997\ttotal: 1m 1s\tremaining: 34s\n",
      "330:\tlearn: 3.7020553\ttotal: 1m 2s\tremaining: 32.1s\n",
      "340:\tlearn: 3.4973069\ttotal: 1m 4s\tremaining: 30.2s\n",
      "350:\tlearn: 3.3579491\ttotal: 1m 6s\tremaining: 28.3s\n",
      "360:\tlearn: 3.2154663\ttotal: 1m 8s\tremaining: 26.5s\n",
      "370:\tlearn: 3.0797521\ttotal: 1m 10s\tremaining: 24.7s\n",
      "380:\tlearn: 2.9265144\ttotal: 1m 12s\tremaining: 22.8s\n",
      "390:\tlearn: 2.7688123\ttotal: 1m 14s\tremaining: 20.8s\n",
      "400:\tlearn: 2.6531133\ttotal: 1m 16s\tremaining: 18.9s\n",
      "410:\tlearn: 2.5379223\ttotal: 1m 18s\tremaining: 17s\n",
      "420:\tlearn: 2.4110050\ttotal: 1m 20s\tremaining: 15s\n",
      "430:\tlearn: 2.2956277\ttotal: 1m 21s\tremaining: 13.1s\n",
      "440:\tlearn: 2.1954953\ttotal: 1m 23s\tremaining: 11.2s\n",
      "450:\tlearn: 2.1044363\ttotal: 1m 25s\tremaining: 9.26s\n",
      "460:\tlearn: 2.0195443\ttotal: 1m 26s\tremaining: 7.35s\n",
      "470:\tlearn: 1.9363570\ttotal: 1m 28s\tremaining: 5.46s\n",
      "480:\tlearn: 1.8548930\ttotal: 1m 30s\tremaining: 3.58s\n",
      "490:\tlearn: 1.7682771\ttotal: 1m 32s\tremaining: 1.7s\n",
      "499:\tlearn: 1.6887433\ttotal: 1m 34s\tremaining: 0us\n",
      "0:\tlearn: 30.6140472\ttotal: 133ms\tremaining: 1m 6s\n",
      "10:\tlearn: 25.3114327\ttotal: 1.84s\tremaining: 1m 21s\n",
      "20:\tlearn: 21.9369637\ttotal: 3.91s\tremaining: 1m 29s\n",
      "30:\tlearn: 19.6166428\ttotal: 5.87s\tremaining: 1m 28s\n",
      "40:\tlearn: 17.9267250\ttotal: 7.77s\tremaining: 1m 26s\n",
      "50:\tlearn: 16.6087937\ttotal: 9.41s\tremaining: 1m 22s\n",
      "60:\tlearn: 15.5152529\ttotal: 11s\tremaining: 1m 19s\n",
      "70:\tlearn: 14.6057352\ttotal: 12.7s\tremaining: 1m 16s\n",
      "80:\tlearn: 13.8944099\ttotal: 14.1s\tremaining: 1m 13s\n",
      "90:\tlearn: 13.2689369\ttotal: 15.7s\tremaining: 1m 10s\n",
      "100:\tlearn: 12.5954775\ttotal: 17s\tremaining: 1m 7s\n",
      "110:\tlearn: 12.0702551\ttotal: 18.9s\tremaining: 1m 6s\n",
      "120:\tlearn: 11.6094525\ttotal: 20.6s\tremaining: 1m 4s\n",
      "130:\tlearn: 11.0579681\ttotal: 22.3s\tremaining: 1m 2s\n",
      "140:\tlearn: 10.5947456\ttotal: 23.8s\tremaining: 1m\n",
      "150:\tlearn: 10.2238106\ttotal: 25.3s\tremaining: 58.5s\n",
      "160:\tlearn: 9.9395067\ttotal: 26.8s\tremaining: 56.4s\n",
      "170:\tlearn: 9.5904362\ttotal: 28.1s\tremaining: 54s\n",
      "180:\tlearn: 9.2421665\ttotal: 29.7s\tremaining: 52.4s\n",
      "190:\tlearn: 9.0654362\ttotal: 31.4s\tremaining: 50.9s\n",
      "200:\tlearn: 8.7931979\ttotal: 32.9s\tremaining: 49s\n",
      "210:\tlearn: 8.5501051\ttotal: 34.4s\tremaining: 47.2s\n",
      "220:\tlearn: 8.3341347\ttotal: 36.1s\tremaining: 45.6s\n",
      "230:\tlearn: 8.0623205\ttotal: 37.9s\tremaining: 44.1s\n",
      "240:\tlearn: 7.8563716\ttotal: 39.4s\tremaining: 42.3s\n",
      "250:\tlearn: 7.6324111\ttotal: 40.9s\tremaining: 40.6s\n",
      "260:\tlearn: 7.4241643\ttotal: 42.5s\tremaining: 38.9s\n",
      "270:\tlearn: 7.2046583\ttotal: 44.1s\tremaining: 37.3s\n",
      "280:\tlearn: 6.9459735\ttotal: 45.8s\tremaining: 35.7s\n",
      "290:\tlearn: 6.7218052\ttotal: 47.4s\tremaining: 34.1s\n",
      "300:\tlearn: 6.5164896\ttotal: 49s\tremaining: 32.4s\n",
      "310:\tlearn: 6.3442991\ttotal: 50.7s\tremaining: 30.8s\n",
      "320:\tlearn: 6.1747249\ttotal: 52s\tremaining: 29s\n",
      "330:\tlearn: 5.9750110\ttotal: 53.5s\tremaining: 27.3s\n",
      "340:\tlearn: 5.8168100\ttotal: 55s\tremaining: 25.7s\n",
      "350:\tlearn: 5.6515757\ttotal: 56.6s\tremaining: 24s\n",
      "360:\tlearn: 5.4842122\ttotal: 58s\tremaining: 22.3s\n",
      "370:\tlearn: 5.2610319\ttotal: 59.3s\tremaining: 20.6s\n",
      "380:\tlearn: 5.1147100\ttotal: 1m\tremaining: 19s\n",
      "390:\tlearn: 4.9633812\ttotal: 1m 2s\tremaining: 17.4s\n",
      "400:\tlearn: 4.7860572\ttotal: 1m 4s\tremaining: 15.8s\n",
      "410:\tlearn: 4.6482663\ttotal: 1m 5s\tremaining: 14.3s\n",
      "420:\tlearn: 4.4766824\ttotal: 1m 7s\tremaining: 12.7s\n",
      "430:\tlearn: 4.3262422\ttotal: 1m 9s\tremaining: 11.1s\n",
      "440:\tlearn: 4.1844852\ttotal: 1m 10s\tremaining: 9.43s\n",
      "450:\tlearn: 4.0092118\ttotal: 1m 11s\tremaining: 7.82s\n",
      "460:\tlearn: 3.8819922\ttotal: 1m 13s\tremaining: 6.2s\n",
      "470:\tlearn: 3.7647319\ttotal: 1m 14s\tremaining: 4.6s\n",
      "480:\tlearn: 3.6555644\ttotal: 1m 15s\tremaining: 3s\n",
      "490:\tlearn: 3.5413064\ttotal: 1m 17s\tremaining: 1.41s\n",
      "499:\tlearn: 3.4591420\ttotal: 1m 18s\tremaining: 0us\n"
     ]
    },
    {
     "name": "stdout",
     "output_type": "stream",
     "text": [
      "0:\tlearn: 28.9767926\ttotal: 54.6ms\tremaining: 5.41s\n",
      "10:\tlearn: 22.6006551\ttotal: 76.5ms\tremaining: 619ms\n",
      "20:\tlearn: 21.3829053\ttotal: 96.5ms\tremaining: 363ms\n",
      "30:\tlearn: 20.5820936\ttotal: 118ms\tremaining: 263ms\n",
      "40:\tlearn: 20.0360697\ttotal: 138ms\tremaining: 199ms\n",
      "50:\tlearn: 19.5821675\ttotal: 160ms\tremaining: 153ms\n",
      "60:\tlearn: 19.1967716\ttotal: 179ms\tremaining: 114ms\n",
      "70:\tlearn: 18.8685732\ttotal: 202ms\tremaining: 82.5ms\n",
      "80:\tlearn: 18.4923665\ttotal: 223ms\tremaining: 52.2ms\n",
      "90:\tlearn: 18.1019179\ttotal: 244ms\tremaining: 24.2ms\n",
      "99:\tlearn: 17.8070031\ttotal: 264ms\tremaining: 0us\n",
      "0:\tlearn: 27.8576338\ttotal: 2.67ms\tremaining: 1.33s\n",
      "10:\tlearn: 21.4113389\ttotal: 25.9ms\tremaining: 1.15s\n",
      "20:\tlearn: 20.1869154\ttotal: 44.3ms\tremaining: 1.01s\n",
      "30:\tlearn: 19.3930359\ttotal: 63.3ms\tremaining: 957ms\n",
      "40:\tlearn: 18.8038213\ttotal: 82.1ms\tremaining: 919ms\n",
      "50:\tlearn: 18.3361718\ttotal: 103ms\tremaining: 907ms\n",
      "60:\tlearn: 17.8276881\ttotal: 123ms\tremaining: 885ms\n",
      "70:\tlearn: 17.2932554\ttotal: 143ms\tremaining: 867ms\n",
      "80:\tlearn: 17.0230208\ttotal: 162ms\tremaining: 838ms\n",
      "90:\tlearn: 16.6092662\ttotal: 180ms\tremaining: 808ms\n",
      "100:\tlearn: 16.3404456\ttotal: 197ms\tremaining: 780ms\n",
      "110:\tlearn: 16.0424527\ttotal: 217ms\tremaining: 761ms\n",
      "120:\tlearn: 15.7357597\ttotal: 238ms\tremaining: 746ms\n",
      "130:\tlearn: 15.4230426\ttotal: 258ms\tremaining: 726ms\n",
      "140:\tlearn: 15.1939560\ttotal: 275ms\tremaining: 701ms\n",
      "150:\tlearn: 14.9914131\ttotal: 296ms\tremaining: 684ms\n",
      "160:\tlearn: 14.7304063\ttotal: 313ms\tremaining: 660ms\n",
      "170:\tlearn: 14.5037623\ttotal: 331ms\tremaining: 636ms\n",
      "180:\tlearn: 14.2372719\ttotal: 348ms\tremaining: 614ms\n",
      "190:\tlearn: 14.0744962\ttotal: 368ms\tremaining: 595ms\n",
      "200:\tlearn: 13.8835709\ttotal: 386ms\tremaining: 574ms\n",
      "210:\tlearn: 13.6853215\ttotal: 408ms\tremaining: 559ms\n",
      "220:\tlearn: 13.4408671\ttotal: 428ms\tremaining: 540ms\n",
      "230:\tlearn: 13.2696522\ttotal: 447ms\tremaining: 520ms\n",
      "240:\tlearn: 13.1060793\ttotal: 463ms\tremaining: 497ms\n",
      "250:\tlearn: 12.9375960\ttotal: 481ms\tremaining: 478ms\n",
      "260:\tlearn: 12.8127031\ttotal: 500ms\tremaining: 458ms\n",
      "270:\tlearn: 12.6034038\ttotal: 519ms\tremaining: 439ms\n",
      "280:\tlearn: 12.4598655\ttotal: 539ms\tremaining: 420ms\n",
      "290:\tlearn: 12.2237926\ttotal: 559ms\tremaining: 401ms\n",
      "300:\tlearn: 12.0314714\ttotal: 581ms\tremaining: 384ms\n",
      "310:\tlearn: 11.9028972\ttotal: 598ms\tremaining: 364ms\n",
      "320:\tlearn: 11.7376530\ttotal: 617ms\tremaining: 344ms\n",
      "330:\tlearn: 11.5931247\ttotal: 637ms\tremaining: 325ms\n",
      "340:\tlearn: 11.5212935\ttotal: 660ms\tremaining: 308ms\n",
      "350:\tlearn: 11.3850963\ttotal: 680ms\tremaining: 289ms\n",
      "360:\tlearn: 11.2226471\ttotal: 702ms\tremaining: 270ms\n",
      "370:\tlearn: 11.0856270\ttotal: 720ms\tremaining: 250ms\n",
      "380:\tlearn: 10.9874318\ttotal: 739ms\tremaining: 231ms\n",
      "390:\tlearn: 10.8616303\ttotal: 762ms\tremaining: 212ms\n",
      "400:\tlearn: 10.7150183\ttotal: 791ms\tremaining: 195ms\n",
      "410:\tlearn: 10.6536213\ttotal: 809ms\tremaining: 175ms\n",
      "420:\tlearn: 10.5190315\ttotal: 834ms\tremaining: 157ms\n",
      "430:\tlearn: 10.3949418\ttotal: 857ms\tremaining: 137ms\n",
      "440:\tlearn: 10.3168519\ttotal: 878ms\tremaining: 117ms\n",
      "450:\tlearn: 10.1987982\ttotal: 909ms\tremaining: 98.7ms\n",
      "460:\tlearn: 10.1171979\ttotal: 930ms\tremaining: 78.6ms\n",
      "470:\tlearn: 9.9946693\ttotal: 953ms\tremaining: 58.7ms\n",
      "480:\tlearn: 9.8816751\ttotal: 972ms\tremaining: 38.4ms\n",
      "490:\tlearn: 9.7847974\ttotal: 1.01s\tremaining: 18.6ms\n",
      "499:\tlearn: 9.6826559\ttotal: 1.04s\tremaining: 0us\n",
      "0:\tlearn: 25.2383019\ttotal: 63.7ms\tremaining: 22.2s\n",
      "10:\tlearn: 12.0084715\ttotal: 948ms\tremaining: 29.2s\n",
      "20:\tlearn: 8.6475668\ttotal: 1.94s\tremaining: 30.5s\n",
      "30:\tlearn: 5.9425308\ttotal: 3.13s\tremaining: 32.2s\n",
      "40:\tlearn: 4.1868964\ttotal: 4.39s\tremaining: 33.1s\n",
      "50:\tlearn: 2.8863933\ttotal: 5.59s\tremaining: 32.8s\n",
      "60:\tlearn: 1.9911704\ttotal: 6.8s\tremaining: 32.2s\n",
      "70:\tlearn: 1.3670107\ttotal: 8.13s\tremaining: 31.9s\n",
      "80:\tlearn: 0.9959848\ttotal: 9.5s\tremaining: 31.5s\n",
      "90:\tlearn: 0.7735197\ttotal: 10.8s\tremaining: 30.7s\n",
      "100:\tlearn: 0.5406040\ttotal: 12.1s\tremaining: 29.7s\n",
      "110:\tlearn: 0.3736270\ttotal: 13.4s\tremaining: 28.8s\n",
      "120:\tlearn: 0.2852833\ttotal: 14.7s\tremaining: 27.7s\n",
      "130:\tlearn: 0.1862351\ttotal: 15.9s\tremaining: 26.6s\n",
      "140:\tlearn: 0.1270905\ttotal: 17.2s\tremaining: 25.4s\n",
      "150:\tlearn: 0.0901930\ttotal: 18.5s\tremaining: 24.4s\n",
      "160:\tlearn: 0.0663249\ttotal: 19.8s\tremaining: 23.3s\n",
      "170:\tlearn: 0.0485034\ttotal: 21.2s\tremaining: 22.2s\n",
      "180:\tlearn: 0.0379953\ttotal: 22.6s\tremaining: 21.1s\n",
      "190:\tlearn: 0.0277847\ttotal: 23.9s\tremaining: 19.9s\n",
      "200:\tlearn: 0.0186672\ttotal: 25.3s\tremaining: 18.8s\n",
      "210:\tlearn: 0.0129802\ttotal: 26.7s\tremaining: 17.6s\n",
      "220:\tlearn: 0.0095858\ttotal: 28s\tremaining: 16.3s\n",
      "230:\tlearn: 0.0068950\ttotal: 29.2s\tremaining: 15.1s\n",
      "240:\tlearn: 0.0049114\ttotal: 30.6s\tremaining: 13.8s\n",
      "250:\tlearn: 0.0036096\ttotal: 31.9s\tremaining: 12.6s\n",
      "260:\tlearn: 0.0026066\ttotal: 33.2s\tremaining: 11.3s\n",
      "270:\tlearn: 0.0019409\ttotal: 34.5s\tremaining: 10.1s\n",
      "280:\tlearn: 0.0013264\ttotal: 35.9s\tremaining: 8.82s\n",
      "290:\tlearn: 0.0009129\ttotal: 37.3s\tremaining: 7.55s\n",
      "300:\tlearn: 0.0007220\ttotal: 38.7s\tremaining: 6.3s\n",
      "310:\tlearn: 0.0005131\ttotal: 40.1s\tremaining: 5.03s\n",
      "320:\tlearn: 0.0003598\ttotal: 41.5s\tremaining: 3.75s\n",
      "330:\tlearn: 0.0002412\ttotal: 43s\tremaining: 2.47s\n",
      "340:\tlearn: 0.0001663\ttotal: 44.4s\tremaining: 1.17s\n",
      "349:\tlearn: 0.0001126\ttotal: 45.8s\tremaining: 0us\n",
      "0:\tlearn: 30.5362039\ttotal: 5.87ms\tremaining: 1.17s\n",
      "10:\tlearn: 26.1444336\ttotal: 26.8ms\tremaining: 461ms\n",
      "20:\tlearn: 23.9866585\ttotal: 68.8ms\tremaining: 587ms\n",
      "30:\tlearn: 22.7429180\ttotal: 113ms\tremaining: 614ms\n",
      "40:\tlearn: 22.0645945\ttotal: 125ms\tremaining: 486ms\n",
      "50:\tlearn: 21.6582867\ttotal: 155ms\tremaining: 454ms\n",
      "60:\tlearn: 21.3998672\ttotal: 196ms\tremaining: 448ms\n",
      "70:\tlearn: 21.1581340\ttotal: 241ms\tremaining: 437ms\n",
      "80:\tlearn: 20.9668730\ttotal: 260ms\tremaining: 382ms\n",
      "90:\tlearn: 20.7840635\ttotal: 284ms\tremaining: 340ms\n",
      "100:\tlearn: 20.6383994\ttotal: 302ms\tremaining: 296ms\n",
      "110:\tlearn: 20.5073397\ttotal: 331ms\tremaining: 266ms\n",
      "120:\tlearn: 20.4041575\ttotal: 351ms\tremaining: 229ms\n",
      "130:\tlearn: 20.2921742\ttotal: 363ms\tremaining: 191ms\n",
      "140:\tlearn: 20.1866450\ttotal: 401ms\tremaining: 168ms\n",
      "150:\tlearn: 20.0988474\ttotal: 422ms\tremaining: 137ms\n",
      "160:\tlearn: 20.0150055\ttotal: 458ms\tremaining: 111ms\n",
      "170:\tlearn: 19.9311841\ttotal: 481ms\tremaining: 81.5ms\n",
      "180:\tlearn: 19.8494758\ttotal: 622ms\tremaining: 65.3ms\n",
      "190:\tlearn: 19.7752410\ttotal: 636ms\tremaining: 29.9ms\n",
      "199:\tlearn: 19.7121746\ttotal: 738ms\tremaining: 0us\n",
      "0:\tlearn: 32.4601868\ttotal: 2.47ms\tremaining: 491ms\n",
      "10:\tlearn: 27.5547598\ttotal: 89.1ms\tremaining: 1.53s\n",
      "20:\tlearn: 25.3439333\ttotal: 193ms\tremaining: 1.64s\n",
      "30:\tlearn: 24.0677043\ttotal: 251ms\tremaining: 1.37s\n",
      "40:\tlearn: 23.3695147\ttotal: 284ms\tremaining: 1.1s\n",
      "50:\tlearn: 22.9319330\ttotal: 344ms\tremaining: 1s\n",
      "60:\tlearn: 22.6418404\ttotal: 422ms\tremaining: 961ms\n",
      "70:\tlearn: 22.4134929\ttotal: 448ms\tremaining: 815ms\n",
      "80:\tlearn: 22.2326145\ttotal: 466ms\tremaining: 685ms\n",
      "90:\tlearn: 22.0746925\ttotal: 556ms\tremaining: 665ms\n",
      "100:\tlearn: 21.9398010\ttotal: 573ms\tremaining: 562ms\n",
      "110:\tlearn: 21.8137000\ttotal: 584ms\tremaining: 468ms\n",
      "120:\tlearn: 21.7053891\ttotal: 627ms\tremaining: 409ms\n",
      "130:\tlearn: 21.6035101\ttotal: 657ms\tremaining: 346ms\n",
      "140:\tlearn: 21.5121942\ttotal: 698ms\tremaining: 292ms\n",
      "150:\tlearn: 21.4357398\ttotal: 720ms\tremaining: 234ms\n",
      "160:\tlearn: 21.3621968\ttotal: 795ms\tremaining: 193ms\n",
      "170:\tlearn: 21.2976064\ttotal: 815ms\tremaining: 138ms\n",
      "180:\tlearn: 21.2331508\ttotal: 825ms\tremaining: 86.6ms\n",
      "190:\tlearn: 21.1797825\ttotal: 850ms\tremaining: 40ms\n",
      "199:\tlearn: 21.1250006\ttotal: 877ms\tremaining: 0us\n",
      "0:\tlearn: 33.7105619\ttotal: 1.62ms\tremaining: 323ms\n",
      "10:\tlearn: 28.5281641\ttotal: 20.2ms\tremaining: 346ms\n",
      "20:\tlearn: 26.3053597\ttotal: 72.5ms\tremaining: 618ms\n",
      "30:\tlearn: 25.1645280\ttotal: 115ms\tremaining: 626ms\n",
      "40:\tlearn: 24.5136307\ttotal: 193ms\tremaining: 747ms\n",
      "50:\tlearn: 24.1163489\ttotal: 220ms\tremaining: 644ms\n",
      "60:\tlearn: 23.8464036\ttotal: 270ms\tremaining: 616ms\n",
      "70:\tlearn: 23.6388407\ttotal: 290ms\tremaining: 528ms\n",
      "80:\tlearn: 23.4549595\ttotal: 311ms\tremaining: 456ms\n",
      "90:\tlearn: 23.2874417\ttotal: 361ms\tremaining: 433ms\n",
      "100:\tlearn: 23.1546018\ttotal: 409ms\tremaining: 401ms\n",
      "110:\tlearn: 23.0384293\ttotal: 436ms\tremaining: 349ms\n",
      "120:\tlearn: 22.9369076\ttotal: 502ms\tremaining: 328ms\n",
      "130:\tlearn: 22.8461122\ttotal: 594ms\tremaining: 313ms\n",
      "140:\tlearn: 22.7662827\ttotal: 636ms\tremaining: 266ms\n",
      "150:\tlearn: 22.7001091\ttotal: 667ms\tremaining: 216ms\n",
      "160:\tlearn: 22.6339356\ttotal: 777ms\tremaining: 188ms\n",
      "170:\tlearn: 22.5739680\ttotal: 855ms\tremaining: 145ms\n",
      "180:\tlearn: 22.5166357\ttotal: 906ms\tremaining: 95.1ms\n",
      "190:\tlearn: 22.4606056\ttotal: 976ms\tremaining: 46ms\n",
      "199:\tlearn: 22.4122175\ttotal: 1s\tremaining: 0us\n",
      "0:\tlearn: 24.0345803\ttotal: 138ms\tremaining: 1m 8s\n",
      "10:\tlearn: 9.1520341\ttotal: 1.56s\tremaining: 1m 9s\n",
      "20:\tlearn: 5.0774260\ttotal: 2.92s\tremaining: 1m 6s\n",
      "30:\tlearn: 2.7278834\ttotal: 4.59s\tremaining: 1m 9s\n",
      "40:\tlearn: 1.5935221\ttotal: 6.06s\tremaining: 1m 7s\n",
      "50:\tlearn: 0.9272049\ttotal: 7.29s\tremaining: 1m 4s\n",
      "60:\tlearn: 0.5494911\ttotal: 8.52s\tremaining: 1m 1s\n",
      "70:\tlearn: 0.3313013\ttotal: 9.84s\tremaining: 59.5s\n",
      "80:\tlearn: 0.1980496\ttotal: 11s\tremaining: 56.9s\n",
      "90:\tlearn: 0.1243817\ttotal: 12.3s\tremaining: 55.3s\n",
      "100:\tlearn: 0.0706164\ttotal: 13.6s\tremaining: 53.6s\n",
      "110:\tlearn: 0.0375169\ttotal: 14.7s\tremaining: 51.6s\n",
      "120:\tlearn: 0.0233370\ttotal: 16s\tremaining: 50s\n",
      "130:\tlearn: 0.0123328\ttotal: 17.1s\tremaining: 48.3s\n",
      "140:\tlearn: 0.0067625\ttotal: 18.5s\tremaining: 47.1s\n",
      "150:\tlearn: 0.0041067\ttotal: 19.9s\tremaining: 45.9s\n",
      "160:\tlearn: 0.0023668\ttotal: 21.2s\tremaining: 44.6s\n",
      "170:\tlearn: 0.0014464\ttotal: 22.8s\tremaining: 43.8s\n",
      "180:\tlearn: 0.0009080\ttotal: 24.2s\tremaining: 42.6s\n",
      "190:\tlearn: 0.0005388\ttotal: 25.7s\tremaining: 41.6s\n",
      "200:\tlearn: 0.0003243\ttotal: 27s\tremaining: 40.1s\n",
      "210:\tlearn: 0.0001844\ttotal: 28.3s\tremaining: 38.7s\n",
      "220:\tlearn: 0.0001212\ttotal: 29.5s\tremaining: 37.3s\n",
      "230:\tlearn: 0.0000721\ttotal: 31s\tremaining: 36.2s\n",
      "240:\tlearn: 0.0000433\ttotal: 32.3s\tremaining: 34.8s\n",
      "250:\tlearn: 0.0000247\ttotal: 33.9s\tremaining: 33.6s\n",
      "260:\tlearn: 0.0000165\ttotal: 35.3s\tremaining: 32.4s\n",
      "270:\tlearn: 0.0000103\ttotal: 36.8s\tremaining: 31.1s\n",
      "280:\tlearn: 0.0000061\ttotal: 38.6s\tremaining: 30.1s\n",
      "290:\tlearn: 0.0000039\ttotal: 40.3s\tremaining: 28.9s\n",
      "300:\tlearn: 0.0000028\ttotal: 42s\tremaining: 27.7s\n",
      "310:\tlearn: 0.0000017\ttotal: 43.8s\tremaining: 26.6s\n",
      "320:\tlearn: 0.0000011\ttotal: 45.5s\tremaining: 25.4s\n",
      "330:\tlearn: 0.0000006\ttotal: 46.9s\tremaining: 24s\n",
      "340:\tlearn: 0.0000003\ttotal: 48.1s\tremaining: 22.4s\n",
      "350:\tlearn: 0.0000002\ttotal: 49.3s\tremaining: 20.9s\n",
      "360:\tlearn: 0.0000001\ttotal: 50.4s\tremaining: 19.4s\n",
      "370:\tlearn: 0.0000001\ttotal: 51.6s\tremaining: 17.9s\n",
      "380:\tlearn: 0.0000000\ttotal: 52.9s\tremaining: 16.5s\n",
      "390:\tlearn: 0.0000000\ttotal: 54.1s\tremaining: 15.1s\n",
      "400:\tlearn: 0.0000000\ttotal: 55.3s\tremaining: 13.7s\n",
      "410:\tlearn: 0.0000000\ttotal: 56.6s\tremaining: 12.2s\n",
      "420:\tlearn: 0.0000000\ttotal: 57.9s\tremaining: 10.9s\n",
      "430:\tlearn: 0.0000000\ttotal: 59.2s\tremaining: 9.47s\n",
      "440:\tlearn: 0.0000000\ttotal: 1m\tremaining: 8.08s\n",
      "450:\tlearn: 0.0000000\ttotal: 1m 1s\tremaining: 6.7s\n",
      "460:\tlearn: 0.0000000\ttotal: 1m 2s\tremaining: 5.31s\n",
      "470:\tlearn: 0.0000000\ttotal: 1m 4s\tremaining: 3.95s\n",
      "480:\tlearn: 0.0000000\ttotal: 1m 5s\tremaining: 2.59s\n",
      "490:\tlearn: 0.0000000\ttotal: 1m 6s\tremaining: 1.23s\n",
      "499:\tlearn: 0.0000000\ttotal: 1m 8s\tremaining: 0us\n",
      "0:\tlearn: 29.2988851\ttotal: 201ms\tremaining: 1m 40s\n",
      "10:\tlearn: 17.4738139\ttotal: 2.21s\tremaining: 1m 38s\n",
      "20:\tlearn: 13.8626765\ttotal: 4.09s\tremaining: 1m 33s\n",
      "30:\tlearn: 10.5612567\ttotal: 5.89s\tremaining: 1m 29s\n",
      "40:\tlearn: 8.4946566\ttotal: 7.67s\tremaining: 1m 25s\n",
      "50:\tlearn: 7.0834622\ttotal: 9.34s\tremaining: 1m 22s\n",
      "60:\tlearn: 5.9054201\ttotal: 11.1s\tremaining: 1m 19s\n",
      "70:\tlearn: 4.9147028\ttotal: 12.9s\tremaining: 1m 17s\n",
      "80:\tlearn: 4.0487708\ttotal: 14.8s\tremaining: 1m 16s\n",
      "90:\tlearn: 3.2953073\ttotal: 16.6s\tremaining: 1m 14s\n",
      "100:\tlearn: 2.6492055\ttotal: 18.3s\tremaining: 1m 12s\n",
      "110:\tlearn: 2.2037409\ttotal: 20.2s\tremaining: 1m 10s\n",
      "120:\tlearn: 1.8318989\ttotal: 22.2s\tremaining: 1m 9s\n",
      "130:\tlearn: 1.5026165\ttotal: 24.4s\tremaining: 1m 8s\n",
      "140:\tlearn: 1.2052859\ttotal: 26.6s\tremaining: 1m 7s\n",
      "150:\tlearn: 0.9982824\ttotal: 28.6s\tremaining: 1m 6s\n",
      "160:\tlearn: 0.8615360\ttotal: 30.9s\tremaining: 1m 5s\n",
      "170:\tlearn: 0.6992028\ttotal: 32.9s\tremaining: 1m 3s\n",
      "180:\tlearn: 0.5421290\ttotal: 35.2s\tremaining: 1m 2s\n",
      "190:\tlearn: 0.4410462\ttotal: 37.3s\tremaining: 1m\n",
      "200:\tlearn: 0.3718479\ttotal: 39.2s\tremaining: 58.3s\n",
      "210:\tlearn: 0.3138818\ttotal: 41.3s\tremaining: 56.5s\n",
      "220:\tlearn: 0.2589212\ttotal: 43.3s\tremaining: 54.7s\n",
      "230:\tlearn: 0.2138600\ttotal: 45.2s\tremaining: 52.7s\n",
      "240:\tlearn: 0.1834634\ttotal: 47.4s\tremaining: 51s\n",
      "250:\tlearn: 0.1575522\ttotal: 49.6s\tremaining: 49.2s\n",
      "260:\tlearn: 0.1285577\ttotal: 51.9s\tremaining: 47.5s\n",
      "270:\tlearn: 0.1090853\ttotal: 53.5s\tremaining: 45.2s\n",
      "280:\tlearn: 0.0906011\ttotal: 55.4s\tremaining: 43.1s\n",
      "290:\tlearn: 0.0782800\ttotal: 57.3s\tremaining: 41.1s\n",
      "300:\tlearn: 0.0663176\ttotal: 59.3s\tremaining: 39.2s\n",
      "310:\tlearn: 0.0543471\ttotal: 1m 1s\tremaining: 37.2s\n",
      "320:\tlearn: 0.0448147\ttotal: 1m 3s\tremaining: 35.2s\n",
      "330:\tlearn: 0.0397412\ttotal: 1m 4s\tremaining: 33.2s\n",
      "340:\tlearn: 0.0324309\ttotal: 1m 6s\tremaining: 31.1s\n",
      "350:\tlearn: 0.0260263\ttotal: 1m 8s\tremaining: 29.1s\n",
      "360:\tlearn: 0.0211433\ttotal: 1m 10s\tremaining: 27.2s\n",
      "370:\tlearn: 0.0170388\ttotal: 1m 12s\tremaining: 25.3s\n",
      "380:\tlearn: 0.0149129\ttotal: 1m 14s\tremaining: 23.2s\n",
      "390:\tlearn: 0.0126535\ttotal: 1m 16s\tremaining: 21.3s\n",
      "400:\tlearn: 0.0102513\ttotal: 1m 18s\tremaining: 19.4s\n",
      "410:\tlearn: 0.0084389\ttotal: 1m 20s\tremaining: 17.5s\n",
      "420:\tlearn: 0.0068716\ttotal: 1m 22s\tremaining: 15.5s\n",
      "430:\tlearn: 0.0055768\ttotal: 1m 24s\tremaining: 13.5s\n",
      "440:\tlearn: 0.0045449\ttotal: 1m 26s\tremaining: 11.6s\n",
      "450:\tlearn: 0.0037830\ttotal: 1m 28s\tremaining: 9.61s\n",
      "460:\tlearn: 0.0031507\ttotal: 1m 30s\tremaining: 7.66s\n",
      "470:\tlearn: 0.0026398\ttotal: 1m 32s\tremaining: 5.7s\n",
      "480:\tlearn: 0.0022160\ttotal: 1m 34s\tremaining: 3.73s\n",
      "490:\tlearn: 0.0018427\ttotal: 1m 36s\tremaining: 1.77s\n",
      "499:\tlearn: 0.0015116\ttotal: 1m 38s\tremaining: 0us\n",
      "0:\tlearn: 32.2738687\ttotal: 180ms\tremaining: 1m 29s\n",
      "10:\tlearn: 23.4547004\ttotal: 1.96s\tremaining: 1m 27s\n",
      "20:\tlearn: 19.6676902\ttotal: 3.62s\tremaining: 1m 22s\n",
      "30:\tlearn: 17.4939833\ttotal: 5s\tremaining: 1m 15s\n",
      "40:\tlearn: 16.3241141\ttotal: 6.61s\tremaining: 1m 13s\n",
      "50:\tlearn: 15.3316691\ttotal: 8.23s\tremaining: 1m 12s\n",
      "60:\tlearn: 14.3531633\ttotal: 10s\tremaining: 1m 11s\n",
      "70:\tlearn: 13.4771351\ttotal: 11.9s\tremaining: 1m 11s\n",
      "80:\tlearn: 12.8180162\ttotal: 13.8s\tremaining: 1m 11s\n",
      "90:\tlearn: 12.1251001\ttotal: 15.7s\tremaining: 1m 10s\n",
      "100:\tlearn: 11.6203458\ttotal: 17.4s\tremaining: 1m 8s\n",
      "110:\tlearn: 11.1273310\ttotal: 19.1s\tremaining: 1m 6s\n",
      "120:\tlearn: 10.5835365\ttotal: 21s\tremaining: 1m 5s\n",
      "130:\tlearn: 10.1918128\ttotal: 22.8s\tremaining: 1m 4s\n",
      "140:\tlearn: 9.6330165\ttotal: 24.6s\tremaining: 1m 2s\n",
      "150:\tlearn: 9.1999243\ttotal: 26.5s\tremaining: 1m 1s\n",
      "160:\tlearn: 8.6934195\ttotal: 28.4s\tremaining: 59.7s\n",
      "170:\tlearn: 8.2037149\ttotal: 30.3s\tremaining: 58.4s\n",
      "180:\tlearn: 7.8234232\ttotal: 32.2s\tremaining: 56.7s\n",
      "190:\tlearn: 7.3503227\ttotal: 34.1s\tremaining: 55.2s\n",
      "200:\tlearn: 6.9439000\ttotal: 36.3s\tremaining: 53.9s\n",
      "210:\tlearn: 6.6108734\ttotal: 38.2s\tremaining: 52.3s\n",
      "220:\tlearn: 6.2869917\ttotal: 40.2s\tremaining: 50.7s\n",
      "230:\tlearn: 5.9923025\ttotal: 42.4s\tremaining: 49.3s\n",
      "240:\tlearn: 5.6864590\ttotal: 44.2s\tremaining: 47.5s\n",
      "250:\tlearn: 5.3564060\ttotal: 46s\tremaining: 45.7s\n",
      "260:\tlearn: 5.0354790\ttotal: 47.8s\tremaining: 43.8s\n",
      "270:\tlearn: 4.7449958\ttotal: 49.5s\tremaining: 41.8s\n",
      "280:\tlearn: 4.5109401\ttotal: 51.2s\tremaining: 39.9s\n",
      "290:\tlearn: 4.3206185\ttotal: 53.1s\tremaining: 38.2s\n",
      "300:\tlearn: 4.0817619\ttotal: 54.9s\tremaining: 36.3s\n",
      "310:\tlearn: 3.9193727\ttotal: 56.6s\tremaining: 34.4s\n",
      "320:\tlearn: 3.7062902\ttotal: 58.5s\tremaining: 32.6s\n",
      "330:\tlearn: 3.4941382\ttotal: 1m\tremaining: 30.9s\n",
      "340:\tlearn: 3.3292062\ttotal: 1m 2s\tremaining: 29s\n",
      "350:\tlearn: 3.1621514\ttotal: 1m 3s\tremaining: 27.1s\n",
      "360:\tlearn: 2.9985137\ttotal: 1m 5s\tremaining: 25.2s\n",
      "370:\tlearn: 2.8221416\ttotal: 1m 7s\tremaining: 23.3s\n",
      "380:\tlearn: 2.6798804\ttotal: 1m 8s\tremaining: 21.5s\n",
      "390:\tlearn: 2.5093283\ttotal: 1m 10s\tremaining: 19.7s\n",
      "400:\tlearn: 2.4021056\ttotal: 1m 12s\tremaining: 17.8s\n",
      "410:\tlearn: 2.2931540\ttotal: 1m 13s\tremaining: 16s\n",
      "420:\tlearn: 2.1769735\ttotal: 1m 15s\tremaining: 14.2s\n",
      "430:\tlearn: 2.0667696\ttotal: 1m 17s\tremaining: 12.4s\n",
      "440:\tlearn: 1.9749170\ttotal: 1m 18s\tremaining: 10.5s\n",
      "450:\tlearn: 1.8974445\ttotal: 1m 20s\tremaining: 8.75s\n",
      "460:\tlearn: 1.8106660\ttotal: 1m 22s\tremaining: 6.96s\n",
      "470:\tlearn: 1.7198462\ttotal: 1m 24s\tremaining: 5.17s\n",
      "480:\tlearn: 1.6319040\ttotal: 1m 26s\tremaining: 3.4s\n",
      "490:\tlearn: 1.5563466\ttotal: 1m 27s\tremaining: 1.61s\n",
      "499:\tlearn: 1.4975973\ttotal: 1m 29s\tremaining: 0us\n",
      "0:\tlearn: 33.1694571\ttotal: 180ms\tremaining: 35.7s\n",
      "10:\tlearn: 24.0148233\ttotal: 2.22s\tremaining: 38.1s\n",
      "20:\tlearn: 20.3767317\ttotal: 4.29s\tremaining: 36.6s\n",
      "30:\tlearn: 18.4032456\ttotal: 6.39s\tremaining: 34.8s\n",
      "40:\tlearn: 16.9752039\ttotal: 8.62s\tremaining: 33.4s\n",
      "50:\tlearn: 15.8954931\ttotal: 10.2s\tremaining: 29.8s\n",
      "60:\tlearn: 14.9253749\ttotal: 12s\tremaining: 27.3s\n",
      "70:\tlearn: 14.1538453\ttotal: 13.6s\tremaining: 24.7s\n",
      "80:\tlearn: 13.3373927\ttotal: 15.4s\tremaining: 22.6s\n",
      "90:\tlearn: 12.6458512\ttotal: 17.1s\tremaining: 20.5s\n",
      "100:\tlearn: 12.0038455\ttotal: 18.8s\tremaining: 18.4s\n",
      "110:\tlearn: 11.3549838\ttotal: 20.6s\tremaining: 16.5s\n",
      "120:\tlearn: 10.7517890\ttotal: 22.4s\tremaining: 14.7s\n",
      "130:\tlearn: 10.2302275\ttotal: 24.3s\tremaining: 12.8s\n",
      "140:\tlearn: 9.7525878\ttotal: 26.2s\tremaining: 11s\n",
      "150:\tlearn: 9.1807641\ttotal: 28s\tremaining: 9.08s\n",
      "160:\tlearn: 8.6864732\ttotal: 30.2s\tremaining: 7.31s\n",
      "170:\tlearn: 8.2748209\ttotal: 32s\tremaining: 5.43s\n",
      "180:\tlearn: 7.9856570\ttotal: 34.2s\tremaining: 3.59s\n",
      "190:\tlearn: 7.5838821\ttotal: 36.6s\tremaining: 1.72s\n",
      "199:\tlearn: 7.2810058\ttotal: 38.4s\tremaining: 0us\n",
      "0:\tlearn: 32.1638225\ttotal: 150ms\tremaining: 1m 14s\n",
      "10:\tlearn: 26.5180135\ttotal: 1.86s\tremaining: 1m 22s\n",
      "20:\tlearn: 22.8582197\ttotal: 3.59s\tremaining: 1m 21s\n",
      "30:\tlearn: 20.3970069\ttotal: 5.3s\tremaining: 1m 20s\n",
      "40:\tlearn: 18.7073532\ttotal: 6.87s\tremaining: 1m 16s\n",
      "50:\tlearn: 17.4077630\ttotal: 8.38s\tremaining: 1m 13s\n",
      "60:\tlearn: 16.3809407\ttotal: 9.98s\tremaining: 1m 11s\n",
      "70:\tlearn: 15.5598397\ttotal: 12s\tremaining: 1m 12s\n",
      "80:\tlearn: 14.8546005\ttotal: 13.6s\tremaining: 1m 10s\n",
      "90:\tlearn: 14.2915656\ttotal: 15.3s\tremaining: 1m 8s\n",
      "100:\tlearn: 13.7331604\ttotal: 16.8s\tremaining: 1m 6s\n",
      "110:\tlearn: 13.1721498\ttotal: 18.4s\tremaining: 1m 4s\n",
      "120:\tlearn: 12.6777241\ttotal: 19.9s\tremaining: 1m 2s\n",
      "130:\tlearn: 12.3149299\ttotal: 21.5s\tremaining: 1m\n",
      "140:\tlearn: 11.8359553\ttotal: 23s\tremaining: 58.7s\n",
      "150:\tlearn: 11.5114585\ttotal: 24.7s\tremaining: 57s\n",
      "160:\tlearn: 11.1094432\ttotal: 26.1s\tremaining: 54.9s\n",
      "170:\tlearn: 10.7763802\ttotal: 27.8s\tremaining: 53.4s\n",
      "180:\tlearn: 10.4849814\ttotal: 29.6s\tremaining: 52.2s\n",
      "190:\tlearn: 10.1516934\ttotal: 31.3s\tremaining: 50.7s\n",
      "200:\tlearn: 9.8464760\ttotal: 33.1s\tremaining: 49.3s\n",
      "210:\tlearn: 9.5299963\ttotal: 34.9s\tremaining: 47.8s\n",
      "220:\tlearn: 9.2925976\ttotal: 36.7s\tremaining: 46.3s\n",
      "230:\tlearn: 9.0092935\ttotal: 38.4s\tremaining: 44.7s\n",
      "240:\tlearn: 8.7181603\ttotal: 40s\tremaining: 43s\n",
      "250:\tlearn: 8.4344051\ttotal: 41.7s\tremaining: 41.4s\n",
      "260:\tlearn: 8.2176134\ttotal: 43.4s\tremaining: 39.8s\n",
      "270:\tlearn: 7.9806793\ttotal: 45s\tremaining: 38s\n",
      "280:\tlearn: 7.7093490\ttotal: 46.5s\tremaining: 36.2s\n",
      "290:\tlearn: 7.4930581\ttotal: 47.9s\tremaining: 34.4s\n",
      "300:\tlearn: 7.2694207\ttotal: 49.5s\tremaining: 32.7s\n",
      "310:\tlearn: 7.0645176\ttotal: 51s\tremaining: 31s\n",
      "320:\tlearn: 6.8136413\ttotal: 52.5s\tremaining: 29.3s\n",
      "330:\tlearn: 6.6498757\ttotal: 54.1s\tremaining: 27.6s\n",
      "340:\tlearn: 6.4086472\ttotal: 55.7s\tremaining: 26s\n",
      "350:\tlearn: 6.2227096\ttotal: 57.4s\tremaining: 24.4s\n",
      "360:\tlearn: 6.0070612\ttotal: 59.2s\tremaining: 22.8s\n",
      "370:\tlearn: 5.8283652\ttotal: 1m\tremaining: 21.2s\n",
      "380:\tlearn: 5.6450639\ttotal: 1m 2s\tremaining: 19.4s\n",
      "390:\tlearn: 5.4534625\ttotal: 1m 3s\tremaining: 17.8s\n",
      "400:\tlearn: 5.2547676\ttotal: 1m 5s\tremaining: 16.1s\n",
      "410:\tlearn: 5.1151105\ttotal: 1m 6s\tremaining: 14.4s\n",
      "420:\tlearn: 4.9476129\ttotal: 1m 7s\tremaining: 12.7s\n",
      "430:\tlearn: 4.7960055\ttotal: 1m 9s\tremaining: 11s\n",
      "440:\tlearn: 4.6499806\ttotal: 1m 10s\tremaining: 9.41s\n",
      "450:\tlearn: 4.5326487\ttotal: 1m 11s\tremaining: 7.77s\n",
      "460:\tlearn: 4.4143190\ttotal: 1m 12s\tremaining: 6.14s\n",
      "470:\tlearn: 4.2980266\ttotal: 1m 13s\tremaining: 4.54s\n",
      "480:\tlearn: 4.1843239\ttotal: 1m 14s\tremaining: 2.95s\n",
      "490:\tlearn: 4.0953021\ttotal: 1m 15s\tremaining: 1.39s\n",
      "499:\tlearn: 3.9973053\ttotal: 1m 16s\tremaining: 0us\n"
     ]
    },
    {
     "name": "stdout",
     "output_type": "stream",
     "text": [
      "0:\tlearn: 25.9591105\ttotal: 52.7ms\tremaining: 5.21s\n",
      "10:\tlearn: 17.6971912\ttotal: 62.8ms\tremaining: 508ms\n",
      "20:\tlearn: 15.5125448\ttotal: 73.6ms\tremaining: 277ms\n",
      "30:\tlearn: 13.4858537\ttotal: 85.1ms\tremaining: 189ms\n",
      "40:\tlearn: 12.0860466\ttotal: 96.5ms\tremaining: 139ms\n",
      "50:\tlearn: 10.9354433\ttotal: 109ms\tremaining: 104ms\n",
      "60:\tlearn: 9.9169794\ttotal: 119ms\tremaining: 76.4ms\n",
      "70:\tlearn: 9.3890382\ttotal: 130ms\tremaining: 53.2ms\n",
      "80:\tlearn: 8.7458192\ttotal: 143ms\tremaining: 33.5ms\n",
      "90:\tlearn: 8.0921140\ttotal: 155ms\tremaining: 15.3ms\n",
      "99:\tlearn: 7.6336668\ttotal: 164ms\tremaining: 0us\n",
      "0:\tlearn: 29.6137383\ttotal: 2.93ms\tremaining: 290ms\n",
      "10:\tlearn: 23.1982582\ttotal: 25.9ms\tremaining: 210ms\n",
      "20:\tlearn: 22.1804063\ttotal: 50.1ms\tremaining: 189ms\n",
      "30:\tlearn: 21.3993704\ttotal: 73.7ms\tremaining: 164ms\n",
      "40:\tlearn: 20.7539797\ttotal: 98ms\tremaining: 141ms\n",
      "50:\tlearn: 20.2211556\ttotal: 119ms\tremaining: 114ms\n",
      "60:\tlearn: 19.7952491\ttotal: 141ms\tremaining: 89.9ms\n",
      "70:\tlearn: 19.4996864\ttotal: 163ms\tremaining: 66.8ms\n",
      "80:\tlearn: 19.1805034\ttotal: 188ms\tremaining: 44.1ms\n",
      "90:\tlearn: 18.9443407\ttotal: 212ms\tremaining: 21ms\n",
      "99:\tlearn: 18.6009551\ttotal: 232ms\tremaining: 0us\n",
      "0:\tlearn: 28.7940586\ttotal: 2.77ms\tremaining: 1.38s\n",
      "10:\tlearn: 22.2204846\ttotal: 22.2ms\tremaining: 989ms\n",
      "20:\tlearn: 21.0744357\ttotal: 42.4ms\tremaining: 968ms\n",
      "30:\tlearn: 20.1073580\ttotal: 60.8ms\tremaining: 920ms\n",
      "40:\tlearn: 19.4779248\ttotal: 80.4ms\tremaining: 900ms\n",
      "50:\tlearn: 19.0173582\ttotal: 100ms\tremaining: 884ms\n",
      "60:\tlearn: 18.6213936\ttotal: 120ms\tremaining: 862ms\n",
      "70:\tlearn: 18.1750636\ttotal: 140ms\tremaining: 847ms\n",
      "80:\tlearn: 17.8986005\ttotal: 160ms\tremaining: 825ms\n",
      "90:\tlearn: 17.5268018\ttotal: 179ms\tremaining: 803ms\n",
      "100:\tlearn: 17.1497105\ttotal: 199ms\tremaining: 787ms\n",
      "110:\tlearn: 16.8405223\ttotal: 218ms\tremaining: 762ms\n",
      "120:\tlearn: 16.5837220\ttotal: 236ms\tremaining: 740ms\n",
      "130:\tlearn: 16.3846269\ttotal: 254ms\tremaining: 716ms\n",
      "140:\tlearn: 16.1587065\ttotal: 273ms\tremaining: 695ms\n",
      "150:\tlearn: 15.9119382\ttotal: 294ms\tremaining: 679ms\n",
      "160:\tlearn: 15.7184785\ttotal: 316ms\tremaining: 665ms\n",
      "170:\tlearn: 15.4711708\ttotal: 336ms\tremaining: 647ms\n",
      "180:\tlearn: 15.2037267\ttotal: 355ms\tremaining: 626ms\n",
      "190:\tlearn: 14.9914415\ttotal: 374ms\tremaining: 605ms\n",
      "200:\tlearn: 14.7752874\ttotal: 394ms\tremaining: 586ms\n",
      "210:\tlearn: 14.5701531\ttotal: 413ms\tremaining: 566ms\n",
      "220:\tlearn: 14.2998977\ttotal: 433ms\tremaining: 547ms\n",
      "230:\tlearn: 14.1265362\ttotal: 455ms\tremaining: 530ms\n",
      "240:\tlearn: 14.0003260\ttotal: 476ms\tremaining: 511ms\n",
      "250:\tlearn: 13.7959667\ttotal: 495ms\tremaining: 491ms\n",
      "260:\tlearn: 13.6841062\ttotal: 515ms\tremaining: 471ms\n",
      "270:\tlearn: 13.5475735\ttotal: 540ms\tremaining: 456ms\n",
      "280:\tlearn: 13.4000017\ttotal: 564ms\tremaining: 440ms\n",
      "290:\tlearn: 13.2564112\ttotal: 583ms\tremaining: 419ms\n",
      "300:\tlearn: 13.1091528\ttotal: 602ms\tremaining: 398ms\n",
      "310:\tlearn: 12.9554158\ttotal: 623ms\tremaining: 379ms\n",
      "320:\tlearn: 12.8086842\ttotal: 648ms\tremaining: 361ms\n",
      "330:\tlearn: 12.6689874\ttotal: 673ms\tremaining: 344ms\n",
      "340:\tlearn: 12.5541649\ttotal: 699ms\tremaining: 326ms\n",
      "350:\tlearn: 12.4351822\ttotal: 727ms\tremaining: 309ms\n",
      "360:\tlearn: 12.2759963\ttotal: 749ms\tremaining: 288ms\n",
      "370:\tlearn: 12.1624472\ttotal: 773ms\tremaining: 269ms\n",
      "380:\tlearn: 12.0236915\ttotal: 795ms\tremaining: 248ms\n",
      "390:\tlearn: 11.8929898\ttotal: 818ms\tremaining: 228ms\n",
      "400:\tlearn: 11.7870406\ttotal: 843ms\tremaining: 208ms\n",
      "410:\tlearn: 11.6750515\ttotal: 864ms\tremaining: 187ms\n",
      "420:\tlearn: 11.5492514\ttotal: 895ms\tremaining: 168ms\n",
      "430:\tlearn: 11.4362340\ttotal: 943ms\tremaining: 151ms\n",
      "440:\tlearn: 11.2886518\ttotal: 973ms\tremaining: 130ms\n",
      "450:\tlearn: 11.1759647\ttotal: 1s\tremaining: 109ms\n",
      "460:\tlearn: 11.0460394\ttotal: 1.03s\tremaining: 87.2ms\n",
      "470:\tlearn: 10.9234899\ttotal: 1.06s\tremaining: 65.3ms\n",
      "480:\tlearn: 10.8545523\ttotal: 1.08s\tremaining: 42.8ms\n",
      "490:\tlearn: 10.7429314\ttotal: 1.11s\tremaining: 20.4ms\n",
      "499:\tlearn: 10.6236335\ttotal: 1.13s\tremaining: 0us\n",
      "0:\tlearn: 25.0824714\ttotal: 106ms\tremaining: 36.9s\n",
      "10:\tlearn: 13.2389847\ttotal: 1.16s\tremaining: 35.8s\n",
      "20:\tlearn: 9.6431432\ttotal: 2.44s\tremaining: 38.2s\n",
      "30:\tlearn: 6.3295095\ttotal: 3.68s\tremaining: 37.9s\n",
      "40:\tlearn: 4.4113955\ttotal: 4.92s\tremaining: 37.1s\n",
      "50:\tlearn: 3.1749184\ttotal: 6.18s\tremaining: 36.2s\n",
      "60:\tlearn: 2.2482007\ttotal: 7.59s\tremaining: 36s\n",
      "70:\tlearn: 1.6021969\ttotal: 9s\tremaining: 35.4s\n",
      "80:\tlearn: 1.1434990\ttotal: 10.4s\tremaining: 34.6s\n",
      "90:\tlearn: 0.8887507\ttotal: 11.7s\tremaining: 33.4s\n",
      "100:\tlearn: 0.6273130\ttotal: 13s\tremaining: 32.1s\n",
      "110:\tlearn: 0.4527931\ttotal: 14.4s\tremaining: 30.9s\n",
      "120:\tlearn: 0.3163862\ttotal: 15.7s\tremaining: 29.7s\n",
      "130:\tlearn: 0.2178838\ttotal: 17.1s\tremaining: 28.5s\n",
      "140:\tlearn: 0.1752344\ttotal: 18.5s\tremaining: 27.4s\n",
      "150:\tlearn: 0.1285723\ttotal: 19.9s\tremaining: 26.2s\n",
      "160:\tlearn: 0.0962507\ttotal: 21.3s\tremaining: 25s\n",
      "170:\tlearn: 0.0755662\ttotal: 22.6s\tremaining: 23.7s\n",
      "180:\tlearn: 0.0576697\ttotal: 24.2s\tremaining: 22.6s\n",
      "190:\tlearn: 0.0369629\ttotal: 25.5s\tremaining: 21.2s\n",
      "200:\tlearn: 0.0286720\ttotal: 26.9s\tremaining: 20s\n",
      "210:\tlearn: 0.0211890\ttotal: 28.2s\tremaining: 18.6s\n",
      "220:\tlearn: 0.0151307\ttotal: 29.6s\tremaining: 17.3s\n",
      "230:\tlearn: 0.0112537\ttotal: 31s\tremaining: 16s\n",
      "240:\tlearn: 0.0084365\ttotal: 32.4s\tremaining: 14.6s\n",
      "250:\tlearn: 0.0062897\ttotal: 33.7s\tremaining: 13.3s\n",
      "260:\tlearn: 0.0048644\ttotal: 35.1s\tremaining: 12s\n",
      "270:\tlearn: 0.0034480\ttotal: 36.5s\tremaining: 10.6s\n",
      "280:\tlearn: 0.0027122\ttotal: 37.9s\tremaining: 9.32s\n",
      "290:\tlearn: 0.0020162\ttotal: 39.6s\tremaining: 8.03s\n",
      "300:\tlearn: 0.0015744\ttotal: 40.9s\tremaining: 6.66s\n",
      "310:\tlearn: 0.0012500\ttotal: 42.4s\tremaining: 5.32s\n",
      "320:\tlearn: 0.0009001\ttotal: 43.8s\tremaining: 3.95s\n",
      "330:\tlearn: 0.0006840\ttotal: 45.4s\tremaining: 2.6s\n",
      "340:\tlearn: 0.0004963\ttotal: 46.9s\tremaining: 1.24s\n",
      "349:\tlearn: 0.0003896\ttotal: 48.3s\tremaining: 0us\n",
      "0:\tlearn: 35.3121669\ttotal: 1.85ms\tremaining: 368ms\n",
      "10:\tlearn: 29.8361082\ttotal: 53.8ms\tremaining: 924ms\n",
      "20:\tlearn: 27.4548811\ttotal: 81.2ms\tremaining: 692ms\n",
      "30:\tlearn: 26.2506179\ttotal: 160ms\tremaining: 872ms\n",
      "40:\tlearn: 25.6262127\ttotal: 192ms\tremaining: 745ms\n",
      "50:\tlearn: 25.2074652\ttotal: 234ms\tremaining: 684ms\n",
      "60:\tlearn: 24.9160884\ttotal: 375ms\tremaining: 854ms\n",
      "70:\tlearn: 24.6856896\ttotal: 447ms\tremaining: 813ms\n",
      "80:\tlearn: 24.4974913\ttotal: 526ms\tremaining: 773ms\n",
      "90:\tlearn: 24.3281325\ttotal: 550ms\tremaining: 659ms\n",
      "100:\tlearn: 24.1925890\ttotal: 611ms\tremaining: 598ms\n",
      "110:\tlearn: 24.0805176\ttotal: 657ms\tremaining: 527ms\n",
      "120:\tlearn: 23.9811740\ttotal: 719ms\tremaining: 469ms\n",
      "130:\tlearn: 23.8933103\ttotal: 744ms\tremaining: 392ms\n",
      "140:\tlearn: 23.8132710\ttotal: 823ms\tremaining: 344ms\n",
      "150:\tlearn: 23.7387282\ttotal: 894ms\tremaining: 290ms\n",
      "160:\tlearn: 23.6714448\ttotal: 959ms\tremaining: 232ms\n",
      "170:\tlearn: 23.6057938\ttotal: 993ms\tremaining: 168ms\n",
      "180:\tlearn: 23.5524238\ttotal: 1.06s\tremaining: 111ms\n",
      "190:\tlearn: 23.4979674\ttotal: 1.11s\tremaining: 52.4ms\n",
      "199:\tlearn: 23.4498336\ttotal: 1.16s\tremaining: 0us\n",
      "0:\tlearn: 24.4706245\ttotal: 129ms\tremaining: 1m 4s\n",
      "10:\tlearn: 10.1667011\ttotal: 1.59s\tremaining: 1m 10s\n",
      "20:\tlearn: 6.9573240\ttotal: 3.27s\tremaining: 1m 14s\n",
      "30:\tlearn: 4.7815392\ttotal: 4.69s\tremaining: 1m 10s\n",
      "40:\tlearn: 3.1929913\ttotal: 6.01s\tremaining: 1m 7s\n",
      "50:\tlearn: 1.9272584\ttotal: 7.32s\tremaining: 1m 4s\n",
      "60:\tlearn: 1.3023035\ttotal: 8.64s\tremaining: 1m 2s\n",
      "70:\tlearn: 0.7810823\ttotal: 9.93s\tremaining: 1m\n",
      "80:\tlearn: 0.4963940\ttotal: 11.2s\tremaining: 58.1s\n",
      "90:\tlearn: 0.3242025\ttotal: 12.5s\tremaining: 56.3s\n",
      "100:\tlearn: 0.1950349\ttotal: 13.8s\tremaining: 54.5s\n",
      "110:\tlearn: 0.1335761\ttotal: 14.9s\tremaining: 52.4s\n",
      "120:\tlearn: 0.0904216\ttotal: 16.2s\tremaining: 50.6s\n",
      "130:\tlearn: 0.0633019\ttotal: 17.7s\tremaining: 49.7s\n",
      "140:\tlearn: 0.0382865\ttotal: 19.2s\tremaining: 49s\n",
      "150:\tlearn: 0.0250216\ttotal: 20.7s\tremaining: 47.9s\n",
      "160:\tlearn: 0.0173935\ttotal: 22.2s\tremaining: 46.7s\n",
      "170:\tlearn: 0.0104347\ttotal: 23.6s\tremaining: 45.5s\n",
      "180:\tlearn: 0.0072723\ttotal: 25.1s\tremaining: 44.3s\n",
      "190:\tlearn: 0.0048676\ttotal: 26.5s\tremaining: 42.8s\n",
      "200:\tlearn: 0.0032524\ttotal: 27.8s\tremaining: 41.4s\n",
      "210:\tlearn: 0.0020804\ttotal: 29.2s\tremaining: 40s\n",
      "220:\tlearn: 0.0014707\ttotal: 30.5s\tremaining: 38.6s\n",
      "230:\tlearn: 0.0009610\ttotal: 31.9s\tremaining: 37.2s\n",
      "240:\tlearn: 0.0006191\ttotal: 33.5s\tremaining: 36s\n",
      "250:\tlearn: 0.0003899\ttotal: 35.2s\tremaining: 34.9s\n",
      "260:\tlearn: 0.0002732\ttotal: 36.8s\tremaining: 33.7s\n",
      "270:\tlearn: 0.0002080\ttotal: 38.5s\tremaining: 32.6s\n",
      "280:\tlearn: 0.0001371\ttotal: 40.1s\tremaining: 31.2s\n",
      "290:\tlearn: 0.0000954\ttotal: 41.5s\tremaining: 29.8s\n",
      "300:\tlearn: 0.0000648\ttotal: 43.4s\tremaining: 28.7s\n",
      "310:\tlearn: 0.0000438\ttotal: 45s\tremaining: 27.4s\n",
      "320:\tlearn: 0.0000316\ttotal: 46.5s\tremaining: 25.9s\n",
      "330:\tlearn: 0.0000195\ttotal: 47.8s\tremaining: 24.4s\n",
      "340:\tlearn: 0.0000130\ttotal: 49.1s\tremaining: 22.9s\n",
      "350:\tlearn: 0.0000089\ttotal: 50.3s\tremaining: 21.4s\n",
      "360:\tlearn: 0.0000061\ttotal: 51.6s\tremaining: 19.9s\n",
      "370:\tlearn: 0.0000044\ttotal: 52.9s\tremaining: 18.4s\n",
      "380:\tlearn: 0.0000026\ttotal: 54.2s\tremaining: 16.9s\n",
      "390:\tlearn: 0.0000017\ttotal: 55.5s\tremaining: 15.5s\n",
      "400:\tlearn: 0.0000013\ttotal: 56.8s\tremaining: 14s\n",
      "410:\tlearn: 0.0000009\ttotal: 58s\tremaining: 12.6s\n",
      "420:\tlearn: 0.0000006\ttotal: 59.2s\tremaining: 11.1s\n",
      "430:\tlearn: 0.0000004\ttotal: 1m\tremaining: 9.69s\n",
      "440:\tlearn: 0.0000002\ttotal: 1m 1s\tremaining: 8.27s\n",
      "450:\tlearn: 0.0000002\ttotal: 1m 3s\tremaining: 6.85s\n",
      "460:\tlearn: 0.0000001\ttotal: 1m 4s\tremaining: 5.45s\n",
      "470:\tlearn: 0.0000001\ttotal: 1m 5s\tremaining: 4.05s\n",
      "480:\tlearn: 0.0000001\ttotal: 1m 7s\tremaining: 2.66s\n",
      "490:\tlearn: 0.0000000\ttotal: 1m 8s\tremaining: 1.26s\n",
      "499:\tlearn: 0.0000000\ttotal: 1m 10s\tremaining: 0us\n",
      "0:\tlearn: 29.0891915\ttotal: 115ms\tremaining: 11.4s\n",
      "10:\tlearn: 24.1479161\ttotal: 1.41s\tremaining: 11.4s\n",
      "20:\tlearn: 20.4557576\ttotal: 2.76s\tremaining: 10.4s\n",
      "30:\tlearn: 17.7015402\ttotal: 3.91s\tremaining: 8.71s\n",
      "40:\tlearn: 15.6556488\ttotal: 5.14s\tremaining: 7.4s\n",
      "50:\tlearn: 13.8564234\ttotal: 6.36s\tremaining: 6.11s\n",
      "60:\tlearn: 12.3527139\ttotal: 7.44s\tremaining: 4.76s\n",
      "70:\tlearn: 11.0461602\ttotal: 8.66s\tremaining: 3.54s\n",
      "80:\tlearn: 10.0108495\ttotal: 9.88s\tremaining: 2.32s\n",
      "90:\tlearn: 9.1463048\ttotal: 11.1s\tremaining: 1.1s\n",
      "99:\tlearn: 8.4487774\ttotal: 12.3s\tremaining: 0us\n",
      "0:\tlearn: 30.2911236\ttotal: 122ms\tremaining: 12.1s\n",
      "10:\tlearn: 24.9818501\ttotal: 1.67s\tremaining: 13.5s\n",
      "20:\tlearn: 21.5884646\ttotal: 3.09s\tremaining: 11.6s\n",
      "30:\tlearn: 19.2109658\ttotal: 4.76s\tremaining: 10.6s\n",
      "40:\tlearn: 17.5166737\ttotal: 6.53s\tremaining: 9.4s\n",
      "50:\tlearn: 16.2252738\ttotal: 8.28s\tremaining: 7.96s\n",
      "60:\tlearn: 15.0516459\ttotal: 10.2s\tremaining: 6.5s\n",
      "70:\tlearn: 14.1184659\ttotal: 12s\tremaining: 4.9s\n",
      "80:\tlearn: 13.3926112\ttotal: 13.7s\tremaining: 3.22s\n",
      "90:\tlearn: 12.7316418\ttotal: 15.6s\tremaining: 1.54s\n",
      "99:\tlearn: 12.1199624\ttotal: 17.2s\tremaining: 0us\n",
      "0:\tlearn: 32.9487082\ttotal: 127ms\tremaining: 12.5s\n",
      "10:\tlearn: 27.1754541\ttotal: 2.27s\tremaining: 18.4s\n",
      "20:\tlearn: 23.7074076\ttotal: 4.29s\tremaining: 16.1s\n",
      "30:\tlearn: 21.3556750\ttotal: 6.13s\tremaining: 13.6s\n",
      "40:\tlearn: 19.7612491\ttotal: 8.07s\tremaining: 11.6s\n",
      "50:\tlearn: 18.5350605\ttotal: 10s\tremaining: 9.61s\n",
      "60:\tlearn: 17.6403048\ttotal: 11.9s\tremaining: 7.6s\n",
      "70:\tlearn: 16.8203145\ttotal: 13.8s\tremaining: 5.63s\n",
      "80:\tlearn: 16.2164615\ttotal: 15.9s\tremaining: 3.73s\n",
      "90:\tlearn: 15.6100933\ttotal: 17.7s\tremaining: 1.75s\n",
      "99:\tlearn: 15.1511369\ttotal: 19.7s\tremaining: 0us\n",
      "0:\tlearn: 29.0095150\ttotal: 16.8ms\tremaining: 3.34s\n",
      "10:\tlearn: 25.1437132\ttotal: 62.5ms\tremaining: 1.07s\n",
      "20:\tlearn: 23.0961684\ttotal: 111ms\tremaining: 943ms\n",
      "30:\tlearn: 21.7196439\ttotal: 130ms\tremaining: 707ms\n",
      "40:\tlearn: 20.9087694\ttotal: 197ms\tremaining: 763ms\n",
      "50:\tlearn: 20.2857422\ttotal: 211ms\tremaining: 616ms\n",
      "60:\tlearn: 19.8463844\ttotal: 277ms\tremaining: 631ms\n",
      "70:\tlearn: 19.5516756\ttotal: 310ms\tremaining: 563ms\n",
      "80:\tlearn: 19.2494277\ttotal: 375ms\tremaining: 551ms\n",
      "90:\tlearn: 19.0111555\ttotal: 419ms\tremaining: 501ms\n",
      "100:\tlearn: 18.8266612\ttotal: 443ms\tremaining: 434ms\n",
      "110:\tlearn: 18.6439339\ttotal: 491ms\tremaining: 393ms\n",
      "120:\tlearn: 18.4590327\ttotal: 542ms\tremaining: 354ms\n",
      "130:\tlearn: 18.3289270\ttotal: 579ms\tremaining: 305ms\n",
      "140:\tlearn: 18.1958324\ttotal: 668ms\tremaining: 280ms\n",
      "150:\tlearn: 18.0754678\ttotal: 735ms\tremaining: 238ms\n",
      "160:\tlearn: 17.9435791\ttotal: 759ms\tremaining: 184ms\n",
      "170:\tlearn: 17.8331830\ttotal: 791ms\tremaining: 134ms\n",
      "180:\tlearn: 17.6817472\ttotal: 825ms\tremaining: 86.6ms\n",
      "190:\tlearn: 17.5697763\ttotal: 890ms\tremaining: 41.9ms\n",
      "199:\tlearn: 17.4333802\ttotal: 945ms\tremaining: 0us\n",
      "0:\tlearn: 30.7528404\ttotal: 2.1ms\tremaining: 419ms\n",
      "10:\tlearn: 26.9736004\ttotal: 60ms\tremaining: 1.03s\n",
      "20:\tlearn: 24.7574121\ttotal: 97.1ms\tremaining: 827ms\n",
      "30:\tlearn: 23.3487258\ttotal: 151ms\tremaining: 823ms\n",
      "40:\tlearn: 22.5177012\ttotal: 221ms\tremaining: 858ms\n",
      "50:\tlearn: 21.8841737\ttotal: 385ms\tremaining: 1.13s\n",
      "60:\tlearn: 21.4226837\ttotal: 463ms\tremaining: 1.05s\n",
      "70:\tlearn: 21.1310695\ttotal: 503ms\tremaining: 915ms\n",
      "80:\tlearn: 20.8512664\ttotal: 586ms\tremaining: 861ms\n",
      "90:\tlearn: 20.6267585\ttotal: 670ms\tremaining: 802ms\n",
      "100:\tlearn: 20.4273219\ttotal: 718ms\tremaining: 704ms\n",
      "110:\tlearn: 20.2448272\ttotal: 853ms\tremaining: 684ms\n",
      "120:\tlearn: 20.0792089\ttotal: 908ms\tremaining: 593ms\n",
      "130:\tlearn: 19.9269793\ttotal: 1.03s\tremaining: 540ms\n",
      "140:\tlearn: 19.7881326\ttotal: 1.06s\tremaining: 444ms\n",
      "150:\tlearn: 19.6608726\ttotal: 1.1s\tremaining: 356ms\n",
      "160:\tlearn: 19.5242052\ttotal: 1.2s\tremaining: 290ms\n",
      "170:\tlearn: 19.4167504\ttotal: 1.25s\tremaining: 211ms\n",
      "180:\tlearn: 19.3350073\ttotal: 1.32s\tremaining: 138ms\n",
      "190:\tlearn: 19.2565991\ttotal: 1.39s\tremaining: 65.7ms\n",
      "199:\tlearn: 19.1524463\ttotal: 1.43s\tremaining: 0us\n",
      "0:\tlearn: 32.7364452\ttotal: 2.3ms\tremaining: 459ms\n",
      "10:\tlearn: 28.5062601\ttotal: 89.9ms\tremaining: 1.54s\n",
      "20:\tlearn: 26.1335499\ttotal: 199ms\tremaining: 1.69s\n",
      "30:\tlearn: 24.6112297\ttotal: 293ms\tremaining: 1.59s\n",
      "40:\tlearn: 23.6658953\ttotal: 359ms\tremaining: 1.39s\n",
      "50:\tlearn: 23.0595541\ttotal: 485ms\tremaining: 1.42s\n",
      "60:\tlearn: 22.6382338\ttotal: 553ms\tremaining: 1.26s\n",
      "70:\tlearn: 22.3079287\ttotal: 601ms\tremaining: 1.09s\n",
      "80:\tlearn: 22.0561821\ttotal: 708ms\tremaining: 1.04s\n",
      "90:\tlearn: 21.8764224\ttotal: 766ms\tremaining: 918ms\n",
      "100:\tlearn: 21.6816484\ttotal: 884ms\tremaining: 867ms\n",
      "110:\tlearn: 21.5323741\ttotal: 937ms\tremaining: 752ms\n",
      "120:\tlearn: 21.3807175\ttotal: 1.03s\tremaining: 672ms\n",
      "130:\tlearn: 21.2683523\ttotal: 1.17s\tremaining: 614ms\n",
      "140:\tlearn: 21.1343332\ttotal: 1.22s\tremaining: 512ms\n",
      "150:\tlearn: 20.9969772\ttotal: 1.26s\tremaining: 411ms\n",
      "160:\tlearn: 20.8701914\ttotal: 1.34s\tremaining: 326ms\n",
      "170:\tlearn: 20.7467701\ttotal: 1.4s\tremaining: 237ms\n",
      "180:\tlearn: 20.6271475\ttotal: 1.45s\tremaining: 152ms\n",
      "190:\tlearn: 20.5214313\ttotal: 1.61s\tremaining: 76.1ms\n",
      "199:\tlearn: 20.4313857\ttotal: 1.74s\tremaining: 0us\n",
      "0:\tlearn: 34.0142251\ttotal: 2.5ms\tremaining: 497ms\n",
      "10:\tlearn: 29.6205701\ttotal: 113ms\tremaining: 1.94s\n",
      "20:\tlearn: 27.2589618\ttotal: 234ms\tremaining: 2s\n",
      "30:\tlearn: 25.7969326\ttotal: 372ms\tremaining: 2.03s\n",
      "40:\tlearn: 24.9109298\ttotal: 438ms\tremaining: 1.7s\n",
      "50:\tlearn: 24.3135474\ttotal: 557ms\tremaining: 1.63s\n",
      "60:\tlearn: 23.8815246\ttotal: 634ms\tremaining: 1.44s\n",
      "70:\tlearn: 23.5698673\ttotal: 688ms\tremaining: 1.25s\n",
      "80:\tlearn: 23.2837936\ttotal: 775ms\tremaining: 1.14s\n",
      "90:\tlearn: 23.0714980\ttotal: 863ms\tremaining: 1.03s\n",
      "100:\tlearn: 22.8921915\ttotal: 909ms\tremaining: 891ms\n",
      "110:\tlearn: 22.7342870\ttotal: 971ms\tremaining: 778ms\n",
      "120:\tlearn: 22.5640035\ttotal: 1.1s\tremaining: 721ms\n",
      "130:\tlearn: 22.4600519\ttotal: 1.21s\tremaining: 637ms\n",
      "140:\tlearn: 22.3523508\ttotal: 1.27s\tremaining: 530ms\n",
      "150:\tlearn: 22.2486503\ttotal: 1.46s\tremaining: 474ms\n",
      "160:\tlearn: 22.1401128\ttotal: 1.5s\tremaining: 364ms\n",
      "170:\tlearn: 22.0424089\ttotal: 1.57s\tremaining: 266ms\n",
      "180:\tlearn: 21.9116712\ttotal: 1.63s\tremaining: 171ms\n",
      "190:\tlearn: 21.8305807\ttotal: 1.73s\tremaining: 81.5ms\n",
      "199:\tlearn: 21.7459576\ttotal: 1.77s\tremaining: 0us\n",
      "0:\tlearn: 28.3439318\ttotal: 72.4ms\tremaining: 36.1s\n",
      "10:\tlearn: 20.0510959\ttotal: 1.57s\tremaining: 1m 9s\n",
      "20:\tlearn: 15.7461760\ttotal: 2.96s\tremaining: 1m 7s\n",
      "30:\tlearn: 12.8549234\ttotal: 4.33s\tremaining: 1m 5s\n",
      "40:\tlearn: 10.8167368\ttotal: 5.7s\tremaining: 1m 3s\n",
      "50:\tlearn: 9.3300328\ttotal: 7.13s\tremaining: 1m 2s\n",
      "60:\tlearn: 8.0383417\ttotal: 8.69s\tremaining: 1m 2s\n",
      "70:\tlearn: 7.0846561\ttotal: 9.96s\tremaining: 1m\n",
      "80:\tlearn: 6.0748069\ttotal: 11.8s\tremaining: 1m\n",
      "90:\tlearn: 5.2834703\ttotal: 13.4s\tremaining: 1m\n",
      "100:\tlearn: 4.7436214\ttotal: 14.7s\tremaining: 58s\n",
      "110:\tlearn: 4.2723563\ttotal: 16.4s\tremaining: 57.4s\n",
      "120:\tlearn: 3.9813033\ttotal: 17.9s\tremaining: 56.1s\n",
      "130:\tlearn: 3.5585217\ttotal: 19.5s\tremaining: 55s\n",
      "140:\tlearn: 3.2407630\ttotal: 21s\tremaining: 53.6s\n",
      "150:\tlearn: 2.9351077\ttotal: 22.4s\tremaining: 51.7s\n",
      "160:\tlearn: 2.6590256\ttotal: 23.8s\tremaining: 50.1s\n",
      "170:\tlearn: 2.3234094\ttotal: 25.8s\tremaining: 49.5s\n",
      "180:\tlearn: 2.0258144\ttotal: 27.3s\tremaining: 48.1s\n",
      "190:\tlearn: 1.8218596\ttotal: 28.7s\tremaining: 46.4s\n",
      "200:\tlearn: 1.6090619\ttotal: 30.1s\tremaining: 44.8s\n",
      "210:\tlearn: 1.4065318\ttotal: 31.6s\tremaining: 43.3s\n",
      "220:\tlearn: 1.2424846\ttotal: 33.4s\tremaining: 42.2s\n",
      "230:\tlearn: 1.0820830\ttotal: 35.1s\tremaining: 40.9s\n",
      "240:\tlearn: 0.9476996\ttotal: 36.9s\tremaining: 39.6s\n",
      "250:\tlearn: 0.8518493\ttotal: 38.4s\tremaining: 38.1s\n",
      "260:\tlearn: 0.7753419\ttotal: 39.8s\tremaining: 36.4s\n",
      "270:\tlearn: 0.7026648\ttotal: 41.3s\tremaining: 34.9s\n",
      "280:\tlearn: 0.6420432\ttotal: 42.7s\tremaining: 33.3s\n",
      "290:\tlearn: 0.5942833\ttotal: 43.9s\tremaining: 31.5s\n",
      "300:\tlearn: 0.5522662\ttotal: 45s\tremaining: 29.8s\n",
      "310:\tlearn: 0.4958005\ttotal: 46.4s\tremaining: 28.2s\n",
      "320:\tlearn: 0.4291449\ttotal: 47.7s\tremaining: 26.6s\n",
      "330:\tlearn: 0.3812785\ttotal: 49.1s\tremaining: 25.1s\n",
      "340:\tlearn: 0.3401107\ttotal: 50.6s\tremaining: 23.6s\n",
      "350:\tlearn: 0.3111616\ttotal: 52.1s\tremaining: 22.1s\n",
      "360:\tlearn: 0.2803323\ttotal: 53.6s\tremaining: 20.6s\n",
      "370:\tlearn: 0.2488474\ttotal: 55s\tremaining: 19.1s\n",
      "380:\tlearn: 0.2228819\ttotal: 56.4s\tremaining: 17.6s\n",
      "390:\tlearn: 0.2000707\ttotal: 57.7s\tremaining: 16.1s\n",
      "400:\tlearn: 0.1824464\ttotal: 59s\tremaining: 14.6s\n",
      "410:\tlearn: 0.1630209\ttotal: 1m\tremaining: 13.1s\n",
      "420:\tlearn: 0.1438352\ttotal: 1m 2s\tremaining: 11.6s\n",
      "430:\tlearn: 0.1301823\ttotal: 1m 3s\tremaining: 10.2s\n",
      "440:\tlearn: 0.1195532\ttotal: 1m 4s\tremaining: 8.65s\n",
      "450:\tlearn: 0.1044726\ttotal: 1m 6s\tremaining: 7.19s\n",
      "460:\tlearn: 0.0943701\ttotal: 1m 7s\tremaining: 5.72s\n",
      "470:\tlearn: 0.0842563\ttotal: 1m 9s\tremaining: 4.26s\n",
      "480:\tlearn: 0.0761657\ttotal: 1m 10s\tremaining: 2.8s\n",
      "490:\tlearn: 0.0677941\ttotal: 1m 12s\tremaining: 1.32s\n",
      "499:\tlearn: 0.0613578\ttotal: 1m 13s\tremaining: 0us\n",
      "0:\tlearn: 34.6829081\ttotal: 247ms\tremaining: 2m 3s\n",
      "10:\tlearn: 25.2995774\ttotal: 2.49s\tremaining: 1m 50s\n",
      "20:\tlearn: 21.5717673\ttotal: 4.59s\tremaining: 1m 44s\n",
      "30:\tlearn: 19.5736294\ttotal: 6.71s\tremaining: 1m 41s\n",
      "40:\tlearn: 18.2416490\ttotal: 8.7s\tremaining: 1m 37s\n",
      "50:\tlearn: 17.1512909\ttotal: 10.7s\tremaining: 1m 33s\n",
      "60:\tlearn: 16.2399989\ttotal: 12.5s\tremaining: 1m 30s\n",
      "70:\tlearn: 15.3621057\ttotal: 14.3s\tremaining: 1m 26s\n",
      "80:\tlearn: 14.6833791\ttotal: 16s\tremaining: 1m 22s\n",
      "90:\tlearn: 13.9419299\ttotal: 18.1s\tremaining: 1m 21s\n",
      "100:\tlearn: 13.5951286\ttotal: 19.9s\tremaining: 1m 18s\n",
      "110:\tlearn: 13.0314671\ttotal: 21.7s\tremaining: 1m 15s\n",
      "120:\tlearn: 12.2728590\ttotal: 23.6s\tremaining: 1m 13s\n",
      "130:\tlearn: 11.7353115\ttotal: 25.7s\tremaining: 1m 12s\n",
      "140:\tlearn: 11.1205941\ttotal: 27.5s\tremaining: 1m 10s\n",
      "150:\tlearn: 10.4450532\ttotal: 29.2s\tremaining: 1m 7s\n",
      "160:\tlearn: 9.8894912\ttotal: 30.9s\tremaining: 1m 4s\n",
      "170:\tlearn: 9.4308315\ttotal: 32.6s\tremaining: 1m 2s\n",
      "180:\tlearn: 9.0142865\ttotal: 34.5s\tremaining: 1m\n",
      "190:\tlearn: 8.5510382\ttotal: 36.3s\tremaining: 58.8s\n",
      "200:\tlearn: 8.1114275\ttotal: 38.1s\tremaining: 56.7s\n",
      "210:\tlearn: 7.7131484\ttotal: 40.1s\tremaining: 54.9s\n",
      "220:\tlearn: 7.4185947\ttotal: 41.8s\tremaining: 52.8s\n",
      "230:\tlearn: 7.0799896\ttotal: 43.4s\tremaining: 50.6s\n",
      "240:\tlearn: 6.7605747\ttotal: 45.1s\tremaining: 48.5s\n",
      "250:\tlearn: 6.4528290\ttotal: 46.9s\tremaining: 46.5s\n",
      "260:\tlearn: 6.1680355\ttotal: 48.7s\tremaining: 44.6s\n",
      "270:\tlearn: 5.9110053\ttotal: 50.9s\tremaining: 43s\n",
      "280:\tlearn: 5.6603120\ttotal: 52.9s\tremaining: 41.2s\n",
      "290:\tlearn: 5.4351409\ttotal: 54.8s\tremaining: 39.4s\n",
      "300:\tlearn: 5.1751688\ttotal: 56.7s\tremaining: 37.5s\n",
      "310:\tlearn: 4.9418508\ttotal: 58.8s\tremaining: 35.7s\n",
      "320:\tlearn: 4.7608961\ttotal: 1m\tremaining: 33.9s\n",
      "330:\tlearn: 4.5584767\ttotal: 1m 3s\tremaining: 32.2s\n",
      "340:\tlearn: 4.3600698\ttotal: 1m 4s\tremaining: 30.2s\n",
      "350:\tlearn: 4.1379356\ttotal: 1m 6s\tremaining: 28.3s\n",
      "360:\tlearn: 3.9534590\ttotal: 1m 8s\tremaining: 26.3s\n",
      "370:\tlearn: 3.8152948\ttotal: 1m 10s\tremaining: 24.4s\n",
      "380:\tlearn: 3.6189532\ttotal: 1m 11s\tremaining: 22.5s\n",
      "390:\tlearn: 3.4879149\ttotal: 1m 13s\tremaining: 20.6s\n",
      "400:\tlearn: 3.3403453\ttotal: 1m 15s\tremaining: 18.7s\n",
      "410:\tlearn: 3.2146807\ttotal: 1m 17s\tremaining: 16.8s\n",
      "420:\tlearn: 3.0754363\ttotal: 1m 19s\tremaining: 14.9s\n",
      "430:\tlearn: 2.9568341\ttotal: 1m 21s\tremaining: 13s\n",
      "440:\tlearn: 2.8445303\ttotal: 1m 23s\tremaining: 11.2s\n",
      "450:\tlearn: 2.7141661\ttotal: 1m 25s\tremaining: 9.31s\n",
      "460:\tlearn: 2.6023886\ttotal: 1m 27s\tremaining: 7.41s\n",
      "470:\tlearn: 2.4912720\ttotal: 1m 29s\tremaining: 5.54s\n",
      "480:\tlearn: 2.4015628\ttotal: 1m 32s\tremaining: 3.64s\n",
      "490:\tlearn: 2.3100497\ttotal: 1m 34s\tremaining: 1.73s\n",
      "499:\tlearn: 2.2305038\ttotal: 1m 36s\tremaining: 0us\n",
      "0:\tlearn: 32.6149128\ttotal: 176ms\tremaining: 1m 27s\n",
      "10:\tlearn: 26.8080110\ttotal: 1.99s\tremaining: 1m 28s\n",
      "20:\tlearn: 23.2137616\ttotal: 3.51s\tremaining: 1m 20s\n",
      "30:\tlearn: 20.8131138\ttotal: 5.01s\tremaining: 1m 15s\n",
      "40:\tlearn: 19.1193086\ttotal: 6.54s\tremaining: 1m 13s\n",
      "50:\tlearn: 17.8928975\ttotal: 8.63s\tremaining: 1m 15s\n",
      "60:\tlearn: 16.9140135\ttotal: 10.3s\tremaining: 1m 14s\n",
      "70:\tlearn: 16.1295692\ttotal: 12s\tremaining: 1m 12s\n",
      "80:\tlearn: 15.4550766\ttotal: 13.6s\tremaining: 1m 10s\n",
      "90:\tlearn: 14.8306950\ttotal: 15.1s\tremaining: 1m 7s\n",
      "100:\tlearn: 14.3326769\ttotal: 16.5s\tremaining: 1m 5s\n",
      "110:\tlearn: 13.7779754\ttotal: 18s\tremaining: 1m 3s\n",
      "120:\tlearn: 13.2616261\ttotal: 19.6s\tremaining: 1m 1s\n",
      "130:\tlearn: 12.8646224\ttotal: 21.3s\tremaining: 1m\n",
      "140:\tlearn: 12.5171873\ttotal: 22.9s\tremaining: 58.3s\n",
      "150:\tlearn: 12.1469698\ttotal: 24.9s\tremaining: 57.5s\n",
      "160:\tlearn: 11.8527949\ttotal: 26.8s\tremaining: 56.4s\n",
      "170:\tlearn: 11.5435245\ttotal: 28.3s\tremaining: 54.4s\n",
      "180:\tlearn: 11.2229450\ttotal: 30.1s\tremaining: 53s\n",
      "190:\tlearn: 10.9008072\ttotal: 31.7s\tremaining: 51.2s\n",
      "200:\tlearn: 10.5903189\ttotal: 33.4s\tremaining: 49.7s\n",
      "210:\tlearn: 10.2727092\ttotal: 35.2s\tremaining: 48.2s\n",
      "220:\tlearn: 9.9297438\ttotal: 36.9s\tremaining: 46.5s\n",
      "230:\tlearn: 9.6165174\ttotal: 38.7s\tremaining: 45.1s\n",
      "240:\tlearn: 9.3500259\ttotal: 40.4s\tremaining: 43.5s\n",
      "250:\tlearn: 9.0261015\ttotal: 41.9s\tremaining: 41.6s\n",
      "260:\tlearn: 8.7844223\ttotal: 43.4s\tremaining: 39.7s\n",
      "270:\tlearn: 8.5469810\ttotal: 44.9s\tremaining: 37.9s\n",
      "280:\tlearn: 8.3032296\ttotal: 46.4s\tremaining: 36.2s\n",
      "290:\tlearn: 8.0461654\ttotal: 48s\tremaining: 34.4s\n",
      "300:\tlearn: 7.8300185\ttotal: 49.5s\tremaining: 32.7s\n",
      "310:\tlearn: 7.6503919\ttotal: 51.1s\tremaining: 31.1s\n",
      "320:\tlearn: 7.4711153\ttotal: 52.8s\tremaining: 29.4s\n",
      "330:\tlearn: 7.2723716\ttotal: 54.6s\tremaining: 27.9s\n",
      "340:\tlearn: 7.1364159\ttotal: 56.3s\tremaining: 26.2s\n",
      "350:\tlearn: 6.9489526\ttotal: 57.9s\tremaining: 24.6s\n",
      "360:\tlearn: 6.7408430\ttotal: 59.4s\tremaining: 22.9s\n",
      "370:\tlearn: 6.5357894\ttotal: 1m\tremaining: 21.2s\n",
      "380:\tlearn: 6.3634371\ttotal: 1m 2s\tremaining: 19.5s\n",
      "390:\tlearn: 6.1845346\ttotal: 1m 3s\tremaining: 17.8s\n",
      "400:\tlearn: 5.9932632\ttotal: 1m 5s\tremaining: 16.1s\n",
      "410:\tlearn: 5.8081492\ttotal: 1m 6s\tremaining: 14.4s\n",
      "420:\tlearn: 5.6471061\ttotal: 1m 7s\tremaining: 12.7s\n",
      "430:\tlearn: 5.5069096\ttotal: 1m 8s\tremaining: 11s\n",
      "440:\tlearn: 5.3423141\ttotal: 1m 10s\tremaining: 9.37s\n",
      "450:\tlearn: 5.2494842\ttotal: 1m 11s\tremaining: 7.74s\n",
      "460:\tlearn: 5.1304122\ttotal: 1m 12s\tremaining: 6.12s\n",
      "470:\tlearn: 5.0303557\ttotal: 1m 13s\tremaining: 4.52s\n",
      "480:\tlearn: 4.8826800\ttotal: 1m 14s\tremaining: 2.94s\n",
      "490:\tlearn: 4.6968900\ttotal: 1m 15s\tremaining: 1.38s\n",
      "499:\tlearn: 4.5962224\ttotal: 1m 16s\tremaining: 0us\n"
     ]
    },
    {
     "name": "stdout",
     "output_type": "stream",
     "text": [
      "0:\tlearn: 26.1071408\ttotal: 52.4ms\tremaining: 5.19s\n",
      "10:\tlearn: 19.9451633\ttotal: 68.3ms\tremaining: 553ms\n",
      "20:\tlearn: 18.7544319\ttotal: 83.9ms\tremaining: 316ms\n",
      "30:\tlearn: 18.1300304\ttotal: 99.8ms\tremaining: 222ms\n",
      "40:\tlearn: 17.4594055\ttotal: 115ms\tremaining: 166ms\n",
      "50:\tlearn: 16.7993476\ttotal: 131ms\tremaining: 126ms\n",
      "60:\tlearn: 16.1842099\ttotal: 148ms\tremaining: 94.9ms\n",
      "70:\tlearn: 15.6181210\ttotal: 163ms\tremaining: 66.6ms\n",
      "80:\tlearn: 15.2035896\ttotal: 180ms\tremaining: 42.2ms\n",
      "90:\tlearn: 14.8331530\ttotal: 196ms\tremaining: 19.4ms\n",
      "99:\tlearn: 14.5559520\ttotal: 211ms\tremaining: 0us\n",
      "0:\tlearn: 25.8924687\ttotal: 1.34ms\tremaining: 671ms\n",
      "10:\tlearn: 18.3404443\ttotal: 17.8ms\tremaining: 791ms\n",
      "20:\tlearn: 16.7645991\ttotal: 32.3ms\tremaining: 736ms\n",
      "30:\tlearn: 15.6297510\ttotal: 45ms\tremaining: 681ms\n",
      "40:\tlearn: 14.5135009\ttotal: 60.1ms\tremaining: 673ms\n",
      "50:\tlearn: 13.8148860\ttotal: 73.2ms\tremaining: 645ms\n",
      "60:\tlearn: 12.9634765\ttotal: 88.4ms\tremaining: 636ms\n",
      "70:\tlearn: 12.4412747\ttotal: 103ms\tremaining: 620ms\n",
      "80:\tlearn: 11.8183384\ttotal: 115ms\tremaining: 594ms\n",
      "90:\tlearn: 11.4991247\ttotal: 132ms\tremaining: 593ms\n",
      "100:\tlearn: 11.0003823\ttotal: 146ms\tremaining: 576ms\n",
      "110:\tlearn: 10.5235653\ttotal: 161ms\tremaining: 563ms\n",
      "120:\tlearn: 10.1451333\ttotal: 175ms\tremaining: 548ms\n",
      "130:\tlearn: 9.7889465\ttotal: 188ms\tremaining: 531ms\n",
      "140:\tlearn: 9.5138504\ttotal: 206ms\tremaining: 524ms\n",
      "150:\tlearn: 9.1179156\ttotal: 221ms\tremaining: 511ms\n",
      "160:\tlearn: 8.7042396\ttotal: 234ms\tremaining: 492ms\n",
      "170:\tlearn: 8.4168291\ttotal: 247ms\tremaining: 476ms\n",
      "180:\tlearn: 8.1464484\ttotal: 260ms\tremaining: 458ms\n",
      "190:\tlearn: 7.8351363\ttotal: 273ms\tremaining: 442ms\n",
      "200:\tlearn: 7.5230587\ttotal: 286ms\tremaining: 425ms\n",
      "210:\tlearn: 7.3520796\ttotal: 298ms\tremaining: 408ms\n",
      "220:\tlearn: 7.0538309\ttotal: 311ms\tremaining: 393ms\n",
      "230:\tlearn: 6.8460856\ttotal: 325ms\tremaining: 379ms\n",
      "240:\tlearn: 6.6334125\ttotal: 339ms\tremaining: 365ms\n",
      "250:\tlearn: 6.3819208\ttotal: 352ms\tremaining: 349ms\n",
      "260:\tlearn: 6.1819319\ttotal: 365ms\tremaining: 334ms\n",
      "270:\tlearn: 5.9950407\ttotal: 378ms\tremaining: 319ms\n",
      "280:\tlearn: 5.8187999\ttotal: 392ms\tremaining: 305ms\n",
      "290:\tlearn: 5.6387397\ttotal: 406ms\tremaining: 291ms\n",
      "300:\tlearn: 5.4649663\ttotal: 418ms\tremaining: 276ms\n",
      "310:\tlearn: 5.2880166\ttotal: 433ms\tremaining: 263ms\n",
      "320:\tlearn: 5.1264036\ttotal: 445ms\tremaining: 248ms\n",
      "330:\tlearn: 5.0177159\ttotal: 458ms\tremaining: 234ms\n",
      "340:\tlearn: 4.9000635\ttotal: 473ms\tremaining: 220ms\n",
      "350:\tlearn: 4.7971148\ttotal: 485ms\tremaining: 206ms\n",
      "360:\tlearn: 4.6078155\ttotal: 499ms\tremaining: 192ms\n",
      "370:\tlearn: 4.5107074\ttotal: 513ms\tremaining: 178ms\n",
      "380:\tlearn: 4.3793290\ttotal: 526ms\tremaining: 164ms\n",
      "390:\tlearn: 4.2967572\ttotal: 539ms\tremaining: 150ms\n",
      "400:\tlearn: 4.1622150\ttotal: 553ms\tremaining: 137ms\n",
      "410:\tlearn: 4.0537577\ttotal: 566ms\tremaining: 123ms\n",
      "420:\tlearn: 3.9418646\ttotal: 580ms\tremaining: 109ms\n",
      "430:\tlearn: 3.8461684\ttotal: 593ms\tremaining: 94.9ms\n",
      "440:\tlearn: 3.7396690\ttotal: 606ms\tremaining: 81.1ms\n",
      "450:\tlearn: 3.6618626\ttotal: 619ms\tremaining: 67.2ms\n",
      "460:\tlearn: 3.5757377\ttotal: 633ms\tremaining: 53.5ms\n",
      "470:\tlearn: 3.4602237\ttotal: 647ms\tremaining: 39.9ms\n",
      "480:\tlearn: 3.3708057\ttotal: 663ms\tremaining: 26.2ms\n",
      "490:\tlearn: 3.2625478\ttotal: 676ms\tremaining: 12.4ms\n",
      "499:\tlearn: 3.1873443\ttotal: 689ms\tremaining: 0us\n",
      "0:\tlearn: 30.9263754\ttotal: 2.58ms\tremaining: 1.28s\n",
      "10:\tlearn: 24.4402247\ttotal: 24.5ms\tremaining: 1.09s\n",
      "20:\tlearn: 23.2919573\ttotal: 48.3ms\tremaining: 1.1s\n",
      "30:\tlearn: 22.4542273\ttotal: 71.7ms\tremaining: 1.08s\n",
      "40:\tlearn: 21.9274688\ttotal: 97.3ms\tremaining: 1.09s\n",
      "50:\tlearn: 21.3020628\ttotal: 126ms\tremaining: 1.11s\n",
      "60:\tlearn: 20.9295185\ttotal: 155ms\tremaining: 1.12s\n",
      "70:\tlearn: 20.5433632\ttotal: 180ms\tremaining: 1.08s\n",
      "80:\tlearn: 20.2784310\ttotal: 217ms\tremaining: 1.12s\n",
      "90:\tlearn: 19.9982092\ttotal: 250ms\tremaining: 1.13s\n",
      "100:\tlearn: 19.7057532\ttotal: 287ms\tremaining: 1.13s\n",
      "110:\tlearn: 19.4720772\ttotal: 311ms\tremaining: 1.09s\n",
      "120:\tlearn: 19.1961143\ttotal: 354ms\tremaining: 1.11s\n",
      "130:\tlearn: 18.9929229\ttotal: 402ms\tremaining: 1.13s\n",
      "140:\tlearn: 18.7988929\ttotal: 439ms\tremaining: 1.12s\n",
      "150:\tlearn: 18.6126862\ttotal: 502ms\tremaining: 1.16s\n",
      "160:\tlearn: 18.3776646\ttotal: 540ms\tremaining: 1.14s\n",
      "170:\tlearn: 18.2214076\ttotal: 579ms\tremaining: 1.11s\n",
      "180:\tlearn: 18.0389601\ttotal: 617ms\tremaining: 1.09s\n",
      "190:\tlearn: 17.8665939\ttotal: 652ms\tremaining: 1.05s\n",
      "200:\tlearn: 17.6828128\ttotal: 692ms\tremaining: 1.03s\n",
      "210:\tlearn: 17.4873653\ttotal: 737ms\tremaining: 1.01s\n",
      "220:\tlearn: 17.3099254\ttotal: 788ms\tremaining: 995ms\n",
      "230:\tlearn: 17.1765402\ttotal: 839ms\tremaining: 977ms\n",
      "240:\tlearn: 16.9791594\ttotal: 886ms\tremaining: 952ms\n",
      "250:\tlearn: 16.8012161\ttotal: 935ms\tremaining: 928ms\n",
      "260:\tlearn: 16.6571938\ttotal: 968ms\tremaining: 886ms\n",
      "270:\tlearn: 16.5301585\ttotal: 1.04s\tremaining: 877ms\n",
      "280:\tlearn: 16.3933712\ttotal: 1.09s\tremaining: 847ms\n",
      "290:\tlearn: 16.2450948\ttotal: 1.14s\tremaining: 821ms\n",
      "300:\tlearn: 16.0966598\ttotal: 1.17s\tremaining: 776ms\n",
      "310:\tlearn: 15.8999172\ttotal: 1.23s\tremaining: 746ms\n",
      "320:\tlearn: 15.7404073\ttotal: 1.26s\tremaining: 705ms\n",
      "330:\tlearn: 15.6100217\ttotal: 1.31s\tremaining: 669ms\n",
      "340:\tlearn: 15.4863751\ttotal: 1.36s\tremaining: 634ms\n",
      "350:\tlearn: 15.3956926\ttotal: 1.4s\tremaining: 595ms\n",
      "360:\tlearn: 15.2696522\ttotal: 1.47s\tremaining: 566ms\n",
      "370:\tlearn: 15.0992963\ttotal: 1.52s\tremaining: 530ms\n",
      "380:\tlearn: 14.9883519\ttotal: 1.58s\tremaining: 494ms\n",
      "390:\tlearn: 14.9009153\ttotal: 1.63s\tremaining: 455ms\n",
      "400:\tlearn: 14.7801975\ttotal: 1.67s\tremaining: 412ms\n",
      "410:\tlearn: 14.6596481\ttotal: 1.75s\tremaining: 379ms\n",
      "420:\tlearn: 14.5393656\ttotal: 1.8s\tremaining: 337ms\n",
      "430:\tlearn: 14.4376637\ttotal: 1.88s\tremaining: 300ms\n",
      "440:\tlearn: 14.3209910\ttotal: 1.94s\tremaining: 260ms\n",
      "450:\tlearn: 14.2109317\ttotal: 1.99s\tremaining: 216ms\n",
      "460:\tlearn: 14.1355964\ttotal: 2.06s\tremaining: 174ms\n",
      "470:\tlearn: 14.0367904\ttotal: 2.12s\tremaining: 131ms\n",
      "480:\tlearn: 13.9295809\ttotal: 2.17s\tremaining: 85.9ms\n",
      "490:\tlearn: 13.8205794\ttotal: 2.24s\tremaining: 41.1ms\n",
      "499:\tlearn: 13.7245618\ttotal: 2.29s\tremaining: 0us\n",
      "0:\tlearn: 27.4957883\ttotal: 149ms\tremaining: 52.1s\n",
      "10:\tlearn: 15.7389790\ttotal: 1.55s\tremaining: 47.7s\n",
      "20:\tlearn: 12.4658316\ttotal: 3.09s\tremaining: 48.4s\n",
      "30:\tlearn: 9.4923221\ttotal: 4.54s\tremaining: 46.7s\n",
      "40:\tlearn: 6.9819661\ttotal: 6.08s\tremaining: 45.8s\n",
      "50:\tlearn: 5.3594264\ttotal: 7.5s\tremaining: 44s\n",
      "60:\tlearn: 4.3382099\ttotal: 8.98s\tremaining: 42.6s\n",
      "70:\tlearn: 3.5084514\ttotal: 10.5s\tremaining: 41.2s\n",
      "80:\tlearn: 2.6704428\ttotal: 11.9s\tremaining: 39.4s\n",
      "90:\tlearn: 2.2543200\ttotal: 13.4s\tremaining: 38.1s\n",
      "100:\tlearn: 1.7085300\ttotal: 14.8s\tremaining: 36.5s\n",
      "110:\tlearn: 1.3776075\ttotal: 16.4s\tremaining: 35.3s\n",
      "120:\tlearn: 1.1119190\ttotal: 18s\tremaining: 34s\n",
      "130:\tlearn: 0.8677455\ttotal: 19.4s\tremaining: 32.4s\n",
      "140:\tlearn: 0.6769316\ttotal: 20.8s\tremaining: 30.9s\n",
      "150:\tlearn: 0.4969738\ttotal: 22.3s\tremaining: 29.4s\n",
      "160:\tlearn: 0.3992322\ttotal: 23.8s\tremaining: 28s\n",
      "170:\tlearn: 0.3331610\ttotal: 25.4s\tremaining: 26.6s\n",
      "180:\tlearn: 0.2779468\ttotal: 27s\tremaining: 25.2s\n",
      "190:\tlearn: 0.2174108\ttotal: 28.5s\tremaining: 23.7s\n",
      "200:\tlearn: 0.1653687\ttotal: 29.9s\tremaining: 22.2s\n",
      "210:\tlearn: 0.1334236\ttotal: 31.4s\tremaining: 20.7s\n",
      "220:\tlearn: 0.1031827\ttotal: 33.1s\tremaining: 19.3s\n",
      "230:\tlearn: 0.0853557\ttotal: 34.6s\tremaining: 17.8s\n",
      "240:\tlearn: 0.0723710\ttotal: 36.1s\tremaining: 16.3s\n",
      "250:\tlearn: 0.0590733\ttotal: 37.8s\tremaining: 14.9s\n",
      "260:\tlearn: 0.0464566\ttotal: 39.3s\tremaining: 13.4s\n",
      "270:\tlearn: 0.0383068\ttotal: 41s\tremaining: 11.9s\n",
      "280:\tlearn: 0.0292281\ttotal: 42.5s\tremaining: 10.4s\n",
      "290:\tlearn: 0.0235328\ttotal: 44.3s\tremaining: 8.98s\n",
      "300:\tlearn: 0.0186773\ttotal: 46s\tremaining: 7.48s\n",
      "310:\tlearn: 0.0145942\ttotal: 47.6s\tremaining: 5.96s\n",
      "320:\tlearn: 0.0114935\ttotal: 49.4s\tremaining: 4.46s\n",
      "330:\tlearn: 0.0088908\ttotal: 51.2s\tremaining: 2.94s\n",
      "340:\tlearn: 0.0072244\ttotal: 53s\tremaining: 1.4s\n",
      "349:\tlearn: 0.0055862\ttotal: 54.5s\tremaining: 0us\n",
      "0:\tlearn: 26.5762310\ttotal: 108ms\tremaining: 53.9s\n",
      "10:\tlearn: 14.5324968\ttotal: 1.68s\tremaining: 1m 14s\n",
      "20:\tlearn: 11.0537534\ttotal: 3.22s\tremaining: 1m 13s\n",
      "30:\tlearn: 7.9039846\ttotal: 4.74s\tremaining: 1m 11s\n",
      "40:\tlearn: 5.7523971\ttotal: 6.13s\tremaining: 1m 8s\n",
      "50:\tlearn: 4.0843858\ttotal: 7.49s\tremaining: 1m 5s\n",
      "60:\tlearn: 3.1416153\ttotal: 8.83s\tremaining: 1m 3s\n",
      "70:\tlearn: 2.2939961\ttotal: 10.2s\tremaining: 1m 1s\n",
      "80:\tlearn: 1.8096695\ttotal: 12s\tremaining: 1m 2s\n",
      "90:\tlearn: 1.2986619\ttotal: 13.7s\tremaining: 1m 1s\n",
      "100:\tlearn: 0.9731066\ttotal: 15.6s\tremaining: 1m 1s\n",
      "110:\tlearn: 0.7523499\ttotal: 17.2s\tremaining: 1m\n",
      "120:\tlearn: 0.5736597\ttotal: 18.9s\tremaining: 59.4s\n",
      "130:\tlearn: 0.4368031\ttotal: 20.4s\tremaining: 57.5s\n",
      "140:\tlearn: 0.3356918\ttotal: 22s\tremaining: 56s\n",
      "150:\tlearn: 0.2462879\ttotal: 23.6s\tremaining: 54.6s\n",
      "160:\tlearn: 0.1838414\ttotal: 25.3s\tremaining: 53.2s\n",
      "170:\tlearn: 0.1390725\ttotal: 27.1s\tremaining: 52.1s\n",
      "180:\tlearn: 0.1048428\ttotal: 28.8s\tremaining: 50.7s\n",
      "190:\tlearn: 0.0790040\ttotal: 30.5s\tremaining: 49.3s\n",
      "200:\tlearn: 0.0581659\ttotal: 32.4s\tremaining: 48.2s\n",
      "210:\tlearn: 0.0429251\ttotal: 34.1s\tremaining: 46.7s\n",
      "220:\tlearn: 0.0323633\ttotal: 36.1s\tremaining: 45.5s\n",
      "230:\tlearn: 0.0253712\ttotal: 38.2s\tremaining: 44.5s\n",
      "240:\tlearn: 0.0200580\ttotal: 39.9s\tremaining: 42.9s\n",
      "250:\tlearn: 0.0152831\ttotal: 41.4s\tremaining: 41s\n",
      "260:\tlearn: 0.0120251\ttotal: 42.8s\tremaining: 39.2s\n",
      "270:\tlearn: 0.0090079\ttotal: 44.3s\tremaining: 37.4s\n",
      "280:\tlearn: 0.0070191\ttotal: 45.8s\tremaining: 35.7s\n",
      "290:\tlearn: 0.0049456\ttotal: 47.3s\tremaining: 34s\n",
      "300:\tlearn: 0.0039865\ttotal: 48.7s\tremaining: 32.2s\n",
      "310:\tlearn: 0.0030859\ttotal: 50.2s\tremaining: 30.5s\n",
      "320:\tlearn: 0.0024115\ttotal: 51.7s\tremaining: 28.8s\n",
      "330:\tlearn: 0.0019161\ttotal: 53.1s\tremaining: 27.1s\n",
      "340:\tlearn: 0.0014813\ttotal: 54.6s\tremaining: 25.5s\n",
      "350:\tlearn: 0.0011563\ttotal: 56s\tremaining: 23.8s\n",
      "360:\tlearn: 0.0008441\ttotal: 57.6s\tremaining: 22.2s\n",
      "370:\tlearn: 0.0006668\ttotal: 59.2s\tremaining: 20.6s\n",
      "380:\tlearn: 0.0005151\ttotal: 1m\tremaining: 19s\n",
      "390:\tlearn: 0.0003922\ttotal: 1m 2s\tremaining: 17.4s\n",
      "400:\tlearn: 0.0002858\ttotal: 1m 4s\tremaining: 15.9s\n",
      "410:\tlearn: 0.0002256\ttotal: 1m 6s\tremaining: 14.3s\n",
      "420:\tlearn: 0.0001830\ttotal: 1m 7s\tremaining: 12.7s\n",
      "430:\tlearn: 0.0001400\ttotal: 1m 9s\tremaining: 11.1s\n",
      "440:\tlearn: 0.0001063\ttotal: 1m 10s\tremaining: 9.47s\n",
      "450:\tlearn: 0.0000856\ttotal: 1m 12s\tremaining: 7.85s\n",
      "460:\tlearn: 0.0000655\ttotal: 1m 13s\tremaining: 6.24s\n",
      "470:\tlearn: 0.0000513\ttotal: 1m 15s\tremaining: 4.65s\n",
      "480:\tlearn: 0.0000417\ttotal: 1m 17s\tremaining: 3.05s\n",
      "490:\tlearn: 0.0000317\ttotal: 1m 18s\tremaining: 1.45s\n",
      "499:\tlearn: 0.0000253\ttotal: 1m 20s\tremaining: 0us\n",
      "0:\tlearn: 30.6140472\ttotal: 169ms\tremaining: 16.7s\n",
      "10:\tlearn: 25.3114327\ttotal: 2.05s\tremaining: 16.6s\n",
      "20:\tlearn: 21.9369637\ttotal: 3.72s\tremaining: 14s\n",
      "30:\tlearn: 19.6166428\ttotal: 5.67s\tremaining: 12.6s\n",
      "40:\tlearn: 17.9267250\ttotal: 7.56s\tremaining: 10.9s\n",
      "50:\tlearn: 16.6087937\ttotal: 9.22s\tremaining: 8.86s\n",
      "60:\tlearn: 15.5152529\ttotal: 11.1s\tremaining: 7.1s\n",
      "70:\tlearn: 14.6057352\ttotal: 12.9s\tremaining: 5.28s\n",
      "80:\tlearn: 13.8944099\ttotal: 15s\tremaining: 3.51s\n",
      "90:\tlearn: 13.2689369\ttotal: 17.1s\tremaining: 1.69s\n",
      "99:\tlearn: 12.6631064\ttotal: 18.7s\tremaining: 0us\n",
      "0:\tlearn: 33.8883216\ttotal: 166ms\tremaining: 16.5s\n",
      "10:\tlearn: 27.9837233\ttotal: 2.16s\tremaining: 17.5s\n",
      "20:\tlearn: 24.3544928\ttotal: 4.22s\tremaining: 15.9s\n",
      "30:\tlearn: 21.9871049\ttotal: 6.17s\tremaining: 13.7s\n",
      "40:\tlearn: 20.3844794\ttotal: 8.2s\tremaining: 11.8s\n",
      "50:\tlearn: 19.1830769\ttotal: 10.3s\tremaining: 9.93s\n",
      "60:\tlearn: 18.2839524\ttotal: 12.3s\tremaining: 7.85s\n",
      "70:\tlearn: 17.5339563\ttotal: 14.5s\tremaining: 5.9s\n",
      "80:\tlearn: 16.8908334\ttotal: 16.1s\tremaining: 3.79s\n",
      "90:\tlearn: 16.3139916\ttotal: 18s\tremaining: 1.78s\n",
      "99:\tlearn: 15.8671463\ttotal: 19.6s\tremaining: 0us\n",
      "0:\tlearn: 35.6188512\ttotal: 2.73ms\tremaining: 543ms\n",
      "10:\tlearn: 31.0207543\ttotal: 74.2ms\tremaining: 1.27s\n",
      "20:\tlearn: 28.4825492\ttotal: 125ms\tremaining: 1.07s\n",
      "30:\tlearn: 26.9455494\ttotal: 217ms\tremaining: 1.18s\n",
      "40:\tlearn: 26.0812106\ttotal: 301ms\tremaining: 1.17s\n",
      "50:\tlearn: 25.4689610\ttotal: 362ms\tremaining: 1.06s\n",
      "60:\tlearn: 25.0080321\ttotal: 434ms\tremaining: 990ms\n",
      "70:\tlearn: 24.6790362\ttotal: 646ms\tremaining: 1.17s\n",
      "80:\tlearn: 24.3848837\ttotal: 698ms\tremaining: 1.02s\n",
      "90:\tlearn: 24.1784315\ttotal: 803ms\tremaining: 962ms\n",
      "100:\tlearn: 23.9772276\ttotal: 935ms\tremaining: 916ms\n",
      "110:\tlearn: 23.8025028\ttotal: 1s\tremaining: 802ms\n",
      "120:\tlearn: 23.6700229\ttotal: 1.08s\tremaining: 704ms\n",
      "130:\tlearn: 23.5590195\ttotal: 1.14s\tremaining: 598ms\n",
      "140:\tlearn: 23.4453095\ttotal: 1.21s\tremaining: 506ms\n",
      "150:\tlearn: 23.3404429\ttotal: 1.27s\tremaining: 412ms\n",
      "160:\tlearn: 23.2273466\ttotal: 1.41s\tremaining: 340ms\n",
      "170:\tlearn: 23.1229614\ttotal: 1.48s\tremaining: 251ms\n",
      "180:\tlearn: 23.0342236\ttotal: 1.55s\tremaining: 163ms\n",
      "190:\tlearn: 22.9565487\ttotal: 1.61s\tremaining: 75.8ms\n",
      "199:\tlearn: 22.8572233\ttotal: 1.74s\tremaining: 0us\n",
      "0:\tlearn: 28.4728009\ttotal: 160ms\tremaining: 1m 20s\n",
      "10:\tlearn: 20.1293500\ttotal: 1.69s\tremaining: 1m 15s\n",
      "20:\tlearn: 15.8488118\ttotal: 3.25s\tremaining: 1m 14s\n",
      "30:\tlearn: 13.2952815\ttotal: 4.62s\tremaining: 1m 9s\n",
      "40:\tlearn: 11.6219495\ttotal: 6.01s\tremaining: 1m 7s\n",
      "50:\tlearn: 10.3266245\ttotal: 7.5s\tremaining: 1m 6s\n",
      "60:\tlearn: 9.2046085\ttotal: 8.83s\tremaining: 1m 3s\n",
      "70:\tlearn: 8.3861053\ttotal: 10.5s\tremaining: 1m 3s\n",
      "80:\tlearn: 7.6205778\ttotal: 12.2s\tremaining: 1m 2s\n",
      "90:\tlearn: 6.8937266\ttotal: 13.5s\tremaining: 1m\n",
      "100:\tlearn: 6.3508575\ttotal: 14.9s\tremaining: 59s\n",
      "110:\tlearn: 5.6536439\ttotal: 16.7s\tremaining: 58.6s\n",
      "120:\tlearn: 5.1673595\ttotal: 18.5s\tremaining: 58.1s\n",
      "130:\tlearn: 4.6550330\ttotal: 20.1s\tremaining: 56.7s\n",
      "140:\tlearn: 4.1514181\ttotal: 21.7s\tremaining: 55.2s\n",
      "150:\tlearn: 3.7561727\ttotal: 23.1s\tremaining: 53.4s\n",
      "160:\tlearn: 3.4243239\ttotal: 24.7s\tremaining: 52.1s\n",
      "170:\tlearn: 3.1126125\ttotal: 26.3s\tremaining: 50.6s\n",
      "180:\tlearn: 2.8843753\ttotal: 27.6s\tremaining: 48.7s\n",
      "190:\tlearn: 2.5884468\ttotal: 29.2s\tremaining: 47.2s\n",
      "200:\tlearn: 2.3320241\ttotal: 30.7s\tremaining: 45.7s\n",
      "210:\tlearn: 2.1594793\ttotal: 32.4s\tremaining: 44.3s\n",
      "220:\tlearn: 2.0528226\ttotal: 34s\tremaining: 43s\n",
      "230:\tlearn: 1.8943572\ttotal: 35.6s\tremaining: 41.5s\n",
      "240:\tlearn: 1.7644643\ttotal: 37.2s\tremaining: 40s\n",
      "250:\tlearn: 1.6504178\ttotal: 38.7s\tremaining: 38.4s\n",
      "260:\tlearn: 1.5068917\ttotal: 40.2s\tremaining: 36.8s\n",
      "270:\tlearn: 1.3710990\ttotal: 41.6s\tremaining: 35.1s\n",
      "280:\tlearn: 1.2349540\ttotal: 43s\tremaining: 33.5s\n",
      "290:\tlearn: 1.1063540\ttotal: 44.3s\tremaining: 31.8s\n",
      "300:\tlearn: 1.0017887\ttotal: 45.6s\tremaining: 30.1s\n",
      "310:\tlearn: 0.9089120\ttotal: 47s\tremaining: 28.5s\n",
      "320:\tlearn: 0.8188270\ttotal: 48.3s\tremaining: 26.9s\n",
      "330:\tlearn: 0.7421140\ttotal: 49.8s\tremaining: 25.4s\n",
      "340:\tlearn: 0.6845120\ttotal: 51.5s\tremaining: 24s\n",
      "350:\tlearn: 0.6399675\ttotal: 53s\tremaining: 22.5s\n",
      "360:\tlearn: 0.5653589\ttotal: 54.4s\tremaining: 21s\n",
      "370:\tlearn: 0.5174076\ttotal: 55.8s\tremaining: 19.4s\n",
      "380:\tlearn: 0.4775991\ttotal: 57.1s\tremaining: 17.8s\n",
      "390:\tlearn: 0.4315891\ttotal: 58.6s\tremaining: 16.3s\n",
      "400:\tlearn: 0.3956204\ttotal: 1m\tremaining: 14.9s\n",
      "410:\tlearn: 0.3679308\ttotal: 1m 1s\tremaining: 13.3s\n",
      "420:\tlearn: 0.3356631\ttotal: 1m 3s\tremaining: 11.8s\n",
      "430:\tlearn: 0.3118136\ttotal: 1m 4s\tremaining: 10.3s\n",
      "440:\tlearn: 0.2846405\ttotal: 1m 6s\tremaining: 8.85s\n",
      "450:\tlearn: 0.2598924\ttotal: 1m 7s\tremaining: 7.34s\n",
      "460:\tlearn: 0.2415778\ttotal: 1m 9s\tremaining: 5.86s\n",
      "470:\tlearn: 0.2203732\ttotal: 1m 10s\tremaining: 4.37s\n",
      "480:\tlearn: 0.2013790\ttotal: 1m 12s\tremaining: 2.87s\n",
      "490:\tlearn: 0.1842602\ttotal: 1m 14s\tremaining: 1.36s\n",
      "499:\tlearn: 0.1713106\ttotal: 1m 16s\tremaining: 0us\n",
      "0:\tlearn: 28.6022172\ttotal: 134ms\tremaining: 26.6s\n",
      "10:\tlearn: 20.2670600\ttotal: 1.7s\tremaining: 29.2s\n",
      "20:\tlearn: 15.2943796\ttotal: 3.28s\tremaining: 27.9s\n",
      "30:\tlearn: 12.0406921\ttotal: 4.92s\tremaining: 26.8s\n",
      "40:\tlearn: 9.9288191\ttotal: 6.29s\tremaining: 24.4s\n",
      "50:\tlearn: 8.1707630\ttotal: 7.73s\tremaining: 22.6s\n",
      "60:\tlearn: 6.8239968\ttotal: 9.03s\tremaining: 20.6s\n",
      "70:\tlearn: 5.8757574\ttotal: 10.4s\tremaining: 18.8s\n",
      "80:\tlearn: 4.9125668\ttotal: 11.6s\tremaining: 17s\n",
      "90:\tlearn: 4.2568406\ttotal: 12.7s\tremaining: 15.2s\n",
      "100:\tlearn: 3.7414352\ttotal: 14.1s\tremaining: 13.8s\n",
      "110:\tlearn: 3.1955278\ttotal: 15.4s\tremaining: 12.4s\n",
      "120:\tlearn: 2.7008902\ttotal: 16.7s\tremaining: 10.9s\n",
      "130:\tlearn: 2.2913890\ttotal: 17.9s\tremaining: 9.41s\n",
      "140:\tlearn: 1.8799768\ttotal: 19.3s\tremaining: 8.07s\n",
      "150:\tlearn: 1.6267622\ttotal: 20.8s\tremaining: 6.75s\n",
      "160:\tlearn: 1.4135153\ttotal: 22.2s\tremaining: 5.38s\n",
      "170:\tlearn: 1.2395211\ttotal: 23.5s\tremaining: 3.98s\n",
      "180:\tlearn: 1.0778923\ttotal: 24.6s\tremaining: 2.58s\n",
      "190:\tlearn: 0.9304241\ttotal: 25.9s\tremaining: 1.22s\n",
      "199:\tlearn: 0.8185890\ttotal: 26.9s\tremaining: 0us\n",
      "0:\tlearn: 29.6801795\ttotal: 132ms\tremaining: 26.3s\n",
      "10:\tlearn: 21.1285347\ttotal: 1.5s\tremaining: 25.7s\n",
      "20:\tlearn: 17.1211927\ttotal: 2.93s\tremaining: 25s\n",
      "30:\tlearn: 14.7553975\ttotal: 4.65s\tremaining: 25.4s\n",
      "40:\tlearn: 13.1021789\ttotal: 6.12s\tremaining: 23.7s\n",
      "50:\tlearn: 11.8011415\ttotal: 7.52s\tremaining: 22s\n",
      "60:\tlearn: 10.5591183\ttotal: 9.17s\tremaining: 20.9s\n",
      "70:\tlearn: 9.7508871\ttotal: 10.7s\tremaining: 19.4s\n",
      "80:\tlearn: 9.0399419\ttotal: 12.1s\tremaining: 17.8s\n",
      "90:\tlearn: 8.2784134\ttotal: 13.6s\tremaining: 16.3s\n",
      "100:\tlearn: 7.5975833\ttotal: 15s\tremaining: 14.7s\n",
      "110:\tlearn: 7.0949530\ttotal: 16.5s\tremaining: 13.3s\n",
      "120:\tlearn: 6.6316888\ttotal: 18.2s\tremaining: 11.9s\n",
      "130:\tlearn: 6.2056448\ttotal: 19.9s\tremaining: 10.5s\n",
      "140:\tlearn: 5.6644847\ttotal: 21.6s\tremaining: 9.05s\n",
      "150:\tlearn: 5.2434121\ttotal: 23.3s\tremaining: 7.56s\n",
      "160:\tlearn: 4.8937794\ttotal: 24.9s\tremaining: 6.04s\n",
      "170:\tlearn: 4.5615272\ttotal: 26.5s\tremaining: 4.49s\n",
      "180:\tlearn: 4.2601220\ttotal: 28.5s\tremaining: 2.99s\n",
      "190:\tlearn: 3.8462446\ttotal: 30.1s\tremaining: 1.42s\n",
      "199:\tlearn: 3.6430766\ttotal: 31.9s\tremaining: 0us\n",
      "0:\tlearn: 34.6829081\ttotal: 211ms\tremaining: 42s\n",
      "10:\tlearn: 25.2995774\ttotal: 2.15s\tremaining: 37s\n",
      "20:\tlearn: 21.5717673\ttotal: 4.08s\tremaining: 34.8s\n",
      "30:\tlearn: 19.5736294\ttotal: 5.98s\tremaining: 32.6s\n",
      "40:\tlearn: 18.2416490\ttotal: 7.71s\tremaining: 29.9s\n",
      "50:\tlearn: 17.1512909\ttotal: 9.59s\tremaining: 28s\n",
      "60:\tlearn: 16.2399989\ttotal: 11.3s\tremaining: 25.9s\n",
      "70:\tlearn: 15.3621057\ttotal: 13.1s\tremaining: 23.9s\n",
      "80:\tlearn: 14.6833791\ttotal: 14.9s\tremaining: 22s\n",
      "90:\tlearn: 13.9419299\ttotal: 16.9s\tremaining: 20.2s\n",
      "100:\tlearn: 13.5951286\ttotal: 18.6s\tremaining: 18.2s\n",
      "110:\tlearn: 13.0314671\ttotal: 20.4s\tremaining: 16.3s\n",
      "120:\tlearn: 12.2728590\ttotal: 22.5s\tremaining: 14.7s\n",
      "130:\tlearn: 11.7353115\ttotal: 24.6s\tremaining: 13s\n",
      "140:\tlearn: 11.1205941\ttotal: 26.9s\tremaining: 11.3s\n",
      "150:\tlearn: 10.4450532\ttotal: 29.2s\tremaining: 9.47s\n",
      "160:\tlearn: 9.8894912\ttotal: 31.4s\tremaining: 7.6s\n",
      "170:\tlearn: 9.4308315\ttotal: 33.2s\tremaining: 5.63s\n",
      "180:\tlearn: 9.0142865\ttotal: 35.1s\tremaining: 3.69s\n",
      "190:\tlearn: 8.5510382\ttotal: 37.1s\tremaining: 1.75s\n",
      "199:\tlearn: 8.1423138\ttotal: 38.5s\tremaining: 0us\n",
      "0:\tlearn: 32.9487082\ttotal: 142ms\tremaining: 1m 10s\n",
      "10:\tlearn: 27.1754541\ttotal: 1.67s\tremaining: 1m 14s\n",
      "20:\tlearn: 23.7074076\ttotal: 3.38s\tremaining: 1m 17s\n",
      "30:\tlearn: 21.3556750\ttotal: 5.41s\tremaining: 1m 21s\n",
      "40:\tlearn: 19.7612491\ttotal: 7.14s\tremaining: 1m 19s\n",
      "50:\tlearn: 18.5350605\ttotal: 8.88s\tremaining: 1m 18s\n",
      "60:\tlearn: 17.6403048\ttotal: 10.5s\tremaining: 1m 15s\n",
      "70:\tlearn: 16.8203145\ttotal: 12.1s\tremaining: 1m 13s\n",
      "80:\tlearn: 16.2164615\ttotal: 13.5s\tremaining: 1m 9s\n",
      "90:\tlearn: 15.6100933\ttotal: 15.2s\tremaining: 1m 8s\n",
      "100:\tlearn: 15.0986734\ttotal: 16.9s\tremaining: 1m 6s\n",
      "110:\tlearn: 14.5493410\ttotal: 18.5s\tremaining: 1m 4s\n",
      "120:\tlearn: 14.0510143\ttotal: 20.1s\tremaining: 1m 2s\n",
      "130:\tlearn: 13.6481264\ttotal: 22s\tremaining: 1m 1s\n",
      "140:\tlearn: 13.2556719\ttotal: 23.9s\tremaining: 1m\n",
      "150:\tlearn: 12.8774574\ttotal: 25.7s\tremaining: 59.3s\n",
      "160:\tlearn: 12.5800103\ttotal: 27.5s\tremaining: 57.9s\n",
      "170:\tlearn: 12.2747443\ttotal: 29.2s\tremaining: 56.1s\n",
      "180:\tlearn: 11.9425511\ttotal: 31.1s\tremaining: 54.8s\n",
      "190:\tlearn: 11.6264155\ttotal: 32.9s\tremaining: 53.2s\n",
      "200:\tlearn: 11.3079841\ttotal: 34.8s\tremaining: 51.7s\n",
      "210:\tlearn: 11.0109885\ttotal: 36.5s\tremaining: 50s\n",
      "220:\tlearn: 10.6363016\ttotal: 38.2s\tremaining: 48.2s\n",
      "230:\tlearn: 10.2995559\ttotal: 39.8s\tremaining: 46.4s\n",
      "240:\tlearn: 10.0255169\ttotal: 41.3s\tremaining: 44.4s\n",
      "250:\tlearn: 9.7870141\ttotal: 42.9s\tremaining: 42.5s\n",
      "260:\tlearn: 9.5280875\ttotal: 44.4s\tremaining: 40.7s\n",
      "270:\tlearn: 9.2000325\ttotal: 46s\tremaining: 38.9s\n",
      "280:\tlearn: 8.9535787\ttotal: 47.8s\tremaining: 37.3s\n",
      "290:\tlearn: 8.6927800\ttotal: 49.5s\tremaining: 35.6s\n",
      "300:\tlearn: 8.4753156\ttotal: 51.2s\tremaining: 33.9s\n",
      "310:\tlearn: 8.2577394\ttotal: 53.1s\tremaining: 32.3s\n",
      "320:\tlearn: 8.0183667\ttotal: 54.7s\tremaining: 30.5s\n",
      "330:\tlearn: 7.8097919\ttotal: 56.2s\tremaining: 28.7s\n",
      "340:\tlearn: 7.5959093\ttotal: 57.7s\tremaining: 26.9s\n",
      "350:\tlearn: 7.3772840\ttotal: 59.2s\tremaining: 25.1s\n",
      "360:\tlearn: 7.1672420\ttotal: 1m\tremaining: 23.3s\n",
      "370:\tlearn: 7.0137051\ttotal: 1m 1s\tremaining: 21.5s\n",
      "380:\tlearn: 6.8596135\ttotal: 1m 3s\tremaining: 19.7s\n",
      "390:\tlearn: 6.6879430\ttotal: 1m 4s\tremaining: 17.9s\n",
      "400:\tlearn: 6.5196220\ttotal: 1m 5s\tremaining: 16.2s\n",
      "410:\tlearn: 6.3593488\ttotal: 1m 6s\tremaining: 14.4s\n",
      "420:\tlearn: 6.1715197\ttotal: 1m 7s\tremaining: 12.7s\n",
      "430:\tlearn: 6.0023870\ttotal: 1m 9s\tremaining: 11.1s\n",
      "440:\tlearn: 5.8759234\ttotal: 1m 10s\tremaining: 9.4s\n",
      "450:\tlearn: 5.7331853\ttotal: 1m 11s\tremaining: 7.74s\n",
      "460:\tlearn: 5.5866328\ttotal: 1m 12s\tremaining: 6.12s\n",
      "470:\tlearn: 5.4544282\ttotal: 1m 13s\tremaining: 4.5s\n",
      "480:\tlearn: 5.3355723\ttotal: 1m 13s\tremaining: 2.92s\n",
      "490:\tlearn: 5.2084738\ttotal: 1m 14s\tremaining: 1.37s\n",
      "499:\tlearn: 5.0580774\ttotal: 1m 15s\tremaining: 0us\n"
     ]
    },
    {
     "name": "stdout",
     "output_type": "stream",
     "text": [
      "0:\tlearn: 28.7940586\ttotal: 56.6ms\tremaining: 5.61s\n",
      "10:\tlearn: 22.2204846\ttotal: 76.2ms\tremaining: 616ms\n",
      "20:\tlearn: 21.0744357\ttotal: 93ms\tremaining: 350ms\n",
      "30:\tlearn: 20.1073580\ttotal: 113ms\tremaining: 252ms\n",
      "40:\tlearn: 19.4779248\ttotal: 133ms\tremaining: 191ms\n",
      "50:\tlearn: 19.0173582\ttotal: 151ms\tremaining: 145ms\n",
      "60:\tlearn: 18.6213936\ttotal: 171ms\tremaining: 109ms\n",
      "70:\tlearn: 18.1750636\ttotal: 191ms\tremaining: 77.9ms\n",
      "80:\tlearn: 17.8986005\ttotal: 210ms\tremaining: 49.3ms\n",
      "90:\tlearn: 17.5268018\ttotal: 232ms\tremaining: 23ms\n",
      "99:\tlearn: 17.2006494\ttotal: 248ms\tremaining: 0us\n",
      "0:\tlearn: 26.1071408\ttotal: 1.68ms\tremaining: 836ms\n",
      "10:\tlearn: 19.9451633\ttotal: 17.6ms\tremaining: 782ms\n",
      "20:\tlearn: 18.7544319\ttotal: 34.8ms\tremaining: 793ms\n",
      "30:\tlearn: 18.1300304\ttotal: 51.8ms\tremaining: 784ms\n",
      "40:\tlearn: 17.4594055\ttotal: 71.2ms\tremaining: 797ms\n",
      "50:\tlearn: 16.7993476\ttotal: 85.5ms\tremaining: 752ms\n",
      "60:\tlearn: 16.1842099\ttotal: 103ms\tremaining: 740ms\n",
      "70:\tlearn: 15.6181210\ttotal: 119ms\tremaining: 718ms\n",
      "80:\tlearn: 15.2035896\ttotal: 134ms\tremaining: 692ms\n",
      "90:\tlearn: 14.8331530\ttotal: 150ms\tremaining: 675ms\n",
      "100:\tlearn: 14.5051180\ttotal: 167ms\tremaining: 660ms\n",
      "110:\tlearn: 14.2238803\ttotal: 186ms\tremaining: 653ms\n",
      "120:\tlearn: 13.7822642\ttotal: 202ms\tremaining: 632ms\n",
      "130:\tlearn: 13.5489600\ttotal: 217ms\tremaining: 611ms\n",
      "140:\tlearn: 13.0766594\ttotal: 233ms\tremaining: 593ms\n",
      "150:\tlearn: 12.8385724\ttotal: 251ms\tremaining: 580ms\n",
      "160:\tlearn: 12.5297527\ttotal: 268ms\tremaining: 564ms\n",
      "170:\tlearn: 12.2106927\ttotal: 287ms\tremaining: 552ms\n",
      "180:\tlearn: 11.9610009\ttotal: 303ms\tremaining: 534ms\n",
      "190:\tlearn: 11.6462420\ttotal: 318ms\tremaining: 515ms\n",
      "200:\tlearn: 11.3977725\ttotal: 334ms\tremaining: 497ms\n",
      "210:\tlearn: 11.2767308\ttotal: 353ms\tremaining: 483ms\n",
      "220:\tlearn: 10.9800252\ttotal: 373ms\tremaining: 471ms\n",
      "230:\tlearn: 10.7759764\ttotal: 389ms\tremaining: 453ms\n",
      "240:\tlearn: 10.5762558\ttotal: 404ms\tremaining: 434ms\n",
      "250:\tlearn: 10.3779936\ttotal: 420ms\tremaining: 416ms\n",
      "260:\tlearn: 10.2215068\ttotal: 436ms\tremaining: 399ms\n",
      "270:\tlearn: 10.0416284\ttotal: 452ms\tremaining: 382ms\n",
      "280:\tlearn: 9.8441935\ttotal: 470ms\tremaining: 366ms\n",
      "290:\tlearn: 9.6325648\ttotal: 488ms\tremaining: 350ms\n",
      "300:\tlearn: 9.4689590\ttotal: 504ms\tremaining: 333ms\n",
      "310:\tlearn: 9.3224967\ttotal: 519ms\tremaining: 315ms\n",
      "320:\tlearn: 9.1635225\ttotal: 534ms\tremaining: 298ms\n",
      "330:\tlearn: 9.0406997\ttotal: 551ms\tremaining: 282ms\n",
      "340:\tlearn: 8.8886422\ttotal: 568ms\tremaining: 265ms\n",
      "350:\tlearn: 8.7393814\ttotal: 584ms\tremaining: 248ms\n",
      "360:\tlearn: 8.5927493\ttotal: 602ms\tremaining: 232ms\n",
      "370:\tlearn: 8.4611592\ttotal: 619ms\tremaining: 215ms\n",
      "380:\tlearn: 8.3287012\ttotal: 637ms\tremaining: 199ms\n",
      "390:\tlearn: 8.2361472\ttotal: 653ms\tremaining: 182ms\n",
      "400:\tlearn: 8.0861764\ttotal: 673ms\tremaining: 166ms\n",
      "410:\tlearn: 7.9568784\ttotal: 689ms\tremaining: 149ms\n",
      "420:\tlearn: 7.8089466\ttotal: 704ms\tremaining: 132ms\n",
      "430:\tlearn: 7.6959879\ttotal: 722ms\tremaining: 116ms\n",
      "440:\tlearn: 7.5608927\ttotal: 740ms\tremaining: 98.9ms\n",
      "450:\tlearn: 7.4416876\ttotal: 759ms\tremaining: 82.4ms\n",
      "460:\tlearn: 7.3474831\ttotal: 776ms\tremaining: 65.7ms\n",
      "470:\tlearn: 7.2232376\ttotal: 794ms\tremaining: 48.9ms\n",
      "480:\tlearn: 7.1281254\ttotal: 811ms\tremaining: 32ms\n",
      "490:\tlearn: 6.9937110\ttotal: 827ms\tremaining: 15.2ms\n",
      "499:\tlearn: 6.9007840\ttotal: 847ms\tremaining: 0us\n",
      "0:\tlearn: 24.0345803\ttotal: 53.5ms\tremaining: 18.7s\n",
      "10:\tlearn: 9.1520341\ttotal: 786ms\tremaining: 24.2s\n",
      "20:\tlearn: 5.0774260\ttotal: 1.69s\tremaining: 26.5s\n",
      "30:\tlearn: 2.7278834\ttotal: 2.8s\tremaining: 28.8s\n",
      "40:\tlearn: 1.5935221\ttotal: 3.86s\tremaining: 29.1s\n",
      "50:\tlearn: 0.9272049\ttotal: 4.98s\tremaining: 29.2s\n",
      "60:\tlearn: 0.5494911\ttotal: 6.06s\tremaining: 28.7s\n",
      "70:\tlearn: 0.3313013\ttotal: 7.15s\tremaining: 28.1s\n",
      "80:\tlearn: 0.1980496\ttotal: 8.29s\tremaining: 27.5s\n",
      "90:\tlearn: 0.1243817\ttotal: 9.52s\tremaining: 27.1s\n",
      "100:\tlearn: 0.0706164\ttotal: 10.7s\tremaining: 26.4s\n",
      "110:\tlearn: 0.0375169\ttotal: 11.9s\tremaining: 25.7s\n",
      "120:\tlearn: 0.0233370\ttotal: 13.1s\tremaining: 24.8s\n",
      "130:\tlearn: 0.0123328\ttotal: 14.2s\tremaining: 23.8s\n",
      "140:\tlearn: 0.0067625\ttotal: 15.3s\tremaining: 22.7s\n",
      "150:\tlearn: 0.0041067\ttotal: 16.5s\tremaining: 21.7s\n",
      "160:\tlearn: 0.0023668\ttotal: 17.6s\tremaining: 20.7s\n",
      "170:\tlearn: 0.0014464\ttotal: 18.8s\tremaining: 19.7s\n",
      "180:\tlearn: 0.0009080\ttotal: 20s\tremaining: 18.7s\n",
      "190:\tlearn: 0.0005388\ttotal: 21.2s\tremaining: 17.6s\n",
      "200:\tlearn: 0.0003243\ttotal: 22.3s\tremaining: 16.6s\n",
      "210:\tlearn: 0.0001844\ttotal: 23.5s\tremaining: 15.5s\n",
      "220:\tlearn: 0.0001212\ttotal: 24.8s\tremaining: 14.5s\n",
      "230:\tlearn: 0.0000721\ttotal: 26s\tremaining: 13.4s\n",
      "240:\tlearn: 0.0000433\ttotal: 27.4s\tremaining: 12.4s\n",
      "250:\tlearn: 0.0000247\ttotal: 28.6s\tremaining: 11.3s\n",
      "260:\tlearn: 0.0000165\ttotal: 29.8s\tremaining: 10.2s\n",
      "270:\tlearn: 0.0000103\ttotal: 31s\tremaining: 9.04s\n",
      "280:\tlearn: 0.0000061\ttotal: 32.3s\tremaining: 7.94s\n",
      "290:\tlearn: 0.0000039\ttotal: 33.6s\tremaining: 6.8s\n",
      "300:\tlearn: 0.0000028\ttotal: 34.9s\tremaining: 5.67s\n",
      "310:\tlearn: 0.0000017\ttotal: 36.2s\tremaining: 4.54s\n",
      "320:\tlearn: 0.0000011\ttotal: 37.4s\tremaining: 3.38s\n",
      "330:\tlearn: 0.0000006\ttotal: 38.7s\tremaining: 2.22s\n",
      "340:\tlearn: 0.0000003\ttotal: 40.1s\tremaining: 1.06s\n",
      "349:\tlearn: 0.0000002\ttotal: 41.2s\tremaining: 0us\n",
      "0:\tlearn: 29.2988851\ttotal: 146ms\tremaining: 50.8s\n",
      "10:\tlearn: 17.4738139\ttotal: 1.98s\tremaining: 1m 1s\n",
      "20:\tlearn: 13.8626765\ttotal: 3.65s\tremaining: 57.3s\n",
      "30:\tlearn: 10.5612567\ttotal: 5.57s\tremaining: 57.3s\n",
      "40:\tlearn: 8.4946566\ttotal: 7.43s\tremaining: 56s\n",
      "50:\tlearn: 7.0834622\ttotal: 9.18s\tremaining: 53.8s\n",
      "60:\tlearn: 5.9054201\ttotal: 11s\tremaining: 52.1s\n",
      "70:\tlearn: 4.9147028\ttotal: 13s\tremaining: 51.2s\n",
      "80:\tlearn: 4.0487708\ttotal: 14.7s\tremaining: 48.8s\n",
      "90:\tlearn: 3.2953073\ttotal: 16.3s\tremaining: 46.4s\n",
      "100:\tlearn: 2.6492055\ttotal: 17.9s\tremaining: 44.2s\n",
      "110:\tlearn: 2.2037409\ttotal: 19.6s\tremaining: 42.2s\n",
      "120:\tlearn: 1.8318989\ttotal: 21.3s\tremaining: 40.4s\n",
      "130:\tlearn: 1.5026165\ttotal: 22.7s\tremaining: 38s\n",
      "140:\tlearn: 1.2052859\ttotal: 24.2s\tremaining: 35.8s\n",
      "150:\tlearn: 0.9982824\ttotal: 25.7s\tremaining: 33.9s\n",
      "160:\tlearn: 0.8615360\ttotal: 27.8s\tremaining: 32.6s\n",
      "170:\tlearn: 0.6992028\ttotal: 29.5s\tremaining: 30.9s\n",
      "180:\tlearn: 0.5421290\ttotal: 31.5s\tremaining: 29.4s\n",
      "190:\tlearn: 0.4410462\ttotal: 33.5s\tremaining: 27.9s\n",
      "200:\tlearn: 0.3718479\ttotal: 35.4s\tremaining: 26.2s\n",
      "210:\tlearn: 0.3138818\ttotal: 37.1s\tremaining: 24.5s\n",
      "220:\tlearn: 0.2589212\ttotal: 38.9s\tremaining: 22.7s\n",
      "230:\tlearn: 0.2138600\ttotal: 40.6s\tremaining: 20.9s\n",
      "240:\tlearn: 0.1834634\ttotal: 42.6s\tremaining: 19.3s\n",
      "250:\tlearn: 0.1575522\ttotal: 44.6s\tremaining: 17.6s\n",
      "260:\tlearn: 0.1285577\ttotal: 46.7s\tremaining: 15.9s\n",
      "270:\tlearn: 0.1090853\ttotal: 48.6s\tremaining: 14.2s\n",
      "280:\tlearn: 0.0906011\ttotal: 51s\tremaining: 12.5s\n",
      "290:\tlearn: 0.0782800\ttotal: 53.1s\tremaining: 10.8s\n",
      "300:\tlearn: 0.0663176\ttotal: 55.2s\tremaining: 8.98s\n",
      "310:\tlearn: 0.0543471\ttotal: 57s\tremaining: 7.15s\n",
      "320:\tlearn: 0.0448147\ttotal: 58.7s\tremaining: 5.3s\n",
      "330:\tlearn: 0.0397412\ttotal: 1m\tremaining: 3.46s\n",
      "340:\tlearn: 0.0324309\ttotal: 1m 1s\tremaining: 1.63s\n",
      "349:\tlearn: 0.0266084\ttotal: 1m 3s\tremaining: 0us\n",
      "0:\tlearn: 27.4957883\ttotal: 125ms\tremaining: 1m 2s\n",
      "10:\tlearn: 15.7389790\ttotal: 1.64s\tremaining: 1m 13s\n",
      "20:\tlearn: 12.4658316\ttotal: 3.2s\tremaining: 1m 12s\n",
      "30:\tlearn: 9.4923221\ttotal: 4.77s\tremaining: 1m 12s\n",
      "40:\tlearn: 6.9819661\ttotal: 6.18s\tremaining: 1m 9s\n",
      "50:\tlearn: 5.3594264\ttotal: 7.76s\tremaining: 1m 8s\n",
      "60:\tlearn: 4.3382099\ttotal: 9.45s\tremaining: 1m 8s\n",
      "70:\tlearn: 3.5084514\ttotal: 11.1s\tremaining: 1m 7s\n",
      "80:\tlearn: 2.6704428\ttotal: 13s\tremaining: 1m 7s\n",
      "90:\tlearn: 2.2543200\ttotal: 14.8s\tremaining: 1m 6s\n",
      "100:\tlearn: 1.7085300\ttotal: 16.6s\tremaining: 1m 5s\n",
      "110:\tlearn: 1.3776075\ttotal: 18.6s\tremaining: 1m 5s\n",
      "120:\tlearn: 1.1119190\ttotal: 20.2s\tremaining: 1m 3s\n",
      "130:\tlearn: 0.8677455\ttotal: 21.7s\tremaining: 1m 1s\n",
      "140:\tlearn: 0.6769316\ttotal: 23.4s\tremaining: 59.5s\n",
      "150:\tlearn: 0.4969738\ttotal: 24.9s\tremaining: 57.6s\n",
      "160:\tlearn: 0.3992322\ttotal: 26.6s\tremaining: 55.9s\n",
      "170:\tlearn: 0.3331610\ttotal: 28.3s\tremaining: 54.5s\n",
      "180:\tlearn: 0.2779468\ttotal: 30.1s\tremaining: 53.1s\n",
      "190:\tlearn: 0.2174108\ttotal: 31.8s\tremaining: 51.4s\n",
      "200:\tlearn: 0.1653687\ttotal: 33.7s\tremaining: 50.2s\n",
      "210:\tlearn: 0.1334236\ttotal: 35.7s\tremaining: 48.9s\n",
      "220:\tlearn: 0.1031827\ttotal: 37.6s\tremaining: 47.5s\n",
      "230:\tlearn: 0.0853557\ttotal: 39.9s\tremaining: 46.4s\n",
      "240:\tlearn: 0.0723710\ttotal: 41.9s\tremaining: 45s\n",
      "250:\tlearn: 0.0590733\ttotal: 44s\tremaining: 43.7s\n",
      "260:\tlearn: 0.0464566\ttotal: 46.1s\tremaining: 42.2s\n",
      "270:\tlearn: 0.0383068\ttotal: 48.3s\tremaining: 40.8s\n",
      "280:\tlearn: 0.0292281\ttotal: 50.4s\tremaining: 39.3s\n",
      "290:\tlearn: 0.0235328\ttotal: 52.2s\tremaining: 37.5s\n",
      "300:\tlearn: 0.0186773\ttotal: 54.1s\tremaining: 35.7s\n",
      "310:\tlearn: 0.0145942\ttotal: 55.9s\tremaining: 34s\n",
      "320:\tlearn: 0.0114935\ttotal: 57.9s\tremaining: 32.3s\n",
      "330:\tlearn: 0.0088908\ttotal: 59.8s\tremaining: 30.5s\n",
      "340:\tlearn: 0.0072244\ttotal: 1m 1s\tremaining: 28.8s\n",
      "350:\tlearn: 0.0054838\ttotal: 1m 3s\tremaining: 27s\n",
      "360:\tlearn: 0.0043824\ttotal: 1m 5s\tremaining: 25.2s\n",
      "370:\tlearn: 0.0035513\ttotal: 1m 7s\tremaining: 23.3s\n",
      "380:\tlearn: 0.0029809\ttotal: 1m 8s\tremaining: 21.5s\n",
      "390:\tlearn: 0.0023713\ttotal: 1m 10s\tremaining: 19.7s\n",
      "400:\tlearn: 0.0018983\ttotal: 1m 12s\tremaining: 17.9s\n",
      "410:\tlearn: 0.0015545\ttotal: 1m 14s\tremaining: 16.1s\n",
      "420:\tlearn: 0.0012575\ttotal: 1m 16s\tremaining: 14.3s\n",
      "430:\tlearn: 0.0010017\ttotal: 1m 17s\tremaining: 12.4s\n",
      "440:\tlearn: 0.0008222\ttotal: 1m 19s\tremaining: 10.6s\n",
      "450:\tlearn: 0.0006573\ttotal: 1m 21s\tremaining: 8.83s\n",
      "460:\tlearn: 0.0005456\ttotal: 1m 22s\tremaining: 7.01s\n",
      "470:\tlearn: 0.0004196\ttotal: 1m 24s\tremaining: 5.23s\n",
      "480:\tlearn: 0.0003522\ttotal: 1m 26s\tremaining: 3.42s\n",
      "490:\tlearn: 0.0002860\ttotal: 1m 28s\tremaining: 1.62s\n",
      "499:\tlearn: 0.0002440\ttotal: 1m 30s\tremaining: 0us\n",
      "0:\tlearn: 31.4630693\ttotal: 243ms\tremaining: 2m 1s\n",
      "10:\tlearn: 22.5177663\ttotal: 2.26s\tremaining: 1m 40s\n",
      "20:\tlearn: 18.5725936\ttotal: 4.07s\tremaining: 1m 32s\n",
      "30:\tlearn: 16.2644083\ttotal: 5.65s\tremaining: 1m 25s\n",
      "40:\tlearn: 14.9110632\ttotal: 7.6s\tremaining: 1m 25s\n",
      "50:\tlearn: 13.7588073\ttotal: 9.29s\tremaining: 1m 21s\n",
      "60:\tlearn: 12.5885327\ttotal: 10.8s\tremaining: 1m 17s\n",
      "70:\tlearn: 11.7855711\ttotal: 12.6s\tremaining: 1m 15s\n",
      "80:\tlearn: 11.0093080\ttotal: 14.5s\tremaining: 1m 14s\n",
      "90:\tlearn: 10.2757961\ttotal: 16.3s\tremaining: 1m 13s\n",
      "100:\tlearn: 9.8443379\ttotal: 18s\tremaining: 1m 11s\n",
      "110:\tlearn: 9.2896372\ttotal: 19.8s\tremaining: 1m 9s\n",
      "120:\tlearn: 8.7951922\ttotal: 21.5s\tremaining: 1m 7s\n",
      "130:\tlearn: 8.1702056\ttotal: 23.2s\tremaining: 1m 5s\n",
      "140:\tlearn: 7.7584059\ttotal: 24.9s\tremaining: 1m 3s\n",
      "150:\tlearn: 7.2793605\ttotal: 26.4s\tremaining: 1m\n",
      "160:\tlearn: 6.8998117\ttotal: 27.7s\tremaining: 58.3s\n",
      "170:\tlearn: 6.4751648\ttotal: 29.1s\tremaining: 56.1s\n",
      "180:\tlearn: 6.1020226\ttotal: 30.6s\tremaining: 54s\n",
      "190:\tlearn: 5.7488640\ttotal: 32.3s\tremaining: 52.3s\n",
      "200:\tlearn: 5.3899420\ttotal: 34.1s\tremaining: 50.8s\n",
      "210:\tlearn: 5.0192928\ttotal: 35.9s\tremaining: 49.1s\n",
      "220:\tlearn: 4.7235091\ttotal: 37.5s\tremaining: 47.4s\n",
      "230:\tlearn: 4.4711981\ttotal: 39.2s\tremaining: 45.7s\n",
      "240:\tlearn: 4.2546031\ttotal: 40.8s\tremaining: 43.8s\n",
      "250:\tlearn: 4.0001299\ttotal: 42.5s\tremaining: 42.2s\n",
      "260:\tlearn: 3.7822373\ttotal: 44.2s\tremaining: 40.5s\n",
      "270:\tlearn: 3.6028558\ttotal: 45.8s\tremaining: 38.7s\n",
      "280:\tlearn: 3.3971458\ttotal: 47.4s\tremaining: 37s\n",
      "290:\tlearn: 3.1846893\ttotal: 49.3s\tremaining: 35.4s\n",
      "300:\tlearn: 3.0060995\ttotal: 51.1s\tremaining: 33.8s\n",
      "310:\tlearn: 2.8502382\ttotal: 53.3s\tremaining: 32.4s\n",
      "320:\tlearn: 2.6717092\ttotal: 55.2s\tremaining: 30.8s\n",
      "330:\tlearn: 2.5092159\ttotal: 57.1s\tremaining: 29.2s\n",
      "340:\tlearn: 2.3911281\ttotal: 59.2s\tremaining: 27.6s\n",
      "350:\tlearn: 2.2408089\ttotal: 1m 1s\tremaining: 26s\n",
      "360:\tlearn: 2.0916916\ttotal: 1m 3s\tremaining: 24.3s\n",
      "370:\tlearn: 1.9865817\ttotal: 1m 5s\tremaining: 22.7s\n",
      "380:\tlearn: 1.8486060\ttotal: 1m 6s\tremaining: 20.9s\n",
      "390:\tlearn: 1.7487318\ttotal: 1m 8s\tremaining: 19.1s\n",
      "400:\tlearn: 1.6556233\ttotal: 1m 10s\tremaining: 17.3s\n",
      "410:\tlearn: 1.5591502\ttotal: 1m 11s\tremaining: 15.6s\n",
      "420:\tlearn: 1.4816730\ttotal: 1m 13s\tremaining: 13.8s\n",
      "430:\tlearn: 1.3911538\ttotal: 1m 15s\tremaining: 12.1s\n",
      "440:\tlearn: 1.2983925\ttotal: 1m 16s\tremaining: 10.3s\n",
      "450:\tlearn: 1.2247707\ttotal: 1m 18s\tremaining: 8.54s\n",
      "460:\tlearn: 1.1441817\ttotal: 1m 20s\tremaining: 6.79s\n",
      "470:\tlearn: 1.0808741\ttotal: 1m 22s\tremaining: 5.06s\n",
      "480:\tlearn: 1.0200500\ttotal: 1m 23s\tremaining: 3.31s\n",
      "490:\tlearn: 0.9625776\ttotal: 1m 25s\tremaining: 1.56s\n",
      "499:\tlearn: 0.9098752\ttotal: 1m 26s\tremaining: 0us\n",
      "0:\tlearn: 29.9226108\ttotal: 127ms\tremaining: 25.3s\n",
      "10:\tlearn: 21.6652592\ttotal: 1.73s\tremaining: 29.7s\n",
      "20:\tlearn: 17.7591010\ttotal: 3.37s\tremaining: 28.7s\n",
      "30:\tlearn: 15.4689195\ttotal: 4.99s\tremaining: 27.2s\n",
      "40:\tlearn: 13.8338085\ttotal: 6.54s\tremaining: 25.3s\n",
      "50:\tlearn: 12.6001032\ttotal: 8.1s\tremaining: 23.7s\n",
      "60:\tlearn: 11.5051985\ttotal: 9.79s\tremaining: 22.3s\n",
      "70:\tlearn: 10.6532429\ttotal: 11.2s\tremaining: 20.3s\n",
      "80:\tlearn: 9.9004192\ttotal: 12.6s\tremaining: 18.5s\n",
      "90:\tlearn: 9.3310189\ttotal: 14s\tremaining: 16.8s\n",
      "100:\tlearn: 8.7445547\ttotal: 15.4s\tremaining: 15.1s\n",
      "110:\tlearn: 8.3503277\ttotal: 17.1s\tremaining: 13.7s\n",
      "120:\tlearn: 7.9625870\ttotal: 18.6s\tremaining: 12.1s\n",
      "130:\tlearn: 7.5038790\ttotal: 20.3s\tremaining: 10.7s\n",
      "140:\tlearn: 7.0384026\ttotal: 22.1s\tremaining: 9.24s\n",
      "150:\tlearn: 6.5702065\ttotal: 23.9s\tremaining: 7.74s\n",
      "160:\tlearn: 6.2081871\ttotal: 25.6s\tremaining: 6.2s\n",
      "170:\tlearn: 5.6822617\ttotal: 27.5s\tremaining: 4.67s\n",
      "180:\tlearn: 5.3538686\ttotal: 29.3s\tremaining: 3.08s\n",
      "190:\tlearn: 4.9902474\ttotal: 31.4s\tremaining: 1.48s\n",
      "199:\tlearn: 4.7371383\ttotal: 33.1s\tremaining: 0us\n",
      "0:\tlearn: 29.0891915\ttotal: 142ms\tremaining: 1m 10s\n",
      "10:\tlearn: 24.1479161\ttotal: 1.35s\tremaining: 1m\n",
      "20:\tlearn: 20.4557576\ttotal: 2.62s\tremaining: 59.7s\n",
      "30:\tlearn: 17.7015402\ttotal: 3.99s\tremaining: 1m\n",
      "40:\tlearn: 15.6556488\ttotal: 5.26s\tremaining: 58.9s\n",
      "50:\tlearn: 13.8564234\ttotal: 6.49s\tremaining: 57.2s\n",
      "60:\tlearn: 12.3527139\ttotal: 7.74s\tremaining: 55.7s\n",
      "70:\tlearn: 11.0461602\ttotal: 8.99s\tremaining: 54.3s\n",
      "80:\tlearn: 10.0108495\ttotal: 10.3s\tremaining: 53.3s\n",
      "90:\tlearn: 9.1463048\ttotal: 11.6s\tremaining: 52.3s\n",
      "100:\tlearn: 8.3652491\ttotal: 13s\tremaining: 51.4s\n",
      "110:\tlearn: 7.6899570\ttotal: 14.3s\tremaining: 50.1s\n",
      "120:\tlearn: 7.0328737\ttotal: 15.7s\tremaining: 49.2s\n",
      "130:\tlearn: 6.3954016\ttotal: 17s\tremaining: 47.8s\n",
      "140:\tlearn: 5.7819608\ttotal: 18.3s\tremaining: 46.6s\n",
      "150:\tlearn: 5.3021660\ttotal: 19.5s\tremaining: 45.2s\n",
      "160:\tlearn: 4.8932722\ttotal: 21s\tremaining: 44.2s\n",
      "170:\tlearn: 4.5434140\ttotal: 22.5s\tremaining: 43.3s\n",
      "180:\tlearn: 4.1990976\ttotal: 23.9s\tremaining: 42.1s\n",
      "190:\tlearn: 3.9668691\ttotal: 25.4s\tremaining: 41.1s\n",
      "200:\tlearn: 3.6511795\ttotal: 27s\tremaining: 40.2s\n",
      "210:\tlearn: 3.4120811\ttotal: 28.5s\tremaining: 39s\n",
      "220:\tlearn: 3.2109216\ttotal: 29.9s\tremaining: 37.8s\n",
      "230:\tlearn: 3.0489966\ttotal: 31s\tremaining: 36.1s\n",
      "240:\tlearn: 2.8699798\ttotal: 32.3s\tremaining: 34.7s\n",
      "250:\tlearn: 2.7163403\ttotal: 33.7s\tremaining: 33.4s\n",
      "260:\tlearn: 2.5714543\ttotal: 35s\tremaining: 32s\n",
      "270:\tlearn: 2.3864117\ttotal: 36.2s\tremaining: 30.6s\n",
      "280:\tlearn: 2.1914490\ttotal: 37.3s\tremaining: 29.1s\n",
      "290:\tlearn: 2.0331810\ttotal: 38.5s\tremaining: 27.6s\n",
      "300:\tlearn: 1.8885249\ttotal: 39.7s\tremaining: 26.3s\n",
      "310:\tlearn: 1.7790007\ttotal: 41.2s\tremaining: 25s\n",
      "320:\tlearn: 1.6355472\ttotal: 42.5s\tremaining: 23.7s\n",
      "330:\tlearn: 1.5380829\ttotal: 43.9s\tremaining: 22.4s\n",
      "340:\tlearn: 1.4582910\ttotal: 45.1s\tremaining: 21s\n",
      "350:\tlearn: 1.3637898\ttotal: 46.1s\tremaining: 19.6s\n",
      "360:\tlearn: 1.2670563\ttotal: 47.2s\tremaining: 18.2s\n",
      "370:\tlearn: 1.1668527\ttotal: 48.4s\tremaining: 16.8s\n",
      "380:\tlearn: 1.0809289\ttotal: 49.4s\tremaining: 15.4s\n",
      "390:\tlearn: 1.0174591\ttotal: 50.4s\tremaining: 14.1s\n",
      "400:\tlearn: 0.9549558\ttotal: 51.7s\tremaining: 12.8s\n",
      "410:\tlearn: 0.8876793\ttotal: 52.8s\tremaining: 11.4s\n",
      "420:\tlearn: 0.8363748\ttotal: 54s\tremaining: 10.1s\n",
      "430:\tlearn: 0.7697262\ttotal: 55.3s\tremaining: 8.85s\n",
      "440:\tlearn: 0.7191278\ttotal: 56.5s\tremaining: 7.55s\n",
      "450:\tlearn: 0.6595798\ttotal: 57.8s\tremaining: 6.28s\n",
      "460:\tlearn: 0.6081157\ttotal: 59s\tremaining: 4.99s\n",
      "470:\tlearn: 0.5550425\ttotal: 1m\tremaining: 3.71s\n",
      "480:\tlearn: 0.5158963\ttotal: 1m 1s\tremaining: 2.43s\n",
      "490:\tlearn: 0.4829461\ttotal: 1m 3s\tremaining: 1.16s\n",
      "499:\tlearn: 0.4499784\ttotal: 1m 4s\tremaining: 0us\n",
      "0:\tlearn: 33.8883216\ttotal: 164ms\tremaining: 1m 22s\n",
      "10:\tlearn: 27.9837233\ttotal: 2.1s\tremaining: 1m 33s\n",
      "20:\tlearn: 24.3544928\ttotal: 4s\tremaining: 1m 31s\n",
      "30:\tlearn: 21.9871049\ttotal: 5.82s\tremaining: 1m 28s\n",
      "40:\tlearn: 20.3844794\ttotal: 7.75s\tremaining: 1m 26s\n",
      "50:\tlearn: 19.1830769\ttotal: 9.36s\tremaining: 1m 22s\n",
      "60:\tlearn: 18.2839524\ttotal: 11s\tremaining: 1m 19s\n",
      "70:\tlearn: 17.5339563\ttotal: 12.6s\tremaining: 1m 16s\n",
      "80:\tlearn: 16.8908334\ttotal: 14.3s\tremaining: 1m 13s\n",
      "90:\tlearn: 16.3139916\ttotal: 15.9s\tremaining: 1m 11s\n",
      "100:\tlearn: 15.8173327\ttotal: 17.6s\tremaining: 1m 9s\n",
      "110:\tlearn: 15.3829122\ttotal: 19.2s\tremaining: 1m 7s\n",
      "120:\tlearn: 14.8390009\ttotal: 21s\tremaining: 1m 5s\n",
      "130:\tlearn: 14.4221439\ttotal: 22.7s\tremaining: 1m 3s\n",
      "140:\tlearn: 14.0334691\ttotal: 24.5s\tremaining: 1m 2s\n",
      "150:\tlearn: 13.6458583\ttotal: 26.2s\tremaining: 1m\n",
      "160:\tlearn: 13.2638991\ttotal: 27.8s\tremaining: 58.5s\n",
      "170:\tlearn: 12.9129965\ttotal: 29.3s\tremaining: 56.5s\n",
      "180:\tlearn: 12.5401099\ttotal: 30.8s\tremaining: 54.2s\n",
      "190:\tlearn: 12.1855157\ttotal: 32.2s\tremaining: 52.1s\n",
      "200:\tlearn: 11.8398472\ttotal: 33.6s\tremaining: 49.9s\n",
      "210:\tlearn: 11.5675759\ttotal: 35s\tremaining: 47.9s\n",
      "220:\tlearn: 11.3227278\ttotal: 36.3s\tremaining: 45.8s\n",
      "230:\tlearn: 11.0171895\ttotal: 37.5s\tremaining: 43.7s\n",
      "240:\tlearn: 10.7363761\ttotal: 38.8s\tremaining: 41.7s\n",
      "250:\tlearn: 10.3657611\ttotal: 39.9s\tremaining: 39.6s\n",
      "260:\tlearn: 10.0391646\ttotal: 41.2s\tremaining: 37.7s\n",
      "270:\tlearn: 9.7049655\ttotal: 42.3s\tremaining: 35.8s\n",
      "280:\tlearn: 9.4454043\ttotal: 43.4s\tremaining: 33.8s\n",
      "290:\tlearn: 9.1726976\ttotal: 44.4s\tremaining: 31.9s\n",
      "300:\tlearn: 8.9234516\ttotal: 45.2s\tremaining: 29.9s\n",
      "310:\tlearn: 8.6544531\ttotal: 46s\tremaining: 28s\n",
      "320:\tlearn: 8.3658135\ttotal: 46.7s\tremaining: 26.1s\n",
      "330:\tlearn: 8.1346131\ttotal: 47.4s\tremaining: 24.2s\n",
      "340:\tlearn: 7.9628629\ttotal: 48s\tremaining: 22.4s\n",
      "350:\tlearn: 7.7540760\ttotal: 48.6s\tremaining: 20.6s\n",
      "360:\tlearn: 7.5738882\ttotal: 49.1s\tremaining: 18.9s\n",
      "370:\tlearn: 7.3359997\ttotal: 49.7s\tremaining: 17.3s\n",
      "380:\tlearn: 7.1354518\ttotal: 50.4s\tremaining: 15.7s\n",
      "390:\tlearn: 6.9727412\ttotal: 51s\tremaining: 14.2s\n",
      "400:\tlearn: 6.7916173\ttotal: 51.7s\tremaining: 12.8s\n",
      "410:\tlearn: 6.5723015\ttotal: 52.3s\tremaining: 11.3s\n",
      "420:\tlearn: 6.4080279\ttotal: 52.8s\tremaining: 9.92s\n",
      "430:\tlearn: 6.2618050\ttotal: 53.5s\tremaining: 8.56s\n",
      "440:\tlearn: 6.0897538\ttotal: 54s\tremaining: 7.23s\n",
      "450:\tlearn: 5.9001171\ttotal: 54.7s\tremaining: 5.94s\n",
      "460:\tlearn: 5.7699322\ttotal: 55.3s\tremaining: 4.68s\n",
      "470:\tlearn: 5.6335888\ttotal: 56s\tremaining: 3.45s\n",
      "480:\tlearn: 5.4737888\ttotal: 56.5s\tremaining: 2.23s\n",
      "490:\tlearn: 5.3438220\ttotal: 57.1s\tremaining: 1.05s\n",
      "499:\tlearn: 5.2649317\ttotal: 57.6s\tremaining: 0us\n"
     ]
    },
    {
     "name": "stdout",
     "output_type": "stream",
     "text": [
      "0:\tlearn: 25.8924687\ttotal: 53.9ms\tremaining: 5.33s\n",
      "10:\tlearn: 18.3404443\ttotal: 68.3ms\tremaining: 553ms\n",
      "20:\tlearn: 16.7645991\ttotal: 82ms\tremaining: 308ms\n",
      "30:\tlearn: 15.6297510\ttotal: 94.8ms\tremaining: 211ms\n",
      "40:\tlearn: 14.5135009\ttotal: 108ms\tremaining: 155ms\n",
      "50:\tlearn: 13.8148860\ttotal: 121ms\tremaining: 116ms\n",
      "60:\tlearn: 12.9634765\ttotal: 134ms\tremaining: 85.5ms\n",
      "70:\tlearn: 12.4412747\ttotal: 147ms\tremaining: 60.2ms\n",
      "80:\tlearn: 11.8183384\ttotal: 163ms\tremaining: 38.3ms\n",
      "90:\tlearn: 11.4991247\ttotal: 180ms\tremaining: 17.8ms\n",
      "99:\tlearn: 11.0532144\ttotal: 192ms\tremaining: 0us\n",
      "0:\tlearn: 30.9263754\ttotal: 2.72ms\tremaining: 269ms\n",
      "10:\tlearn: 24.4402247\ttotal: 30.4ms\tremaining: 246ms\n",
      "20:\tlearn: 23.2919573\ttotal: 53.5ms\tremaining: 201ms\n",
      "30:\tlearn: 22.4542273\ttotal: 80.4ms\tremaining: 179ms\n",
      "40:\tlearn: 21.9274688\ttotal: 102ms\tremaining: 147ms\n",
      "50:\tlearn: 21.3020628\ttotal: 125ms\tremaining: 120ms\n",
      "60:\tlearn: 20.9295185\ttotal: 149ms\tremaining: 94.9ms\n",
      "70:\tlearn: 20.5433632\ttotal: 172ms\tremaining: 70.2ms\n",
      "80:\tlearn: 20.2784310\ttotal: 195ms\tremaining: 45.7ms\n",
      "90:\tlearn: 19.9982092\ttotal: 219ms\tremaining: 21.7ms\n",
      "99:\tlearn: 19.7470047\ttotal: 239ms\tremaining: 0us\n",
      "0:\tlearn: 28.9767926\ttotal: 2.86ms\tremaining: 1.43s\n",
      "10:\tlearn: 22.6006551\ttotal: 22.9ms\tremaining: 1.02s\n",
      "20:\tlearn: 21.3829053\ttotal: 44.7ms\tremaining: 1.02s\n",
      "30:\tlearn: 20.5820936\ttotal: 67.2ms\tremaining: 1.02s\n",
      "40:\tlearn: 20.0360697\ttotal: 86.4ms\tremaining: 968ms\n",
      "50:\tlearn: 19.5821675\ttotal: 105ms\tremaining: 929ms\n",
      "60:\tlearn: 19.1967716\ttotal: 125ms\tremaining: 902ms\n",
      "70:\tlearn: 18.8685732\ttotal: 148ms\tremaining: 894ms\n",
      "80:\tlearn: 18.4923665\ttotal: 170ms\tremaining: 877ms\n",
      "90:\tlearn: 18.1019179\ttotal: 190ms\tremaining: 853ms\n",
      "100:\tlearn: 17.7689496\ttotal: 210ms\tremaining: 829ms\n",
      "110:\tlearn: 17.4737336\ttotal: 231ms\tremaining: 808ms\n",
      "120:\tlearn: 17.2077607\ttotal: 256ms\tremaining: 803ms\n",
      "130:\tlearn: 16.9713580\ttotal: 276ms\tremaining: 777ms\n",
      "140:\tlearn: 16.8021123\ttotal: 295ms\tremaining: 752ms\n",
      "150:\tlearn: 16.5537501\ttotal: 315ms\tremaining: 729ms\n",
      "160:\tlearn: 16.2872270\ttotal: 340ms\tremaining: 716ms\n",
      "170:\tlearn: 16.1125453\ttotal: 361ms\tremaining: 694ms\n",
      "180:\tlearn: 15.8927035\ttotal: 383ms\tremaining: 675ms\n",
      "190:\tlearn: 15.7222371\ttotal: 404ms\tremaining: 654ms\n",
      "200:\tlearn: 15.4988034\ttotal: 424ms\tremaining: 631ms\n",
      "210:\tlearn: 15.3392014\ttotal: 445ms\tremaining: 610ms\n",
      "220:\tlearn: 15.1500346\ttotal: 467ms\tremaining: 589ms\n",
      "230:\tlearn: 14.9657833\ttotal: 487ms\tremaining: 567ms\n",
      "240:\tlearn: 14.7897987\ttotal: 507ms\tremaining: 545ms\n",
      "250:\tlearn: 14.6033226\ttotal: 528ms\tremaining: 524ms\n",
      "260:\tlearn: 14.4290764\ttotal: 551ms\tremaining: 505ms\n",
      "270:\tlearn: 14.2684116\ttotal: 581ms\tremaining: 491ms\n",
      "280:\tlearn: 14.1575934\ttotal: 601ms\tremaining: 468ms\n",
      "290:\tlearn: 14.0380338\ttotal: 632ms\tremaining: 454ms\n",
      "300:\tlearn: 13.8968161\ttotal: 656ms\tremaining: 433ms\n",
      "310:\tlearn: 13.7388737\ttotal: 679ms\tremaining: 412ms\n",
      "320:\tlearn: 13.5445797\ttotal: 708ms\tremaining: 395ms\n",
      "330:\tlearn: 13.3743093\ttotal: 744ms\tremaining: 380ms\n",
      "340:\tlearn: 13.2244341\ttotal: 781ms\tremaining: 364ms\n",
      "350:\tlearn: 13.0628611\ttotal: 813ms\tremaining: 345ms\n",
      "360:\tlearn: 12.9170298\ttotal: 843ms\tremaining: 325ms\n",
      "370:\tlearn: 12.8401702\ttotal: 876ms\tremaining: 305ms\n",
      "380:\tlearn: 12.7203625\ttotal: 912ms\tremaining: 285ms\n",
      "390:\tlearn: 12.5832327\ttotal: 958ms\tremaining: 267ms\n",
      "400:\tlearn: 12.4444148\ttotal: 990ms\tremaining: 244ms\n",
      "410:\tlearn: 12.3352919\ttotal: 1.04s\tremaining: 225ms\n",
      "420:\tlearn: 12.2303802\ttotal: 1.07s\tremaining: 201ms\n",
      "430:\tlearn: 12.0958836\ttotal: 1.11s\tremaining: 178ms\n",
      "440:\tlearn: 11.9761245\ttotal: 1.15s\tremaining: 153ms\n",
      "450:\tlearn: 11.8908357\ttotal: 1.18s\tremaining: 128ms\n",
      "460:\tlearn: 11.7627401\ttotal: 1.22s\tremaining: 103ms\n",
      "470:\tlearn: 11.6641252\ttotal: 1.24s\tremaining: 76.6ms\n",
      "480:\tlearn: 11.5916103\ttotal: 1.3s\tremaining: 51.2ms\n",
      "490:\tlearn: 11.4802367\ttotal: 1.35s\tremaining: 24.7ms\n",
      "499:\tlearn: 11.3996276\ttotal: 1.38s\tremaining: 0us\n",
      "0:\tlearn: 26.5762310\ttotal: 92.1ms\tremaining: 32.1s\n",
      "10:\tlearn: 14.5324968\ttotal: 1.19s\tremaining: 36.6s\n",
      "20:\tlearn: 11.0537534\ttotal: 2.6s\tremaining: 40.8s\n",
      "30:\tlearn: 7.9039846\ttotal: 4s\tremaining: 41.2s\n",
      "40:\tlearn: 5.7523971\ttotal: 5.25s\tremaining: 39.6s\n",
      "50:\tlearn: 4.0843858\ttotal: 6.65s\tremaining: 39s\n",
      "60:\tlearn: 3.1416153\ttotal: 8.18s\tremaining: 38.8s\n",
      "70:\tlearn: 2.2939961\ttotal: 9.7s\tremaining: 38.1s\n",
      "80:\tlearn: 1.8096695\ttotal: 11.2s\tremaining: 37.2s\n",
      "90:\tlearn: 1.2986619\ttotal: 12.5s\tremaining: 35.6s\n",
      "100:\tlearn: 0.9731066\ttotal: 13.9s\tremaining: 34.3s\n",
      "110:\tlearn: 0.7523499\ttotal: 15.3s\tremaining: 32.8s\n",
      "120:\tlearn: 0.5736597\ttotal: 16.7s\tremaining: 31.6s\n",
      "130:\tlearn: 0.4368031\ttotal: 18.1s\tremaining: 30.3s\n",
      "140:\tlearn: 0.3356918\ttotal: 19.7s\tremaining: 29.2s\n",
      "150:\tlearn: 0.2462879\ttotal: 21.2s\tremaining: 28s\n",
      "160:\tlearn: 0.1838414\ttotal: 22.7s\tremaining: 26.6s\n",
      "170:\tlearn: 0.1390725\ttotal: 24.1s\tremaining: 25.2s\n",
      "180:\tlearn: 0.1048428\ttotal: 25.5s\tremaining: 23.8s\n",
      "190:\tlearn: 0.0790040\ttotal: 27s\tremaining: 22.5s\n",
      "200:\tlearn: 0.0581659\ttotal: 28.4s\tremaining: 21s\n",
      "210:\tlearn: 0.0429251\ttotal: 29.7s\tremaining: 19.6s\n",
      "220:\tlearn: 0.0323633\ttotal: 31.1s\tremaining: 18.2s\n",
      "230:\tlearn: 0.0253712\ttotal: 32.5s\tremaining: 16.7s\n",
      "240:\tlearn: 0.0200580\ttotal: 34s\tremaining: 15.4s\n",
      "250:\tlearn: 0.0152831\ttotal: 35.5s\tremaining: 14s\n",
      "260:\tlearn: 0.0120251\ttotal: 37s\tremaining: 12.6s\n",
      "270:\tlearn: 0.0090079\ttotal: 38.6s\tremaining: 11.3s\n",
      "280:\tlearn: 0.0070191\ttotal: 40.1s\tremaining: 9.85s\n",
      "290:\tlearn: 0.0049456\ttotal: 41.6s\tremaining: 8.43s\n",
      "300:\tlearn: 0.0039865\ttotal: 43.2s\tremaining: 7.03s\n",
      "310:\tlearn: 0.0030859\ttotal: 44.7s\tremaining: 5.61s\n",
      "320:\tlearn: 0.0024115\ttotal: 46.3s\tremaining: 4.19s\n",
      "330:\tlearn: 0.0019161\ttotal: 48.1s\tremaining: 2.76s\n",
      "340:\tlearn: 0.0014813\ttotal: 49.7s\tremaining: 1.31s\n",
      "349:\tlearn: 0.0011789\ttotal: 51.2s\tremaining: 0us\n",
      "0:\tlearn: 25.2383019\ttotal: 178ms\tremaining: 1m 28s\n",
      "10:\tlearn: 12.0084715\ttotal: 1.98s\tremaining: 1m 28s\n",
      "20:\tlearn: 8.6475668\ttotal: 3.41s\tremaining: 1m 17s\n",
      "30:\tlearn: 5.9425308\ttotal: 4.85s\tremaining: 1m 13s\n",
      "40:\tlearn: 4.1868964\ttotal: 6.27s\tremaining: 1m 10s\n",
      "50:\tlearn: 2.8863933\ttotal: 7.65s\tremaining: 1m 7s\n",
      "60:\tlearn: 1.9911704\ttotal: 8.96s\tremaining: 1m 4s\n",
      "70:\tlearn: 1.3670107\ttotal: 10.3s\tremaining: 1m 2s\n",
      "80:\tlearn: 0.9959848\ttotal: 11.5s\tremaining: 59.7s\n",
      "90:\tlearn: 0.7735197\ttotal: 12.7s\tremaining: 57.2s\n",
      "100:\tlearn: 0.5406040\ttotal: 14s\tremaining: 55.4s\n",
      "110:\tlearn: 0.3736270\ttotal: 15.4s\tremaining: 54.1s\n",
      "120:\tlearn: 0.2852833\ttotal: 17.1s\tremaining: 53.4s\n",
      "130:\tlearn: 0.1862351\ttotal: 18.6s\tremaining: 52.3s\n",
      "140:\tlearn: 0.1270905\ttotal: 20.2s\tremaining: 51.6s\n",
      "150:\tlearn: 0.0901930\ttotal: 21.9s\tremaining: 50.6s\n",
      "160:\tlearn: 0.0663249\ttotal: 23.5s\tremaining: 49.4s\n",
      "170:\tlearn: 0.0485034\ttotal: 24.9s\tremaining: 47.9s\n",
      "180:\tlearn: 0.0379953\ttotal: 26.3s\tremaining: 46.3s\n",
      "190:\tlearn: 0.0277847\ttotal: 27.8s\tremaining: 44.9s\n",
      "200:\tlearn: 0.0186672\ttotal: 29.3s\tremaining: 43.7s\n",
      "210:\tlearn: 0.0129802\ttotal: 31s\tremaining: 42.5s\n",
      "220:\tlearn: 0.0095858\ttotal: 32.7s\tremaining: 41.3s\n",
      "230:\tlearn: 0.0068950\ttotal: 34.4s\tremaining: 40s\n",
      "240:\tlearn: 0.0049114\ttotal: 36.2s\tremaining: 38.9s\n",
      "250:\tlearn: 0.0036096\ttotal: 37.8s\tremaining: 37.5s\n",
      "260:\tlearn: 0.0026066\ttotal: 39.3s\tremaining: 36s\n",
      "270:\tlearn: 0.0019409\ttotal: 41.2s\tremaining: 34.8s\n",
      "280:\tlearn: 0.0013264\ttotal: 43s\tremaining: 33.5s\n",
      "290:\tlearn: 0.0009129\ttotal: 44.6s\tremaining: 32s\n",
      "300:\tlearn: 0.0007220\ttotal: 46.1s\tremaining: 30.5s\n",
      "310:\tlearn: 0.0005131\ttotal: 47.5s\tremaining: 28.8s\n",
      "320:\tlearn: 0.0003598\ttotal: 48.8s\tremaining: 27.2s\n",
      "330:\tlearn: 0.0002412\ttotal: 50.1s\tremaining: 25.6s\n",
      "340:\tlearn: 0.0001663\ttotal: 51.5s\tremaining: 24s\n",
      "350:\tlearn: 0.0001084\ttotal: 52.9s\tremaining: 22.5s\n",
      "360:\tlearn: 0.0000770\ttotal: 54.3s\tremaining: 20.9s\n",
      "370:\tlearn: 0.0000549\ttotal: 55.7s\tremaining: 19.4s\n",
      "380:\tlearn: 0.0000391\ttotal: 57.1s\tremaining: 17.8s\n",
      "390:\tlearn: 0.0000289\ttotal: 58.4s\tremaining: 16.3s\n",
      "400:\tlearn: 0.0000206\ttotal: 59.7s\tremaining: 14.7s\n",
      "410:\tlearn: 0.0000156\ttotal: 1m\tremaining: 13.2s\n",
      "420:\tlearn: 0.0000107\ttotal: 1m 2s\tremaining: 11.7s\n",
      "430:\tlearn: 0.0000077\ttotal: 1m 3s\tremaining: 10.2s\n",
      "440:\tlearn: 0.0000058\ttotal: 1m 5s\tremaining: 8.75s\n",
      "450:\tlearn: 0.0000041\ttotal: 1m 6s\tremaining: 7.27s\n",
      "460:\tlearn: 0.0000031\ttotal: 1m 8s\tremaining: 5.82s\n",
      "470:\tlearn: 0.0000022\ttotal: 1m 10s\tremaining: 4.33s\n",
      "480:\tlearn: 0.0000016\ttotal: 1m 11s\tremaining: 2.84s\n",
      "490:\tlearn: 0.0000012\ttotal: 1m 13s\tremaining: 1.34s\n",
      "499:\tlearn: 0.0000010\ttotal: 1m 14s\tremaining: 0us\n",
      "0:\tlearn: 28.9289420\ttotal: 92.7ms\tremaining: 9.17s\n",
      "10:\tlearn: 24.0083632\ttotal: 1.47s\tremaining: 11.9s\n",
      "20:\tlearn: 20.3540731\ttotal: 2.8s\tremaining: 10.5s\n",
      "30:\tlearn: 17.7040262\ttotal: 4.12s\tremaining: 9.17s\n",
      "40:\tlearn: 15.7669746\ttotal: 5.55s\tremaining: 7.98s\n",
      "50:\tlearn: 14.3056969\ttotal: 6.84s\tremaining: 6.58s\n",
      "60:\tlearn: 12.9532757\ttotal: 8.44s\tremaining: 5.4s\n",
      "70:\tlearn: 11.8040036\ttotal: 9.81s\tremaining: 4.01s\n",
      "80:\tlearn: 10.9729877\ttotal: 11.4s\tremaining: 2.67s\n",
      "90:\tlearn: 10.0961803\ttotal: 12.9s\tremaining: 1.27s\n",
      "99:\tlearn: 9.4396345\ttotal: 14.1s\tremaining: 0us\n",
      "0:\tlearn: 32.1638225\ttotal: 181ms\tremaining: 17.9s\n",
      "10:\tlearn: 26.5180135\ttotal: 2.02s\tremaining: 16.3s\n",
      "20:\tlearn: 22.8582197\ttotal: 4.11s\tremaining: 15.5s\n",
      "30:\tlearn: 20.3970069\ttotal: 5.89s\tremaining: 13.1s\n",
      "40:\tlearn: 18.7073532\ttotal: 8.01s\tremaining: 11.5s\n",
      "50:\tlearn: 17.4077630\ttotal: 9.86s\tremaining: 9.47s\n",
      "60:\tlearn: 16.3809407\ttotal: 12.1s\tremaining: 7.75s\n",
      "70:\tlearn: 15.5598397\ttotal: 14.1s\tremaining: 5.77s\n",
      "80:\tlearn: 14.8546005\ttotal: 15.7s\tremaining: 3.69s\n",
      "90:\tlearn: 14.2915656\ttotal: 17.5s\tremaining: 1.73s\n",
      "99:\tlearn: 13.7820298\ttotal: 19.2s\tremaining: 0us\n",
      "0:\tlearn: 35.4653551\ttotal: 203ms\tremaining: 20.1s\n",
      "10:\tlearn: 29.2708373\ttotal: 2.22s\tremaining: 17.9s\n",
      "20:\tlearn: 25.5525065\ttotal: 4.09s\tremaining: 15.4s\n",
      "30:\tlearn: 23.1720692\ttotal: 6.16s\tremaining: 13.7s\n",
      "40:\tlearn: 21.5271975\ttotal: 8.14s\tremaining: 11.7s\n",
      "50:\tlearn: 20.3525703\ttotal: 10.1s\tremaining: 9.68s\n",
      "60:\tlearn: 19.5468910\ttotal: 11.8s\tremaining: 7.57s\n",
      "70:\tlearn: 18.7988511\ttotal: 13.7s\tremaining: 5.59s\n",
      "80:\tlearn: 18.1013266\ttotal: 15.6s\tremaining: 3.65s\n",
      "90:\tlearn: 17.4329879\ttotal: 17.4s\tremaining: 1.72s\n",
      "99:\tlearn: 16.9471998\ttotal: 19.3s\tremaining: 0us\n",
      "0:\tlearn: 29.6801795\ttotal: 138ms\tremaining: 1m 8s\n",
      "10:\tlearn: 21.1285347\ttotal: 1.59s\tremaining: 1m 10s\n",
      "20:\tlearn: 17.1211927\ttotal: 2.94s\tremaining: 1m 7s\n",
      "30:\tlearn: 14.7553975\ttotal: 4.46s\tremaining: 1m 7s\n",
      "40:\tlearn: 13.1021789\ttotal: 5.98s\tremaining: 1m 6s\n",
      "50:\tlearn: 11.8011415\ttotal: 7.46s\tremaining: 1m 5s\n",
      "60:\tlearn: 10.5591183\ttotal: 9.32s\tremaining: 1m 7s\n",
      "70:\tlearn: 9.7508871\ttotal: 10.8s\tremaining: 1m 5s\n",
      "80:\tlearn: 9.0399419\ttotal: 12.4s\tremaining: 1m 3s\n",
      "90:\tlearn: 8.2784134\ttotal: 14.2s\tremaining: 1m 3s\n",
      "100:\tlearn: 7.5975833\ttotal: 15.8s\tremaining: 1m 2s\n",
      "110:\tlearn: 7.0949530\ttotal: 17.5s\tremaining: 1m 1s\n",
      "120:\tlearn: 6.6316888\ttotal: 19.1s\tremaining: 59.8s\n",
      "130:\tlearn: 6.2056448\ttotal: 20.6s\tremaining: 58.1s\n",
      "140:\tlearn: 5.6644847\ttotal: 22.2s\tremaining: 56.5s\n",
      "150:\tlearn: 5.2434121\ttotal: 24s\tremaining: 55.5s\n",
      "160:\tlearn: 4.8937794\ttotal: 25.5s\tremaining: 53.6s\n",
      "170:\tlearn: 4.5615272\ttotal: 27s\tremaining: 51.9s\n",
      "180:\tlearn: 4.2601220\ttotal: 28.6s\tremaining: 50.4s\n",
      "190:\tlearn: 3.8462446\ttotal: 30.2s\tremaining: 48.9s\n",
      "200:\tlearn: 3.5964110\ttotal: 31.9s\tremaining: 47.5s\n",
      "210:\tlearn: 3.3824181\ttotal: 33.6s\tremaining: 46.1s\n",
      "220:\tlearn: 3.1129207\ttotal: 35.4s\tremaining: 44.7s\n",
      "230:\tlearn: 2.8519236\ttotal: 36.9s\tremaining: 43s\n",
      "240:\tlearn: 2.6688971\ttotal: 38.3s\tremaining: 41.1s\n",
      "250:\tlearn: 2.4799681\ttotal: 39.7s\tremaining: 39.4s\n",
      "260:\tlearn: 2.2961519\ttotal: 41.2s\tremaining: 37.7s\n",
      "270:\tlearn: 2.1142552\ttotal: 42.5s\tremaining: 35.9s\n",
      "280:\tlearn: 1.9242274\ttotal: 43.8s\tremaining: 34.2s\n",
      "290:\tlearn: 1.7941195\ttotal: 45.3s\tremaining: 32.5s\n",
      "300:\tlearn: 1.6628303\ttotal: 46.8s\tremaining: 31s\n",
      "310:\tlearn: 1.5515940\ttotal: 48.4s\tremaining: 29.4s\n",
      "320:\tlearn: 1.4509284\ttotal: 50s\tremaining: 27.9s\n",
      "330:\tlearn: 1.3437648\ttotal: 51.7s\tremaining: 26.4s\n",
      "340:\tlearn: 1.2613435\ttotal: 53.1s\tremaining: 24.8s\n",
      "350:\tlearn: 1.1877191\ttotal: 54.6s\tremaining: 23.2s\n",
      "360:\tlearn: 1.0906176\ttotal: 56.1s\tremaining: 21.6s\n",
      "370:\tlearn: 1.0007229\ttotal: 57.9s\tremaining: 20.1s\n",
      "380:\tlearn: 0.9348714\ttotal: 59.4s\tremaining: 18.6s\n",
      "390:\tlearn: 0.8569250\ttotal: 1m\tremaining: 17s\n",
      "400:\tlearn: 0.7937886\ttotal: 1m 2s\tremaining: 15.4s\n",
      "410:\tlearn: 0.7361924\ttotal: 1m 4s\tremaining: 13.9s\n",
      "420:\tlearn: 0.6796745\ttotal: 1m 5s\tremaining: 12.4s\n",
      "430:\tlearn: 0.6411931\ttotal: 1m 7s\tremaining: 10.8s\n",
      "440:\tlearn: 0.5924564\ttotal: 1m 9s\tremaining: 9.27s\n",
      "450:\tlearn: 0.5416073\ttotal: 1m 10s\tremaining: 7.71s\n",
      "460:\tlearn: 0.5077121\ttotal: 1m 12s\tremaining: 6.16s\n",
      "470:\tlearn: 0.4801616\ttotal: 1m 14s\tremaining: 4.59s\n",
      "480:\tlearn: 0.4452213\ttotal: 1m 16s\tremaining: 3.02s\n",
      "490:\tlearn: 0.4126390\ttotal: 1m 18s\tremaining: 1.44s\n",
      "499:\tlearn: 0.3847258\ttotal: 1m 20s\tremaining: 0us\n",
      "0:\tlearn: 28.3439318\ttotal: 110ms\tremaining: 21.9s\n",
      "10:\tlearn: 20.0510959\ttotal: 1.75s\tremaining: 30.1s\n",
      "20:\tlearn: 15.7461760\ttotal: 3.23s\tremaining: 27.6s\n",
      "30:\tlearn: 12.8549234\ttotal: 4.53s\tremaining: 24.7s\n",
      "40:\tlearn: 10.8167368\ttotal: 5.97s\tremaining: 23.2s\n",
      "50:\tlearn: 9.3300328\ttotal: 7.3s\tremaining: 21.3s\n",
      "60:\tlearn: 8.0383417\ttotal: 8.82s\tremaining: 20.1s\n",
      "70:\tlearn: 7.0846561\ttotal: 10.3s\tremaining: 18.7s\n",
      "80:\tlearn: 6.0748069\ttotal: 11.6s\tremaining: 17.1s\n",
      "90:\tlearn: 5.2834703\ttotal: 13.2s\tremaining: 15.8s\n",
      "100:\tlearn: 4.7436214\ttotal: 14.7s\tremaining: 14.4s\n",
      "110:\tlearn: 4.2723563\ttotal: 16.4s\tremaining: 13.2s\n",
      "120:\tlearn: 3.9813033\ttotal: 17.8s\tremaining: 11.6s\n",
      "130:\tlearn: 3.5585217\ttotal: 19.1s\tremaining: 10s\n",
      "140:\tlearn: 3.2407630\ttotal: 20.4s\tremaining: 8.54s\n",
      "150:\tlearn: 2.9351077\ttotal: 21.6s\tremaining: 7.01s\n",
      "160:\tlearn: 2.6590256\ttotal: 23s\tremaining: 5.57s\n",
      "170:\tlearn: 2.3234094\ttotal: 24.3s\tremaining: 4.12s\n",
      "180:\tlearn: 2.0258144\ttotal: 26s\tremaining: 2.73s\n",
      "190:\tlearn: 1.8218596\ttotal: 27.2s\tremaining: 1.28s\n",
      "199:\tlearn: 1.6299068\ttotal: 28.3s\tremaining: 0us\n",
      "0:\tlearn: 31.4630693\ttotal: 166ms\tremaining: 33.1s\n",
      "10:\tlearn: 22.5177663\ttotal: 1.89s\tremaining: 32.6s\n",
      "20:\tlearn: 18.5725936\ttotal: 3.63s\tremaining: 31s\n",
      "30:\tlearn: 16.2644083\ttotal: 5.03s\tremaining: 27.4s\n",
      "40:\tlearn: 14.9110632\ttotal: 6.69s\tremaining: 25.9s\n",
      "50:\tlearn: 13.7588073\ttotal: 8.24s\tremaining: 24.1s\n",
      "60:\tlearn: 12.5885327\ttotal: 9.96s\tremaining: 22.7s\n",
      "70:\tlearn: 11.7855711\ttotal: 11.7s\tremaining: 21.2s\n",
      "80:\tlearn: 11.0093080\ttotal: 13.5s\tremaining: 19.8s\n",
      "90:\tlearn: 10.2757961\ttotal: 15.4s\tremaining: 18.5s\n",
      "100:\tlearn: 9.8443379\ttotal: 17.2s\tremaining: 16.9s\n",
      "110:\tlearn: 9.2896372\ttotal: 18.8s\tremaining: 15.1s\n",
      "120:\tlearn: 8.7951922\ttotal: 20.7s\tremaining: 13.5s\n",
      "130:\tlearn: 8.1702056\ttotal: 22.7s\tremaining: 11.9s\n",
      "140:\tlearn: 7.7584059\ttotal: 24.6s\tremaining: 10.3s\n",
      "150:\tlearn: 7.2793605\ttotal: 26.6s\tremaining: 8.65s\n",
      "160:\tlearn: 6.8998117\ttotal: 28.2s\tremaining: 6.84s\n",
      "170:\tlearn: 6.4751648\ttotal: 30s\tremaining: 5.08s\n",
      "180:\tlearn: 6.1020226\ttotal: 31.7s\tremaining: 3.32s\n",
      "190:\tlearn: 5.7488640\ttotal: 33.2s\tremaining: 1.56s\n",
      "199:\tlearn: 5.4221185\ttotal: 34.6s\tremaining: 0us\n",
      "0:\tlearn: 28.9289420\ttotal: 118ms\tremaining: 58.7s\n",
      "10:\tlearn: 24.0083632\ttotal: 1.5s\tremaining: 1m 6s\n",
      "20:\tlearn: 20.3540731\ttotal: 2.93s\tremaining: 1m 6s\n",
      "30:\tlearn: 17.7040262\ttotal: 4.32s\tremaining: 1m 5s\n",
      "40:\tlearn: 15.7669746\ttotal: 5.84s\tremaining: 1m 5s\n",
      "50:\tlearn: 14.3056969\ttotal: 7.38s\tremaining: 1m 5s\n",
      "60:\tlearn: 12.9532757\ttotal: 8.83s\tremaining: 1m 3s\n",
      "70:\tlearn: 11.8040036\ttotal: 10.2s\tremaining: 1m 1s\n",
      "80:\tlearn: 10.9729877\ttotal: 11.8s\tremaining: 1m 1s\n",
      "90:\tlearn: 10.0961803\ttotal: 13.4s\tremaining: 1m\n",
      "100:\tlearn: 9.3606685\ttotal: 14.9s\tremaining: 58.7s\n",
      "110:\tlearn: 8.7870633\ttotal: 16.7s\tremaining: 58.5s\n",
      "120:\tlearn: 8.1899136\ttotal: 18.4s\tremaining: 57.7s\n",
      "130:\tlearn: 7.5729649\ttotal: 20.1s\tremaining: 56.7s\n",
      "140:\tlearn: 7.0400614\ttotal: 21.7s\tremaining: 55.2s\n",
      "150:\tlearn: 6.6321315\ttotal: 23.1s\tremaining: 53.4s\n",
      "160:\tlearn: 6.2295239\ttotal: 24.6s\tremaining: 51.8s\n",
      "170:\tlearn: 5.8659021\ttotal: 26.2s\tremaining: 50.4s\n",
      "180:\tlearn: 5.4915819\ttotal: 27.4s\tremaining: 48.3s\n",
      "190:\tlearn: 5.1256287\ttotal: 28.6s\tremaining: 46.3s\n",
      "200:\tlearn: 4.8201981\ttotal: 29.9s\tremaining: 44.4s\n",
      "210:\tlearn: 4.6339181\ttotal: 31.1s\tremaining: 42.6s\n",
      "220:\tlearn: 4.4291850\ttotal: 32.8s\tremaining: 41.4s\n",
      "230:\tlearn: 4.2928497\ttotal: 34.4s\tremaining: 40.1s\n",
      "240:\tlearn: 4.1515569\ttotal: 35.8s\tremaining: 38.5s\n",
      "250:\tlearn: 4.0738417\ttotal: 37.4s\tremaining: 37.1s\n",
      "260:\tlearn: 3.9708713\ttotal: 38.6s\tremaining: 35.3s\n",
      "270:\tlearn: 3.8824546\ttotal: 40s\tremaining: 33.8s\n",
      "280:\tlearn: 3.6800194\ttotal: 41.4s\tremaining: 32.3s\n",
      "290:\tlearn: 3.4974367\ttotal: 42.6s\tremaining: 30.6s\n",
      "300:\tlearn: 3.3171210\ttotal: 44.1s\tremaining: 29.2s\n",
      "310:\tlearn: 3.1132265\ttotal: 45.5s\tremaining: 27.7s\n",
      "320:\tlearn: 2.9783095\ttotal: 46.8s\tremaining: 26.1s\n",
      "330:\tlearn: 2.8304566\ttotal: 48s\tremaining: 24.5s\n",
      "340:\tlearn: 2.6718741\ttotal: 49.4s\tremaining: 23s\n",
      "350:\tlearn: 2.5753634\ttotal: 51s\tremaining: 21.6s\n",
      "360:\tlearn: 2.4353412\ttotal: 52.6s\tremaining: 20.2s\n",
      "370:\tlearn: 2.3432661\ttotal: 54s\tremaining: 18.8s\n",
      "380:\tlearn: 2.2001936\ttotal: 55.3s\tremaining: 17.3s\n",
      "390:\tlearn: 2.0834969\ttotal: 56.7s\tremaining: 15.8s\n",
      "400:\tlearn: 1.9685817\ttotal: 58.2s\tremaining: 14.4s\n",
      "410:\tlearn: 1.8815424\ttotal: 59.6s\tremaining: 12.9s\n",
      "420:\tlearn: 1.8002837\ttotal: 1m\tremaining: 11.4s\n",
      "430:\tlearn: 1.6944898\ttotal: 1m 2s\tremaining: 9.99s\n",
      "440:\tlearn: 1.6056066\ttotal: 1m 3s\tremaining: 8.55s\n",
      "450:\tlearn: 1.5214678\ttotal: 1m 5s\tremaining: 7.09s\n",
      "460:\tlearn: 1.4330142\ttotal: 1m 6s\tremaining: 5.63s\n",
      "470:\tlearn: 1.3698669\ttotal: 1m 7s\tremaining: 4.18s\n",
      "480:\tlearn: 1.2851804\ttotal: 1m 9s\tremaining: 2.73s\n",
      "490:\tlearn: 1.2189751\ttotal: 1m 10s\tremaining: 1.29s\n",
      "499:\tlearn: 1.1708472\ttotal: 1m 11s\tremaining: 0us\n",
      "0:\tlearn: 35.4653551\ttotal: 180ms\tremaining: 1m 29s\n",
      "10:\tlearn: 29.2708373\ttotal: 1.96s\tremaining: 1m 27s\n",
      "20:\tlearn: 25.5525065\ttotal: 3.77s\tremaining: 1m 25s\n",
      "30:\tlearn: 23.1720692\ttotal: 5.64s\tremaining: 1m 25s\n",
      "40:\tlearn: 21.5271975\ttotal: 7.32s\tremaining: 1m 21s\n",
      "50:\tlearn: 20.3525703\ttotal: 9.2s\tremaining: 1m 20s\n",
      "60:\tlearn: 19.5468910\ttotal: 10.9s\tremaining: 1m 18s\n",
      "70:\tlearn: 18.7988511\ttotal: 12.6s\tremaining: 1m 16s\n",
      "80:\tlearn: 18.1013266\ttotal: 14.1s\tremaining: 1m 12s\n",
      "90:\tlearn: 17.4329879\ttotal: 15.6s\tremaining: 1m 10s\n",
      "100:\tlearn: 16.9059466\ttotal: 17.1s\tremaining: 1m 7s\n",
      "110:\tlearn: 16.4286914\ttotal: 18.4s\tremaining: 1m 4s\n",
      "120:\tlearn: 15.9198402\ttotal: 19.8s\tremaining: 1m 2s\n",
      "130:\tlearn: 15.3836539\ttotal: 21s\tremaining: 59.3s\n",
      "140:\tlearn: 14.9535350\ttotal: 22.2s\tremaining: 56.5s\n",
      "150:\tlearn: 14.5344162\ttotal: 23.4s\tremaining: 54.2s\n",
      "160:\tlearn: 14.2326135\ttotal: 24.6s\tremaining: 51.9s\n",
      "170:\tlearn: 13.8711279\ttotal: 25.9s\tremaining: 49.8s\n",
      "180:\tlearn: 13.5190643\ttotal: 27s\tremaining: 47.6s\n",
      "190:\tlearn: 13.1394346\ttotal: 28s\tremaining: 45.3s\n",
      "200:\tlearn: 12.8952119\ttotal: 29s\tremaining: 43.1s\n",
      "210:\tlearn: 12.6613417\ttotal: 29.8s\tremaining: 40.8s\n",
      "220:\tlearn: 12.4463457\ttotal: 30.6s\tremaining: 38.6s\n",
      "230:\tlearn: 12.2758759\ttotal: 31.3s\tremaining: 36.5s\n",
      "240:\tlearn: 11.9796466\ttotal: 32s\tremaining: 34.4s\n",
      "250:\tlearn: 11.6328363\ttotal: 32.5s\tremaining: 32.3s\n",
      "260:\tlearn: 11.3897015\ttotal: 33.1s\tremaining: 30.3s\n",
      "270:\tlearn: 11.0825843\ttotal: 33.7s\tremaining: 28.5s\n",
      "280:\tlearn: 10.8105192\ttotal: 34.3s\tremaining: 26.7s\n",
      "290:\tlearn: 10.5338913\ttotal: 34.9s\tremaining: 25.1s\n",
      "300:\tlearn: 10.2639654\ttotal: 35.6s\tremaining: 23.6s\n",
      "310:\tlearn: 10.0061879\ttotal: 36.2s\tremaining: 22s\n",
      "320:\tlearn: 9.7176097\ttotal: 36.8s\tremaining: 20.5s\n",
      "330:\tlearn: 9.4717670\ttotal: 37.4s\tremaining: 19.1s\n",
      "340:\tlearn: 9.2057219\ttotal: 38s\tremaining: 17.7s\n",
      "350:\tlearn: 8.9829513\ttotal: 38.6s\tremaining: 16.4s\n",
      "360:\tlearn: 8.8075327\ttotal: 39.2s\tremaining: 15.1s\n",
      "370:\tlearn: 8.5704795\ttotal: 39.9s\tremaining: 13.9s\n",
      "380:\tlearn: 8.3815042\ttotal: 40.5s\tremaining: 12.6s\n",
      "390:\tlearn: 8.1412587\ttotal: 41.1s\tremaining: 11.4s\n",
      "400:\tlearn: 7.9219950\ttotal: 41.6s\tremaining: 10.3s\n",
      "410:\tlearn: 7.7288530\ttotal: 42.1s\tremaining: 9.12s\n",
      "420:\tlearn: 7.5573226\ttotal: 42.4s\tremaining: 7.96s\n",
      "430:\tlearn: 7.3828468\ttotal: 42.8s\tremaining: 6.85s\n",
      "440:\tlearn: 7.2178412\ttotal: 43.1s\tremaining: 5.77s\n",
      "450:\tlearn: 6.9993750\ttotal: 43.5s\tremaining: 4.72s\n",
      "460:\tlearn: 6.8361919\ttotal: 43.8s\tremaining: 3.71s\n",
      "470:\tlearn: 6.6945131\ttotal: 44.2s\tremaining: 2.72s\n",
      "480:\tlearn: 6.5509389\ttotal: 44.5s\tremaining: 1.76s\n",
      "490:\tlearn: 6.4080681\ttotal: 44.8s\tremaining: 821ms\n",
      "499:\tlearn: 6.2763472\ttotal: 45.1s\tremaining: 0us\n"
     ]
    }
   ],
   "source": [
    "result"
   ]
  },
  {
   "cell_type": "markdown",
   "metadata": {},
   "source": [
    "Таким образом, мы видем, что модель CatBoostRegressor с параметрами 'learning_rate= 0.05, iterations= 500, depth= 10, random_state=12345 имеет наилучшую метрику RMSE= 24.31. Выбирем эту модель для проверки на тестовой выборке."
   ]
  },
  {
   "cell_type": "markdown",
   "metadata": {},
   "source": [
    "## Тестирование"
   ]
  },
  {
   "cell_type": "code",
   "execution_count": 23,
   "metadata": {
    "ExecuteTime": {
     "end_time": "2023-12-12T09:03:01.868623Z",
     "start_time": "2023-12-12T09:02:44.628434Z"
    }
   },
   "outputs": [
    {
     "name": "stdout",
     "output_type": "stream",
     "text": [
      "0:\tlearn: 37.7947805\ttotal: 38.4ms\tremaining: 19.1s\n",
      "1:\tlearn: 36.9635188\ttotal: 74.6ms\tremaining: 18.6s\n",
      "2:\tlearn: 36.2180292\ttotal: 107ms\tremaining: 17.7s\n",
      "3:\tlearn: 35.4533516\ttotal: 141ms\tremaining: 17.5s\n",
      "4:\tlearn: 34.7183339\ttotal: 175ms\tremaining: 17.3s\n",
      "5:\tlearn: 34.0493812\ttotal: 209ms\tremaining: 17.2s\n",
      "6:\tlearn: 33.4250522\ttotal: 244ms\tremaining: 17.2s\n",
      "7:\tlearn: 32.8314624\ttotal: 283ms\tremaining: 17.4s\n",
      "8:\tlearn: 32.2226728\ttotal: 318ms\tremaining: 17.3s\n",
      "9:\tlearn: 31.6496221\ttotal: 350ms\tremaining: 17.2s\n",
      "10:\tlearn: 31.1517165\ttotal: 385ms\tremaining: 17.1s\n",
      "11:\tlearn: 30.6646503\ttotal: 419ms\tremaining: 17.1s\n",
      "12:\tlearn: 30.2220954\ttotal: 453ms\tremaining: 17s\n",
      "13:\tlearn: 29.7968459\ttotal: 492ms\tremaining: 17.1s\n",
      "14:\tlearn: 29.3454709\ttotal: 526ms\tremaining: 17s\n",
      "15:\tlearn: 28.9112421\ttotal: 560ms\tremaining: 16.9s\n",
      "16:\tlearn: 28.4957655\ttotal: 595ms\tremaining: 16.9s\n",
      "17:\tlearn: 28.1104481\ttotal: 627ms\tremaining: 16.8s\n",
      "18:\tlearn: 27.7817851\ttotal: 664ms\tremaining: 16.8s\n",
      "19:\tlearn: 27.4135774\ttotal: 701ms\tremaining: 16.8s\n",
      "20:\tlearn: 27.0739623\ttotal: 733ms\tremaining: 16.7s\n",
      "21:\tlearn: 26.7685745\ttotal: 768ms\tremaining: 16.7s\n",
      "22:\tlearn: 26.4806034\ttotal: 803ms\tremaining: 16.6s\n",
      "23:\tlearn: 26.2023584\ttotal: 836ms\tremaining: 16.6s\n",
      "24:\tlearn: 25.9257551\ttotal: 871ms\tremaining: 16.5s\n",
      "25:\tlearn: 25.6766345\ttotal: 910ms\tremaining: 16.6s\n",
      "26:\tlearn: 25.4210686\ttotal: 948ms\tremaining: 16.6s\n",
      "27:\tlearn: 25.2044640\ttotal: 986ms\tremaining: 16.6s\n",
      "28:\tlearn: 24.9745721\ttotal: 1.02s\tremaining: 16.6s\n",
      "29:\tlearn: 24.7575912\ttotal: 1.06s\tremaining: 16.6s\n",
      "30:\tlearn: 24.5351288\ttotal: 1.1s\tremaining: 16.7s\n",
      "31:\tlearn: 24.3413699\ttotal: 1.14s\tremaining: 16.7s\n",
      "32:\tlearn: 24.1669746\ttotal: 1.18s\tremaining: 16.6s\n",
      "33:\tlearn: 23.9976395\ttotal: 1.21s\tremaining: 16.6s\n",
      "34:\tlearn: 23.8495310\ttotal: 1.25s\tremaining: 16.6s\n",
      "35:\tlearn: 23.6764461\ttotal: 1.29s\tremaining: 16.6s\n",
      "36:\tlearn: 23.5076268\ttotal: 1.32s\tremaining: 16.6s\n",
      "37:\tlearn: 23.3244683\ttotal: 1.36s\tremaining: 16.6s\n",
      "38:\tlearn: 23.1629337\ttotal: 1.4s\tremaining: 16.5s\n",
      "39:\tlearn: 23.0166013\ttotal: 1.43s\tremaining: 16.5s\n",
      "40:\tlearn: 22.8779028\ttotal: 1.48s\tremaining: 16.5s\n",
      "41:\tlearn: 22.7457364\ttotal: 1.52s\tremaining: 16.6s\n",
      "42:\tlearn: 22.6156727\ttotal: 1.56s\tremaining: 16.6s\n",
      "43:\tlearn: 22.4709127\ttotal: 1.6s\tremaining: 16.6s\n",
      "44:\tlearn: 22.3431799\ttotal: 1.65s\tremaining: 16.6s\n",
      "45:\tlearn: 22.2198967\ttotal: 1.68s\tremaining: 16.6s\n",
      "46:\tlearn: 22.1124193\ttotal: 1.72s\tremaining: 16.6s\n",
      "47:\tlearn: 21.9942147\ttotal: 1.77s\tremaining: 16.6s\n",
      "48:\tlearn: 21.8621804\ttotal: 1.81s\tremaining: 16.7s\n",
      "49:\tlearn: 21.7342588\ttotal: 1.85s\tremaining: 16.6s\n",
      "50:\tlearn: 21.6297792\ttotal: 1.89s\tremaining: 16.6s\n",
      "51:\tlearn: 21.5350599\ttotal: 1.94s\tremaining: 16.7s\n",
      "52:\tlearn: 21.4031196\ttotal: 1.98s\tremaining: 16.7s\n",
      "53:\tlearn: 21.3219699\ttotal: 2.03s\tremaining: 16.8s\n",
      "54:\tlearn: 21.2628049\ttotal: 2.08s\tremaining: 16.8s\n",
      "55:\tlearn: 21.1811629\ttotal: 2.12s\tremaining: 16.8s\n",
      "56:\tlearn: 21.1128455\ttotal: 2.16s\tremaining: 16.8s\n",
      "57:\tlearn: 21.0130868\ttotal: 2.2s\tremaining: 16.8s\n",
      "58:\tlearn: 20.9379748\ttotal: 2.24s\tremaining: 16.8s\n",
      "59:\tlearn: 20.8645921\ttotal: 2.28s\tremaining: 16.7s\n",
      "60:\tlearn: 20.7845376\ttotal: 2.31s\tremaining: 16.6s\n",
      "61:\tlearn: 20.7219840\ttotal: 2.35s\tremaining: 16.6s\n",
      "62:\tlearn: 20.6614142\ttotal: 2.38s\tremaining: 16.5s\n",
      "63:\tlearn: 20.6382636\ttotal: 2.42s\tremaining: 16.5s\n",
      "64:\tlearn: 20.5590842\ttotal: 2.46s\tremaining: 16.5s\n",
      "65:\tlearn: 20.4935120\ttotal: 2.5s\tremaining: 16.4s\n",
      "66:\tlearn: 20.4127298\ttotal: 2.54s\tremaining: 16.4s\n",
      "67:\tlearn: 20.3163742\ttotal: 2.58s\tremaining: 16.4s\n",
      "68:\tlearn: 20.2321132\ttotal: 2.63s\tremaining: 16.4s\n",
      "69:\tlearn: 20.1504898\ttotal: 2.68s\tremaining: 16.4s\n",
      "70:\tlearn: 20.1164198\ttotal: 2.72s\tremaining: 16.4s\n",
      "71:\tlearn: 20.0534317\ttotal: 2.75s\tremaining: 16.4s\n",
      "72:\tlearn: 19.9828730\ttotal: 2.79s\tremaining: 16.3s\n",
      "73:\tlearn: 19.8985757\ttotal: 2.82s\tremaining: 16.3s\n",
      "74:\tlearn: 19.8425879\ttotal: 2.87s\tremaining: 16.2s\n",
      "75:\tlearn: 19.7848487\ttotal: 2.9s\tremaining: 16.2s\n",
      "76:\tlearn: 19.6953822\ttotal: 2.94s\tremaining: 16.2s\n",
      "77:\tlearn: 19.6800548\ttotal: 2.98s\tremaining: 16.1s\n",
      "78:\tlearn: 19.6185508\ttotal: 3.02s\tremaining: 16.1s\n",
      "79:\tlearn: 19.5536302\ttotal: 3.05s\tremaining: 16s\n",
      "80:\tlearn: 19.5124627\ttotal: 3.08s\tremaining: 15.9s\n",
      "81:\tlearn: 19.4409448\ttotal: 3.12s\tremaining: 15.9s\n",
      "82:\tlearn: 19.3846105\ttotal: 3.15s\tremaining: 15.8s\n",
      "83:\tlearn: 19.3130236\ttotal: 3.18s\tremaining: 15.7s\n",
      "84:\tlearn: 19.2888000\ttotal: 3.21s\tremaining: 15.7s\n",
      "85:\tlearn: 19.2097703\ttotal: 3.24s\tremaining: 15.6s\n",
      "86:\tlearn: 19.1329857\ttotal: 3.28s\tremaining: 15.6s\n",
      "87:\tlearn: 19.0973751\ttotal: 3.32s\tremaining: 15.5s\n",
      "88:\tlearn: 19.0540890\ttotal: 3.35s\tremaining: 15.5s\n",
      "89:\tlearn: 19.0118339\ttotal: 3.39s\tremaining: 15.4s\n",
      "90:\tlearn: 18.9594670\ttotal: 3.42s\tremaining: 15.4s\n",
      "91:\tlearn: 18.8753646\ttotal: 3.46s\tremaining: 15.3s\n",
      "92:\tlearn: 18.8491513\ttotal: 3.5s\tremaining: 15.3s\n",
      "93:\tlearn: 18.8182455\ttotal: 3.53s\tremaining: 15.3s\n",
      "94:\tlearn: 18.7711483\ttotal: 3.57s\tremaining: 15.2s\n",
      "95:\tlearn: 18.7124673\ttotal: 3.61s\tremaining: 15.2s\n",
      "96:\tlearn: 18.6787529\ttotal: 3.65s\tremaining: 15.2s\n",
      "97:\tlearn: 18.6087153\ttotal: 3.68s\tremaining: 15.1s\n",
      "98:\tlearn: 18.5847923\ttotal: 3.72s\tremaining: 15.1s\n",
      "99:\tlearn: 18.5737793\ttotal: 3.76s\tremaining: 15s\n",
      "100:\tlearn: 18.5124476\ttotal: 3.8s\tremaining: 15s\n",
      "101:\tlearn: 18.4899576\ttotal: 3.83s\tremaining: 15s\n",
      "102:\tlearn: 18.4257355\ttotal: 3.87s\tremaining: 14.9s\n",
      "103:\tlearn: 18.3731672\ttotal: 3.9s\tremaining: 14.9s\n",
      "104:\tlearn: 18.3307037\ttotal: 3.94s\tremaining: 14.8s\n",
      "105:\tlearn: 18.2736344\ttotal: 3.97s\tremaining: 14.8s\n",
      "106:\tlearn: 18.2043635\ttotal: 4.01s\tremaining: 14.7s\n",
      "107:\tlearn: 18.1546420\ttotal: 4.05s\tremaining: 14.7s\n",
      "108:\tlearn: 18.1202324\ttotal: 4.08s\tremaining: 14.6s\n",
      "109:\tlearn: 18.0890227\ttotal: 4.11s\tremaining: 14.6s\n",
      "110:\tlearn: 18.0222205\ttotal: 4.14s\tremaining: 14.5s\n",
      "111:\tlearn: 17.9648922\ttotal: 4.18s\tremaining: 14.5s\n",
      "112:\tlearn: 17.9118394\ttotal: 4.21s\tremaining: 14.4s\n",
      "113:\tlearn: 17.8875901\ttotal: 4.25s\tremaining: 14.4s\n",
      "114:\tlearn: 17.8586525\ttotal: 4.29s\tremaining: 14.4s\n",
      "115:\tlearn: 17.8419719\ttotal: 4.33s\tremaining: 14.3s\n",
      "116:\tlearn: 17.8177704\ttotal: 4.36s\tremaining: 14.3s\n",
      "117:\tlearn: 17.7549032\ttotal: 4.42s\tremaining: 14.3s\n",
      "118:\tlearn: 17.6954725\ttotal: 4.47s\tremaining: 14.3s\n",
      "119:\tlearn: 17.6773006\ttotal: 4.5s\tremaining: 14.3s\n",
      "120:\tlearn: 17.6684218\ttotal: 4.53s\tremaining: 14.2s\n",
      "121:\tlearn: 17.6240765\ttotal: 4.57s\tremaining: 14.2s\n",
      "122:\tlearn: 17.5667246\ttotal: 4.6s\tremaining: 14.1s\n",
      "123:\tlearn: 17.5174548\ttotal: 4.63s\tremaining: 14s\n",
      "124:\tlearn: 17.4861910\ttotal: 4.67s\tremaining: 14s\n",
      "125:\tlearn: 17.4293359\ttotal: 4.7s\tremaining: 14s\n",
      "126:\tlearn: 17.3887218\ttotal: 4.73s\tremaining: 13.9s\n",
      "127:\tlearn: 17.3827582\ttotal: 4.77s\tremaining: 13.9s\n",
      "128:\tlearn: 17.3350012\ttotal: 4.8s\tremaining: 13.8s\n",
      "129:\tlearn: 17.2778407\ttotal: 4.84s\tremaining: 13.8s\n",
      "130:\tlearn: 17.2444832\ttotal: 4.87s\tremaining: 13.7s\n",
      "131:\tlearn: 17.1813402\ttotal: 4.91s\tremaining: 13.7s\n",
      "132:\tlearn: 17.1401742\ttotal: 4.94s\tremaining: 13.6s\n",
      "133:\tlearn: 17.0859931\ttotal: 4.97s\tremaining: 13.6s\n",
      "134:\tlearn: 17.0572072\ttotal: 5s\tremaining: 13.5s\n",
      "135:\tlearn: 17.0190446\ttotal: 5.04s\tremaining: 13.5s\n",
      "136:\tlearn: 16.9834824\ttotal: 5.07s\tremaining: 13.4s\n",
      "137:\tlearn: 16.9365301\ttotal: 5.11s\tremaining: 13.4s\n",
      "138:\tlearn: 16.8737464\ttotal: 5.14s\tremaining: 13.4s\n",
      "139:\tlearn: 16.8473075\ttotal: 5.17s\tremaining: 13.3s\n",
      "140:\tlearn: 16.8390605\ttotal: 5.21s\tremaining: 13.3s\n",
      "141:\tlearn: 16.8150361\ttotal: 5.24s\tremaining: 13.2s\n",
      "142:\tlearn: 16.8034720\ttotal: 5.27s\tremaining: 13.2s\n",
      "143:\tlearn: 16.7818398\ttotal: 5.31s\tremaining: 13.1s\n",
      "144:\tlearn: 16.7621388\ttotal: 5.34s\tremaining: 13.1s\n",
      "145:\tlearn: 16.7495108\ttotal: 5.37s\tremaining: 13s\n",
      "146:\tlearn: 16.7206358\ttotal: 5.4s\tremaining: 13s\n",
      "147:\tlearn: 16.6780274\ttotal: 5.43s\tremaining: 12.9s\n",
      "148:\tlearn: 16.6617636\ttotal: 5.47s\tremaining: 12.9s\n",
      "149:\tlearn: 16.6444238\ttotal: 5.5s\tremaining: 12.8s\n",
      "150:\tlearn: 16.5971874\ttotal: 5.54s\tremaining: 12.8s\n",
      "151:\tlearn: 16.5623006\ttotal: 5.57s\tremaining: 12.7s\n",
      "152:\tlearn: 16.5549881\ttotal: 5.6s\tremaining: 12.7s\n",
      "153:\tlearn: 16.5137036\ttotal: 5.63s\tremaining: 12.6s\n",
      "154:\tlearn: 16.4443036\ttotal: 5.66s\tremaining: 12.6s\n",
      "155:\tlearn: 16.4072957\ttotal: 5.69s\tremaining: 12.5s\n",
      "156:\tlearn: 16.3858699\ttotal: 5.72s\tremaining: 12.5s\n",
      "157:\tlearn: 16.3491920\ttotal: 5.75s\tremaining: 12.5s\n",
      "158:\tlearn: 16.3351813\ttotal: 5.79s\tremaining: 12.4s\n",
      "159:\tlearn: 16.3010845\ttotal: 5.82s\tremaining: 12.4s\n",
      "160:\tlearn: 16.2607926\ttotal: 5.85s\tremaining: 12.3s\n",
      "161:\tlearn: 16.2300425\ttotal: 5.88s\tremaining: 12.3s\n",
      "162:\tlearn: 16.1777033\ttotal: 5.91s\tremaining: 12.2s\n"
     ]
    },
    {
     "name": "stdout",
     "output_type": "stream",
     "text": [
      "163:\tlearn: 16.1275749\ttotal: 5.95s\tremaining: 12.2s\n",
      "164:\tlearn: 16.1026907\ttotal: 5.98s\tremaining: 12.1s\n",
      "165:\tlearn: 16.0517535\ttotal: 6.01s\tremaining: 12.1s\n",
      "166:\tlearn: 16.0364909\ttotal: 6.04s\tremaining: 12s\n",
      "167:\tlearn: 16.0004587\ttotal: 6.08s\tremaining: 12s\n",
      "168:\tlearn: 15.9918438\ttotal: 6.11s\tremaining: 12s\n",
      "169:\tlearn: 15.9371094\ttotal: 6.14s\tremaining: 11.9s\n",
      "170:\tlearn: 15.9142561\ttotal: 6.18s\tremaining: 11.9s\n",
      "171:\tlearn: 15.8726900\ttotal: 6.21s\tremaining: 11.8s\n",
      "172:\tlearn: 15.8313023\ttotal: 6.24s\tremaining: 11.8s\n",
      "173:\tlearn: 15.7932464\ttotal: 6.27s\tremaining: 11.8s\n",
      "174:\tlearn: 15.7599153\ttotal: 6.3s\tremaining: 11.7s\n",
      "175:\tlearn: 15.7212360\ttotal: 6.33s\tremaining: 11.7s\n",
      "176:\tlearn: 15.6865365\ttotal: 6.37s\tremaining: 11.6s\n",
      "177:\tlearn: 15.6458997\ttotal: 6.4s\tremaining: 11.6s\n",
      "178:\tlearn: 15.5898321\ttotal: 6.43s\tremaining: 11.5s\n",
      "179:\tlearn: 15.5503361\ttotal: 6.46s\tremaining: 11.5s\n",
      "180:\tlearn: 15.4915930\ttotal: 6.49s\tremaining: 11.4s\n",
      "181:\tlearn: 15.4881490\ttotal: 6.52s\tremaining: 11.4s\n",
      "182:\tlearn: 15.4435010\ttotal: 6.55s\tremaining: 11.4s\n",
      "183:\tlearn: 15.4408529\ttotal: 6.58s\tremaining: 11.3s\n",
      "184:\tlearn: 15.4159942\ttotal: 6.62s\tremaining: 11.3s\n",
      "185:\tlearn: 15.3738041\ttotal: 6.65s\tremaining: 11.2s\n",
      "186:\tlearn: 15.3301760\ttotal: 6.68s\tremaining: 11.2s\n",
      "187:\tlearn: 15.2615700\ttotal: 6.71s\tremaining: 11.1s\n",
      "188:\tlearn: 15.2204101\ttotal: 6.75s\tremaining: 11.1s\n",
      "189:\tlearn: 15.1861710\ttotal: 6.78s\tremaining: 11.1s\n",
      "190:\tlearn: 15.1834212\ttotal: 6.81s\tremaining: 11s\n",
      "191:\tlearn: 15.1335945\ttotal: 6.84s\tremaining: 11s\n",
      "192:\tlearn: 15.1000224\ttotal: 6.88s\tremaining: 10.9s\n",
      "193:\tlearn: 15.0820063\ttotal: 6.91s\tremaining: 10.9s\n",
      "194:\tlearn: 15.0361924\ttotal: 6.94s\tremaining: 10.9s\n",
      "195:\tlearn: 15.0004010\ttotal: 6.97s\tremaining: 10.8s\n",
      "196:\tlearn: 14.9751878\ttotal: 7s\tremaining: 10.8s\n",
      "197:\tlearn: 14.9454867\ttotal: 7.03s\tremaining: 10.7s\n",
      "198:\tlearn: 14.9034466\ttotal: 7.07s\tremaining: 10.7s\n",
      "199:\tlearn: 14.8667465\ttotal: 7.1s\tremaining: 10.6s\n",
      "200:\tlearn: 14.8258900\ttotal: 7.13s\tremaining: 10.6s\n",
      "201:\tlearn: 14.8153672\ttotal: 7.16s\tremaining: 10.6s\n",
      "202:\tlearn: 14.7622820\ttotal: 7.19s\tremaining: 10.5s\n",
      "203:\tlearn: 14.7594155\ttotal: 7.22s\tremaining: 10.5s\n",
      "204:\tlearn: 14.7044317\ttotal: 7.25s\tremaining: 10.4s\n",
      "205:\tlearn: 14.6531132\ttotal: 7.29s\tremaining: 10.4s\n",
      "206:\tlearn: 14.6514124\ttotal: 7.32s\tremaining: 10.4s\n",
      "207:\tlearn: 14.6374431\ttotal: 7.35s\tremaining: 10.3s\n",
      "208:\tlearn: 14.5951968\ttotal: 7.38s\tremaining: 10.3s\n",
      "209:\tlearn: 14.5902160\ttotal: 7.41s\tremaining: 10.2s\n",
      "210:\tlearn: 14.5468265\ttotal: 7.45s\tremaining: 10.2s\n",
      "211:\tlearn: 14.5034557\ttotal: 7.48s\tremaining: 10.2s\n",
      "212:\tlearn: 14.4468271\ttotal: 7.51s\tremaining: 10.1s\n",
      "213:\tlearn: 14.3997457\ttotal: 7.54s\tremaining: 10.1s\n",
      "214:\tlearn: 14.3732624\ttotal: 7.58s\tremaining: 10s\n",
      "215:\tlearn: 14.3547215\ttotal: 7.61s\tremaining: 10s\n",
      "216:\tlearn: 14.3528049\ttotal: 7.64s\tremaining: 9.96s\n",
      "217:\tlearn: 14.3049446\ttotal: 7.67s\tremaining: 9.92s\n",
      "218:\tlearn: 14.2546403\ttotal: 7.7s\tremaining: 9.88s\n",
      "219:\tlearn: 14.2270395\ttotal: 7.74s\tremaining: 9.85s\n",
      "220:\tlearn: 14.2251552\ttotal: 7.77s\tremaining: 9.8s\n",
      "221:\tlearn: 14.2235091\ttotal: 7.8s\tremaining: 9.77s\n",
      "222:\tlearn: 14.1773328\ttotal: 7.83s\tremaining: 9.72s\n",
      "223:\tlearn: 14.1419221\ttotal: 7.86s\tremaining: 9.68s\n",
      "224:\tlearn: 14.1012322\ttotal: 7.89s\tremaining: 9.64s\n",
      "225:\tlearn: 14.0502784\ttotal: 7.93s\tremaining: 9.61s\n",
      "226:\tlearn: 14.0025767\ttotal: 7.96s\tremaining: 9.57s\n",
      "227:\tlearn: 13.9498504\ttotal: 7.99s\tremaining: 9.54s\n",
      "228:\tlearn: 13.8856307\ttotal: 8.03s\tremaining: 9.5s\n",
      "229:\tlearn: 13.8397046\ttotal: 8.05s\tremaining: 9.46s\n",
      "230:\tlearn: 13.7818719\ttotal: 8.09s\tremaining: 9.41s\n",
      "231:\tlearn: 13.7408721\ttotal: 8.12s\tremaining: 9.38s\n",
      "232:\tlearn: 13.7013190\ttotal: 8.15s\tremaining: 9.34s\n",
      "233:\tlearn: 13.6636980\ttotal: 8.18s\tremaining: 9.3s\n",
      "234:\tlearn: 13.6078112\ttotal: 8.22s\tremaining: 9.26s\n",
      "235:\tlearn: 13.5663511\ttotal: 8.25s\tremaining: 9.22s\n",
      "236:\tlearn: 13.5225514\ttotal: 8.28s\tremaining: 9.19s\n",
      "237:\tlearn: 13.4912077\ttotal: 8.31s\tremaining: 9.15s\n",
      "238:\tlearn: 13.4581355\ttotal: 8.35s\tremaining: 9.11s\n",
      "239:\tlearn: 13.4008778\ttotal: 8.38s\tremaining: 9.08s\n",
      "240:\tlearn: 13.3816040\ttotal: 8.41s\tremaining: 9.04s\n",
      "241:\tlearn: 13.3567105\ttotal: 8.45s\tremaining: 9s\n",
      "242:\tlearn: 13.3163987\ttotal: 8.48s\tremaining: 8.97s\n",
      "243:\tlearn: 13.2989119\ttotal: 8.51s\tremaining: 8.93s\n",
      "244:\tlearn: 13.2558276\ttotal: 8.54s\tremaining: 8.89s\n",
      "245:\tlearn: 13.2112281\ttotal: 8.58s\tremaining: 8.86s\n",
      "246:\tlearn: 13.1604513\ttotal: 8.61s\tremaining: 8.82s\n",
      "247:\tlearn: 13.1287424\ttotal: 8.65s\tremaining: 8.79s\n",
      "248:\tlearn: 13.1272227\ttotal: 8.68s\tremaining: 8.75s\n",
      "249:\tlearn: 13.0927669\ttotal: 8.71s\tremaining: 8.71s\n",
      "250:\tlearn: 13.0597078\ttotal: 8.75s\tremaining: 8.68s\n",
      "251:\tlearn: 13.0393951\ttotal: 8.78s\tremaining: 8.64s\n",
      "252:\tlearn: 13.0211133\ttotal: 8.81s\tremaining: 8.6s\n",
      "253:\tlearn: 12.9877705\ttotal: 8.85s\tremaining: 8.57s\n",
      "254:\tlearn: 12.9564801\ttotal: 8.88s\tremaining: 8.53s\n",
      "255:\tlearn: 12.9228814\ttotal: 8.91s\tremaining: 8.49s\n",
      "256:\tlearn: 12.8820565\ttotal: 8.94s\tremaining: 8.45s\n",
      "257:\tlearn: 12.8391144\ttotal: 8.97s\tremaining: 8.41s\n",
      "258:\tlearn: 12.8087845\ttotal: 9s\tremaining: 8.37s\n",
      "259:\tlearn: 12.7769954\ttotal: 9.03s\tremaining: 8.34s\n",
      "260:\tlearn: 12.7355132\ttotal: 9.06s\tremaining: 8.3s\n",
      "261:\tlearn: 12.6975336\ttotal: 9.09s\tremaining: 8.26s\n",
      "262:\tlearn: 12.6571518\ttotal: 9.13s\tremaining: 8.22s\n",
      "263:\tlearn: 12.6126835\ttotal: 9.16s\tremaining: 8.19s\n",
      "264:\tlearn: 12.5948587\ttotal: 9.19s\tremaining: 8.15s\n",
      "265:\tlearn: 12.5562467\ttotal: 9.22s\tremaining: 8.11s\n",
      "266:\tlearn: 12.5279283\ttotal: 9.25s\tremaining: 8.07s\n",
      "267:\tlearn: 12.5012483\ttotal: 9.29s\tremaining: 8.04s\n",
      "268:\tlearn: 12.4655091\ttotal: 9.32s\tremaining: 8s\n",
      "269:\tlearn: 12.4263313\ttotal: 9.35s\tremaining: 7.96s\n",
      "270:\tlearn: 12.3747840\ttotal: 9.38s\tremaining: 7.93s\n",
      "271:\tlearn: 12.3641451\ttotal: 9.41s\tremaining: 7.89s\n",
      "272:\tlearn: 12.3229219\ttotal: 9.44s\tremaining: 7.85s\n",
      "273:\tlearn: 12.2890601\ttotal: 9.48s\tremaining: 7.82s\n",
      "274:\tlearn: 12.2563732\ttotal: 9.51s\tremaining: 7.78s\n",
      "275:\tlearn: 12.2226482\ttotal: 9.54s\tremaining: 7.74s\n",
      "276:\tlearn: 12.1900542\ttotal: 9.57s\tremaining: 7.71s\n",
      "277:\tlearn: 12.1624543\ttotal: 9.6s\tremaining: 7.67s\n",
      "278:\tlearn: 12.1288686\ttotal: 9.63s\tremaining: 7.63s\n",
      "279:\tlearn: 12.0888715\ttotal: 9.67s\tremaining: 7.6s\n",
      "280:\tlearn: 12.0505297\ttotal: 9.7s\tremaining: 7.56s\n",
      "281:\tlearn: 12.0051957\ttotal: 9.73s\tremaining: 7.53s\n",
      "282:\tlearn: 11.9695788\ttotal: 9.76s\tremaining: 7.49s\n",
      "283:\tlearn: 11.9443835\ttotal: 9.8s\tremaining: 7.45s\n",
      "284:\tlearn: 11.9140241\ttotal: 9.83s\tremaining: 7.41s\n",
      "285:\tlearn: 11.8782354\ttotal: 9.86s\tremaining: 7.38s\n",
      "286:\tlearn: 11.8439256\ttotal: 9.89s\tremaining: 7.34s\n",
      "287:\tlearn: 11.8258813\ttotal: 9.93s\tremaining: 7.31s\n",
      "288:\tlearn: 11.7981454\ttotal: 9.96s\tremaining: 7.27s\n",
      "289:\tlearn: 11.7778281\ttotal: 9.99s\tremaining: 7.24s\n",
      "290:\tlearn: 11.7406545\ttotal: 10s\tremaining: 7.2s\n",
      "291:\tlearn: 11.7118841\ttotal: 10.1s\tremaining: 7.16s\n",
      "292:\tlearn: 11.6760605\ttotal: 10.1s\tremaining: 7.13s\n",
      "293:\tlearn: 11.6407034\ttotal: 10.1s\tremaining: 7.09s\n",
      "294:\tlearn: 11.6009816\ttotal: 10.2s\tremaining: 7.06s\n",
      "295:\tlearn: 11.5606463\ttotal: 10.2s\tremaining: 7.02s\n",
      "296:\tlearn: 11.5317175\ttotal: 10.2s\tremaining: 6.98s\n",
      "297:\tlearn: 11.5006345\ttotal: 10.3s\tremaining: 6.95s\n",
      "298:\tlearn: 11.4782565\ttotal: 10.3s\tremaining: 6.91s\n",
      "299:\tlearn: 11.4356957\ttotal: 10.3s\tremaining: 6.88s\n",
      "300:\tlearn: 11.4236855\ttotal: 10.3s\tremaining: 6.84s\n",
      "301:\tlearn: 11.3982640\ttotal: 10.4s\tremaining: 6.8s\n",
      "302:\tlearn: 11.3563391\ttotal: 10.4s\tremaining: 6.77s\n",
      "303:\tlearn: 11.3337474\ttotal: 10.4s\tremaining: 6.73s\n",
      "304:\tlearn: 11.3163195\ttotal: 10.5s\tremaining: 6.69s\n",
      "305:\tlearn: 11.2859877\ttotal: 10.5s\tremaining: 6.66s\n",
      "306:\tlearn: 11.2642420\ttotal: 10.5s\tremaining: 6.63s\n",
      "307:\tlearn: 11.2357398\ttotal: 10.6s\tremaining: 6.59s\n",
      "308:\tlearn: 11.1929205\ttotal: 10.6s\tremaining: 6.56s\n",
      "309:\tlearn: 11.1543357\ttotal: 10.6s\tremaining: 6.53s\n",
      "310:\tlearn: 11.1235241\ttotal: 10.7s\tremaining: 6.49s\n",
      "311:\tlearn: 11.0921220\ttotal: 10.7s\tremaining: 6.46s\n",
      "312:\tlearn: 11.0655921\ttotal: 10.7s\tremaining: 6.42s\n",
      "313:\tlearn: 11.0224671\ttotal: 10.8s\tremaining: 6.38s\n",
      "314:\tlearn: 10.9995559\ttotal: 10.8s\tremaining: 6.35s\n",
      "315:\tlearn: 10.9766375\ttotal: 10.8s\tremaining: 6.31s\n",
      "316:\tlearn: 10.9540883\ttotal: 10.9s\tremaining: 6.28s\n",
      "317:\tlearn: 10.9245388\ttotal: 10.9s\tremaining: 6.24s\n",
      "318:\tlearn: 10.9012856\ttotal: 10.9s\tremaining: 6.21s\n",
      "319:\tlearn: 10.8725132\ttotal: 11s\tremaining: 6.17s\n",
      "320:\tlearn: 10.8428700\ttotal: 11s\tremaining: 6.13s\n",
      "321:\tlearn: 10.8206659\ttotal: 11s\tremaining: 6.1s\n"
     ]
    },
    {
     "name": "stdout",
     "output_type": "stream",
     "text": [
      "322:\tlearn: 10.7809565\ttotal: 11.1s\tremaining: 6.06s\n",
      "323:\tlearn: 10.7557725\ttotal: 11.1s\tremaining: 6.03s\n",
      "324:\tlearn: 10.7171362\ttotal: 11.1s\tremaining: 6s\n",
      "325:\tlearn: 10.6863381\ttotal: 11.2s\tremaining: 5.96s\n",
      "326:\tlearn: 10.6618490\ttotal: 11.2s\tremaining: 5.92s\n",
      "327:\tlearn: 10.6314834\ttotal: 11.2s\tremaining: 5.89s\n",
      "328:\tlearn: 10.6009813\ttotal: 11.3s\tremaining: 5.86s\n",
      "329:\tlearn: 10.5761711\ttotal: 11.3s\tremaining: 5.82s\n",
      "330:\tlearn: 10.5594402\ttotal: 11.3s\tremaining: 5.79s\n",
      "331:\tlearn: 10.5415424\ttotal: 11.4s\tremaining: 5.75s\n",
      "332:\tlearn: 10.4960129\ttotal: 11.4s\tremaining: 5.72s\n",
      "333:\tlearn: 10.4766999\ttotal: 11.4s\tremaining: 5.68s\n",
      "334:\tlearn: 10.4587908\ttotal: 11.5s\tremaining: 5.65s\n",
      "335:\tlearn: 10.4268611\ttotal: 11.5s\tremaining: 5.62s\n",
      "336:\tlearn: 10.4096987\ttotal: 11.5s\tremaining: 5.58s\n",
      "337:\tlearn: 10.3771225\ttotal: 11.6s\tremaining: 5.54s\n",
      "338:\tlearn: 10.3524221\ttotal: 11.6s\tremaining: 5.51s\n",
      "339:\tlearn: 10.3287383\ttotal: 11.6s\tremaining: 5.47s\n",
      "340:\tlearn: 10.3018654\ttotal: 11.7s\tremaining: 5.44s\n",
      "341:\tlearn: 10.3010202\ttotal: 11.7s\tremaining: 5.41s\n",
      "342:\tlearn: 10.2615321\ttotal: 11.7s\tremaining: 5.37s\n",
      "343:\tlearn: 10.2243040\ttotal: 11.8s\tremaining: 5.33s\n",
      "344:\tlearn: 10.2091831\ttotal: 11.8s\tremaining: 5.3s\n",
      "345:\tlearn: 10.1975410\ttotal: 11.8s\tremaining: 5.26s\n",
      "346:\tlearn: 10.1767692\ttotal: 11.9s\tremaining: 5.23s\n",
      "347:\tlearn: 10.1758500\ttotal: 11.9s\tremaining: 5.2s\n",
      "348:\tlearn: 10.1468263\ttotal: 11.9s\tremaining: 5.16s\n",
      "349:\tlearn: 10.1279740\ttotal: 12s\tremaining: 5.13s\n",
      "350:\tlearn: 10.1053128\ttotal: 12s\tremaining: 5.09s\n",
      "351:\tlearn: 10.0899283\ttotal: 12s\tremaining: 5.05s\n",
      "352:\tlearn: 10.0575959\ttotal: 12.1s\tremaining: 5.02s\n",
      "353:\tlearn: 10.0402787\ttotal: 12.1s\tremaining: 4.99s\n",
      "354:\tlearn: 10.0143385\ttotal: 12.1s\tremaining: 4.95s\n",
      "355:\tlearn: 9.9969339\ttotal: 12.2s\tremaining: 4.92s\n",
      "356:\tlearn: 9.9778473\ttotal: 12.2s\tremaining: 4.88s\n",
      "357:\tlearn: 9.9522770\ttotal: 12.2s\tremaining: 4.85s\n",
      "358:\tlearn: 9.9032269\ttotal: 12.3s\tremaining: 4.81s\n",
      "359:\tlearn: 9.8766938\ttotal: 12.3s\tremaining: 4.78s\n",
      "360:\tlearn: 9.8633280\ttotal: 12.3s\tremaining: 4.74s\n",
      "361:\tlearn: 9.8343703\ttotal: 12.4s\tremaining: 4.71s\n",
      "362:\tlearn: 9.8335771\ttotal: 12.4s\tremaining: 4.67s\n",
      "363:\tlearn: 9.8111167\ttotal: 12.4s\tremaining: 4.64s\n",
      "364:\tlearn: 9.7903444\ttotal: 12.4s\tremaining: 4.61s\n",
      "365:\tlearn: 9.7525334\ttotal: 12.5s\tremaining: 4.57s\n",
      "366:\tlearn: 9.7262390\ttotal: 12.5s\tremaining: 4.54s\n",
      "367:\tlearn: 9.6917830\ttotal: 12.5s\tremaining: 4.5s\n",
      "368:\tlearn: 9.6649215\ttotal: 12.6s\tremaining: 4.46s\n",
      "369:\tlearn: 9.6526621\ttotal: 12.6s\tremaining: 4.43s\n",
      "370:\tlearn: 9.6194849\ttotal: 12.6s\tremaining: 4.4s\n",
      "371:\tlearn: 9.5974086\ttotal: 12.7s\tremaining: 4.36s\n",
      "372:\tlearn: 9.5731127\ttotal: 12.7s\tremaining: 4.33s\n",
      "373:\tlearn: 9.5554534\ttotal: 12.7s\tremaining: 4.29s\n",
      "374:\tlearn: 9.5189733\ttotal: 12.8s\tremaining: 4.26s\n",
      "375:\tlearn: 9.4989155\ttotal: 12.8s\tremaining: 4.22s\n",
      "376:\tlearn: 9.4786908\ttotal: 12.8s\tremaining: 4.19s\n",
      "377:\tlearn: 9.4779519\ttotal: 12.9s\tremaining: 4.15s\n",
      "378:\tlearn: 9.4472219\ttotal: 12.9s\tremaining: 4.12s\n",
      "379:\tlearn: 9.4226617\ttotal: 12.9s\tremaining: 4.08s\n",
      "380:\tlearn: 9.4011489\ttotal: 13s\tremaining: 4.05s\n",
      "381:\tlearn: 9.3722940\ttotal: 13s\tremaining: 4.02s\n",
      "382:\tlearn: 9.3420380\ttotal: 13s\tremaining: 3.98s\n",
      "383:\tlearn: 9.3113206\ttotal: 13.1s\tremaining: 3.95s\n",
      "384:\tlearn: 9.2926616\ttotal: 13.1s\tremaining: 3.91s\n",
      "385:\tlearn: 9.2616024\ttotal: 13.1s\tremaining: 3.88s\n",
      "386:\tlearn: 9.2449416\ttotal: 13.2s\tremaining: 3.84s\n",
      "387:\tlearn: 9.2441486\ttotal: 13.2s\tremaining: 3.81s\n",
      "388:\tlearn: 9.2260794\ttotal: 13.2s\tremaining: 3.77s\n",
      "389:\tlearn: 9.1980048\ttotal: 13.3s\tremaining: 3.74s\n",
      "390:\tlearn: 9.1733953\ttotal: 13.3s\tremaining: 3.71s\n",
      "391:\tlearn: 9.1518164\ttotal: 13.3s\tremaining: 3.67s\n",
      "392:\tlearn: 9.1231519\ttotal: 13.4s\tremaining: 3.64s\n",
      "393:\tlearn: 9.1060371\ttotal: 13.4s\tremaining: 3.6s\n",
      "394:\tlearn: 9.0850265\ttotal: 13.4s\tremaining: 3.57s\n",
      "395:\tlearn: 9.0609379\ttotal: 13.5s\tremaining: 3.53s\n",
      "396:\tlearn: 9.0458040\ttotal: 13.5s\tremaining: 3.5s\n",
      "397:\tlearn: 9.0242194\ttotal: 13.5s\tremaining: 3.46s\n",
      "398:\tlearn: 9.0025139\ttotal: 13.6s\tremaining: 3.43s\n",
      "399:\tlearn: 8.9735935\ttotal: 13.6s\tremaining: 3.4s\n",
      "400:\tlearn: 8.9530756\ttotal: 13.6s\tremaining: 3.37s\n",
      "401:\tlearn: 8.9402208\ttotal: 13.7s\tremaining: 3.33s\n",
      "402:\tlearn: 8.9131155\ttotal: 13.7s\tremaining: 3.3s\n",
      "403:\tlearn: 8.8825998\ttotal: 13.7s\tremaining: 3.26s\n",
      "404:\tlearn: 8.8558968\ttotal: 13.8s\tremaining: 3.23s\n",
      "405:\tlearn: 8.8295227\ttotal: 13.8s\tremaining: 3.2s\n",
      "406:\tlearn: 8.8029358\ttotal: 13.8s\tremaining: 3.16s\n",
      "407:\tlearn: 8.7928502\ttotal: 13.9s\tremaining: 3.13s\n",
      "408:\tlearn: 8.7733198\ttotal: 13.9s\tremaining: 3.09s\n",
      "409:\tlearn: 8.7392123\ttotal: 13.9s\tremaining: 3.06s\n",
      "410:\tlearn: 8.7186474\ttotal: 14s\tremaining: 3.02s\n",
      "411:\tlearn: 8.7125116\ttotal: 14s\tremaining: 2.99s\n",
      "412:\tlearn: 8.6866972\ttotal: 14s\tremaining: 2.96s\n",
      "413:\tlearn: 8.6652660\ttotal: 14.1s\tremaining: 2.92s\n",
      "414:\tlearn: 8.6465449\ttotal: 14.1s\tremaining: 2.89s\n",
      "415:\tlearn: 8.6222993\ttotal: 14.1s\tremaining: 2.85s\n",
      "416:\tlearn: 8.6018892\ttotal: 14.2s\tremaining: 2.82s\n",
      "417:\tlearn: 8.5693313\ttotal: 14.2s\tremaining: 2.79s\n",
      "418:\tlearn: 8.5686678\ttotal: 14.2s\tremaining: 2.75s\n",
      "419:\tlearn: 8.5404899\ttotal: 14.3s\tremaining: 2.72s\n",
      "420:\tlearn: 8.5216751\ttotal: 14.3s\tremaining: 2.68s\n",
      "421:\tlearn: 8.4922310\ttotal: 14.3s\tremaining: 2.65s\n",
      "422:\tlearn: 8.4625373\ttotal: 14.4s\tremaining: 2.62s\n",
      "423:\tlearn: 8.4489400\ttotal: 14.4s\tremaining: 2.58s\n",
      "424:\tlearn: 8.4220108\ttotal: 14.4s\tremaining: 2.55s\n",
      "425:\tlearn: 8.4031673\ttotal: 14.5s\tremaining: 2.51s\n",
      "426:\tlearn: 8.3801162\ttotal: 14.5s\tremaining: 2.48s\n",
      "427:\tlearn: 8.3603702\ttotal: 14.5s\tremaining: 2.44s\n",
      "428:\tlearn: 8.3412098\ttotal: 14.6s\tremaining: 2.41s\n",
      "429:\tlearn: 8.3197054\ttotal: 14.6s\tremaining: 2.38s\n",
      "430:\tlearn: 8.2967003\ttotal: 14.6s\tremaining: 2.34s\n",
      "431:\tlearn: 8.2698525\ttotal: 14.7s\tremaining: 2.31s\n",
      "432:\tlearn: 8.2456426\ttotal: 14.7s\tremaining: 2.28s\n",
      "433:\tlearn: 8.2300826\ttotal: 14.8s\tremaining: 2.24s\n",
      "434:\tlearn: 8.2108635\ttotal: 14.8s\tremaining: 2.21s\n",
      "435:\tlearn: 8.2000605\ttotal: 14.8s\tremaining: 2.17s\n",
      "436:\tlearn: 8.1754506\ttotal: 14.8s\tremaining: 2.14s\n",
      "437:\tlearn: 8.1747807\ttotal: 14.9s\tremaining: 2.11s\n",
      "438:\tlearn: 8.1595680\ttotal: 14.9s\tremaining: 2.07s\n",
      "439:\tlearn: 8.1415312\ttotal: 14.9s\tremaining: 2.04s\n",
      "440:\tlearn: 8.1202677\ttotal: 15s\tremaining: 2s\n",
      "441:\tlearn: 8.1053188\ttotal: 15s\tremaining: 1.97s\n",
      "442:\tlearn: 8.0917282\ttotal: 15s\tremaining: 1.94s\n",
      "443:\tlearn: 8.0713604\ttotal: 15.1s\tremaining: 1.9s\n",
      "444:\tlearn: 8.0585311\ttotal: 15.1s\tremaining: 1.87s\n",
      "445:\tlearn: 8.0417094\ttotal: 15.1s\tremaining: 1.83s\n",
      "446:\tlearn: 8.0214865\ttotal: 15.2s\tremaining: 1.8s\n",
      "447:\tlearn: 7.9810970\ttotal: 15.2s\tremaining: 1.76s\n",
      "448:\tlearn: 7.9616431\ttotal: 15.2s\tremaining: 1.73s\n",
      "449:\tlearn: 7.9350876\ttotal: 15.3s\tremaining: 1.7s\n",
      "450:\tlearn: 7.9213758\ttotal: 15.3s\tremaining: 1.66s\n",
      "451:\tlearn: 7.9027114\ttotal: 15.3s\tremaining: 1.63s\n",
      "452:\tlearn: 7.8844081\ttotal: 15.4s\tremaining: 1.59s\n",
      "453:\tlearn: 7.8716424\ttotal: 15.4s\tremaining: 1.56s\n",
      "454:\tlearn: 7.8490121\ttotal: 15.4s\tremaining: 1.53s\n",
      "455:\tlearn: 7.8407614\ttotal: 15.5s\tremaining: 1.49s\n",
      "456:\tlearn: 7.8401491\ttotal: 15.5s\tremaining: 1.46s\n",
      "457:\tlearn: 7.8238549\ttotal: 15.5s\tremaining: 1.42s\n",
      "458:\tlearn: 7.8127194\ttotal: 15.6s\tremaining: 1.39s\n",
      "459:\tlearn: 7.7841617\ttotal: 15.6s\tremaining: 1.36s\n",
      "460:\tlearn: 7.7727203\ttotal: 15.6s\tremaining: 1.32s\n",
      "461:\tlearn: 7.7501011\ttotal: 15.7s\tremaining: 1.29s\n",
      "462:\tlearn: 7.7379628\ttotal: 15.7s\tremaining: 1.25s\n",
      "463:\tlearn: 7.7091404\ttotal: 15.7s\tremaining: 1.22s\n",
      "464:\tlearn: 7.6951145\ttotal: 15.8s\tremaining: 1.19s\n",
      "465:\tlearn: 7.6741539\ttotal: 15.8s\tremaining: 1.15s\n",
      "466:\tlearn: 7.6735086\ttotal: 15.9s\tremaining: 1.12s\n",
      "467:\tlearn: 7.6606653\ttotal: 15.9s\tremaining: 1.09s\n",
      "468:\tlearn: 7.6455566\ttotal: 15.9s\tremaining: 1.05s\n",
      "469:\tlearn: 7.6300631\ttotal: 16s\tremaining: 1.02s\n",
      "470:\tlearn: 7.6164300\ttotal: 16s\tremaining: 985ms\n",
      "471:\tlearn: 7.5882868\ttotal: 16s\tremaining: 951ms\n",
      "472:\tlearn: 7.5672929\ttotal: 16.1s\tremaining: 917ms\n",
      "473:\tlearn: 7.5399792\ttotal: 16.1s\tremaining: 883ms\n",
      "474:\tlearn: 7.5262742\ttotal: 16.1s\tremaining: 849ms\n",
      "475:\tlearn: 7.5106653\ttotal: 16.2s\tremaining: 815ms\n",
      "476:\tlearn: 7.4850837\ttotal: 16.2s\tremaining: 781ms\n",
      "477:\tlearn: 7.4679971\ttotal: 16.2s\tremaining: 748ms\n",
      "478:\tlearn: 7.4582541\ttotal: 16.3s\tremaining: 714ms\n",
      "479:\tlearn: 7.4426088\ttotal: 16.3s\tremaining: 680ms\n",
      "480:\tlearn: 7.4277825\ttotal: 16.3s\tremaining: 646ms\n"
     ]
    },
    {
     "name": "stdout",
     "output_type": "stream",
     "text": [
      "481:\tlearn: 7.4270112\ttotal: 16.4s\tremaining: 612ms\n",
      "482:\tlearn: 7.4141690\ttotal: 16.4s\tremaining: 578ms\n",
      "483:\tlearn: 7.3959057\ttotal: 16.5s\tremaining: 544ms\n",
      "484:\tlearn: 7.3814672\ttotal: 16.5s\tremaining: 510ms\n",
      "485:\tlearn: 7.3661942\ttotal: 16.5s\tremaining: 476ms\n",
      "486:\tlearn: 7.3656476\ttotal: 16.6s\tremaining: 442ms\n",
      "487:\tlearn: 7.3566901\ttotal: 16.6s\tremaining: 408ms\n",
      "488:\tlearn: 7.3298441\ttotal: 16.6s\tremaining: 374ms\n",
      "489:\tlearn: 7.3092790\ttotal: 16.7s\tremaining: 340ms\n",
      "490:\tlearn: 7.2930887\ttotal: 16.7s\tremaining: 306ms\n",
      "491:\tlearn: 7.2713029\ttotal: 16.7s\tremaining: 272ms\n",
      "492:\tlearn: 7.2599648\ttotal: 16.8s\tremaining: 238ms\n",
      "493:\tlearn: 7.2319742\ttotal: 16.8s\tremaining: 204ms\n",
      "494:\tlearn: 7.2020426\ttotal: 16.8s\tremaining: 170ms\n",
      "495:\tlearn: 7.1869901\ttotal: 16.9s\tremaining: 136ms\n",
      "496:\tlearn: 7.1704763\ttotal: 16.9s\tremaining: 102ms\n",
      "497:\tlearn: 7.1493953\ttotal: 17s\tremaining: 68.1ms\n",
      "498:\tlearn: 7.1278432\ttotal: 17s\tremaining: 34.1ms\n",
      "499:\tlearn: 7.1096764\ttotal: 17s\tremaining: 0us\n"
     ]
    }
   ],
   "source": [
    "# CatBoostRegressor\n",
    "\n",
    "model_CBR =  CatBoostRegressor(learning_rate= 0.05, iterations= 500, depth= 10, random_state=12345)\n",
    "model_CBR.fit(features_train, target_train)\n",
    "predict_test = model_CBR.predict(features_test)\n",
    "rmse_test_CBR = rmse_count(target_test, predict_test)"
   ]
  },
  {
   "cell_type": "code",
   "execution_count": 24,
   "metadata": {
    "ExecuteTime": {
     "end_time": "2023-12-12T09:03:01.874988Z",
     "start_time": "2023-12-12T09:03:01.871888Z"
    }
   },
   "outputs": [
    {
     "name": "stdout",
     "output_type": "stream",
     "text": [
      "RMSE для тестовой выборки 46.11684958274473\n"
     ]
    }
   ],
   "source": [
    "print('RMSE для тестовой выборки',  rmse_test_CBR)"
   ]
  },
  {
   "cell_type": "markdown",
   "metadata": {},
   "source": [
    "Это удовлетворяет нашим требованиям - меньше 48."
   ]
  },
  {
   "cell_type": "markdown",
   "metadata": {},
   "source": [
    "## Вывод:\n",
    "Компания такси собрала исторические данные о заказах такси в аэропортах. Для привлечения большего количества водителей в период пиковой нагрузки, нам нужно было спрогнозировать количество заказов такси на следующий час. \n",
    "Значение метрики *RMSE* на тестовой выборке должно быть не больше 48.\n",
    "\n",
    "Для этого:\n",
    "\n",
    " 1. Загрузили данные и выполним их ресемплирование по одному часу.\n",
    " 2. Провели анализ данных: выявили наличие тренда и сезонности. По графикам определили наличие тренда и присутствие сезонности в наших данных. Временной ряд не был стационарным. Что бы данные  можно было прогнозировать прили временной ряд к стационарному виду используя разности временного ряда.\n",
    "\n",
    " 3. Создали признаки: календарные признаки (день, день недели), отстающие значения, скользящее среднее - этот признак задаёт общий тренд временного ряда. Календарные признаки по месяцам мы не создавалиь так как в данных мы имеем только пол года, соответственно тренды по месяцам учесть мы не можем. Календарный признак год - так же нам не понадобился, так как все данные за один и тот же год.\n",
    " 4. Разбили данные на тренировочную и тестовую выборки в соотношении 9:1\n",
    " 5. Обучили модели: LinearRegression, DecisionTreeRegressor, RandomForestRegressor, CatBoostRegressor. Нашили их наилучшие парамеры для наилучшей метрики RMSE.\n",
    " 6. Выбрали наилучшую маодель: ей оказалась модель CatBoostRegressor с параметрами 'learning_rate= 0.05, iterations= 500, depth= 10, random_state=12345.\n",
    " 7. Проверили работу модели на тестовой выборке. Получили значение метрики RMSE=46.11, что удовлетворяет нашим требованиям - меньше 48.\n",
    " \n",
    " \n",
    "Таким образом, была построена модель для предсказания количества заказов такси на следующий час. Она поможет компании оптимизировать количество водителей в аэропорту и тем самым увеличить прибль."
   ]
  },
  {
   "cell_type": "code",
   "execution_count": null,
   "metadata": {},
   "outputs": [],
   "source": []
  }
 ],
 "metadata": {
  "ExecuteTimeLog": [
   {
    "duration": 60,
    "start_time": "2023-01-26T06:19:10.280Z"
   },
   {
    "duration": 1039,
    "start_time": "2023-01-26T06:19:13.075Z"
   },
   {
    "duration": 167,
    "start_time": "2023-01-26T06:19:14.116Z"
   },
   {
    "duration": 74,
    "start_time": "2023-01-28T08:18:14.263Z"
   },
   {
    "duration": 1160,
    "start_time": "2023-01-28T08:18:20.050Z"
   },
   {
    "duration": 183,
    "start_time": "2023-01-28T08:18:22.086Z"
   },
   {
    "duration": 751,
    "start_time": "2023-01-28T08:18:27.992Z"
   },
   {
    "duration": 245,
    "start_time": "2023-01-28T08:18:58.496Z"
   },
   {
    "duration": 5,
    "start_time": "2023-01-28T08:24:56.082Z"
   },
   {
    "duration": 5,
    "start_time": "2023-01-28T08:26:24.289Z"
   },
   {
    "duration": 67,
    "start_time": "2023-01-28T08:33:10.031Z"
   },
   {
    "duration": 32,
    "start_time": "2023-01-28T08:33:31.247Z"
   },
   {
    "duration": 187,
    "start_time": "2023-01-28T08:33:35.686Z"
   },
   {
    "duration": 1006,
    "start_time": "2023-01-28T08:34:15.123Z"
   },
   {
    "duration": 14,
    "start_time": "2023-01-28T08:35:48.437Z"
   },
   {
    "duration": 3,
    "start_time": "2023-01-28T08:36:04.945Z"
   },
   {
    "duration": 696,
    "start_time": "2023-01-28T08:36:09.734Z"
   },
   {
    "duration": 772,
    "start_time": "2023-01-28T08:37:34.046Z"
   },
   {
    "duration": 738,
    "start_time": "2023-01-28T08:40:42.337Z"
   },
   {
    "duration": 79,
    "start_time": "2023-01-28T08:41:03.941Z"
   },
   {
    "duration": 1004,
    "start_time": "2023-01-28T08:41:11.833Z"
   },
   {
    "duration": 399,
    "start_time": "2023-01-28T08:50:35.147Z"
   },
   {
    "duration": 288,
    "start_time": "2023-01-28T08:51:06.248Z"
   },
   {
    "duration": 1003,
    "start_time": "2023-01-28T08:53:32.466Z"
   },
   {
    "duration": 287,
    "start_time": "2023-01-28T08:53:57.948Z"
   },
   {
    "duration": 290,
    "start_time": "2023-01-28T08:57:01.500Z"
   },
   {
    "duration": 14,
    "start_time": "2023-01-28T08:58:33.440Z"
   },
   {
    "duration": 1711,
    "start_time": "2023-01-29T06:36:11.173Z"
   },
   {
    "duration": 149,
    "start_time": "2023-01-29T06:36:12.887Z"
   },
   {
    "duration": 5,
    "start_time": "2023-01-29T06:36:14.677Z"
   },
   {
    "duration": 293,
    "start_time": "2023-01-29T06:36:25.233Z"
   },
   {
    "duration": 156,
    "start_time": "2023-01-29T06:36:36.663Z"
   },
   {
    "duration": 4,
    "start_time": "2023-01-29T06:36:51.178Z"
   },
   {
    "duration": 13,
    "start_time": "2023-01-29T06:36:54.672Z"
   },
   {
    "duration": 14,
    "start_time": "2023-01-29T06:38:07.371Z"
   },
   {
    "duration": 4,
    "start_time": "2023-01-29T06:38:59.474Z"
   },
   {
    "duration": 65,
    "start_time": "2023-01-29T06:39:00.981Z"
   },
   {
    "duration": 4,
    "start_time": "2023-01-29T06:39:04.066Z"
   },
   {
    "duration": 11,
    "start_time": "2023-01-29T06:39:05.160Z"
   },
   {
    "duration": 1026,
    "start_time": "2023-01-29T06:39:10.002Z"
   },
   {
    "duration": 335,
    "start_time": "2023-01-29T06:42:26.395Z"
   },
   {
    "duration": 318,
    "start_time": "2023-01-29T06:42:42.412Z"
   },
   {
    "duration": 262,
    "start_time": "2023-01-29T06:43:56.914Z"
   },
   {
    "duration": 202,
    "start_time": "2023-01-29T06:44:19.934Z"
   },
   {
    "duration": 234,
    "start_time": "2023-01-29T06:47:34.747Z"
   },
   {
    "duration": 203,
    "start_time": "2023-01-29T06:47:51.389Z"
   },
   {
    "duration": 275,
    "start_time": "2023-01-29T06:48:14.918Z"
   },
   {
    "duration": 240,
    "start_time": "2023-01-29T06:48:33.017Z"
   },
   {
    "duration": 208,
    "start_time": "2023-01-29T06:48:40.449Z"
   },
   {
    "duration": 201,
    "start_time": "2023-01-29T06:48:50.297Z"
   },
   {
    "duration": 277,
    "start_time": "2023-01-29T06:48:57.052Z"
   },
   {
    "duration": 272,
    "start_time": "2023-01-29T06:50:16.937Z"
   },
   {
    "duration": 327,
    "start_time": "2023-01-29T06:50:25.400Z"
   },
   {
    "duration": 2,
    "start_time": "2023-01-29T06:51:42.356Z"
   },
   {
    "duration": 326,
    "start_time": "2023-01-29T06:53:44.548Z"
   },
   {
    "duration": 10,
    "start_time": "2023-01-29T07:31:40.082Z"
   },
   {
    "duration": 10,
    "start_time": "2023-01-29T07:37:24.285Z"
   },
   {
    "duration": 4,
    "start_time": "2023-01-29T07:37:27.733Z"
   },
   {
    "duration": 1203,
    "start_time": "2023-01-29T07:37:28.370Z"
   },
   {
    "duration": 4,
    "start_time": "2023-01-29T07:37:59.990Z"
   },
   {
    "duration": 12,
    "start_time": "2023-01-29T07:38:01.644Z"
   },
   {
    "duration": 29,
    "start_time": "2023-01-29T07:38:13.812Z"
   },
   {
    "duration": 9,
    "start_time": "2023-01-29T08:43:04.156Z"
   },
   {
    "duration": 1512,
    "start_time": "2023-01-30T05:58:24.349Z"
   },
   {
    "duration": 2,
    "start_time": "2023-01-30T05:58:25.863Z"
   },
   {
    "duration": 156,
    "start_time": "2023-01-30T05:58:27.741Z"
   },
   {
    "duration": 4,
    "start_time": "2023-01-30T05:58:29.033Z"
   },
   {
    "duration": 11,
    "start_time": "2023-01-30T05:58:29.705Z"
   },
   {
    "duration": 884,
    "start_time": "2023-01-30T05:58:31.899Z"
   },
   {
    "duration": 266,
    "start_time": "2023-01-30T05:58:33.577Z"
   },
   {
    "duration": 263,
    "start_time": "2023-01-30T05:58:35.450Z"
   },
   {
    "duration": 9,
    "start_time": "2023-01-30T05:58:36.875Z"
   },
   {
    "duration": 4,
    "start_time": "2023-01-30T05:58:39.594Z"
   },
   {
    "duration": 10,
    "start_time": "2023-01-30T05:58:41.762Z"
   },
   {
    "duration": 21,
    "start_time": "2023-01-30T05:58:42.640Z"
   },
   {
    "duration": 10,
    "start_time": "2023-01-30T05:58:51.226Z"
   },
   {
    "duration": 3,
    "start_time": "2023-01-30T06:01:54.549Z"
   },
   {
    "duration": 191,
    "start_time": "2023-01-30T06:12:49.771Z"
   },
   {
    "duration": 3,
    "start_time": "2023-01-30T06:12:52.594Z"
   },
   {
    "duration": 18,
    "start_time": "2023-01-30T06:12:53.226Z"
   },
   {
    "duration": 3,
    "start_time": "2023-01-30T06:13:01.123Z"
   },
   {
    "duration": 3,
    "start_time": "2023-01-30T06:13:01.959Z"
   },
   {
    "duration": 12,
    "start_time": "2023-01-30T06:13:02.672Z"
   },
   {
    "duration": 3,
    "start_time": "2023-01-30T06:14:44.895Z"
   },
   {
    "duration": 3,
    "start_time": "2023-01-30T06:14:45.476Z"
   },
   {
    "duration": 13,
    "start_time": "2023-01-30T06:14:46.200Z"
   },
   {
    "duration": 4,
    "start_time": "2023-01-30T06:19:07.765Z"
   },
   {
    "duration": 7,
    "start_time": "2023-01-30T06:19:08.931Z"
   },
   {
    "duration": 20,
    "start_time": "2023-01-30T06:19:09.819Z"
   },
   {
    "duration": 1367,
    "start_time": "2023-01-30T06:19:51.794Z"
   },
   {
    "duration": 2,
    "start_time": "2023-01-30T06:19:53.163Z"
   },
   {
    "duration": 71,
    "start_time": "2023-01-30T06:19:53.167Z"
   },
   {
    "duration": 3,
    "start_time": "2023-01-30T06:19:53.402Z"
   },
   {
    "duration": 11,
    "start_time": "2023-01-30T06:19:53.702Z"
   },
   {
    "duration": 790,
    "start_time": "2023-01-30T06:19:54.457Z"
   },
   {
    "duration": 265,
    "start_time": "2023-01-30T06:19:55.249Z"
   },
   {
    "duration": 270,
    "start_time": "2023-01-30T06:19:55.804Z"
   },
   {
    "duration": 10,
    "start_time": "2023-01-30T06:19:56.077Z"
   },
   {
    "duration": 4,
    "start_time": "2023-01-30T06:19:56.856Z"
   },
   {
    "duration": 10,
    "start_time": "2023-01-30T06:19:57.109Z"
   },
   {
    "duration": 20,
    "start_time": "2023-01-30T06:19:57.359Z"
   },
   {
    "duration": 10,
    "start_time": "2023-01-30T06:19:57.849Z"
   },
   {
    "duration": 3,
    "start_time": "2023-01-30T06:19:58.888Z"
   },
   {
    "duration": 4,
    "start_time": "2023-01-30T06:20:00.394Z"
   },
   {
    "duration": 11,
    "start_time": "2023-01-30T06:20:00.934Z"
   },
   {
    "duration": 195,
    "start_time": "2023-01-30T06:23:17.364Z"
   },
   {
    "duration": 2385,
    "start_time": "2023-01-30T06:24:11.059Z"
   },
   {
    "duration": 1276,
    "start_time": "2023-01-30T06:24:21.171Z"
   },
   {
    "duration": 28658,
    "start_time": "2023-01-30T06:26:29.307Z"
   },
   {
    "duration": 3,
    "start_time": "2023-01-30T06:28:36.120Z"
   },
   {
    "duration": 8,
    "start_time": "2023-01-30T06:28:39.542Z"
   },
   {
    "duration": 22,
    "start_time": "2023-01-30T06:28:43.650Z"
   },
   {
    "duration": 11,
    "start_time": "2023-01-30T06:28:49.389Z"
   },
   {
    "duration": 3,
    "start_time": "2023-01-30T06:28:52.397Z"
   },
   {
    "duration": 3,
    "start_time": "2023-01-30T06:28:55.364Z"
   },
   {
    "duration": 14,
    "start_time": "2023-01-30T06:28:56.431Z"
   },
   {
    "duration": 1306,
    "start_time": "2023-01-30T06:28:58.647Z"
   },
   {
    "duration": 28518,
    "start_time": "2023-01-30T06:29:21.303Z"
   },
   {
    "duration": 11,
    "start_time": "2023-01-30T06:31:01.242Z"
   },
   {
    "duration": 25,
    "start_time": "2023-01-30T06:31:08.035Z"
   },
   {
    "duration": 13,
    "start_time": "2023-01-30T06:31:33.213Z"
   },
   {
    "duration": 5,
    "start_time": "2023-01-30T06:31:38.927Z"
   },
   {
    "duration": 7,
    "start_time": "2023-01-30T06:31:39.429Z"
   },
   {
    "duration": 13,
    "start_time": "2023-01-30T06:31:40.183Z"
   },
   {
    "duration": 1390,
    "start_time": "2023-01-30T06:31:42.985Z"
   },
   {
    "duration": 28885,
    "start_time": "2023-01-30T06:31:46.792Z"
   },
   {
    "duration": 421739,
    "start_time": "2023-01-30T06:32:55.823Z"
   },
   {
    "duration": 3932,
    "start_time": "2023-01-30T06:42:52.147Z"
   },
   {
    "duration": 3,
    "start_time": "2023-01-30T06:42:56.081Z"
   },
   {
    "duration": 119,
    "start_time": "2023-01-30T06:42:56.086Z"
   },
   {
    "duration": 4,
    "start_time": "2023-01-30T06:42:56.207Z"
   },
   {
    "duration": 18,
    "start_time": "2023-01-30T06:42:56.214Z"
   },
   {
    "duration": 1057,
    "start_time": "2023-01-30T06:42:56.234Z"
   },
   {
    "duration": 402,
    "start_time": "2023-01-30T06:42:57.294Z"
   },
   {
    "duration": 359,
    "start_time": "2023-01-30T06:42:57.697Z"
   },
   {
    "duration": 6,
    "start_time": "2023-01-30T06:42:58.058Z"
   },
   {
    "duration": 16,
    "start_time": "2023-01-30T06:42:58.066Z"
   },
   {
    "duration": 25,
    "start_time": "2023-01-30T06:42:58.084Z"
   },
   {
    "duration": 14,
    "start_time": "2023-01-30T06:42:58.111Z"
   },
   {
    "duration": 39,
    "start_time": "2023-01-30T06:42:58.126Z"
   },
   {
    "duration": 7,
    "start_time": "2023-01-30T06:42:58.171Z"
   },
   {
    "duration": 15,
    "start_time": "2023-01-30T06:42:58.180Z"
   },
   {
    "duration": 1454,
    "start_time": "2023-01-30T06:42:58.197Z"
   },
   {
    "duration": 30707,
    "start_time": "2023-01-30T06:42:59.653Z"
   },
   {
    "duration": 328943,
    "start_time": "2023-01-30T06:43:30.367Z"
   },
   {
    "duration": 3736,
    "start_time": "2023-01-30T06:49:29.972Z"
   },
   {
    "duration": 3,
    "start_time": "2023-01-30T06:49:33.710Z"
   },
   {
    "duration": 116,
    "start_time": "2023-01-30T06:49:33.715Z"
   },
   {
    "duration": 6,
    "start_time": "2023-01-30T06:49:33.834Z"
   },
   {
    "duration": 29,
    "start_time": "2023-01-30T06:49:33.841Z"
   },
   {
    "duration": 986,
    "start_time": "2023-01-30T06:49:33.872Z"
   },
   {
    "duration": 417,
    "start_time": "2023-01-30T06:49:34.861Z"
   },
   {
    "duration": 323,
    "start_time": "2023-01-30T06:49:35.281Z"
   },
   {
    "duration": 4,
    "start_time": "2023-01-30T06:49:35.606Z"
   },
   {
    "duration": 83,
    "start_time": "2023-01-30T06:49:35.612Z"
   },
   {
    "duration": 70,
    "start_time": "2023-01-30T06:49:35.697Z"
   },
   {
    "duration": 46,
    "start_time": "2023-01-30T06:49:35.770Z"
   },
   {
    "duration": 59,
    "start_time": "2023-01-30T06:49:35.818Z"
   },
   {
    "duration": 37,
    "start_time": "2023-01-30T06:49:35.879Z"
   },
   {
    "duration": 83,
    "start_time": "2023-01-30T06:49:35.917Z"
   },
   {
    "duration": 1500,
    "start_time": "2023-01-30T06:49:36.002Z"
   },
   {
    "duration": 30262,
    "start_time": "2023-01-30T06:49:37.504Z"
   },
   {
    "duration": 317698,
    "start_time": "2023-01-30T06:50:07.768Z"
   },
   {
    "duration": 3678,
    "start_time": "2023-01-30T06:55:40.126Z"
   },
   {
    "duration": 3,
    "start_time": "2023-01-30T06:55:43.807Z"
   },
   {
    "duration": 75,
    "start_time": "2023-01-30T06:55:43.811Z"
   },
   {
    "duration": 5,
    "start_time": "2023-01-30T06:55:43.888Z"
   },
   {
    "duration": 19,
    "start_time": "2023-01-30T06:55:43.895Z"
   },
   {
    "duration": 928,
    "start_time": "2023-01-30T06:55:43.915Z"
   },
   {
    "duration": 356,
    "start_time": "2023-01-30T06:55:44.845Z"
   },
   {
    "duration": 292,
    "start_time": "2023-01-30T06:55:45.203Z"
   },
   {
    "duration": 5,
    "start_time": "2023-01-30T06:55:45.497Z"
   },
   {
    "duration": 27,
    "start_time": "2023-01-30T06:55:45.503Z"
   },
   {
    "duration": 27,
    "start_time": "2023-01-30T06:55:45.532Z"
   },
   {
    "duration": 11,
    "start_time": "2023-01-30T06:55:45.560Z"
   },
   {
    "duration": 8,
    "start_time": "2023-01-30T06:55:45.573Z"
   },
   {
    "duration": 7,
    "start_time": "2023-01-30T06:55:45.583Z"
   },
   {
    "duration": 23,
    "start_time": "2023-01-30T06:55:45.591Z"
   },
   {
    "duration": 1353,
    "start_time": "2023-01-30T06:55:45.615Z"
   },
   {
    "duration": 29026,
    "start_time": "2023-01-30T06:55:46.970Z"
   },
   {
    "duration": 412513,
    "start_time": "2023-01-30T06:56:15.998Z"
   },
   {
    "duration": 3900,
    "start_time": "2023-01-30T07:12:26.754Z"
   },
   {
    "duration": 3,
    "start_time": "2023-01-30T07:12:30.663Z"
   },
   {
    "duration": 125,
    "start_time": "2023-01-30T07:12:30.668Z"
   },
   {
    "duration": 16,
    "start_time": "2023-01-30T07:12:30.795Z"
   },
   {
    "duration": 77,
    "start_time": "2023-01-30T07:12:30.814Z"
   },
   {
    "duration": 1058,
    "start_time": "2023-01-30T07:12:30.893Z"
   },
   {
    "duration": 410,
    "start_time": "2023-01-30T07:12:31.955Z"
   },
   {
    "duration": 308,
    "start_time": "2023-01-30T07:12:32.367Z"
   },
   {
    "duration": 4,
    "start_time": "2023-01-30T07:12:32.677Z"
   },
   {
    "duration": 21,
    "start_time": "2023-01-30T07:12:32.683Z"
   },
   {
    "duration": 32,
    "start_time": "2023-01-30T07:12:32.706Z"
   },
   {
    "duration": 32,
    "start_time": "2023-01-30T07:12:32.740Z"
   },
   {
    "duration": 7,
    "start_time": "2023-01-30T07:12:32.773Z"
   },
   {
    "duration": 4,
    "start_time": "2023-01-30T07:12:32.783Z"
   },
   {
    "duration": 14,
    "start_time": "2023-01-30T07:12:32.789Z"
   },
   {
    "duration": 1435,
    "start_time": "2023-01-30T07:12:32.805Z"
   },
   {
    "duration": 30761,
    "start_time": "2023-01-30T07:12:34.247Z"
   },
   {
    "duration": 371564,
    "start_time": "2023-01-30T07:13:05.009Z"
   },
   {
    "duration": 716,
    "start_time": "2023-01-30T09:06:38.192Z"
   },
   {
    "duration": 500,
    "start_time": "2023-01-30T09:07:05.656Z"
   },
   {
    "duration": 3454,
    "start_time": "2023-01-30T09:30:54.164Z"
   },
   {
    "duration": 4,
    "start_time": "2023-01-30T09:30:57.620Z"
   },
   {
    "duration": 69,
    "start_time": "2023-01-30T09:30:57.626Z"
   },
   {
    "duration": 4,
    "start_time": "2023-01-30T09:30:57.697Z"
   },
   {
    "duration": 15,
    "start_time": "2023-01-30T09:30:57.703Z"
   },
   {
    "duration": 879,
    "start_time": "2023-01-30T09:30:57.720Z"
   },
   {
    "duration": 375,
    "start_time": "2023-01-30T09:30:58.601Z"
   },
   {
    "duration": 303,
    "start_time": "2023-01-30T09:30:58.977Z"
   },
   {
    "duration": 4,
    "start_time": "2023-01-30T09:30:59.282Z"
   },
   {
    "duration": 18,
    "start_time": "2023-01-30T09:30:59.289Z"
   },
   {
    "duration": 39,
    "start_time": "2023-01-30T09:30:59.309Z"
   },
   {
    "duration": 8,
    "start_time": "2023-01-30T09:30:59.350Z"
   },
   {
    "duration": 6,
    "start_time": "2023-01-30T09:30:59.360Z"
   },
   {
    "duration": 9,
    "start_time": "2023-01-30T09:30:59.368Z"
   },
   {
    "duration": 13,
    "start_time": "2023-01-30T09:30:59.378Z"
   },
   {
    "duration": 1387,
    "start_time": "2023-01-30T09:30:59.393Z"
   },
   {
    "duration": 28159,
    "start_time": "2023-01-30T09:31:00.782Z"
   },
   {
    "duration": 467098,
    "start_time": "2023-01-30T09:31:28.943Z"
   },
   {
    "duration": 944,
    "start_time": "2023-01-30T09:39:16.051Z"
   },
   {
    "duration": 3950,
    "start_time": "2023-01-30T09:42:00.385Z"
   },
   {
    "duration": 29,
    "start_time": "2023-01-30T09:42:04.337Z"
   },
   {
    "duration": 90,
    "start_time": "2023-01-30T09:42:04.368Z"
   },
   {
    "duration": 11,
    "start_time": "2023-01-30T09:42:04.463Z"
   },
   {
    "duration": 23,
    "start_time": "2023-01-30T09:42:04.478Z"
   },
   {
    "duration": 1347,
    "start_time": "2023-01-30T09:42:04.503Z"
   },
   {
    "duration": 374,
    "start_time": "2023-01-30T09:42:05.854Z"
   },
   {
    "duration": 427,
    "start_time": "2023-01-30T09:42:06.234Z"
   },
   {
    "duration": 5,
    "start_time": "2023-01-30T09:42:06.667Z"
   },
   {
    "duration": 24,
    "start_time": "2023-01-30T09:42:06.679Z"
   },
   {
    "duration": 29,
    "start_time": "2023-01-30T09:42:06.705Z"
   },
   {
    "duration": 19,
    "start_time": "2023-01-30T09:42:06.735Z"
   },
   {
    "duration": 26,
    "start_time": "2023-01-30T09:42:06.757Z"
   },
   {
    "duration": 7,
    "start_time": "2023-01-30T09:42:06.785Z"
   },
   {
    "duration": 45,
    "start_time": "2023-01-30T09:42:06.794Z"
   },
   {
    "duration": 4752,
    "start_time": "2023-01-30T09:42:06.848Z"
   },
   {
    "duration": 117612,
    "start_time": "2023-01-30T09:42:11.602Z"
   },
   {
    "duration": 788034,
    "start_time": "2023-01-30T09:44:09.216Z"
   },
   {
    "duration": 899,
    "start_time": "2023-01-30T09:57:17.251Z"
   },
   {
    "duration": 5,
    "start_time": "2023-01-30T10:08:31.520Z"
   },
   {
    "duration": 9,
    "start_time": "2023-01-30T10:08:42.717Z"
   },
   {
    "duration": 5667,
    "start_time": "2023-01-30T10:09:46.047Z"
   },
   {
    "duration": 3955,
    "start_time": "2023-01-30T11:43:35.485Z"
   },
   {
    "duration": 7,
    "start_time": "2023-01-30T11:43:39.443Z"
   },
   {
    "duration": 86,
    "start_time": "2023-01-30T11:43:39.454Z"
   },
   {
    "duration": 5,
    "start_time": "2023-01-30T11:43:39.545Z"
   },
   {
    "duration": 26,
    "start_time": "2023-01-30T11:43:39.553Z"
   },
   {
    "duration": 1314,
    "start_time": "2023-01-30T11:43:39.581Z"
   },
   {
    "duration": 356,
    "start_time": "2023-01-30T11:43:40.897Z"
   },
   {
    "duration": 347,
    "start_time": "2023-01-30T11:43:41.255Z"
   },
   {
    "duration": 4,
    "start_time": "2023-01-30T11:43:41.603Z"
   },
   {
    "duration": 46,
    "start_time": "2023-01-30T11:43:41.609Z"
   },
   {
    "duration": 65,
    "start_time": "2023-01-30T11:43:41.658Z"
   },
   {
    "duration": 17,
    "start_time": "2023-01-30T11:43:41.724Z"
   },
   {
    "duration": 22,
    "start_time": "2023-01-30T11:43:41.744Z"
   },
   {
    "duration": 17,
    "start_time": "2023-01-30T11:43:41.768Z"
   },
   {
    "duration": 167,
    "start_time": "2023-01-30T11:43:41.787Z"
   },
   {
    "duration": 3501,
    "start_time": "2023-01-30T11:43:41.958Z"
   },
   {
    "duration": 85504,
    "start_time": "2023-01-30T11:43:45.461Z"
   },
   {
    "duration": 496023,
    "start_time": "2023-01-30T11:45:10.967Z"
   },
   {
    "duration": 3,
    "start_time": "2023-01-30T11:53:26.992Z"
   },
   {
    "duration": 14,
    "start_time": "2023-01-30T11:53:26.997Z"
   },
   {
    "duration": 4046,
    "start_time": "2023-01-30T11:53:27.012Z"
   },
   {
    "duration": 963,
    "start_time": "2023-01-30T11:54:22.674Z"
   },
   {
    "duration": 944,
    "start_time": "2023-01-30T11:55:34.934Z"
   },
   {
    "duration": 888,
    "start_time": "2023-01-30T11:57:09.779Z"
   },
   {
    "duration": 3439,
    "start_time": "2023-01-30T11:58:17.493Z"
   },
   {
    "duration": 3,
    "start_time": "2023-01-30T11:58:20.934Z"
   },
   {
    "duration": 63,
    "start_time": "2023-01-30T11:58:20.939Z"
   },
   {
    "duration": 4,
    "start_time": "2023-01-30T11:58:21.004Z"
   },
   {
    "duration": 13,
    "start_time": "2023-01-30T11:58:21.009Z"
   },
   {
    "duration": 1075,
    "start_time": "2023-01-30T11:58:21.024Z"
   },
   {
    "duration": 313,
    "start_time": "2023-01-30T11:58:22.102Z"
   },
   {
    "duration": 325,
    "start_time": "2023-01-30T11:58:22.418Z"
   },
   {
    "duration": 5,
    "start_time": "2023-01-30T11:58:22.745Z"
   },
   {
    "duration": 26,
    "start_time": "2023-01-30T11:58:22.753Z"
   },
   {
    "duration": 21,
    "start_time": "2023-01-30T11:58:22.781Z"
   },
   {
    "duration": 18,
    "start_time": "2023-01-30T11:58:22.804Z"
   },
   {
    "duration": 15,
    "start_time": "2023-01-30T11:58:22.826Z"
   },
   {
    "duration": 16,
    "start_time": "2023-01-30T11:58:22.843Z"
   },
   {
    "duration": 166,
    "start_time": "2023-01-30T11:58:22.861Z"
   },
   {
    "duration": 3066,
    "start_time": "2023-01-30T11:58:23.029Z"
   },
   {
    "duration": 78503,
    "start_time": "2023-01-30T11:58:26.097Z"
   },
   {
    "duration": 474764,
    "start_time": "2023-01-30T11:59:44.602Z"
   },
   {
    "duration": 6,
    "start_time": "2023-01-30T12:07:39.369Z"
   },
   {
    "duration": 23,
    "start_time": "2023-01-30T12:07:39.377Z"
   },
   {
    "duration": 47,
    "start_time": "2023-01-30T12:07:39.402Z"
   },
   {
    "duration": 0,
    "start_time": "2023-01-30T12:07:39.452Z"
   },
   {
    "duration": 0,
    "start_time": "2023-01-30T12:07:39.454Z"
   },
   {
    "duration": 1048,
    "start_time": "2023-01-30T12:08:29.905Z"
   },
   {
    "duration": 10,
    "start_time": "2023-01-30T12:08:31.177Z"
   },
   {
    "duration": 16,
    "start_time": "2023-01-30T12:08:31.935Z"
   },
   {
    "duration": 82,
    "start_time": "2023-01-30T12:08:32.551Z"
   },
   {
    "duration": 3504,
    "start_time": "2023-01-30T12:10:10.131Z"
   },
   {
    "duration": 2,
    "start_time": "2023-01-30T12:10:13.638Z"
   },
   {
    "duration": 72,
    "start_time": "2023-01-30T12:10:13.642Z"
   },
   {
    "duration": 5,
    "start_time": "2023-01-30T12:10:13.716Z"
   },
   {
    "duration": 20,
    "start_time": "2023-01-30T12:10:13.722Z"
   },
   {
    "duration": 1144,
    "start_time": "2023-01-30T12:10:13.743Z"
   },
   {
    "duration": 318,
    "start_time": "2023-01-30T12:10:14.889Z"
   },
   {
    "duration": 333,
    "start_time": "2023-01-30T12:10:15.208Z"
   },
   {
    "duration": 4,
    "start_time": "2023-01-30T12:10:15.542Z"
   },
   {
    "duration": 13,
    "start_time": "2023-01-30T12:10:15.548Z"
   },
   {
    "duration": 17,
    "start_time": "2023-01-30T12:10:15.563Z"
   },
   {
    "duration": 8,
    "start_time": "2023-01-30T12:10:15.582Z"
   },
   {
    "duration": 4,
    "start_time": "2023-01-30T12:10:15.591Z"
   },
   {
    "duration": 31,
    "start_time": "2023-01-30T12:10:15.596Z"
   },
   {
    "duration": 107,
    "start_time": "2023-01-30T12:10:15.629Z"
   },
   {
    "duration": 2752,
    "start_time": "2023-01-30T12:10:15.737Z"
   },
   {
    "duration": 66442,
    "start_time": "2023-01-30T12:10:18.491Z"
   },
   {
    "duration": 3,
    "start_time": "2023-01-30T12:11:24.935Z"
   },
   {
    "duration": 28,
    "start_time": "2023-01-30T12:11:24.939Z"
   },
   {
    "duration": 36,
    "start_time": "2023-01-30T12:11:24.969Z"
   },
   {
    "duration": 13,
    "start_time": "2023-01-30T12:11:25.007Z"
   },
   {
    "duration": 39,
    "start_time": "2023-01-30T12:11:25.022Z"
   },
   {
    "duration": 23,
    "start_time": "2023-01-30T12:11:25.063Z"
   },
   {
    "duration": 140,
    "start_time": "2023-01-30T12:11:25.088Z"
   },
   {
    "duration": 15,
    "start_time": "2023-01-30T12:11:56.024Z"
   },
   {
    "duration": 55,
    "start_time": "2023-01-30T12:12:16.761Z"
   },
   {
    "duration": 3382,
    "start_time": "2023-01-30T12:12:56.429Z"
   },
   {
    "duration": 3,
    "start_time": "2023-01-30T12:12:59.814Z"
   },
   {
    "duration": 64,
    "start_time": "2023-01-30T12:12:59.819Z"
   },
   {
    "duration": 4,
    "start_time": "2023-01-30T12:12:59.886Z"
   },
   {
    "duration": 20,
    "start_time": "2023-01-30T12:12:59.891Z"
   },
   {
    "duration": 1135,
    "start_time": "2023-01-30T12:12:59.913Z"
   },
   {
    "duration": 323,
    "start_time": "2023-01-30T12:13:01.050Z"
   },
   {
    "duration": 326,
    "start_time": "2023-01-30T12:13:01.375Z"
   },
   {
    "duration": 3,
    "start_time": "2023-01-30T12:13:01.703Z"
   },
   {
    "duration": 42,
    "start_time": "2023-01-30T12:13:01.709Z"
   },
   {
    "duration": 66,
    "start_time": "2023-01-30T12:13:01.753Z"
   },
   {
    "duration": 33,
    "start_time": "2023-01-30T12:13:01.821Z"
   },
   {
    "duration": 37,
    "start_time": "2023-01-30T12:13:01.856Z"
   },
   {
    "duration": 25,
    "start_time": "2023-01-30T12:13:01.895Z"
   },
   {
    "duration": 206,
    "start_time": "2023-01-30T12:13:01.922Z"
   },
   {
    "duration": 3515,
    "start_time": "2023-01-30T12:13:02.130Z"
   },
   {
    "duration": 89989,
    "start_time": "2023-01-30T12:13:05.647Z"
   },
   {
    "duration": 3,
    "start_time": "2023-01-30T12:14:35.638Z"
   },
   {
    "duration": 18,
    "start_time": "2023-01-30T12:14:35.642Z"
   },
   {
    "duration": 23,
    "start_time": "2023-01-30T12:14:35.662Z"
   },
   {
    "duration": 12,
    "start_time": "2023-01-30T12:14:35.687Z"
   },
   {
    "duration": 19,
    "start_time": "2023-01-30T12:14:35.701Z"
   },
   {
    "duration": 19,
    "start_time": "2023-01-30T12:14:35.727Z"
   },
   {
    "duration": 195,
    "start_time": "2023-01-30T12:14:35.748Z"
   },
   {
    "duration": 22,
    "start_time": "2023-01-30T12:15:09.644Z"
   },
   {
    "duration": 129,
    "start_time": "2023-01-30T12:15:21.627Z"
   },
   {
    "duration": 3391,
    "start_time": "2023-01-30T12:16:03.232Z"
   },
   {
    "duration": 3,
    "start_time": "2023-01-30T12:16:06.625Z"
   },
   {
    "duration": 100,
    "start_time": "2023-01-30T12:16:06.630Z"
   },
   {
    "duration": 3,
    "start_time": "2023-01-30T12:16:06.732Z"
   },
   {
    "duration": 36,
    "start_time": "2023-01-30T12:16:06.737Z"
   },
   {
    "duration": 1128,
    "start_time": "2023-01-30T12:16:06.775Z"
   },
   {
    "duration": 306,
    "start_time": "2023-01-30T12:16:07.905Z"
   },
   {
    "duration": 309,
    "start_time": "2023-01-30T12:16:08.212Z"
   },
   {
    "duration": 4,
    "start_time": "2023-01-30T12:16:08.527Z"
   },
   {
    "duration": 32,
    "start_time": "2023-01-30T12:16:08.533Z"
   },
   {
    "duration": 27,
    "start_time": "2023-01-30T12:16:08.566Z"
   },
   {
    "duration": 16,
    "start_time": "2023-01-30T12:16:08.595Z"
   },
   {
    "duration": 25,
    "start_time": "2023-01-30T12:16:08.613Z"
   },
   {
    "duration": 71,
    "start_time": "2023-01-30T12:16:08.639Z"
   },
   {
    "duration": 214,
    "start_time": "2023-01-30T12:16:08.712Z"
   },
   {
    "duration": 3533,
    "start_time": "2023-01-30T12:16:08.928Z"
   },
   {
    "duration": 89304,
    "start_time": "2023-01-30T12:16:12.463Z"
   },
   {
    "duration": 3,
    "start_time": "2023-01-30T12:17:41.769Z"
   },
   {
    "duration": 61,
    "start_time": "2023-01-30T12:17:41.773Z"
   },
   {
    "duration": 29,
    "start_time": "2023-01-30T12:17:41.835Z"
   },
   {
    "duration": 18,
    "start_time": "2023-01-30T12:17:41.866Z"
   },
   {
    "duration": 41,
    "start_time": "2023-01-30T12:17:41.886Z"
   },
   {
    "duration": 32,
    "start_time": "2023-01-30T12:17:41.929Z"
   },
   {
    "duration": 172,
    "start_time": "2023-01-30T12:17:42.027Z"
   },
   {
    "duration": 91,
    "start_time": "2023-01-30T12:18:01.682Z"
   },
   {
    "duration": 3721,
    "start_time": "2023-01-30T12:18:25.282Z"
   },
   {
    "duration": 3,
    "start_time": "2023-01-30T12:18:29.005Z"
   },
   {
    "duration": 75,
    "start_time": "2023-01-30T12:18:29.010Z"
   },
   {
    "duration": 3,
    "start_time": "2023-01-30T12:18:29.088Z"
   },
   {
    "duration": 12,
    "start_time": "2023-01-30T12:18:29.093Z"
   },
   {
    "duration": 1224,
    "start_time": "2023-01-30T12:18:29.106Z"
   },
   {
    "duration": 434,
    "start_time": "2023-01-30T12:18:30.332Z"
   },
   {
    "duration": 369,
    "start_time": "2023-01-30T12:18:30.768Z"
   },
   {
    "duration": 5,
    "start_time": "2023-01-30T12:18:31.139Z"
   },
   {
    "duration": 54,
    "start_time": "2023-01-30T12:18:31.148Z"
   },
   {
    "duration": 62,
    "start_time": "2023-01-30T12:18:31.204Z"
   },
   {
    "duration": 9,
    "start_time": "2023-01-30T12:18:31.267Z"
   },
   {
    "duration": 14,
    "start_time": "2023-01-30T12:18:31.277Z"
   },
   {
    "duration": 10,
    "start_time": "2023-01-30T12:18:31.293Z"
   },
   {
    "duration": 39,
    "start_time": "2023-01-30T12:18:31.304Z"
   },
   {
    "duration": 3312,
    "start_time": "2023-01-30T12:18:31.347Z"
   },
   {
    "duration": 77277,
    "start_time": "2023-01-30T12:18:34.662Z"
   },
   {
    "duration": 4,
    "start_time": "2023-01-30T12:19:51.942Z"
   },
   {
    "duration": 18,
    "start_time": "2023-01-30T12:19:51.948Z"
   },
   {
    "duration": 17,
    "start_time": "2023-01-30T12:19:51.967Z"
   },
   {
    "duration": 6,
    "start_time": "2023-01-30T12:19:51.985Z"
   },
   {
    "duration": 12,
    "start_time": "2023-01-30T12:19:51.993Z"
   },
   {
    "duration": 31,
    "start_time": "2023-01-30T12:19:52.006Z"
   },
   {
    "duration": 128,
    "start_time": "2023-01-30T12:19:52.040Z"
   },
   {
    "duration": 3667,
    "start_time": "2023-01-30T12:20:17.926Z"
   },
   {
    "duration": 3,
    "start_time": "2023-01-30T12:20:21.595Z"
   },
   {
    "duration": 69,
    "start_time": "2023-01-30T12:20:21.599Z"
   },
   {
    "duration": 3,
    "start_time": "2023-01-30T12:20:21.671Z"
   },
   {
    "duration": 23,
    "start_time": "2023-01-30T12:20:21.676Z"
   },
   {
    "duration": 1206,
    "start_time": "2023-01-30T12:20:21.701Z"
   },
   {
    "duration": 328,
    "start_time": "2023-01-30T12:20:22.909Z"
   },
   {
    "duration": 344,
    "start_time": "2023-01-30T12:20:23.240Z"
   },
   {
    "duration": 5,
    "start_time": "2023-01-30T12:20:23.587Z"
   },
   {
    "duration": 14,
    "start_time": "2023-01-30T12:20:23.595Z"
   },
   {
    "duration": 36,
    "start_time": "2023-01-30T12:20:23.611Z"
   },
   {
    "duration": 12,
    "start_time": "2023-01-30T12:20:23.648Z"
   },
   {
    "duration": 4,
    "start_time": "2023-01-30T12:20:23.662Z"
   },
   {
    "duration": 8,
    "start_time": "2023-01-30T12:20:23.668Z"
   },
   {
    "duration": 160,
    "start_time": "2023-01-30T12:20:23.678Z"
   },
   {
    "duration": 2757,
    "start_time": "2023-01-30T12:20:23.847Z"
   },
   {
    "duration": 64362,
    "start_time": "2023-01-30T12:20:26.606Z"
   },
   {
    "duration": 3,
    "start_time": "2023-01-30T12:21:30.970Z"
   },
   {
    "duration": 65,
    "start_time": "2023-01-30T12:21:30.975Z"
   },
   {
    "duration": 44,
    "start_time": "2023-01-30T12:21:31.043Z"
   },
   {
    "duration": 48,
    "start_time": "2023-01-30T12:21:31.089Z"
   },
   {
    "duration": 62,
    "start_time": "2023-01-30T12:21:31.139Z"
   },
   {
    "duration": 116,
    "start_time": "2023-01-30T12:21:31.247Z"
   },
   {
    "duration": 14,
    "start_time": "2023-01-30T12:21:31.366Z"
   },
   {
    "duration": 50,
    "start_time": "2023-01-30T12:21:52.170Z"
   },
   {
    "duration": 7,
    "start_time": "2023-01-30T12:22:05.696Z"
   },
   {
    "duration": 3671,
    "start_time": "2023-01-30T12:22:15.898Z"
   },
   {
    "duration": 2,
    "start_time": "2023-01-30T12:22:19.572Z"
   },
   {
    "duration": 70,
    "start_time": "2023-01-30T12:22:19.576Z"
   },
   {
    "duration": 4,
    "start_time": "2023-01-30T12:22:19.649Z"
   },
   {
    "duration": 21,
    "start_time": "2023-01-30T12:22:19.655Z"
   },
   {
    "duration": 1237,
    "start_time": "2023-01-30T12:22:19.678Z"
   },
   {
    "duration": 334,
    "start_time": "2023-01-30T12:22:20.917Z"
   },
   {
    "duration": 359,
    "start_time": "2023-01-30T12:22:21.253Z"
   },
   {
    "duration": 4,
    "start_time": "2023-01-30T12:22:21.614Z"
   },
   {
    "duration": 11,
    "start_time": "2023-01-30T12:22:21.631Z"
   },
   {
    "duration": 22,
    "start_time": "2023-01-30T12:22:21.643Z"
   },
   {
    "duration": 8,
    "start_time": "2023-01-30T12:22:21.667Z"
   },
   {
    "duration": 11,
    "start_time": "2023-01-30T12:22:21.676Z"
   },
   {
    "duration": 9,
    "start_time": "2023-01-30T12:22:21.688Z"
   },
   {
    "duration": 48,
    "start_time": "2023-01-30T12:22:21.698Z"
   },
   {
    "duration": 2979,
    "start_time": "2023-01-30T12:22:21.829Z"
   },
   {
    "duration": 70732,
    "start_time": "2023-01-30T12:22:24.809Z"
   },
   {
    "duration": 3,
    "start_time": "2023-01-30T12:23:35.544Z"
   },
   {
    "duration": 11,
    "start_time": "2023-01-30T12:23:35.549Z"
   },
   {
    "duration": 22,
    "start_time": "2023-01-30T12:23:35.562Z"
   },
   {
    "duration": 5,
    "start_time": "2023-01-30T12:23:35.586Z"
   },
   {
    "duration": 29,
    "start_time": "2023-01-30T12:23:35.592Z"
   },
   {
    "duration": 17,
    "start_time": "2023-01-30T12:23:35.622Z"
   },
   {
    "duration": 118,
    "start_time": "2023-01-30T12:23:35.643Z"
   },
   {
    "duration": 3388,
    "start_time": "2023-01-30T12:27:09.325Z"
   },
   {
    "duration": 3,
    "start_time": "2023-01-30T12:27:12.716Z"
   },
   {
    "duration": 71,
    "start_time": "2023-01-30T12:27:12.720Z"
   },
   {
    "duration": 4,
    "start_time": "2023-01-30T12:27:12.793Z"
   },
   {
    "duration": 27,
    "start_time": "2023-01-30T12:27:12.800Z"
   },
   {
    "duration": 1202,
    "start_time": "2023-01-30T12:27:12.829Z"
   },
   {
    "duration": 327,
    "start_time": "2023-01-30T12:27:14.033Z"
   },
   {
    "duration": 337,
    "start_time": "2023-01-30T12:27:14.362Z"
   },
   {
    "duration": 4,
    "start_time": "2023-01-30T12:27:14.701Z"
   },
   {
    "duration": 24,
    "start_time": "2023-01-30T12:27:14.707Z"
   },
   {
    "duration": 24,
    "start_time": "2023-01-30T12:27:14.733Z"
   },
   {
    "duration": 10,
    "start_time": "2023-01-30T12:27:14.759Z"
   },
   {
    "duration": 3,
    "start_time": "2023-01-30T12:27:14.770Z"
   },
   {
    "duration": 10,
    "start_time": "2023-01-30T12:27:14.775Z"
   },
   {
    "duration": 48,
    "start_time": "2023-01-30T12:27:14.787Z"
   },
   {
    "duration": 4097,
    "start_time": "2023-01-30T12:27:14.836Z"
   },
   {
    "duration": 102218,
    "start_time": "2023-01-30T12:27:18.935Z"
   },
   {
    "duration": 3,
    "start_time": "2023-01-30T12:29:01.155Z"
   },
   {
    "duration": 52,
    "start_time": "2023-01-30T12:29:01.160Z"
   },
   {
    "duration": 62,
    "start_time": "2023-01-30T12:29:01.214Z"
   },
   {
    "duration": 35,
    "start_time": "2023-01-30T12:29:01.277Z"
   },
   {
    "duration": 52,
    "start_time": "2023-01-30T12:29:01.314Z"
   },
   {
    "duration": 161,
    "start_time": "2023-01-30T12:29:01.447Z"
   },
   {
    "duration": 25,
    "start_time": "2023-01-30T12:29:01.610Z"
   },
   {
    "duration": 133,
    "start_time": "2023-01-30T12:29:25.760Z"
   },
   {
    "duration": 3578,
    "start_time": "2023-01-30T12:29:58.225Z"
   },
   {
    "duration": 3,
    "start_time": "2023-01-30T12:30:01.806Z"
   },
   {
    "duration": 83,
    "start_time": "2023-01-30T12:30:01.810Z"
   },
   {
    "duration": 4,
    "start_time": "2023-01-30T12:30:01.895Z"
   },
   {
    "duration": 46,
    "start_time": "2023-01-30T12:30:01.901Z"
   },
   {
    "duration": 1155,
    "start_time": "2023-01-30T12:30:01.948Z"
   },
   {
    "duration": 321,
    "start_time": "2023-01-30T12:30:03.105Z"
   },
   {
    "duration": 322,
    "start_time": "2023-01-30T12:30:03.428Z"
   },
   {
    "duration": 3,
    "start_time": "2023-01-30T12:30:03.752Z"
   },
   {
    "duration": 17,
    "start_time": "2023-01-30T12:30:03.758Z"
   },
   {
    "duration": 21,
    "start_time": "2023-01-30T12:30:03.777Z"
   },
   {
    "duration": 33,
    "start_time": "2023-01-30T12:30:03.800Z"
   },
   {
    "duration": 4,
    "start_time": "2023-01-30T12:30:03.834Z"
   },
   {
    "duration": 7,
    "start_time": "2023-01-30T12:30:03.840Z"
   },
   {
    "duration": 188,
    "start_time": "2023-01-30T12:30:03.848Z"
   },
   {
    "duration": 3015,
    "start_time": "2023-01-30T12:30:04.040Z"
   },
   {
    "duration": 72113,
    "start_time": "2023-01-30T12:30:07.058Z"
   },
   {
    "duration": 3,
    "start_time": "2023-01-30T12:31:19.173Z"
   },
   {
    "duration": 28,
    "start_time": "2023-01-30T12:31:19.178Z"
   },
   {
    "duration": 30,
    "start_time": "2023-01-30T12:31:19.208Z"
   },
   {
    "duration": 16,
    "start_time": "2023-01-30T12:31:19.240Z"
   },
   {
    "duration": 33,
    "start_time": "2023-01-30T12:31:19.258Z"
   },
   {
    "duration": 157,
    "start_time": "2023-01-30T12:31:19.327Z"
   },
   {
    "duration": 15,
    "start_time": "2023-01-30T12:31:19.486Z"
   },
   {
    "duration": 3574,
    "start_time": "2023-01-30T12:32:10.317Z"
   },
   {
    "duration": 3,
    "start_time": "2023-01-30T12:32:13.893Z"
   },
   {
    "duration": 66,
    "start_time": "2023-01-30T12:32:13.898Z"
   },
   {
    "duration": 4,
    "start_time": "2023-01-30T12:32:13.966Z"
   },
   {
    "duration": 16,
    "start_time": "2023-01-30T12:32:13.972Z"
   },
   {
    "duration": 1129,
    "start_time": "2023-01-30T12:32:13.990Z"
   },
   {
    "duration": 330,
    "start_time": "2023-01-30T12:32:15.121Z"
   },
   {
    "duration": 336,
    "start_time": "2023-01-30T12:32:15.453Z"
   },
   {
    "duration": 4,
    "start_time": "2023-01-30T12:32:15.792Z"
   },
   {
    "duration": 29,
    "start_time": "2023-01-30T12:32:15.798Z"
   },
   {
    "duration": 36,
    "start_time": "2023-01-30T12:32:15.828Z"
   },
   {
    "duration": 12,
    "start_time": "2023-01-30T12:32:15.866Z"
   },
   {
    "duration": 4,
    "start_time": "2023-01-30T12:32:15.879Z"
   },
   {
    "duration": 5,
    "start_time": "2023-01-30T12:32:15.885Z"
   },
   {
    "duration": 241,
    "start_time": "2023-01-30T12:32:15.891Z"
   },
   {
    "duration": 6239,
    "start_time": "2023-01-30T12:32:16.134Z"
   },
   {
    "duration": 160640,
    "start_time": "2023-01-30T12:32:22.374Z"
   },
   {
    "duration": 3,
    "start_time": "2023-01-30T12:35:03.016Z"
   },
   {
    "duration": 15,
    "start_time": "2023-01-30T12:35:03.027Z"
   },
   {
    "duration": 11,
    "start_time": "2023-01-30T12:35:03.043Z"
   },
   {
    "duration": 4,
    "start_time": "2023-01-30T12:35:03.056Z"
   },
   {
    "duration": 70,
    "start_time": "2023-01-30T12:35:03.062Z"
   },
   {
    "duration": 222,
    "start_time": "2023-01-30T12:35:03.260Z"
   },
   {
    "duration": 47,
    "start_time": "2023-01-30T12:35:03.484Z"
   },
   {
    "duration": 3501,
    "start_time": "2023-01-30T12:35:27.198Z"
   },
   {
    "duration": 4,
    "start_time": "2023-01-30T12:35:30.702Z"
   },
   {
    "duration": 120,
    "start_time": "2023-01-30T12:35:30.707Z"
   },
   {
    "duration": 4,
    "start_time": "2023-01-30T12:35:30.829Z"
   },
   {
    "duration": 48,
    "start_time": "2023-01-30T12:35:30.835Z"
   },
   {
    "duration": 1188,
    "start_time": "2023-01-30T12:35:30.884Z"
   },
   {
    "duration": 343,
    "start_time": "2023-01-30T12:35:32.073Z"
   },
   {
    "duration": 342,
    "start_time": "2023-01-30T12:35:32.418Z"
   },
   {
    "duration": 4,
    "start_time": "2023-01-30T12:35:32.762Z"
   },
   {
    "duration": 30,
    "start_time": "2023-01-30T12:35:32.768Z"
   },
   {
    "duration": 54,
    "start_time": "2023-01-30T12:35:32.800Z"
   },
   {
    "duration": 12,
    "start_time": "2023-01-30T12:35:32.856Z"
   },
   {
    "duration": 21,
    "start_time": "2023-01-30T12:35:32.870Z"
   },
   {
    "duration": 18,
    "start_time": "2023-01-30T12:35:32.893Z"
   },
   {
    "duration": 220,
    "start_time": "2023-01-30T12:35:32.913Z"
   },
   {
    "duration": 8365,
    "start_time": "2023-01-30T12:35:33.134Z"
   },
   {
    "duration": 220110,
    "start_time": "2023-01-30T12:35:41.501Z"
   },
   {
    "duration": 3,
    "start_time": "2023-01-30T12:39:21.613Z"
   },
   {
    "duration": 12,
    "start_time": "2023-01-30T12:39:21.618Z"
   },
   {
    "duration": 12,
    "start_time": "2023-01-30T12:39:21.631Z"
   },
   {
    "duration": 6,
    "start_time": "2023-01-30T12:39:21.645Z"
   },
   {
    "duration": 81,
    "start_time": "2023-01-30T12:39:21.652Z"
   },
   {
    "duration": 343,
    "start_time": "2023-01-30T12:39:21.886Z"
   },
   {
    "duration": 34,
    "start_time": "2023-01-30T12:39:22.231Z"
   },
   {
    "duration": 318,
    "start_time": "2023-01-30T12:40:04.927Z"
   },
   {
    "duration": 3807,
    "start_time": "2023-01-30T13:02:17.741Z"
   },
   {
    "duration": 3,
    "start_time": "2023-01-30T13:02:21.550Z"
   },
   {
    "duration": 87,
    "start_time": "2023-01-30T13:02:21.555Z"
   },
   {
    "duration": 5,
    "start_time": "2023-01-30T13:02:21.644Z"
   },
   {
    "duration": 96,
    "start_time": "2023-01-30T13:02:21.652Z"
   },
   {
    "duration": 1212,
    "start_time": "2023-01-30T13:02:21.751Z"
   },
   {
    "duration": 338,
    "start_time": "2023-01-30T13:02:22.966Z"
   },
   {
    "duration": 343,
    "start_time": "2023-01-30T13:02:23.306Z"
   },
   {
    "duration": 4,
    "start_time": "2023-01-30T13:02:23.651Z"
   },
   {
    "duration": 40,
    "start_time": "2023-01-30T13:02:23.658Z"
   },
   {
    "duration": 54,
    "start_time": "2023-01-30T13:02:23.700Z"
   },
   {
    "duration": 17,
    "start_time": "2023-01-30T13:02:23.756Z"
   },
   {
    "duration": 4,
    "start_time": "2023-01-30T13:02:23.774Z"
   },
   {
    "duration": 5,
    "start_time": "2023-01-30T13:02:23.781Z"
   },
   {
    "duration": 152,
    "start_time": "2023-01-30T13:02:23.788Z"
   },
   {
    "duration": 8760,
    "start_time": "2023-01-30T13:02:24.027Z"
   },
   {
    "duration": 226634,
    "start_time": "2023-01-30T13:02:32.790Z"
   },
   {
    "duration": 5,
    "start_time": "2023-01-30T13:06:19.426Z"
   },
   {
    "duration": 45,
    "start_time": "2023-01-30T13:06:19.434Z"
   },
   {
    "duration": 337,
    "start_time": "2023-01-30T13:06:19.481Z"
   },
   {
    "duration": 3887,
    "start_time": "2023-01-31T08:18:35.233Z"
   },
   {
    "duration": 3,
    "start_time": "2023-01-31T08:18:39.122Z"
   },
   {
    "duration": 162,
    "start_time": "2023-01-31T08:18:39.126Z"
   },
   {
    "duration": 4,
    "start_time": "2023-01-31T08:18:39.290Z"
   },
   {
    "duration": 21,
    "start_time": "2023-01-31T08:18:39.295Z"
   },
   {
    "duration": 991,
    "start_time": "2023-01-31T08:18:39.318Z"
   },
   {
    "duration": 296,
    "start_time": "2023-01-31T08:18:40.310Z"
   },
   {
    "duration": 294,
    "start_time": "2023-01-31T08:18:40.608Z"
   },
   {
    "duration": 4,
    "start_time": "2023-01-31T08:18:40.903Z"
   },
   {
    "duration": 30,
    "start_time": "2023-01-31T08:18:40.909Z"
   },
   {
    "duration": 30,
    "start_time": "2023-01-31T08:18:40.941Z"
   },
   {
    "duration": 24,
    "start_time": "2023-01-31T08:18:40.972Z"
   },
   {
    "duration": 2,
    "start_time": "2023-01-31T08:18:40.997Z"
   },
   {
    "duration": 5,
    "start_time": "2023-01-31T08:18:41.001Z"
   },
   {
    "duration": 92,
    "start_time": "2023-01-31T08:18:41.008Z"
   },
   {
    "duration": 94,
    "start_time": "2023-01-31T08:18:41.102Z"
   },
   {
    "duration": 10802,
    "start_time": "2023-01-31T08:18:41.198Z"
   },
   {
    "duration": 283824,
    "start_time": "2023-01-31T08:18:52.002Z"
   },
   {
    "duration": 4,
    "start_time": "2023-01-31T08:23:35.828Z"
   },
   {
    "duration": 97,
    "start_time": "2023-01-31T08:23:35.833Z"
   },
   {
    "duration": 326,
    "start_time": "2023-01-31T08:23:35.932Z"
   }
  ],
  "kernelspec": {
   "display_name": "Python 3 (ipykernel)",
   "language": "python",
   "name": "python3"
  },
  "language_info": {
   "codemirror_mode": {
    "name": "ipython",
    "version": 3
   },
   "file_extension": ".py",
   "mimetype": "text/x-python",
   "name": "python",
   "nbconvert_exporter": "python",
   "pygments_lexer": "ipython3",
   "version": "3.9.12"
  },
  "toc": {
   "base_numbering": 1,
   "nav_menu": {},
   "number_sections": true,
   "sideBar": true,
   "skip_h1_title": true,
   "title_cell": "Содержание",
   "title_sidebar": "Contents",
   "toc_cell": true,
   "toc_position": {},
   "toc_section_display": true,
   "toc_window_display": false
  }
 },
 "nbformat": 4,
 "nbformat_minor": 2
}
